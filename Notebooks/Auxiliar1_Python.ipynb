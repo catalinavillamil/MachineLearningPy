{
  "nbformat": 4,
  "nbformat_minor": 0,
  "metadata": {
    "colab": {
      "name": "Auxiliar1_Python.ipynb",
      "provenance": [],
      "collapsed_sections": [],
      "toc_visible": true
    },
    "kernelspec": {
      "display_name": "Python 3",
      "language": "python",
      "name": "python3"
    }
  },
  "cells": [
    {
      "cell_type": "markdown",
      "metadata": {
        "id": "_aIAZE7D-jdX",
        "colab_type": "text"
      },
      "source": [
        "# 1. Python Level 1"
      ]
    },
    {
      "cell_type": "markdown",
      "metadata": {
        "id": "pR5czMYn-48I",
        "colab_type": "text"
      },
      "source": [
        "### Shortcuts\n",
        "\n",
        "Mostrar combinaciones de teclas :Ctrl+M+H\n",
        "\n",
        "Ejecutar Celda: Ctrl/Cmd +Enter <br>\n",
        "Ejecutar Celda y pasar a la siguiente: Shift + Enter <br>\n",
        "Ejecutar Celda y crear una nueva: Alt+Enter <br>\n",
        "Ejecutar Selección: Ctrl/Cmd+Shift+Enter <br>\n",
        "Ejecutar todas las celdas: Ctrl/Cmd + F9 <br>\n",
        "Guardar bloc de notas: Ctrl/Cmd+S <br>\n",
        "Interrumpir la ejecución: Ctrl + M + I\n",
        "\n",
        "Insertar celda de código arriba:Ctrl + M+ A <br>\n",
        "Insertar celda de código abajo: Ctrl + M+ B <br>\n",
        "Borrar Celda: Ctrl/Cmd+M+D <br>\n",
        "Deshacer la última acción de las celdas : Ctrl + M +  Z <br>\n",
        "\n",
        "\n",
        "\n",
        "\n",
        "Convertir a celda de código: Ctrl+M+Y <br>\n",
        "Convertir a celda de texto: Ctrl+M+M <br>\n",
        "\n",
        "\n",
        "### Hoja de trucos de Markdown\n",
        "\n",
        "https://github.com/adam-p/markdown-here/wiki/Markdown-Cheatsheet"
      ]
    },
    {
      "cell_type": "markdown",
      "metadata": {
        "id": "TAmxIXJx-jdZ",
        "colab_type": "text"
      },
      "source": [
        "## 1.1 Números"
      ]
    },
    {
      "cell_type": "code",
      "metadata": {
        "id": "1VajNlHsAVON",
        "colab_type": "code",
        "outputId": "c61e9e25-c693-47cd-bb2f-6b6bb26f07cf",
        "colab": {
          "base_uri": "https://localhost:8080/",
          "height": 34
        }
      },
      "source": [
        "# comentar con el símbolo gato dentro de una celda de código\n",
        "1+3"
      ],
      "execution_count": 0,
      "outputs": [
        {
          "output_type": "execute_result",
          "data": {
            "text/plain": [
              "4"
            ]
          },
          "metadata": {
            "tags": []
          },
          "execution_count": 12
        }
      ]
    },
    {
      "cell_type": "code",
      "metadata": {
        "id": "E4iPB-HzSnBE",
        "colab_type": "code",
        "outputId": "318a1eaa-01b4-4da4-a7a8-f462fe558aa8",
        "colab": {
          "base_uri": "https://localhost:8080/",
          "height": 34
        }
      },
      "source": [
        "2**(1/2)"
      ],
      "execution_count": 0,
      "outputs": [
        {
          "output_type": "execute_result",
          "data": {
            "text/plain": [
              "1.4142135623730951"
            ]
          },
          "metadata": {
            "tags": []
          },
          "execution_count": 2
        }
      ]
    },
    {
      "cell_type": "code",
      "metadata": {
        "id": "jTzV63eOcgZs",
        "colab_type": "code",
        "outputId": "eb9a9fec-8175-4699-b4ff-abb5b723d3f4",
        "colab": {
          "base_uri": "https://localhost:8080/",
          "height": 34
        }
      },
      "source": [
        "#asignar una variable\n",
        "a = 45\n",
        "a"
      ],
      "execution_count": 0,
      "outputs": [
        {
          "output_type": "execute_result",
          "data": {
            "text/plain": [
              "45"
            ]
          },
          "metadata": {
            "tags": []
          },
          "execution_count": 3
        }
      ]
    },
    {
      "cell_type": "code",
      "metadata": {
        "id": "NW8KlQKtcnx9",
        "colab_type": "code",
        "outputId": "c5037b59-d7b6-4f4d-f3f0-bb65b24aca48",
        "colab": {
          "base_uri": "https://localhost:8080/",
          "height": 34
        }
      },
      "source": [
        "#reasignar una variable\n",
        "a=a+1\n",
        "a"
      ],
      "execution_count": 0,
      "outputs": [
        {
          "output_type": "execute_result",
          "data": {
            "text/plain": [
              "46"
            ]
          },
          "metadata": {
            "tags": []
          },
          "execution_count": 4
        }
      ]
    },
    {
      "cell_type": "code",
      "metadata": {
        "id": "yDykN0Vvch96",
        "colab_type": "code",
        "outputId": "dc0d4690-3507-4dfd-bf92-dd1458d206cd",
        "colab": {
          "base_uri": "https://localhost:8080/",
          "height": 34
        }
      },
      "source": [
        "#Como 2 cae un número entero de veces en 4 su resto es 0\n",
        "4%2"
      ],
      "execution_count": 0,
      "outputs": [
        {
          "output_type": "execute_result",
          "data": {
            "text/plain": [
              "0"
            ]
          },
          "metadata": {
            "tags": []
          },
          "execution_count": 5
        }
      ]
    },
    {
      "cell_type": "code",
      "metadata": {
        "id": "xpF4nLOkc1Rq",
        "colab_type": "code",
        "outputId": "8f357723-1291-4b05-bfad-8505a1cc8272",
        "colab": {
          "base_uri": "https://localhost:8080/",
          "height": 34
        }
      },
      "source": [
        "#Pero 3 no \n",
        "4%3"
      ],
      "execution_count": 0,
      "outputs": [
        {
          "output_type": "execute_result",
          "data": {
            "text/plain": [
              "1"
            ]
          },
          "metadata": {
            "tags": []
          },
          "execution_count": 8
        }
      ]
    },
    {
      "cell_type": "markdown",
      "metadata": {
        "id": "1aZ9uSf2-jeF",
        "colab_type": "text"
      },
      "source": [
        "## 1.2 Strings\n",
        "Un string es una cadena de caracteres y se inicializa poniendo contenido entre comillas simples o dobles"
      ]
    },
    {
      "cell_type": "code",
      "metadata": {
        "id": "B68YNRChTGGl",
        "colab_type": "code",
        "outputId": "3f3bd7b9-005c-4537-8abd-dad60c60d579",
        "colab": {
          "base_uri": "https://localhost:8080/",
          "height": 34
        }
      },
      "source": [
        "'hola2131232'"
      ],
      "execution_count": 0,
      "outputs": [
        {
          "output_type": "execute_result",
          "data": {
            "text/plain": [
              "'hola2131232'"
            ]
          },
          "metadata": {
            "tags": []
          },
          "execution_count": 12
        }
      ]
    },
    {
      "cell_type": "code",
      "metadata": {
        "id": "J3N1QpxiTJDJ",
        "colab_type": "code",
        "outputId": "81a2abcd-8d2d-408f-ca04-695f30f569c3",
        "colab": {
          "base_uri": "https://localhost:8080/",
          "height": 129
        }
      },
      "source": [
        "#cuidado con los apóstrofes\n",
        "'isn't'"
      ],
      "execution_count": 0,
      "outputs": [
        {
          "output_type": "error",
          "ename": "SyntaxError",
          "evalue": "ignored",
          "traceback": [
            "\u001b[0;36m  File \u001b[0;32m\"<ipython-input-9-0157a7cf2a6d>\"\u001b[0;36m, line \u001b[0;32m1\u001b[0m\n\u001b[0;31m    'isn't'\u001b[0m\n\u001b[0m         ^\u001b[0m\n\u001b[0;31mSyntaxError\u001b[0m\u001b[0;31m:\u001b[0m invalid syntax\n"
          ]
        }
      ]
    },
    {
      "cell_type": "code",
      "metadata": {
        "id": "EPsWEzyPheSw",
        "colab_type": "code",
        "outputId": "e2ec1442-cddb-458e-ecbd-36755d726201",
        "colab": {
          "base_uri": "https://localhost:8080/",
          "height": 34
        }
      },
      "source": [
        "#forma correcta\n",
        "\"isn't\""
      ],
      "execution_count": 0,
      "outputs": [
        {
          "output_type": "execute_result",
          "data": {
            "text/plain": [
              "\"isn't\""
            ]
          },
          "metadata": {
            "tags": []
          },
          "execution_count": 10
        }
      ]
    },
    {
      "cell_type": "code",
      "metadata": {
        "id": "RLyu7nZ8TWRV",
        "colab_type": "code",
        "outputId": "b7c8f201-239d-4f95-8358-ea63aea90b9f",
        "colab": {
          "base_uri": "https://localhost:8080/",
          "height": 34
        }
      },
      "source": [
        "#largo de un string\n",
        "len('hola ')"
      ],
      "execution_count": 0,
      "outputs": [
        {
          "output_type": "execute_result",
          "data": {
            "text/plain": [
              "5"
            ]
          },
          "metadata": {
            "tags": []
          },
          "execution_count": 12
        }
      ]
    },
    {
      "cell_type": "code",
      "metadata": {
        "id": "cMp2km6CTamg",
        "colab_type": "code",
        "outputId": "02897ebc-8bb0-4841-91a1-13da866b1077",
        "colab": {
          "base_uri": "https://localhost:8080/",
          "height": 34
        }
      },
      "source": [
        "#asignación de variables\n",
        "# el espacio se considera como un carácter \n",
        "a='hola mundo'\n",
        "a"
      ],
      "execution_count": 0,
      "outputs": [
        {
          "output_type": "execute_result",
          "data": {
            "text/plain": [
              "'hola mundo'"
            ]
          },
          "metadata": {
            "tags": []
          },
          "execution_count": 13
        }
      ]
    },
    {
      "cell_type": "code",
      "metadata": {
        "id": "vIpA-oqvTcyF",
        "colab_type": "code",
        "outputId": "b5a8ba3f-3d9b-4e14-b10b-e89b5d65ab9f",
        "colab": {
          "base_uri": "https://localhost:8080/",
          "height": 34
        }
      },
      "source": [
        "# OJO! python parte desde el 0, por ende la primera posición es el 0\n",
        "#acceder a un elmento específico \n",
        "a[0]"
      ],
      "execution_count": 0,
      "outputs": [
        {
          "output_type": "execute_result",
          "data": {
            "text/plain": [
              "'h'"
            ]
          },
          "metadata": {
            "tags": []
          },
          "execution_count": 19
        }
      ]
    },
    {
      "cell_type": "code",
      "metadata": {
        "id": "GI11uKmHiUdw",
        "colab_type": "code",
        "outputId": "e1a83690-fc6c-4ce1-c51b-50301fa8269c",
        "colab": {
          "base_uri": "https://localhost:8080/",
          "height": 34
        }
      },
      "source": [
        "#último carácter\n",
        "a[-1]"
      ],
      "execution_count": 0,
      "outputs": [
        {
          "output_type": "execute_result",
          "data": {
            "text/plain": [
              "'o'"
            ]
          },
          "metadata": {
            "tags": []
          },
          "execution_count": 14
        }
      ]
    },
    {
      "cell_type": "code",
      "metadata": {
        "id": "NWAamsvYThPN",
        "colab_type": "code",
        "outputId": "55a5a0a0-4aa0-4654-a47e-ddba243901e5",
        "colab": {
          "base_uri": "https://localhost:8080/",
          "height": 34
        }
      },
      "source": [
        "#mostrar todos los elementos\n",
        "a[:]"
      ],
      "execution_count": 0,
      "outputs": [
        {
          "output_type": "execute_result",
          "data": {
            "text/plain": [
              "'hola mundo'"
            ]
          },
          "metadata": {
            "tags": []
          },
          "execution_count": 20
        }
      ]
    },
    {
      "cell_type": "code",
      "metadata": {
        "id": "lEeTL1irTj9j",
        "colab_type": "code",
        "outputId": "e1ed1f25-f19e-4dd4-d881-936093f86fae",
        "colab": {
          "base_uri": "https://localhost:8080/",
          "height": 34
        }
      },
      "source": [
        "#mostrar todos los elementos menos el penúltimo\n",
        "a[:-1]"
      ],
      "execution_count": 0,
      "outputs": [
        {
          "output_type": "execute_result",
          "data": {
            "text/plain": [
              "'hola mund'"
            ]
          },
          "metadata": {
            "tags": []
          },
          "execution_count": 15
        }
      ]
    },
    {
      "cell_type": "code",
      "metadata": {
        "id": "0lCaJnUzi1SH",
        "colab_type": "code",
        "outputId": "9269bcd7-8c52-4e41-94be-c41aa1f6dda7",
        "colab": {
          "base_uri": "https://localhost:8080/",
          "height": 34
        }
      },
      "source": [
        "#todos los elementos entre la posición 2 y 4\n",
        "a[1:4]"
      ],
      "execution_count": 0,
      "outputs": [
        {
          "output_type": "execute_result",
          "data": {
            "text/plain": [
              "'ola'"
            ]
          },
          "metadata": {
            "tags": []
          },
          "execution_count": 16
        }
      ]
    },
    {
      "cell_type": "code",
      "metadata": {
        "id": "WwbqGFUhjG7J",
        "colab_type": "code",
        "outputId": "a667c8c2-9c5a-469b-e8ce-fa80564ecedf",
        "colab": {
          "base_uri": "https://localhost:8080/",
          "height": 163
        }
      },
      "source": [
        "# ERROR: índice fuera de rango, si el largo del string es 10, sus posiciones van del 0 al 9\n",
        "a[10]"
      ],
      "execution_count": 0,
      "outputs": [
        {
          "output_type": "error",
          "ename": "IndexError",
          "evalue": "ignored",
          "traceback": [
            "\u001b[0;31m---------------------------------------------------------------------------\u001b[0m",
            "\u001b[0;31mIndexError\u001b[0m                                Traceback (most recent call last)",
            "\u001b[0;32m<ipython-input-17-7c7cb9812849>\u001b[0m in \u001b[0;36m<module>\u001b[0;34m()\u001b[0m\n\u001b[0;32m----> 1\u001b[0;31m \u001b[0ma\u001b[0m\u001b[0;34m[\u001b[0m\u001b[0;36m10\u001b[0m\u001b[0;34m]\u001b[0m\u001b[0;34m\u001b[0m\u001b[0m\n\u001b[0m",
            "\u001b[0;31mIndexError\u001b[0m: string index out of range"
          ]
        }
      ]
    },
    {
      "cell_type": "code",
      "metadata": {
        "id": "cX3glu-xTm24",
        "colab_type": "code",
        "outputId": "47c12ca1-b55c-453f-b3f7-be6ceb2c50e5",
        "colab": {
          "base_uri": "https://localhost:8080/",
          "height": 163
        }
      },
      "source": [
        "#ERROR: Los caracteres de un string son inmuntables\n",
        "a[0]='H'"
      ],
      "execution_count": 0,
      "outputs": [
        {
          "output_type": "error",
          "ename": "TypeError",
          "evalue": "ignored",
          "traceback": [
            "\u001b[0;31m---------------------------------------------------------------------------\u001b[0m",
            "\u001b[0;31mTypeError\u001b[0m                                 Traceback (most recent call last)",
            "\u001b[0;32m<ipython-input-23-244e81312d0f>\u001b[0m in \u001b[0;36m<module>\u001b[0;34m()\u001b[0m\n\u001b[0;32m----> 1\u001b[0;31m \u001b[0ma\u001b[0m\u001b[0;34m[\u001b[0m\u001b[0;36m0\u001b[0m\u001b[0;34m]\u001b[0m\u001b[0;34m=\u001b[0m\u001b[0;34m'H'\u001b[0m\u001b[0;34m\u001b[0m\u001b[0m\n\u001b[0m",
            "\u001b[0;31mTypeError\u001b[0m: 'str' object does not support item assignment"
          ]
        }
      ]
    },
    {
      "cell_type": "code",
      "metadata": {
        "id": "djH50suFja4R",
        "colab_type": "code",
        "outputId": "eabb3ec0-4207-4db7-bac2-354ac5809226",
        "colab": {
          "base_uri": "https://localhost:8080/",
          "height": 34
        }
      },
      "source": [
        "#Concatenar\n",
        "'Hola' + ' Kevin' +' Murphy'"
      ],
      "execution_count": 0,
      "outputs": [
        {
          "output_type": "execute_result",
          "data": {
            "text/plain": [
              "'Hola Kevin Murphy'"
            ]
          },
          "metadata": {
            "tags": []
          },
          "execution_count": 20
        }
      ]
    },
    {
      "cell_type": "code",
      "metadata": {
        "id": "zKI69L0cjpls",
        "colab_type": "code",
        "outputId": "4ae88621-690a-41a3-f1ae-72eaca32bb3d",
        "colab": {
          "base_uri": "https://localhost:8080/",
          "height": 34
        }
      },
      "source": [
        "#Formatear un string\n",
        "\n",
        "'Nombre: {n}, Apellido:{a}'.format(n='Kevin', a='Murphy')"
      ],
      "execution_count": 0,
      "outputs": [
        {
          "output_type": "execute_result",
          "data": {
            "text/plain": [
              "'Nombre: Kevin, Apellido:Murphy'"
            ]
          },
          "metadata": {
            "tags": []
          },
          "execution_count": 19
        }
      ]
    },
    {
      "cell_type": "markdown",
      "metadata": {
        "id": "v8d91JMM-je9",
        "colab_type": "text"
      },
      "source": [
        "## 1.3 Listas\n",
        "Una lista es conjunto ordenado de elementos"
      ]
    },
    {
      "cell_type": "code",
      "metadata": {
        "id": "yiw7nFe_Tuwg",
        "colab_type": "code",
        "outputId": "991601c0-f4f4-46c6-9c29-d4bd366a1dad",
        "colab": {
          "base_uri": "https://localhost:8080/",
          "height": 34
        }
      },
      "source": [
        "#Una lista puede tener diferentes tipos de objetos\n",
        "my_list = [1, 'hola', '2', [1, 2, 3]]\n",
        "my_list"
      ],
      "execution_count": 0,
      "outputs": [
        {
          "output_type": "execute_result",
          "data": {
            "text/plain": [
              "[1, 'hola', '2', [1, 2, 3]]"
            ]
          },
          "metadata": {
            "tags": []
          },
          "execution_count": 7
        }
      ]
    },
    {
      "cell_type": "code",
      "metadata": {
        "id": "CxRN0ecwTyq6",
        "colab_type": "code",
        "outputId": "4d4c91b0-3fdf-4cc5-a11d-9cdead7db9a7",
        "colab": {
          "base_uri": "https://localhost:8080/",
          "height": 151
        }
      },
      "source": [
        "#indexamiento\n",
        "print('posicion 0: ',my_list[0], '\\n')\n",
        "print('todos los elementos: ',my_list[:], '\\n')\n",
        "print('todos los elementos menos el último: ',my_list[:-1], '\\n')\n",
        "print('indexar un elemento dentro de la lista: ',my_list[3][1], '\\n') #la posición 2 del elemento 4 de la lista"
      ],
      "execution_count": 0,
      "outputs": [
        {
          "output_type": "stream",
          "text": [
            "posicion 0:  1 \n",
            "\n",
            "todos los elementos:  [1, 'hola', '2', [1, 2, 3]] \n",
            "\n",
            "todos los elementos menos el último:  [1, 'hola', '2'] \n",
            "\n",
            "indexar un elemento dentro de la lista:  2 \n",
            "\n"
          ],
          "name": "stdout"
        }
      ]
    },
    {
      "cell_type": "code",
      "metadata": {
        "id": "8_wLxH2XT4Hu",
        "colab_type": "code",
        "outputId": "8ca1722c-3a25-49c3-fd5c-2ca754895d49",
        "colab": {
          "base_uri": "https://localhost:8080/",
          "height": 34
        }
      },
      "source": [
        "#Los elementos de una lista son mutables\n",
        "my_list[1] = 'Hello World'\n",
        "my_list"
      ],
      "execution_count": 0,
      "outputs": [
        {
          "output_type": "execute_result",
          "data": {
            "text/plain": [
              "[1, 'Hello World', '2', [1, 2, 3]]"
            ]
          },
          "metadata": {
            "tags": []
          },
          "execution_count": 9
        }
      ]
    },
    {
      "cell_type": "code",
      "metadata": {
        "id": "1VmCs6oET8WP",
        "colab_type": "code",
        "outputId": "a225c692-047f-459a-9789-ec6bf535c55c",
        "colab": {
          "base_uri": "https://localhost:8080/",
          "height": 34
        }
      },
      "source": [
        "#agregar un elemento a la lista\n",
        "my_list.append(0)\n",
        "my_list"
      ],
      "execution_count": 0,
      "outputs": [
        {
          "output_type": "execute_result",
          "data": {
            "text/plain": [
              "[1, 'Hello World', '2', [1, 2, 3], 0]"
            ]
          },
          "metadata": {
            "tags": []
          },
          "execution_count": 28
        }
      ]
    },
    {
      "cell_type": "code",
      "metadata": {
        "id": "CXO5WX8JUCEk",
        "colab_type": "code",
        "outputId": "0547f4da-7043-4db2-d36b-74921496061d",
        "colab": {
          "base_uri": "https://localhost:8080/",
          "height": 34
        }
      },
      "source": [
        "#Eliminar un elemento de la lista\n",
        "my_list.pop(0) #eliminar la posición 0\n",
        "my_list"
      ],
      "execution_count": 0,
      "outputs": [
        {
          "output_type": "execute_result",
          "data": {
            "text/plain": [
              "['Hello World', '2', [1, 2, 3]]"
            ]
          },
          "metadata": {
            "tags": []
          },
          "execution_count": 10
        }
      ]
    },
    {
      "cell_type": "code",
      "metadata": {
        "id": "J2On4GAOUI0E",
        "colab_type": "code",
        "outputId": "425b6a3e-4a78-44fd-8500-f601ce48ec03",
        "colab": {
          "base_uri": "https://localhost:8080/",
          "height": 50
        }
      },
      "source": [
        "print(len(my_list))#Largo de una lista\n",
        "print(len(my_list[2]))#Largo de un elmento de la lista"
      ],
      "execution_count": 0,
      "outputs": [
        {
          "output_type": "stream",
          "text": [
            "3\n",
            "3\n"
          ],
          "name": "stdout"
        }
      ]
    },
    {
      "cell_type": "markdown",
      "metadata": {
        "id": "btbSXKSj-jf0",
        "colab_type": "text"
      },
      "source": [
        "## 1.4 Diccionarios\n",
        "\n",
        "Un diccionario es un conjunto no ordenado de elementos, cada elemento tiene una llave para acceder a este un valor asociado a esa llave"
      ]
    },
    {
      "cell_type": "markdown",
      "metadata": {
        "id": "HkGcTrX5CFNG",
        "colab_type": "text"
      },
      "source": [
        "diferentes tipos de datos<br>\n",
        "indexamientos<br>\n",
        "agregar elementos<br>\n",
        "lista de llaves y valores <br>"
      ]
    },
    {
      "cell_type": "code",
      "metadata": {
        "id": "ER2kWpJ_CSCb",
        "colab_type": "code",
        "outputId": "82d46c5d-6eb3-4e3d-e1f9-854c26d25a74",
        "colab": {
          "base_uri": "https://localhost:8080/",
          "height": 101
        }
      },
      "source": [
        "#Los valores de las llaves pueden ser un número o un string, los valores pueden ser cualquier tipo de elemento\n",
        "my_dict = {'key1':9, 'key2':[1,2,3], 'key3': 'hola', 99:'número', 'key5': {'k1': 'nested_value1', 'k2':'nested_value2'}}\n",
        "my_dict"
      ],
      "execution_count": 0,
      "outputs": [
        {
          "output_type": "execute_result",
          "data": {
            "text/plain": [
              "{99: 'número',\n",
              " 'key1': 9,\n",
              " 'key2': [1, 2, 3],\n",
              " 'key3': 'hola',\n",
              " 'key5': {'k1': 'nested_value1', 'k2': 'nested_value2'}}"
            ]
          },
          "metadata": {
            "tags": []
          },
          "execution_count": 14
        }
      ]
    },
    {
      "cell_type": "code",
      "metadata": {
        "id": "K4h26f_vUi1S",
        "colab_type": "code",
        "outputId": "c9f7f333-d585-41fd-a8cd-5804f2097d24",
        "colab": {
          "base_uri": "https://localhost:8080/",
          "height": 162
        }
      },
      "source": [
        "#ERROR: Los diccionarios se indexan por sus llaves\n",
        "my_dict[0]"
      ],
      "execution_count": 0,
      "outputs": [
        {
          "output_type": "error",
          "ename": "KeyError",
          "evalue": "ignored",
          "traceback": [
            "\u001b[0;31m---------------------------------------------------------------------------\u001b[0m",
            "\u001b[0;31mKeyError\u001b[0m                                  Traceback (most recent call last)",
            "\u001b[0;32m<ipython-input-15-2e042f7087f7>\u001b[0m in \u001b[0;36m<module>\u001b[0;34m()\u001b[0m\n\u001b[0;32m----> 1\u001b[0;31m \u001b[0mmy_dict\u001b[0m\u001b[0;34m[\u001b[0m\u001b[0;36m0\u001b[0m\u001b[0;34m]\u001b[0m\u001b[0;34m\u001b[0m\u001b[0;34m\u001b[0m\u001b[0m\n\u001b[0m",
            "\u001b[0;31mKeyError\u001b[0m: 0"
          ]
        }
      ]
    },
    {
      "cell_type": "code",
      "metadata": {
        "id": "FNOxmR3ZoUgR",
        "colab_type": "code",
        "outputId": "55faee77-2254-4417-a859-bdb5833acf92",
        "colab": {
          "base_uri": "https://localhost:8080/",
          "height": 34
        }
      },
      "source": [
        "my_dict['key1']"
      ],
      "execution_count": 0,
      "outputs": [
        {
          "output_type": "execute_result",
          "data": {
            "text/plain": [
              "9"
            ]
          },
          "metadata": {
            "tags": []
          },
          "execution_count": 16
        }
      ]
    },
    {
      "cell_type": "code",
      "metadata": {
        "id": "eSr8s2xnUoA5",
        "colab_type": "code",
        "outputId": "63d7c627-1ad5-44d3-cb8a-e5cd4b7f5896",
        "colab": {
          "base_uri": "https://localhost:8080/",
          "height": 34
        }
      },
      "source": [
        "#lista que las llaves\n",
        "list(my_dict.keys())"
      ],
      "execution_count": 0,
      "outputs": [
        {
          "output_type": "execute_result",
          "data": {
            "text/plain": [
              "['key1', 'key2', 'key3', 99, 'key5']"
            ]
          },
          "metadata": {
            "tags": []
          },
          "execution_count": 17
        }
      ]
    },
    {
      "cell_type": "code",
      "metadata": {
        "id": "maxmN7MkU0Cu",
        "colab_type": "code",
        "outputId": "d79b90cb-4d8f-4fe5-c7fb-f0164af7b247",
        "colab": {
          "base_uri": "https://localhost:8080/",
          "height": 101
        }
      },
      "source": [
        "#lista de los valores\n",
        "list(my_dict.values())"
      ],
      "execution_count": 0,
      "outputs": [
        {
          "output_type": "execute_result",
          "data": {
            "text/plain": [
              "[9,\n",
              " [1, 2, 3],\n",
              " 'hola',\n",
              " 'número',\n",
              " {'k1': 'nested_value1', 'k2': 'nested_value2'}]"
            ]
          },
          "metadata": {
            "tags": []
          },
          "execution_count": 18
        }
      ]
    },
    {
      "cell_type": "code",
      "metadata": {
        "id": "09_faQeOU6Hj",
        "colab_type": "code",
        "colab": {}
      },
      "source": [
        "#Agregar un elmento\n",
        "my_dict['key4'] = 'hi'"
      ],
      "execution_count": 0,
      "outputs": []
    },
    {
      "cell_type": "code",
      "metadata": {
        "id": "QYQBgZ7hVARC",
        "colab_type": "code",
        "outputId": "e22ebf16-90aa-4c23-9d2f-a158fa66c7a1",
        "colab": {
          "base_uri": "https://localhost:8080/",
          "height": 118
        }
      },
      "source": [
        "my_dict"
      ],
      "execution_count": 0,
      "outputs": [
        {
          "output_type": "execute_result",
          "data": {
            "text/plain": [
              "{99: 'número',\n",
              " 'key1': 9,\n",
              " 'key2': [1, 2, 3],\n",
              " 'key3': 'hola',\n",
              " 'key4': 'hi',\n",
              " 'key5': {'k1': 'nested_value1', 'k2': 'nested_value2'}}"
            ]
          },
          "metadata": {
            "tags": []
          },
          "execution_count": 20
        }
      ]
    },
    {
      "cell_type": "markdown",
      "metadata": {
        "id": "xCJ2cEko-jgG",
        "colab_type": "text"
      },
      "source": [
        "## 1.5 Tuplas"
      ]
    },
    {
      "cell_type": "markdown",
      "metadata": {
        "id": "2-U8oGNN-jgG",
        "colab_type": "text"
      },
      "source": [
        "Las tuplas son conjuntos ordenados al igual que las listas, pero no son mutables."
      ]
    },
    {
      "cell_type": "code",
      "metadata": {
        "id": "qkcxphU_VDID",
        "colab_type": "code",
        "outputId": "40f60802-fe33-4f44-a5c1-5ad7a23d62cb",
        "colab": {
          "base_uri": "https://localhost:8080/",
          "height": 34
        }
      },
      "source": [
        "my_tupla = (1, 'hola')\n",
        "my_tupla"
      ],
      "execution_count": 0,
      "outputs": [
        {
          "output_type": "execute_result",
          "data": {
            "text/plain": [
              "(1, 'hola')"
            ]
          },
          "metadata": {
            "tags": []
          },
          "execution_count": 46
        }
      ]
    },
    {
      "cell_type": "code",
      "metadata": {
        "id": "7magh_-5VIHB",
        "colab_type": "code",
        "outputId": "7f67bd76-6539-4d6b-ebe0-c55ccd288c2b",
        "colab": {
          "base_uri": "https://localhost:8080/",
          "height": 34
        }
      },
      "source": [
        "my_tupla[0]"
      ],
      "execution_count": 0,
      "outputs": [
        {
          "output_type": "execute_result",
          "data": {
            "text/plain": [
              "1"
            ]
          },
          "metadata": {
            "tags": []
          },
          "execution_count": 47
        }
      ]
    },
    {
      "cell_type": "code",
      "metadata": {
        "id": "VKX9mEd4VJh7",
        "colab_type": "code",
        "outputId": "459f43c8-a24f-406c-9d13-b4d1c3a200a1",
        "colab": {
          "base_uri": "https://localhost:8080/",
          "height": 163
        }
      },
      "source": [
        "#ERROR: los elementos de una tupla no son mutables\n",
        "my_tupla[0]='hi'"
      ],
      "execution_count": 0,
      "outputs": [
        {
          "output_type": "error",
          "ename": "TypeError",
          "evalue": "ignored",
          "traceback": [
            "\u001b[0;31m---------------------------------------------------------------------------\u001b[0m",
            "\u001b[0;31mTypeError\u001b[0m                                 Traceback (most recent call last)",
            "\u001b[0;32m<ipython-input-48-c8446f27f5ff>\u001b[0m in \u001b[0;36m<module>\u001b[0;34m()\u001b[0m\n\u001b[0;32m----> 1\u001b[0;31m \u001b[0mmy_tupla\u001b[0m\u001b[0;34m[\u001b[0m\u001b[0;36m0\u001b[0m\u001b[0;34m]\u001b[0m\u001b[0;34m=\u001b[0m\u001b[0;34m'hi'\u001b[0m\u001b[0;34m\u001b[0m\u001b[0m\n\u001b[0m",
            "\u001b[0;31mTypeError\u001b[0m: 'tuple' object does not support item assignment"
          ]
        }
      ]
    },
    {
      "cell_type": "code",
      "metadata": {
        "id": "gnGtS3nspAMF",
        "colab_type": "code",
        "outputId": "91496c0d-d352-4d11-9321-90e9e24f724d",
        "colab": {
          "base_uri": "https://localhost:8080/",
          "height": 163
        }
      },
      "source": [
        "#ERROR:la tupla no es mutable, no se puede agregar elementos a la lista\n",
        "my_tupla.append('hola')"
      ],
      "execution_count": 0,
      "outputs": [
        {
          "output_type": "error",
          "ename": "AttributeError",
          "evalue": "ignored",
          "traceback": [
            "\u001b[0;31m---------------------------------------------------------------------------\u001b[0m",
            "\u001b[0;31mAttributeError\u001b[0m                            Traceback (most recent call last)",
            "\u001b[0;32m<ipython-input-50-ff1839372ef1>\u001b[0m in \u001b[0;36m<module>\u001b[0;34m()\u001b[0m\n\u001b[0;32m----> 1\u001b[0;31m \u001b[0mmy_tupla\u001b[0m\u001b[0;34m.\u001b[0m\u001b[0mappend\u001b[0m\u001b[0;34m(\u001b[0m\u001b[0;34m'hola'\u001b[0m\u001b[0;34m)\u001b[0m\u001b[0;34m\u001b[0m\u001b[0m\n\u001b[0m",
            "\u001b[0;31mAttributeError\u001b[0m: 'tuple' object has no attribute 'append'"
          ]
        }
      ]
    },
    {
      "cell_type": "markdown",
      "metadata": {
        "id": "i0gliOku-jgY",
        "colab_type": "text"
      },
      "source": [
        "## 1.6 Conjuntos\n",
        "Los conjuntos continen una serie de elementos al igual que las listas, pero son no ordenados y cada elemento del conjunto es único. Además sus elementos solo pueden ser números o strings."
      ]
    },
    {
      "cell_type": "markdown",
      "metadata": {
        "id": "bFtuyk54-jgY",
        "colab_type": "text"
      },
      "source": [
        "colecciones no ordenadas, elementos únicos<br>\n",
        "añadir elementos : add() <br>\n",
        "interseccion: intersection()<br>\n",
        "union: union() <br>\n",
        "resta de conjuntos<br>"
      ]
    },
    {
      "cell_type": "code",
      "metadata": {
        "id": "R1AbnFdDpl--",
        "colab_type": "code",
        "outputId": "9ec72e38-c9ca-42ca-9c68-36235bbbe031",
        "colab": {
          "base_uri": "https://localhost:8080/",
          "height": 163
        }
      },
      "source": [
        "#ERROR: solo objetos tipo número o string, NO listas, tuplas, diccionarios, etc.\n",
        "{1, 'hola', [1,2]}"
      ],
      "execution_count": 0,
      "outputs": [
        {
          "output_type": "error",
          "ename": "TypeError",
          "evalue": "ignored",
          "traceback": [
            "\u001b[0;31m---------------------------------------------------------------------------\u001b[0m",
            "\u001b[0;31mTypeError\u001b[0m                                 Traceback (most recent call last)",
            "\u001b[0;32m<ipython-input-56-210f170aa61b>\u001b[0m in \u001b[0;36m<module>\u001b[0;34m()\u001b[0m\n\u001b[0;32m----> 1\u001b[0;31m \u001b[0;34m{\u001b[0m\u001b[0;36m1\u001b[0m\u001b[0;34m,\u001b[0m \u001b[0;34m'hola'\u001b[0m\u001b[0;34m,\u001b[0m \u001b[0;34m[\u001b[0m\u001b[0;36m1\u001b[0m\u001b[0;34m,\u001b[0m\u001b[0;36m2\u001b[0m\u001b[0;34m]\u001b[0m\u001b[0;34m}\u001b[0m\u001b[0;34m\u001b[0m\u001b[0m\n\u001b[0m",
            "\u001b[0;31mTypeError\u001b[0m: unhashable type: 'list'"
          ]
        }
      ]
    },
    {
      "cell_type": "code",
      "metadata": {
        "id": "ssMtvCZMVQQe",
        "colab_type": "code",
        "outputId": "34d756a8-d593-4ceb-edf6-079fb8bf13b5",
        "colab": {
          "base_uri": "https://localhost:8080/",
          "height": 34
        }
      },
      "source": [
        "#Elementos únicos\n",
        "{1, 2, 2, 3, 3}"
      ],
      "execution_count": 0,
      "outputs": [
        {
          "output_type": "execute_result",
          "data": {
            "text/plain": [
              "{1, 2, 3}"
            ]
          },
          "metadata": {
            "tags": []
          },
          "execution_count": 58
        }
      ]
    },
    {
      "cell_type": "code",
      "metadata": {
        "id": "uPs5g5dhVVb4",
        "colab_type": "code",
        "outputId": "8a4635dc-a449-4d05-cd07-459576551a9e",
        "colab": {
          "base_uri": "https://localhost:8080/",
          "height": 34
        }
      },
      "source": [
        "#Crear un conjunto a partir de una lista. Python tiene mucha flexibilidad para pasar de un objeto a otro objeto, por ejemplos de listas a tuplas, listas a conjuntos, etc.\n",
        "set([1, 2, 2, 3])"
      ],
      "execution_count": 0,
      "outputs": [
        {
          "output_type": "execute_result",
          "data": {
            "text/plain": [
              "{1, 2, 3}"
            ]
          },
          "metadata": {
            "tags": []
          },
          "execution_count": 62
        }
      ]
    },
    {
      "cell_type": "code",
      "metadata": {
        "id": "TEn3J8nQVbkn",
        "colab_type": "code",
        "colab": {}
      },
      "source": [
        "A = {1, 2, 3}\n",
        "B = {2, 3, 4}"
      ],
      "execution_count": 0,
      "outputs": []
    },
    {
      "cell_type": "code",
      "metadata": {
        "id": "d_VKlYhyVirk",
        "colab_type": "code",
        "outputId": "35ed83e7-efc5-4889-dff1-a0a125aec534",
        "colab": {
          "base_uri": "https://localhost:8080/",
          "height": 153
        }
      },
      "source": [
        "print('Elementos que están en A y que NO están en B: ', A-B, '\\n')\n",
        "print('Elementos que están en A y  en B: ', A.intersection(B), '\\n')\n",
        "print('Unión de A y B: ', A.union(B), '\\n')"
      ],
      "execution_count": 0,
      "outputs": [
        {
          "output_type": "stream",
          "text": [
            "Elementos que están en A y que NO están en B:  {1} \n",
            "\n",
            "Elementos que están en A y  en B:  {2, 3} \n",
            "\n",
            "Unión de A y B:  {1, 2, 3, 4} \n",
            "\n",
            "Elementos que están en A y que NO están en B:  {1} \n",
            "\n"
          ],
          "name": "stdout"
        }
      ]
    },
    {
      "cell_type": "markdown",
      "metadata": {
        "id": "F-Pkxz9e-jgp",
        "colab_type": "text"
      },
      "source": [
        "## 1.7 Booleanos"
      ]
    },
    {
      "cell_type": "markdown",
      "metadata": {
        "id": "4U31riIMDCRq",
        "colab_type": "text"
      },
      "source": [
        "Valores posibles de un objeto booleano: True, False, None <br>\n",
        "\n",
        "Documentación:<br>\n",
        "https://docs.python.org/3.7/library/stdtypes.html"
      ]
    },
    {
      "cell_type": "code",
      "metadata": {
        "id": "wz3ZXdwEV0iN",
        "colab_type": "code",
        "outputId": "c339ca03-bae0-4006-ba89-d0efb1adb676",
        "colab": {
          "base_uri": "https://localhost:8080/",
          "height": 34
        }
      },
      "source": [
        "a = True\n",
        "a"
      ],
      "execution_count": 0,
      "outputs": [
        {
          "output_type": "execute_result",
          "data": {
            "text/plain": [
              "True"
            ]
          },
          "metadata": {
            "tags": []
          },
          "execution_count": 68
        }
      ]
    },
    {
      "cell_type": "code",
      "metadata": {
        "id": "loYb6jiHV2VX",
        "colab_type": "code",
        "outputId": "6f0bb740-6399-4c9e-a7c6-264ecdf6fb2d",
        "colab": {
          "base_uri": "https://localhost:8080/",
          "height": 34
        }
      },
      "source": [
        "\n",
        "b = False\n",
        "b"
      ],
      "execution_count": 0,
      "outputs": [
        {
          "output_type": "execute_result",
          "data": {
            "text/plain": [
              "False"
            ]
          },
          "metadata": {
            "tags": []
          },
          "execution_count": 71
        }
      ]
    },
    {
      "cell_type": "code",
      "metadata": {
        "id": "U27CtMeQV3QO",
        "colab_type": "code",
        "outputId": "cf840020-5f2c-4424-b3ee-146f89b9cc2d",
        "colab": {
          "base_uri": "https://localhost:8080/",
          "height": 34
        }
      },
      "source": [
        "a == b # a es igual a b?"
      ],
      "execution_count": 0,
      "outputs": [
        {
          "output_type": "execute_result",
          "data": {
            "text/plain": [
              "False"
            ]
          },
          "metadata": {
            "tags": []
          },
          "execution_count": 70
        }
      ]
    },
    {
      "cell_type": "code",
      "metadata": {
        "id": "oCT-Au9vWHwk",
        "colab_type": "code",
        "outputId": "94eec23f-07d1-4f3d-b1ca-9485eb25c814",
        "colab": {
          "base_uri": "https://localhost:8080/",
          "height": 34
        }
      },
      "source": [
        "a != b #a es distinto de b?"
      ],
      "execution_count": 0,
      "outputs": [
        {
          "output_type": "execute_result",
          "data": {
            "text/plain": [
              "True"
            ]
          },
          "metadata": {
            "tags": []
          },
          "execution_count": 72
        }
      ]
    },
    {
      "cell_type": "code",
      "metadata": {
        "id": "Jht8kARXucxk",
        "colab_type": "code",
        "outputId": "1120a986-a2f2-4d73-8ed4-a3add735db70",
        "colab": {
          "base_uri": "https://localhost:8080/",
          "height": 68
        }
      },
      "source": [
        "A = 1\n",
        "B = 2\n",
        "\n",
        "print('Es A mayor estricto que B?: ', a > b, '\\n') \n",
        "print('Es A es menor o igual que B que B?: ', a <= b) "
      ],
      "execution_count": 0,
      "outputs": [
        {
          "output_type": "stream",
          "text": [
            "Es A mayor estricto que B?:  False \n",
            "\n",
            "Es A es menor o igual que B que B?:  True\n"
          ],
          "name": "stdout"
        }
      ]
    },
    {
      "cell_type": "markdown",
      "metadata": {
        "id": "QRs02408-jgv",
        "colab_type": "text"
      },
      "source": [
        "## 1.8 Control del flujo\n",
        "\n",
        "Una estructura de control, es un bloque de código que permite agrupar instrucciones de manera controlada."
      ]
    },
    {
      "cell_type": "markdown",
      "metadata": {
        "id": "Gj3d83MyDLvM",
        "colab_type": "text"
      },
      "source": [
        "Para describir la evaluación a realizar sobre una condición, se utilizan operadores relacionales (o de comparación):<br>\n",
        "\n",
        "\n",
        "\n",
        "$==$\tIgual que<br>\n",
        "$!=$\tDistinto que<br>\n",
        "$<$\tMenor que\t<br>\n",
        "$>$\tMayor que\t<br>\n",
        "$<=$\tMenor o igual que\t <br>\n",
        "$>=$\tMayor o igual que\t <br>\n",
        "\n",
        "\n",
        "<br>\n",
        "Y para evaluar más de una condición simultáneamente, se utilizan operadores lógicos:<br>\n",
        "\n",
        "Operar \"Y\" : \"and\" o \"&\"\"<br>\n",
        "Operador \"O\": \"or\" o  \"\"|\"\"<br>\n",
        "Operador \"O exclusivo\": \"xor\"<br>\n",
        "if/elif/else<br>\n",
        "\n",
        "\n",
        "\n",
        "Las estructuras de control de flujo condicionales, se definen mediante el uso de tres palabras claves reservadas, del lenguaje:<br>\n",
        "if (si), elif (sino, si) y else (sino).<br><br>\n",
        "\n",
        "\n",
        "Más documentación:\n",
        "\n",
        "https://librosweb.es/libro/python/capitulo-2/estructuras-de-control-de-flujo.html"
      ]
    },
    {
      "cell_type": "code",
      "metadata": {
        "id": "QLdiPeCN3_tv",
        "colab_type": "code",
        "colab": {}
      },
      "source": [
        "a = 2\n",
        "b = 1"
      ],
      "execution_count": 0,
      "outputs": []
    },
    {
      "cell_type": "code",
      "metadata": {
        "id": "p1tbvfOgWcrm",
        "colab_type": "code",
        "outputId": "bfe387ee-5e9b-4c11-a075-8c35dbdcaea6",
        "colab": {
          "base_uri": "https://localhost:8080/",
          "height": 34
        }
      },
      "source": [
        "if a < b: \n",
        "  print('se cumplió la instrucción 1')\n",
        "elif a == b:\n",
        "  print('no se cumplió la instrucción 1, pero si la 2')\n",
        "else:\n",
        "  print('no se cump8lió ninguna de las instrucciones anteriores')"
      ],
      "execution_count": 0,
      "outputs": [
        {
          "output_type": "stream",
          "text": [
            "no se cumplió ninguna de las instrucciones anteriores\n"
          ],
          "name": "stdout"
        }
      ]
    },
    {
      "cell_type": "markdown",
      "metadata": {
        "id": "mV2vp3Z7-jg5",
        "colab_type": "text"
      },
      "source": [
        "## 1.9 Loops"
      ]
    },
    {
      "cell_type": "markdown",
      "metadata": {
        "id": "CL_tZFzNDcXW",
        "colab_type": "text"
      },
      "source": [
        "Un loops ejecuta una secuencia de declaraciones varias veces.\n",
        "\n",
        "\n",
        "\n",
        "  "
      ]
    },
    {
      "cell_type": "code",
      "metadata": {
        "id": "HF_nk6Qnxn_5",
        "colab_type": "code",
        "outputId": "84bb1727-affe-4db5-a21b-85cfc9433bd2",
        "colab": {
          "base_uri": "https://localhost:8080/",
          "height": 85
        }
      },
      "source": [
        "#Devuelve un objeto que produce una secuencia de enteros desde el inicio (inclusive) detener (exclusivo) por pasos\n",
        "print(range(5),': ', list(range(5))) # entre 0 y 5\n",
        "print(range(1,5),': ', list(range(1,5))) # entre 0 y 5\n",
        "print(range(2,11, 2), ': ', list(range(2,11, 2))) # entre 2 y 11 con saltos de 2 en 2 "
      ],
      "execution_count": 0,
      "outputs": [
        {
          "output_type": "stream",
          "text": [
            "range(0, 5) :  [0, 1, 2, 3, 4]\n",
            "range(1, 5) :  [1, 2, 3, 4]\n",
            "range(2, 11, 2) :  [2, 4, 6, 8, 10]\n",
            "range(2, 11, -1) :  []\n"
          ],
          "name": "stdout"
        }
      ]
    },
    {
      "cell_type": "code",
      "metadata": {
        "id": "3MMh5t3WD8Bm",
        "colab_type": "code",
        "outputId": "7adcc2d7-6b91-4c8a-e191-3b1e418e7bc2",
        "colab": {
          "base_uri": "https://localhost:8080/",
          "height": 102
        }
      },
      "source": [
        "# Ejecutar un declaración tantas veces como el largo de la secuencia range(5)\n",
        "for i in range(5):\n",
        "  n_iteracion = i+1\n",
        "  print('rango: {elem_rango}, iteración: {n_iteracion}'.format(elem_rango=i, n_iteracion=n_iteracion))"
      ],
      "execution_count": 0,
      "outputs": [
        {
          "output_type": "stream",
          "text": [
            "rango: 0, iteración: 1\n",
            "rango: 1, iteración: 2\n",
            "rango: 2, iteración: 3\n",
            "rango: 3, iteración: 4\n",
            "rango: 4, iteración: 5\n"
          ],
          "name": "stdout"
        }
      ]
    },
    {
      "cell_type": "code",
      "metadata": {
        "id": "bNMRF-DY1DCj",
        "colab_type": "code",
        "colab": {}
      },
      "source": [
        "my_list = [5, 6, 7, 8, 9]"
      ],
      "execution_count": 0,
      "outputs": []
    },
    {
      "cell_type": "code",
      "metadata": {
        "id": "USEqBmTA1BB-",
        "colab_type": "code",
        "outputId": "36114752-1c9a-4396-c2cf-e1df43938677",
        "colab": {
          "base_uri": "https://localhost:8080/",
          "height": 102
        }
      },
      "source": [
        "# Ejecutar un declaración tantas veces como el largo de la lista\n",
        "for i in range(len(my_list)):\n",
        "  print('posición: {posicion}, elemento: {elem}'.format(posicion=i, elem=my_list[i])) "
      ],
      "execution_count": 0,
      "outputs": [
        {
          "output_type": "stream",
          "text": [
            "posición: 0, elemento: 5\n",
            "posición: 1, elemento: 6\n",
            "posición: 2, elemento: 7\n",
            "posición: 3, elemento: 8\n",
            "posición: 4, elemento: 9\n"
          ],
          "name": "stdout"
        }
      ]
    },
    {
      "cell_type": "code",
      "metadata": {
        "id": "i-yThxS62wi6",
        "colab_type": "code",
        "outputId": "f518d60f-6f5d-42fd-c188-23760c8fe434",
        "colab": {
          "base_uri": "https://localhost:8080/",
          "height": 102
        }
      },
      "source": [
        "for i, elem in enumerate(my_list):\n",
        "  print('posición: ', i, 'elemento: ', elem)"
      ],
      "execution_count": 0,
      "outputs": [
        {
          "output_type": "stream",
          "text": [
            "posición:  0 elemento:  5\n",
            "posición:  1 elemento:  6\n",
            "posición:  2 elemento:  7\n",
            "posición:  3 elemento:  8\n",
            "posición:  4 elemento:  9\n"
          ],
          "name": "stdout"
        }
      ]
    },
    {
      "cell_type": "code",
      "metadata": {
        "id": "f6uy0fWmXjtP",
        "colab_type": "code",
        "outputId": "3e857c15-5217-45dc-ce25-2221f33d0445",
        "colab": {
          "base_uri": "https://localhost:8080/",
          "height": 102
        }
      },
      "source": [
        "for elem in my_list: \n",
        "  elem_x2 = elem*2\n",
        "  print('elemento: {elem}, elemento por 2: {elem_x2}'.format(elem=elem, elem_x2=elem_x2))"
      ],
      "execution_count": 0,
      "outputs": [
        {
          "output_type": "stream",
          "text": [
            "elemento: 5, elemento por 2: 10\n",
            "elemento: 6, elemento por 2: 12\n",
            "elemento: 7, elemento por 2: 14\n",
            "elemento: 8, elemento por 2: 16\n",
            "elemento: 9, elemento por 2: 18\n"
          ],
          "name": "stdout"
        }
      ]
    },
    {
      "cell_type": "code",
      "metadata": {
        "id": "b9BUn6fB4RfM",
        "colab_type": "code",
        "outputId": "317bb007-b7bf-452b-ee7f-5d0557bd0c52",
        "colab": {
          "base_uri": "https://localhost:8080/",
          "height": 187
        }
      },
      "source": [
        "#Ejecutar una declaración hasta que se cumpla la condición de parada, es decir 'while (condition) ==False'\n",
        "i=0\n",
        "while (i<10):\n",
        "  print('iteración:', i)\n",
        "  i=i+1\n",
        "  "
      ],
      "execution_count": 0,
      "outputs": [
        {
          "output_type": "stream",
          "text": [
            "iteración: 0\n",
            "iteración: 1\n",
            "iteración: 2\n",
            "iteración: 3\n",
            "iteración: 4\n",
            "iteración: 5\n",
            "iteración: 6\n",
            "iteración: 7\n",
            "iteración: 8\n",
            "iteración: 9\n"
          ],
          "name": "stdout"
        }
      ]
    },
    {
      "cell_type": "markdown",
      "metadata": {
        "id": "7xuhbTzi-jhH",
        "colab_type": "text"
      },
      "source": [
        "# 2. Python Level 2"
      ]
    },
    {
      "cell_type": "markdown",
      "metadata": {
        "id": "jlngG9xw-jhI",
        "colab_type": "text"
      },
      "source": [
        "## 2.1 Funciones"
      ]
    },
    {
      "cell_type": "markdown",
      "metadata": {
        "id": "uzko9n5-3AOM",
        "colab_type": "text"
      },
      "source": [
        "\n",
        "Para definir una función se usa la siguiente sintaxis:\n",
        "\n",
        "\n",
        "```\n",
        "  def nombre_funcion(inputs):\n",
        "      declaraciones ....\n",
        "```\n",
        "\n",
        "```\n",
        "  def nombre_funcion(x, y, z=default):\n",
        "      declaraciones ....\n",
        "  \n",
        "  #formas de ejecutar función\n",
        "  nombre_funcion(a, b)\n",
        " \n",
        "  nombre_funcion(x=a, y=b)\n",
        " \n",
        "  nombre_funcion(x=a, y=b, z=c)\n",
        "```\n",
        "\n",
        "Variables mágicas usadas para definir funciones:\n",
        "\n",
        ". *args se utiliza para pasar una lista de argumentos.<br>\n",
        "**kwargs para pasar un diccionario de argumentos, sirve para manejar los argumentos por nombre.<br>\n",
        "\n",
        "Más documentación:<br>\n",
        "https://pythontips.com/2013/08/04/args-and-kwargs-in-python-explained/ <br>\n"
      ]
    },
    {
      "cell_type": "code",
      "metadata": {
        "id": "FoDoC5BgYPFn",
        "colab_type": "code",
        "outputId": "3c9f86b5-716d-4679-94b0-c58fa745d1e8",
        "colab": {
          "base_uri": "https://localhost:8080/",
          "height": 34
        }
      },
      "source": [
        "def my_funct(): #una función puede no recibir parámetros\n",
        "  print('hola mundo')\n",
        "  \n",
        "\n",
        "my_funct() #ejecución"
      ],
      "execution_count": 0,
      "outputs": [
        {
          "output_type": "stream",
          "text": [
            "hola mundo\n"
          ],
          "name": "stdout"
        }
      ]
    },
    {
      "cell_type": "code",
      "metadata": {
        "id": "EXOfcfmqYpTx",
        "colab_type": "code",
        "colab": {}
      },
      "source": [
        "def saludo(nombre):\n",
        "  print('Hola', nombre)"
      ],
      "execution_count": 0,
      "outputs": []
    },
    {
      "cell_type": "code",
      "metadata": {
        "id": "NAF7vxOSYuJ6",
        "colab_type": "code",
        "outputId": "bee89b48-906b-43fb-dc6c-26b8deddc2e0",
        "colab": {
          "base_uri": "https://localhost:8080/",
          "height": 34
        }
      },
      "source": [
        "saludo('K.Murpphy')"
      ],
      "execution_count": 0,
      "outputs": [
        {
          "output_type": "stream",
          "text": [
            "Hola K.Murpphy\n"
          ],
          "name": "stdout"
        }
      ]
    },
    {
      "cell_type": "code",
      "metadata": {
        "id": "Q_kzTVeIYx_s",
        "colab_type": "code",
        "colab": {}
      },
      "source": [
        "def my_funct(x):\n",
        "  if x>0:\n",
        "    return 'número positivo'\n",
        "  else:\n",
        "    return 'número no positivo'"
      ],
      "execution_count": 0,
      "outputs": []
    },
    {
      "cell_type": "code",
      "metadata": {
        "id": "w2r_YIitZDnr",
        "colab_type": "code",
        "outputId": "2fbd422f-388a-4163-90a0-bc1170ff6413",
        "colab": {
          "base_uri": "https://localhost:8080/",
          "height": 34
        }
      },
      "source": [
        "my_funct(1)"
      ],
      "execution_count": 0,
      "outputs": [
        {
          "output_type": "execute_result",
          "data": {
            "text/plain": [
              "'número positivo'"
            ]
          },
          "metadata": {
            "tags": []
          },
          "execution_count": 123
        }
      ]
    },
    {
      "cell_type": "code",
      "metadata": {
        "id": "szm3nVWJ5v5y",
        "colab_type": "code",
        "outputId": "a00098a9-e050-4688-d253-9606acb6348a",
        "colab": {
          "base_uri": "https://localhost:8080/",
          "height": 34
        }
      },
      "source": [
        "my_list = [1, 2, 3, 4]\n",
        "def suma(x):\n",
        "  sum=0\n",
        "  for elem in x:\n",
        "    sum=sum+elem\n",
        "  return sum\n",
        "\n",
        "suma(my_list)"
      ],
      "execution_count": 0,
      "outputs": [
        {
          "output_type": "execute_result",
          "data": {
            "text/plain": [
              "10"
            ]
          },
          "metadata": {
            "tags": []
          },
          "execution_count": 125
        }
      ]
    },
    {
      "cell_type": "code",
      "metadata": {
        "id": "KkFZPmfa6a7c",
        "colab_type": "code",
        "outputId": "8d707170-fd64-49f6-9af0-03c37eb9b75d",
        "colab": {
          "base_uri": "https://localhost:8080/",
          "height": 34
        }
      },
      "source": [
        "def minimo(x):\n",
        "  N = len(x)\n",
        "  min_value = x[0]\n",
        "  \n",
        "  i = 0\n",
        "\n",
        "  for elem in x: #recorrer los elementos en x\n",
        "    if min_value > elem: #si el valor mínimo actual es mayor estricto que el elemento de la iteración actual\n",
        "      min_value = elem #actualizar valor mínimo\n",
        "    else: #esta línea se puede omitir\n",
        "      min_value = min_value\n",
        "      \n",
        "  return min_value\n",
        "\n",
        "minimo(my_list)"
      ],
      "execution_count": 0,
      "outputs": [
        {
          "output_type": "execute_result",
          "data": {
            "text/plain": [
              "1"
            ]
          },
          "metadata": {
            "tags": []
          },
          "execution_count": 136
        }
      ]
    },
    {
      "cell_type": "code",
      "metadata": {
        "id": "wjRE-_B88hKp",
        "colab_type": "code",
        "outputId": "ed229827-8c5f-414a-8cb9-b2a34938f99d",
        "colab": {
          "base_uri": "https://localhost:8080/",
          "height": 34
        }
      },
      "source": [
        "def maximo(x):\n",
        "  N = len(x)\n",
        "  max_value = x[0]\n",
        "  \n",
        "  i = 0\n",
        "\n",
        "  for elem in x: \n",
        "    if max_value < elem: \n",
        "       max_value = elem \n",
        "    else: \n",
        "      max_value = max_value\n",
        "      \n",
        "  return max_value\n",
        "\n",
        "maximo(my_list)"
      ],
      "execution_count": 0,
      "outputs": [
        {
          "output_type": "execute_result",
          "data": {
            "text/plain": [
              "4"
            ]
          },
          "metadata": {
            "tags": []
          },
          "execution_count": 135
        }
      ]
    },
    {
      "cell_type": "markdown",
      "metadata": {
        "id": "G3It_rb69IwA",
        "colab_type": "text"
      },
      "source": [
        "$$\\bar{X} = \\frac{\\sum_{i=1}^{N} x_{i}}{N}$$"
      ]
    },
    {
      "cell_type": "code",
      "metadata": {
        "id": "9P8_D4759H_T",
        "colab_type": "code",
        "outputId": "c81bb220-e682-48b3-f82e-137478960b29",
        "colab": {
          "base_uri": "https://localhost:8080/",
          "height": 34
        }
      },
      "source": [
        "def promedio(x):\n",
        "  N=len(x)\n",
        "  return sum(x)/N\n",
        "\n",
        "promedio(my_list)"
      ],
      "execution_count": 0,
      "outputs": [
        {
          "output_type": "execute_result",
          "data": {
            "text/plain": [
              "2.5"
            ]
          },
          "metadata": {
            "tags": []
          },
          "execution_count": 141
        }
      ]
    },
    {
      "cell_type": "markdown",
      "metadata": {
        "id": "EmcuC7sT9GZH",
        "colab_type": "text"
      },
      "source": [
        "$$\\sigma = \\sqrt{\\frac{\\sum_{i=1}^{N} (x_{i}-\\bar{X})^{2}}{N}}$$"
      ]
    },
    {
      "cell_type": "code",
      "metadata": {
        "id": "8P5A5tBX83FV",
        "colab_type": "code",
        "outputId": "b4dc21cc-19f9-41bd-b89b-bb1de7379b5f",
        "colab": {
          "base_uri": "https://localhost:8080/",
          "height": 34
        }
      },
      "source": [
        "def desviacion(x):\n",
        "  N = len(x)\n",
        "  \n",
        "  mean = promedio(x)\n",
        "  sum_diff_2 = 0 #suma de las desviaciones cuadradas con respecto a la media\n",
        "  for elem in x:\n",
        "    sum_diff_2 = sum_diff_2 + (elem-mean)**2\n",
        "    \n",
        "  sigma = (sum_diff_2/N)**(1/2)\n",
        "  return sigma\n",
        "\n",
        "desviacion(my_list)"
      ],
      "execution_count": 0,
      "outputs": [
        {
          "output_type": "execute_result",
          "data": {
            "text/plain": [
              "1.118033988749895"
            ]
          },
          "metadata": {
            "tags": []
          },
          "execution_count": 139
        }
      ]
    },
    {
      "cell_type": "markdown",
      "metadata": {
        "id": "zmvmYefG-jhN",
        "colab_type": "text"
      },
      "source": [
        "\n",
        "## 2.2 Scope"
      ]
    },
    {
      "cell_type": "markdown",
      "metadata": {
        "id": "-gmthJgdEO00",
        "colab_type": "text"
      },
      "source": [
        "El* scope* o alcance de una variable se refiere a los lugares en que se puede ver o acceder a una variable."
      ]
    },
    {
      "cell_type": "code",
      "metadata": {
        "id": "aQNJaF8sZYZq",
        "colab_type": "code",
        "outputId": "a2912799-3320-459f-c055-d229694b4ca8",
        "colab": {
          "base_uri": "https://localhost:8080/",
          "height": 51
        }
      },
      "source": [
        "#Las variables definidas dentro de una función no tienen impacto en las variables definidas a fuera\n",
        "x = 20\n",
        "def  my_funct(numero):\n",
        "  x = numero\n",
        "  return x\n",
        "\n",
        "print(my_funct(10))\n",
        "print(x)"
      ],
      "execution_count": 0,
      "outputs": [
        {
          "output_type": "stream",
          "text": [
            "10\n",
            "20\n"
          ],
          "name": "stdout"
        }
      ]
    },
    {
      "cell_type": "code",
      "metadata": {
        "id": "48zdPnjMAwu7",
        "colab_type": "code",
        "outputId": "6f5f8f8a-9199-4adc-958d-156d2c184d03",
        "colab": {
          "base_uri": "https://localhost:8080/",
          "height": 34
        }
      },
      "source": [
        "#puedo reutilizar variables definidas afuera de la función\n",
        "def  my_funct(numero):\n",
        "  \n",
        " \n",
        "  return x+numero\n",
        "\n",
        "my_funct(10)"
      ],
      "execution_count": 0,
      "outputs": [
        {
          "output_type": "execute_result",
          "data": {
            "text/plain": [
              "30"
            ]
          },
          "metadata": {
            "tags": []
          },
          "execution_count": 148
        }
      ]
    },
    {
      "cell_type": "code",
      "metadata": {
        "id": "-VnyO9V0Zhsd",
        "colab_type": "code",
        "outputId": "cb190378-d841-4344-8e58-32a3218c15fe",
        "colab": {
          "base_uri": "https://localhost:8080/",
          "height": 51
        }
      },
      "source": [
        "#Con \"global\" las declaraciones dentro de la función al ejecutarse pueden cambiar al valor original de la variable definida a fuera de la función\n",
        "#En general no se recomiendo el uso de \"global\"\n",
        "def  my_funct(numero):\n",
        "  global x\n",
        "  x = numero\n",
        "  return x\n",
        "\n",
        "print(x) #x antes\n",
        "my_funct(10) #ejecutar función sobre x\n",
        "print(x) #x después"
      ],
      "execution_count": 0,
      "outputs": [
        {
          "output_type": "stream",
          "text": [
            "20\n",
            "10\n"
          ],
          "name": "stdout"
        }
      ]
    },
    {
      "cell_type": "markdown",
      "metadata": {
        "id": "in3vAvuP-jhT",
        "colab_type": "text"
      },
      "source": [
        "## 2.3 Programación orientada a objetos (OOP)"
      ]
    },
    {
      "cell_type": "markdown",
      "metadata": {
        "id": "BvKG3bBWFOIp",
        "colab_type": "text"
      },
      "source": [
        "\n",
        "\n",
        "1. Clase: Propiedad y comportamiento de un objeto concreto.\n",
        "2. Objeto: Instancia de una clase\n",
        "3. Atributo: Propiedad del objeto\n",
        "4. Método: Lo que un objeto puede hacer \n",
        "\n",
        "\n",
        "\n",
        "Más documentación<br><br>\n",
        "Métodos especiales: https://docs.python.org/3/reference/datamodel.html#special-method-names<br>\n"
      ]
    },
    {
      "cell_type": "code",
      "metadata": {
        "id": "fv67pNMNbJaQ",
        "colab_type": "code",
        "outputId": "1ada370b-4033-4bff-bd59-79c3910ce954",
        "colab": {
          "base_uri": "https://localhost:8080/",
          "height": 34
        }
      },
      "source": [
        "'hola {nombre}'.format(nombre='Diego')"
      ],
      "execution_count": 0,
      "outputs": [
        {
          "output_type": "execute_result",
          "data": {
            "text/plain": [
              "'hola Diego'"
            ]
          },
          "metadata": {
            "tags": []
          },
          "execution_count": 106
        }
      ]
    },
    {
      "cell_type": "code",
      "metadata": {
        "id": "GfL4TvIN-jhU",
        "colab_type": "code",
        "colab": {}
      },
      "source": [
        "class Book():\n",
        "  \n",
        "    #Método constructor: Función para instanciar un objeto. \n",
        "    def __init__(self, title, author, pages): \n",
        "        print(\"A book is created\") #mensaje que se muestra en patalla al crear un objeto\n",
        "        \n",
        "        #Atributos de cada objeto\n",
        "        self.title = title \n",
        "        self.author = author\n",
        "        self.pages = pages\n",
        "\n",
        "    #Métodos especiales\n",
        "    def __str__(self): #al utilizar la función print() sobre un objeto retorna un string con todos sus atributos de forma. sin este método al imprimir un objeto este se \n",
        "        return \"Title:%s , author:%s, pages:%s \" %(self.title, self.author, self.pages)\n",
        "\n",
        "    def __len__(self):#al utilizar la función len() sobre un objeto retorna el número de páginas del libro\n",
        "        return self.pages\n",
        "\n",
        "        \n",
        "    #método    \n",
        "    def saludar(self, saludo):\n",
        "      return '{s} {autor}'.format(s=saludo, autor=self.author)\n",
        "\n"
      ],
      "execution_count": 0,
      "outputs": []
    },
    {
      "cell_type": "code",
      "metadata": {
        "id": "I1K2MWjkEwcX",
        "colab_type": "code",
        "outputId": "4c6c48b7-51ae-4f8f-f4b4-92d24b754c44",
        "colab": {
          "base_uri": "https://localhost:8080/",
          "height": 51
        }
      },
      "source": [
        "# instanciar un objeto\n",
        "book = Book(\"Machine Learning A Probabilistic Perspective\", \"K. Murphy\", 1000) "
      ],
      "execution_count": 0,
      "outputs": [
        {
          "output_type": "stream",
          "text": [
            "A book is created\n",
            "A book is destroyed\n"
          ],
          "name": "stdout"
        }
      ]
    },
    {
      "cell_type": "code",
      "metadata": {
        "id": "f5d3Sa62Lh-G",
        "colab_type": "code",
        "outputId": "1514adec-3386-40c6-ef9a-c80d75109fc8",
        "colab": {
          "base_uri": "https://localhost:8080/",
          "height": 34
        }
      },
      "source": [
        "book"
      ],
      "execution_count": 0,
      "outputs": [
        {
          "output_type": "execute_result",
          "data": {
            "text/plain": [
              "<__main__.Book at 0x7fda66dcd630>"
            ]
          },
          "metadata": {
            "tags": []
          },
          "execution_count": 183
        }
      ]
    },
    {
      "cell_type": "code",
      "metadata": {
        "id": "7Hc-l_nia4ab",
        "colab_type": "code",
        "outputId": "ba3b655e-08e1-4a37-f26e-32b639d0df2c",
        "colab": {
          "base_uri": "https://localhost:8080/",
          "height": 34
        }
      },
      "source": [
        "#Acceder a un atributo de un objeto\n",
        "book.title"
      ],
      "execution_count": 0,
      "outputs": [
        {
          "output_type": "execute_result",
          "data": {
            "text/plain": [
              "'Machine Learning A Probabilistic Perspective'"
            ]
          },
          "metadata": {
            "tags": []
          },
          "execution_count": 184
        }
      ]
    },
    {
      "cell_type": "code",
      "metadata": {
        "id": "A-cLdSyVbBEJ",
        "colab_type": "code",
        "outputId": "c6e7e920-7858-4c2d-82a2-6eccc3263411",
        "colab": {
          "base_uri": "https://localhost:8080/",
          "height": 34
        }
      },
      "source": [
        "#Método especial: print\n",
        "print(book)"
      ],
      "execution_count": 0,
      "outputs": [
        {
          "output_type": "stream",
          "text": [
            "Title:Machine Learning A Probabilistic Perspective , author:K. Murphy, pages:1000 \n"
          ],
          "name": "stdout"
        }
      ]
    },
    {
      "cell_type": "code",
      "metadata": {
        "id": "uvEwxqyvLxEB",
        "colab_type": "code",
        "outputId": "d4bad642-b0af-4fc0-a474-110bc4c319c9",
        "colab": {
          "base_uri": "https://localhost:8080/",
          "height": 34
        }
      },
      "source": [
        "#Método especial:len\n",
        "len(book)\n"
      ],
      "execution_count": 0,
      "outputs": [
        {
          "output_type": "execute_result",
          "data": {
            "text/plain": [
              "1000"
            ]
          },
          "metadata": {
            "tags": []
          },
          "execution_count": 187
        }
      ]
    },
    {
      "cell_type": "code",
      "metadata": {
        "id": "hu1CXN52L2bZ",
        "colab_type": "code",
        "outputId": "bfe30b83-00bd-4673-ff46-76ffb4f802ef",
        "colab": {
          "base_uri": "https://localhost:8080/",
          "height": 34
        }
      },
      "source": [
        "#Método normal\n",
        "book.saludar('Hola')"
      ],
      "execution_count": 0,
      "outputs": [
        {
          "output_type": "execute_result",
          "data": {
            "text/plain": [
              "'Hola K. Murphy'"
            ]
          },
          "metadata": {
            "tags": []
          },
          "execution_count": 186
        }
      ]
    },
    {
      "cell_type": "markdown",
      "metadata": {
        "id": "kygY8vFH-jhW",
        "colab_type": "text"
      },
      "source": [
        "# 3. Python Level 3\n",
        "\n",
        "\n",
        "Instalar librerías en python, comandos: pip y conda\n",
        "\n",
        "Más documentación:\n",
        "\n",
        "https://packaging.python.org/tutorials/installing-packages/\n",
        "\n",
        "https://conda.io/docs/user-guide/tasks/manage-pkgs.html#installing-packages\n",
        "\n",
        "\n"
      ]
    },
    {
      "cell_type": "markdown",
      "metadata": {
        "id": "itobwZ8u-jhW",
        "colab_type": "text"
      },
      "source": [
        "## 3.1 Numpy\n",
        "\n",
        "100 numpy exercises\n",
        "\n",
        "https://drive.google.com/file/d/1GeqpxhbqXDv1Fq8GshnbdP6oUvpxSQv9/view\n",
        "\n"
      ]
    },
    {
      "cell_type": "code",
      "metadata": {
        "id": "rzsuKn07bwYJ",
        "colab_type": "code",
        "colab": {}
      },
      "source": [
        "# as: renombrar librería importada\n",
        "import numpy as np"
      ],
      "execution_count": 0,
      "outputs": []
    },
    {
      "cell_type": "code",
      "metadata": {
        "id": "J5bK48yeb9F4",
        "colab_type": "code",
        "outputId": "df7370da-950f-44d4-baa9-2261d9107d03",
        "colab": {
          "base_uri": "https://localhost:8080/",
          "height": 34
        }
      },
      "source": [
        "#python crea los vectores como vectores fila\n",
        "a = np.array([1, 2, 3])\n",
        "a"
      ],
      "execution_count": 0,
      "outputs": [
        {
          "output_type": "execute_result",
          "data": {
            "text/plain": [
              "array([1, 2, 3])"
            ]
          },
          "metadata": {
            "tags": []
          },
          "execution_count": 194
        }
      ]
    },
    {
      "cell_type": "code",
      "metadata": {
        "id": "B9FqZTqLcnjD",
        "colab_type": "code",
        "outputId": "16752bbf-b3de-49df-9324-824c65e7b8f8",
        "colab": {
          "base_uri": "https://localhost:8080/",
          "height": 34
        }
      },
      "source": [
        "#largo del vector\n",
        "len(a)"
      ],
      "execution_count": 0,
      "outputs": [
        {
          "output_type": "execute_result",
          "data": {
            "text/plain": [
              "3"
            ]
          },
          "metadata": {
            "tags": []
          },
          "execution_count": 195
        }
      ]
    },
    {
      "cell_type": "code",
      "metadata": {
        "id": "8qLO0ZumcppG",
        "colab_type": "code",
        "outputId": "dab99ef7-191f-48e7-bb5c-cab0dbdaf24a",
        "colab": {
          "base_uri": "https://localhost:8080/",
          "height": 34
        }
      },
      "source": [
        "#dimensión del vector\n",
        "a.shape"
      ],
      "execution_count": 0,
      "outputs": [
        {
          "output_type": "execute_result",
          "data": {
            "text/plain": [
              "(3,)"
            ]
          },
          "metadata": {
            "tags": []
          },
          "execution_count": 196
        }
      ]
    },
    {
      "cell_type": "code",
      "metadata": {
        "id": "Xk_gHicFctOH",
        "colab_type": "code",
        "outputId": "b0de0e04-05d1-4ebb-8c3e-d02f93abbbef",
        "colab": {
          "base_uri": "https://localhost:8080/",
          "height": 34
        }
      },
      "source": [
        "#matriz de una fila con tres columnas\n",
        "b = np.array([[1, 2, 3]])\n",
        "b"
      ],
      "execution_count": 0,
      "outputs": [
        {
          "output_type": "execute_result",
          "data": {
            "text/plain": [
              "array([[1, 2, 3]])"
            ]
          },
          "metadata": {
            "tags": []
          },
          "execution_count": 197
        }
      ]
    },
    {
      "cell_type": "code",
      "metadata": {
        "id": "vnmhZJHUNqNS",
        "colab_type": "code",
        "outputId": "87ec1093-9af1-49a2-c7d0-ff0393016617",
        "colab": {
          "base_uri": "https://localhost:8080/",
          "height": 34
        }
      },
      "source": [
        "b.shape"
      ],
      "execution_count": 0,
      "outputs": [
        {
          "output_type": "execute_result",
          "data": {
            "text/plain": [
              "(1, 3)"
            ]
          },
          "metadata": {
            "tags": []
          },
          "execution_count": 198
        }
      ]
    },
    {
      "cell_type": "code",
      "metadata": {
        "id": "C8FtUpP5Rfat",
        "colab_type": "code",
        "outputId": "985b9914-10aa-4fd3-b1b2-7d8787fc2e4a",
        "colab": {
          "base_uri": "https://localhost:8080/",
          "height": 68
        }
      },
      "source": [
        "#vector columna\n",
        "\n",
        "c = b.T #el método T transpone un objeto array\n",
        "c"
      ],
      "execution_count": 0,
      "outputs": [
        {
          "output_type": "execute_result",
          "data": {
            "text/plain": [
              "array([[1],\n",
              "       [2],\n",
              "       [3]])"
            ]
          },
          "metadata": {
            "tags": []
          },
          "execution_count": 228
        }
      ]
    },
    {
      "cell_type": "markdown",
      "metadata": {
        "id": "ZSfbQed7R1lQ",
        "colab_type": "text"
      },
      "source": [
        "Matrices con listas"
      ]
    },
    {
      "cell_type": "code",
      "metadata": {
        "id": "mCCCkhSXRzLk",
        "colab_type": "code",
        "outputId": "209828dd-c84d-4347-fc95-e8025ea23041",
        "colab": {
          "base_uri": "https://localhost:8080/",
          "height": 68
        }
      },
      "source": [
        "#dos filas y tres columnas\n",
        "matriz = [[1,2,3], [2,2,2]]\n",
        "print(matriz)\n",
        "#primera fila\n",
        "print(matriz[0])\n",
        "\n",
        "#tercera columna\n",
        "print([elem[2] for elem in matriz])"
      ],
      "execution_count": 0,
      "outputs": [
        {
          "output_type": "stream",
          "text": [
            "[[1, 2, 3], [2, 2, 2]]\n",
            "[1, 2, 3]\n",
            "[3, 2]\n"
          ],
          "name": "stdout"
        }
      ]
    },
    {
      "cell_type": "markdown",
      "metadata": {
        "id": "yz4r5zT_R4h0",
        "colab_type": "text"
      },
      "source": [
        "Matrices con numpy"
      ]
    },
    {
      "cell_type": "code",
      "metadata": {
        "id": "DMjyxzDrdLkh",
        "colab_type": "code",
        "outputId": "17d671f1-adeb-424e-b72b-27159aa625eb",
        "colab": {
          "base_uri": "https://localhost:8080/",
          "height": 51
        }
      },
      "source": [
        "#matriz de dos filas y tres columnas\n",
        "matriz = np.array([[1, 2, 3], [2, 2, 2]])\n",
        "matriz"
      ],
      "execution_count": 0,
      "outputs": [
        {
          "output_type": "execute_result",
          "data": {
            "text/plain": [
              "array([[1, 2, 3],\n",
              "       [2, 2, 2]])"
            ]
          },
          "metadata": {
            "tags": []
          },
          "execution_count": 201
        }
      ]
    },
    {
      "cell_type": "code",
      "metadata": {
        "id": "0M3lmSedPhSp",
        "colab_type": "code",
        "outputId": "0fa9f8db-51a2-4107-fd08-0cef121bf311",
        "colab": {
          "base_uri": "https://localhost:8080/",
          "height": 34
        }
      },
      "source": [
        "#elemento que esta en la primera fila y última columa\n",
        "matriz[0][2]"
      ],
      "execution_count": 0,
      "outputs": [
        {
          "output_type": "execute_result",
          "data": {
            "text/plain": [
              "3"
            ]
          },
          "metadata": {
            "tags": []
          },
          "execution_count": 213
        }
      ]
    },
    {
      "cell_type": "code",
      "metadata": {
        "id": "ue-6TnjQdQ5T",
        "colab_type": "code",
        "outputId": "59d1945a-02d8-4a69-ecf0-23fb9c5f364c",
        "colab": {
          "base_uri": "https://localhost:8080/",
          "height": 34
        }
      },
      "source": [
        "#primera fila\n",
        "matriz[0]"
      ],
      "execution_count": 0,
      "outputs": [
        {
          "output_type": "execute_result",
          "data": {
            "text/plain": [
              "array([1, 2, 3])"
            ]
          },
          "metadata": {
            "tags": []
          },
          "execution_count": 202
        }
      ]
    },
    {
      "cell_type": "code",
      "metadata": {
        "id": "T2M9-ifHO1U5",
        "colab_type": "code",
        "outputId": "677f2507-154e-4e97-a120-eb71b6977d60",
        "colab": {
          "base_uri": "https://localhost:8080/",
          "height": 34
        }
      },
      "source": [
        "#primera columna\n",
        "matriz[:, 1]"
      ],
      "execution_count": 0,
      "outputs": [
        {
          "output_type": "execute_result",
          "data": {
            "text/plain": [
              "array([1, 2, 3])"
            ]
          },
          "metadata": {
            "tags": []
          },
          "execution_count": 218
        }
      ]
    },
    {
      "cell_type": "code",
      "metadata": {
        "id": "qYsVQJgtO5a2",
        "colab_type": "code",
        "outputId": "7b9c47f6-9211-401c-8ea8-a15627aea87f",
        "colab": {
          "base_uri": "https://localhost:8080/",
          "height": 51
        }
      },
      "source": [
        "matriz[:][0:2]"
      ],
      "execution_count": 0,
      "outputs": [
        {
          "output_type": "execute_result",
          "data": {
            "text/plain": [
              "array([[1, 2, 3],\n",
              "       [2, 2, 2]])"
            ]
          },
          "metadata": {
            "tags": []
          },
          "execution_count": 209
        }
      ]
    },
    {
      "cell_type": "code",
      "metadata": {
        "id": "svBH15-VOwa2",
        "colab_type": "code",
        "outputId": "c4defba7-0cda-4f94-a594-e4415ea07bc9",
        "colab": {
          "base_uri": "https://localhost:8080/",
          "height": 34
        }
      },
      "source": [
        "#largo de la matriz = número de filas\n",
        "len(matriz)"
      ],
      "execution_count": 0,
      "outputs": [
        {
          "output_type": "execute_result",
          "data": {
            "text/plain": [
              "2"
            ]
          },
          "metadata": {
            "tags": []
          },
          "execution_count": 205
        }
      ]
    },
    {
      "cell_type": "code",
      "metadata": {
        "id": "pyf1xSP8OXiD",
        "colab_type": "code",
        "outputId": "2dee901d-661f-429e-b674-27b3ccd061aa",
        "colab": {
          "base_uri": "https://localhost:8080/",
          "height": 34
        }
      },
      "source": [
        "#dimensión de la matriz\n",
        "matriz.shape"
      ],
      "execution_count": 0,
      "outputs": [
        {
          "output_type": "execute_result",
          "data": {
            "text/plain": [
              "(2, 3)"
            ]
          },
          "metadata": {
            "tags": []
          },
          "execution_count": 203
        }
      ]
    },
    {
      "cell_type": "code",
      "metadata": {
        "id": "ea84MwE1S1R_",
        "colab_type": "code",
        "outputId": "300add74-de04-42fc-f794-ba50a212839c",
        "colab": {
          "base_uri": "https://localhost:8080/",
          "height": 51
        }
      },
      "source": [
        "a=np.array([1,2,3])\n",
        "b=np.array([2,2,2])\n",
        "\n",
        "print('Producto cruz: ', a*b)\n",
        "print('Producto punto: ', np.dot(a, b))"
      ],
      "execution_count": 0,
      "outputs": [
        {
          "output_type": "stream",
          "text": [
            "Producto cruz:  [2 4 6]\n",
            "Producto punto:  12\n"
          ],
          "name": "stdout"
        }
      ]
    },
    {
      "cell_type": "code",
      "metadata": {
        "id": "-QrZ316TdmMV",
        "colab_type": "code",
        "outputId": "39863558-90c7-4f6e-bf31-1bc9487ab58f",
        "colab": {
          "base_uri": "https://localhost:8080/",
          "height": 51
        }
      },
      "source": [
        "#Producto matricial, la dimensión de las matrices debe ser: n1 x m y m x n2\n",
        "np.dot(matriz, c)"
      ],
      "execution_count": 0,
      "outputs": [
        {
          "output_type": "execute_result",
          "data": {
            "text/plain": [
              "array([[14],\n",
              "       [12]])"
            ]
          },
          "metadata": {
            "tags": []
          },
          "execution_count": 234
        }
      ]
    },
    {
      "cell_type": "code",
      "metadata": {
        "id": "xRoRzewDd3tD",
        "colab_type": "code",
        "outputId": "3aa80f67-53b1-4ff4-ab02-e060bbe623d6",
        "colab": {
          "base_uri": "https://localhost:8080/",
          "height": 34
        }
      },
      "source": [
        "np.exp(2)"
      ],
      "execution_count": 0,
      "outputs": [
        {
          "output_type": "execute_result",
          "data": {
            "text/plain": [
              "7.38905609893065"
            ]
          },
          "metadata": {
            "tags": []
          },
          "execution_count": 249
        }
      ]
    },
    {
      "cell_type": "code",
      "metadata": {
        "id": "fkDHhZfBd5lc",
        "colab_type": "code",
        "outputId": "d97e5556-2a95-44f8-949c-859ff78dc663",
        "colab": {
          "base_uri": "https://localhost:8080/",
          "height": 34
        }
      },
      "source": [
        "np.pi"
      ],
      "execution_count": 0,
      "outputs": [
        {
          "output_type": "execute_result",
          "data": {
            "text/plain": [
              "3.141592653589793"
            ]
          },
          "metadata": {
            "tags": []
          },
          "execution_count": 250
        }
      ]
    },
    {
      "cell_type": "code",
      "metadata": {
        "id": "QhekUsfHd854",
        "colab_type": "code",
        "outputId": "00f567d4-29ad-4269-e314-3f37efe64057",
        "colab": {
          "base_uri": "https://localhost:8080/",
          "height": 34
        }
      },
      "source": [
        "np.log(1)"
      ],
      "execution_count": 0,
      "outputs": [
        {
          "output_type": "execute_result",
          "data": {
            "text/plain": [
              "0.0"
            ]
          },
          "metadata": {
            "tags": []
          },
          "execution_count": 251
        }
      ]
    },
    {
      "cell_type": "code",
      "metadata": {
        "id": "H_mRwIKuVa-c",
        "colab_type": "code",
        "outputId": "5d0a9dfb-2686-4ff4-cdbd-afc532abc40c",
        "colab": {
          "base_uri": "https://localhost:8080/",
          "height": 85
        }
      },
      "source": [
        "print(\"mínimo de 'a': \", a.min())\n",
        "print(\"máximo de 'a': \", a.max())\n",
        "print(\"promedio de'a': \", a.mean())\n",
        "print(\"desviación de 'a': \", a.std())"
      ],
      "execution_count": 0,
      "outputs": [
        {
          "output_type": "stream",
          "text": [
            "mínimo de 'a':  1\n",
            "máximo de 'a':  3\n",
            "promedio de'a':  2.0\n",
            "desviación de 'a':  0.816496580927726\n"
          ],
          "name": "stdout"
        }
      ]
    }
  ]
}