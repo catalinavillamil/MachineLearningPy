{
  "nbformat": 4,
  "nbformat_minor": 0,
  "metadata": {
    "colab": {
      "name": "Laboratorio 7 - Text Mining.ipynb",
      "provenance": [],
      "collapsed_sections": []
    },
    "kernelspec": {
      "display_name": "Python 3",
      "language": "python",
      "name": "python3"
    }
  },
  "cells": [
    {
      "cell_type": "markdown",
      "metadata": {
        "id": "9mIXtQqdT3I3",
        "colab_type": "text"
      },
      "source": [
        "# Tutorial Text Mining"
      ]
    },
    {
      "cell_type": "code",
      "metadata": {
        "id": "1P0SRyR_T3I4",
        "colab_type": "code",
        "colab": {}
      },
      "source": [
        "#Para que no muestre los warnings\n",
        "import sys\n",
        "import warnings\n",
        "\n",
        "if not sys.warnoptions:\n",
        "    warnings.simplefilter(\"ignore\")"
      ],
      "execution_count": 0,
      "outputs": []
    },
    {
      "cell_type": "code",
      "metadata": {
        "id": "4oP9y5zzUqwB",
        "colab_type": "code",
        "colab": {}
      },
      "source": [
        "# Si la línea de abajo tirar error ejecutar esta celda por paquetes no instalados\n",
        "nltk.download('stopwords')\n",
        "!pip install gensim\n",
        "!pip install pyldavis"
      ],
      "execution_count": 0,
      "outputs": []
    },
    {
      "cell_type": "code",
      "metadata": {
        "id": "FVuJU1GjT3I7",
        "colab_type": "code",
        "colab": {}
      },
      "source": [
        "import pandas as pd\n",
        "import numpy as np\n",
        "import nltk \n",
        "import re \n",
        "from time import time\n",
        "\n",
        "from nltk.stem.snowball import EnglishStemmer #Para importar método para aplicar stemming\n",
        "# Para importar el diccionario de stopwords\n",
        "from nltk.corpus import stopwords\n",
        "stop = stopwords.words('english')\n",
        "\n",
        "#LDA\n",
        "from gensim.corpora import Dictionary, MmCorpus\n",
        "from gensim.models.ldamodel import LdaModel\n",
        "import pyLDAvis\n",
        "import pyLDAvis.gensim\n"
      ],
      "execution_count": 0,
      "outputs": []
    },
    {
      "cell_type": "markdown",
      "metadata": {
        "id": "Ik6bjpMsT3I-",
        "colab_type": "text"
      },
      "source": [
        "## Dataset Tutorial\n",
        "\n",
        "El conjunto de datos proviene de uno de los principales sitios de viajes que contiene opiniones de hoteles proporcionadas por los clientes. Este conjunto de datos proporciona opiniones de un solo hotel. \n",
        "https://www.kaggle.com/harmanpreet93/hotelreviews"
      ]
    },
    {
      "cell_type": "code",
      "metadata": {
        "id": "HkndTW3zjLgY",
        "colab_type": "code",
        "outputId": "56188313-9069-458d-ba41-8d88834760d6",
        "colab": {
          "base_uri": "https://localhost:8080/",
          "height": 218
        }
      },
      "source": [
        "\n",
        "#importar dataset desde github debido a que subirlo directamente a colaboratory es muy lento, \n",
        "#este dataset es una muestra del original, contiene 5000 registros\n",
        "!wget https://raw.githubusercontent.com/dgarridoa/Lab7---dataset/master/hotel-reviews.csv\n",
        "!mv hotel-reviews.csv hotel-reviews.csv"
      ],
      "execution_count": 0,
      "outputs": [
        {
          "output_type": "stream",
          "text": [
            "--2018-11-29 03:44:34--  https://raw.githubusercontent.com/dgarridoa/Lab7---dataset/master/hotel-reviews.csv\n",
            "Resolving raw.githubusercontent.com (raw.githubusercontent.com)... 151.101.0.133, 151.101.64.133, 151.101.128.133, ...\n",
            "Connecting to raw.githubusercontent.com (raw.githubusercontent.com)|151.101.0.133|:443... connected.\n",
            "HTTP request sent, awaiting response... 200 OK\n",
            "Length: 4695168 (4.5M) [text/plain]\n",
            "Saving to: ‘hotel-reviews.csv’\n",
            "\n",
            "\rhotel-reviews.csv     0%[                    ]       0  --.-KB/s               \rhotel-reviews.csv   100%[===================>]   4.48M  --.-KB/s    in 0.1s    \n",
            "\n",
            "2018-11-29 03:44:35 (39.7 MB/s) - ‘hotel-reviews.csv’ saved [4695168/4695168]\n",
            "\n",
            "mv: 'hotel-reviews.csv' and 'hotel-reviews.csv' are the same file\n"
          ],
          "name": "stdout"
        }
      ]
    },
    {
      "cell_type": "code",
      "metadata": {
        "id": "Y9yHV8BjT3I_",
        "colab_type": "code",
        "outputId": "d7c7b9d9-ac11-47c7-f0eb-8819fbad7429",
        "colab": {
          "base_uri": "https://localhost:8080/",
          "height": 212
        }
      },
      "source": [
        "df = pd.read_csv('hotel-reviews.csv')\n",
        "#df = df.sample(n=5000, random_state=1).reset_index() #seleccionamos al azar 5000 registros\n",
        "print('Largo del corpus:', len(df))\n",
        "df.head()"
      ],
      "execution_count": 0,
      "outputs": [
        {
          "output_type": "stream",
          "text": [
            "Largo del corpus: 5000\n"
          ],
          "name": "stdout"
        },
        {
          "output_type": "execute_result",
          "data": {
            "text/html": [
              "<div>\n",
              "<style scoped>\n",
              "    .dataframe tbody tr th:only-of-type {\n",
              "        vertical-align: middle;\n",
              "    }\n",
              "\n",
              "    .dataframe tbody tr th {\n",
              "        vertical-align: top;\n",
              "    }\n",
              "\n",
              "    .dataframe thead th {\n",
              "        text-align: right;\n",
              "    }\n",
              "</style>\n",
              "<table border=\"1\" class=\"dataframe\">\n",
              "  <thead>\n",
              "    <tr style=\"text-align: right;\">\n",
              "      <th></th>\n",
              "      <th>Unnamed: 0</th>\n",
              "      <th>index</th>\n",
              "      <th>User_ID</th>\n",
              "      <th>Description</th>\n",
              "      <th>Browser_Used</th>\n",
              "      <th>Device_Used</th>\n",
              "      <th>Is_Response</th>\n",
              "    </tr>\n",
              "  </thead>\n",
              "  <tbody>\n",
              "    <tr>\n",
              "      <th>0</th>\n",
              "      <td>0</td>\n",
              "      <td>1158</td>\n",
              "      <td>id11484</td>\n",
              "      <td>Went for the weekend shopping. This hotel is j...</td>\n",
              "      <td>Firefox</td>\n",
              "      <td>Desktop</td>\n",
              "      <td>happy</td>\n",
              "    </tr>\n",
              "    <tr>\n",
              "      <th>1</th>\n",
              "      <td>1</td>\n",
              "      <td>28038</td>\n",
              "      <td>id38364</td>\n",
              "      <td>spent a get-away one night here and loved it. ...</td>\n",
              "      <td>Google Chrome</td>\n",
              "      <td>Tablet</td>\n",
              "      <td>happy</td>\n",
              "    </tr>\n",
              "    <tr>\n",
              "      <th>2</th>\n",
              "      <td>2</td>\n",
              "      <td>22473</td>\n",
              "      <td>id32799</td>\n",
              "      <td>I have stayed in Club Quarters in several citi...</td>\n",
              "      <td>Firefox</td>\n",
              "      <td>Desktop</td>\n",
              "      <td>not happy</td>\n",
              "    </tr>\n",
              "    <tr>\n",
              "      <th>3</th>\n",
              "      <td>3</td>\n",
              "      <td>1353</td>\n",
              "      <td>id11679</td>\n",
              "      <td>My daughter and I stayed here on a recent trip...</td>\n",
              "      <td>Firefox</td>\n",
              "      <td>Tablet</td>\n",
              "      <td>happy</td>\n",
              "    </tr>\n",
              "    <tr>\n",
              "      <th>4</th>\n",
              "      <td>4</td>\n",
              "      <td>9579</td>\n",
              "      <td>id19905</td>\n",
              "      <td>This Sheraton was just adequate and unfortunat...</td>\n",
              "      <td>Edge</td>\n",
              "      <td>Mobile</td>\n",
              "      <td>not happy</td>\n",
              "    </tr>\n",
              "  </tbody>\n",
              "</table>\n",
              "</div>"
            ],
            "text/plain": [
              "   Unnamed: 0  index  User_ID  \\\n",
              "0           0   1158  id11484   \n",
              "1           1  28038  id38364   \n",
              "2           2  22473  id32799   \n",
              "3           3   1353  id11679   \n",
              "4           4   9579  id19905   \n",
              "\n",
              "                                         Description   Browser_Used  \\\n",
              "0  Went for the weekend shopping. This hotel is j...        Firefox   \n",
              "1  spent a get-away one night here and loved it. ...  Google Chrome   \n",
              "2  I have stayed in Club Quarters in several citi...        Firefox   \n",
              "3  My daughter and I stayed here on a recent trip...        Firefox   \n",
              "4  This Sheraton was just adequate and unfortunat...           Edge   \n",
              "\n",
              "  Device_Used Is_Response  \n",
              "0     Desktop       happy  \n",
              "1      Tablet       happy  \n",
              "2     Desktop   not happy  \n",
              "3      Tablet       happy  \n",
              "4      Mobile   not happy  "
            ]
          },
          "metadata": {
            "tags": []
          },
          "execution_count": 9
        }
      ]
    },
    {
      "cell_type": "code",
      "metadata": {
        "id": "FLbGNtGTT3JD",
        "colab_type": "code",
        "colab": {}
      },
      "source": [
        "def processing_text(text, stemming=True, stopword=True):\n",
        "    text = re.sub(r'\\n', '', text) #eliminamos el símbolo de salto de línea\n",
        "    text = re.sub(r'\\.', ' ', text) #reemplazamos los puntos por un espacio\n",
        "    text = re.sub(r'[^\\w\\s]','', text) #elimina los símbolos de puntuación\n",
        "    text = re.sub(r'[a-zA-Z]+[0-9]+', '', text) #elimina los caracteres que contienen letras y números\n",
        "    text = re.sub(r'[0-9]+', ' ', text) #elimina los caracteres numéricos\n",
        "    \n",
        "    \n",
        "    tokens = text.split()  #El string es transformado a una lista, el separador por defecto es un espacio\n",
        "    \n",
        "    tokens = [i.lower() for i in tokens] #pasar todo a minúsculas\n",
        "    tokens = [i for i in tokens if len(i) > 1] #eliminar tokens con menos de 2 elementos\n",
        "    \n",
        "    #Eliminar stopwords\n",
        "    if stopword == True:\n",
        "        tokens = [i for i in tokens if i not in stop]\n",
        "    #Stemming\n",
        "    if stemming==True:    \n",
        "        tokens = [EnglishStemmer().stem(w) for w in tokens] \n",
        "        \n",
        "    \n",
        "    return tokens"
      ],
      "execution_count": 0,
      "outputs": []
    },
    {
      "cell_type": "code",
      "metadata": {
        "id": "xAn--xrXT3JG",
        "colab_type": "code",
        "outputId": "6afade6b-1dd6-4620-a1ba-3fe79c0f406a",
        "colab": {
          "base_uri": "https://localhost:8080/",
          "height": 138
        }
      },
      "source": [
        "print('Texto original:', df['Description'][1], '\\n')\n",
        "print('Texto sin stopwords:', processing_text(df['Description'][1], stemming=False, stopword=True), '\\n')\n",
        "print('Texto sin stopwords y con stemming:', processing_text(df['Description'][1], stemming=True, stopword=True), '\\n')\n"
      ],
      "execution_count": 0,
      "outputs": [
        {
          "output_type": "stream",
          "text": [
            "Texto original: spent a get-away one night here and loved it. great design, fabulous lobby, bar, restaurant, room, comfortable bed, and perfect central location. will always stay here again \n",
            "\n",
            "Texto sin stopwords: ['spent', 'getaway', 'one', 'night', 'loved', 'great', 'design', 'fabulous', 'lobby', 'bar', 'restaurant', 'room', 'comfortable', 'bed', 'perfect', 'central', 'location', 'always', 'stay'] \n",
            "\n",
            "Texto sin stopwords y con stemming: ['spent', 'getaway', 'one', 'night', 'love', 'great', 'design', 'fabul', 'lobbi', 'bar', 'restaur', 'room', 'comfort', 'bed', 'perfect', 'central', 'locat', 'alway', 'stay'] \n",
            "\n"
          ],
          "name": "stdout"
        }
      ]
    },
    {
      "cell_type": "markdown",
      "metadata": {
        "id": "uj7OTIqUT3JJ",
        "colab_type": "text"
      },
      "source": [
        "## Comparación del tamaño del vocabulario"
      ]
    },
    {
      "cell_type": "code",
      "metadata": {
        "id": "WEyCpTGFT3JK",
        "colab_type": "code",
        "outputId": "6f0de630-40a9-4164-e283-64190690253e",
        "colab": {
          "base_uri": "https://localhost:8080/",
          "height": 34
        }
      },
      "source": [
        "t1=time()\n",
        "\n",
        "corpus = df[df['Description'].isnull()==False].apply(lambda x: processing_text(x['Description'], stemming=False, stopword=False), axis=1)\n",
        "\n",
        "#Crear la bolsa de palabras (bag of words)\n",
        "vocabulary = set()\n",
        "for doc in corpus:\n",
        "    vocabulary  |=set(doc)\n",
        "\n",
        "    \n",
        "    \n",
        "fdoc = []   \n",
        "for doc in corpus:\n",
        "    d = {key: 0 for key in vocabulary}\n",
        "    for w in doc:\n",
        "        d[w] = d[w]+1 #d[w]+=1\n",
        "    fdoc.append(d)\n",
        "        \n",
        "\n",
        "t2=time()\n",
        "print(t2-t1)\n"
      ],
      "execution_count": 0,
      "outputs": [
        {
          "output_type": "stream",
          "text": [
            "21.16262674331665\n"
          ],
          "name": "stdout"
        }
      ]
    },
    {
      "cell_type": "code",
      "metadata": {
        "id": "3p8ruQGsT3JN",
        "colab_type": "code",
        "outputId": "b99f044f-3640-495e-e234-4ade6b2e4f41",
        "colab": {
          "base_uri": "https://localhost:8080/",
          "height": 261
        }
      },
      "source": [
        "df_rawclean = pd.DataFrame(fdoc, columns=vocabulary)\n",
        "print('Dimensión de la base de datos:', df_rawclean.shape)\n",
        "df_rawclean.head()"
      ],
      "execution_count": 0,
      "outputs": [
        {
          "output_type": "stream",
          "text": [
            "Dimensión de la base de datos: (5000, 20520)\n"
          ],
          "name": "stdout"
        },
        {
          "output_type": "execute_result",
          "data": {
            "text/html": [
              "<div>\n",
              "<style scoped>\n",
              "    .dataframe tbody tr th:only-of-type {\n",
              "        vertical-align: middle;\n",
              "    }\n",
              "\n",
              "    .dataframe tbody tr th {\n",
              "        vertical-align: top;\n",
              "    }\n",
              "\n",
              "    .dataframe thead th {\n",
              "        text-align: right;\n",
              "    }\n",
              "</style>\n",
              "<table border=\"1\" class=\"dataframe\">\n",
              "  <thead>\n",
              "    <tr style=\"text-align: right;\">\n",
              "      <th></th>\n",
              "      <th>ambiance</th>\n",
              "      <th>daughterinlaw</th>\n",
              "      <th>elements</th>\n",
              "      <th>helpfuli</th>\n",
              "      <th>exposing</th>\n",
              "      <th>layour</th>\n",
              "      <th>miguels</th>\n",
              "      <th>shoes</th>\n",
              "      <th>recommends</th>\n",
              "      <th>tummy</th>\n",
              "      <th>...</th>\n",
              "      <th>gcs</th>\n",
              "      <th>lumps</th>\n",
              "      <th>revonation</th>\n",
              "      <th>toegther</th>\n",
              "      <th>frette</th>\n",
              "      <th>hairgel</th>\n",
              "      <th>reid</th>\n",
              "      <th>res</th>\n",
              "      <th>strangers</th>\n",
              "      <th>cercas</th>\n",
              "    </tr>\n",
              "  </thead>\n",
              "  <tbody>\n",
              "    <tr>\n",
              "      <th>0</th>\n",
              "      <td>0</td>\n",
              "      <td>0</td>\n",
              "      <td>0</td>\n",
              "      <td>0</td>\n",
              "      <td>0</td>\n",
              "      <td>0</td>\n",
              "      <td>0</td>\n",
              "      <td>0</td>\n",
              "      <td>0</td>\n",
              "      <td>0</td>\n",
              "      <td>...</td>\n",
              "      <td>0</td>\n",
              "      <td>0</td>\n",
              "      <td>0</td>\n",
              "      <td>0</td>\n",
              "      <td>0</td>\n",
              "      <td>0</td>\n",
              "      <td>0</td>\n",
              "      <td>0</td>\n",
              "      <td>0</td>\n",
              "      <td>0</td>\n",
              "    </tr>\n",
              "    <tr>\n",
              "      <th>1</th>\n",
              "      <td>0</td>\n",
              "      <td>0</td>\n",
              "      <td>0</td>\n",
              "      <td>0</td>\n",
              "      <td>0</td>\n",
              "      <td>0</td>\n",
              "      <td>0</td>\n",
              "      <td>0</td>\n",
              "      <td>0</td>\n",
              "      <td>0</td>\n",
              "      <td>...</td>\n",
              "      <td>0</td>\n",
              "      <td>0</td>\n",
              "      <td>0</td>\n",
              "      <td>0</td>\n",
              "      <td>0</td>\n",
              "      <td>0</td>\n",
              "      <td>0</td>\n",
              "      <td>0</td>\n",
              "      <td>0</td>\n",
              "      <td>0</td>\n",
              "    </tr>\n",
              "    <tr>\n",
              "      <th>2</th>\n",
              "      <td>0</td>\n",
              "      <td>0</td>\n",
              "      <td>0</td>\n",
              "      <td>0</td>\n",
              "      <td>0</td>\n",
              "      <td>0</td>\n",
              "      <td>0</td>\n",
              "      <td>0</td>\n",
              "      <td>0</td>\n",
              "      <td>0</td>\n",
              "      <td>...</td>\n",
              "      <td>0</td>\n",
              "      <td>0</td>\n",
              "      <td>0</td>\n",
              "      <td>0</td>\n",
              "      <td>0</td>\n",
              "      <td>0</td>\n",
              "      <td>0</td>\n",
              "      <td>0</td>\n",
              "      <td>0</td>\n",
              "      <td>0</td>\n",
              "    </tr>\n",
              "    <tr>\n",
              "      <th>3</th>\n",
              "      <td>0</td>\n",
              "      <td>0</td>\n",
              "      <td>0</td>\n",
              "      <td>0</td>\n",
              "      <td>0</td>\n",
              "      <td>0</td>\n",
              "      <td>0</td>\n",
              "      <td>0</td>\n",
              "      <td>0</td>\n",
              "      <td>0</td>\n",
              "      <td>...</td>\n",
              "      <td>0</td>\n",
              "      <td>0</td>\n",
              "      <td>0</td>\n",
              "      <td>0</td>\n",
              "      <td>0</td>\n",
              "      <td>0</td>\n",
              "      <td>0</td>\n",
              "      <td>0</td>\n",
              "      <td>0</td>\n",
              "      <td>0</td>\n",
              "    </tr>\n",
              "    <tr>\n",
              "      <th>4</th>\n",
              "      <td>0</td>\n",
              "      <td>0</td>\n",
              "      <td>0</td>\n",
              "      <td>0</td>\n",
              "      <td>0</td>\n",
              "      <td>0</td>\n",
              "      <td>0</td>\n",
              "      <td>0</td>\n",
              "      <td>0</td>\n",
              "      <td>0</td>\n",
              "      <td>...</td>\n",
              "      <td>0</td>\n",
              "      <td>0</td>\n",
              "      <td>0</td>\n",
              "      <td>0</td>\n",
              "      <td>0</td>\n",
              "      <td>0</td>\n",
              "      <td>0</td>\n",
              "      <td>0</td>\n",
              "      <td>0</td>\n",
              "      <td>0</td>\n",
              "    </tr>\n",
              "  </tbody>\n",
              "</table>\n",
              "<p>5 rows × 20520 columns</p>\n",
              "</div>"
            ],
            "text/plain": [
              "   ambiance  daughterinlaw  elements  helpfuli  exposing  layour  miguels  \\\n",
              "0         0              0         0         0         0       0        0   \n",
              "1         0              0         0         0         0       0        0   \n",
              "2         0              0         0         0         0       0        0   \n",
              "3         0              0         0         0         0       0        0   \n",
              "4         0              0         0         0         0       0        0   \n",
              "\n",
              "   shoes  recommends  tummy   ...    gcs  lumps  revonation  toegther  frette  \\\n",
              "0      0           0      0   ...      0      0           0         0       0   \n",
              "1      0           0      0   ...      0      0           0         0       0   \n",
              "2      0           0      0   ...      0      0           0         0       0   \n",
              "3      0           0      0   ...      0      0           0         0       0   \n",
              "4      0           0      0   ...      0      0           0         0       0   \n",
              "\n",
              "   hairgel  reid  res  strangers  cercas  \n",
              "0        0     0    0          0       0  \n",
              "1        0     0    0          0       0  \n",
              "2        0     0    0          0       0  \n",
              "3        0     0    0          0       0  \n",
              "4        0     0    0          0       0  \n",
              "\n",
              "[5 rows x 20520 columns]"
            ]
          },
          "metadata": {
            "tags": []
          },
          "execution_count": 18
        }
      ]
    },
    {
      "cell_type": "markdown",
      "metadata": {
        "id": "tF1R6Q24T3JQ",
        "colab_type": "text"
      },
      "source": [
        "### Palabras más a menos frecuentes en el corpus"
      ]
    },
    {
      "cell_type": "code",
      "metadata": {
        "id": "zlfqdQ5DT3JR",
        "colab_type": "code",
        "outputId": "b84d931b-2018-493d-917f-b2a160f129f0",
        "colab": {
          "base_uri": "https://localhost:8080/",
          "height": 202
        }
      },
      "source": [
        "df_rawclean.sum().sort_values(ascending=False).head(10)"
      ],
      "execution_count": 0,
      "outputs": [
        {
          "output_type": "execute_result",
          "data": {
            "text/plain": [
              "the      52240\n",
              "and      27597\n",
              "to       20188\n",
              "was      17151\n",
              "in       13128\n",
              "of       11005\n",
              "we       10896\n",
              "is       10046\n",
              "for       9726\n",
              "hotel     9072\n",
              "dtype: int64"
            ]
          },
          "metadata": {
            "tags": []
          },
          "execution_count": 19
        }
      ]
    },
    {
      "cell_type": "code",
      "metadata": {
        "id": "LmIzVxPZT3JU",
        "colab_type": "code",
        "outputId": "22ab27c0-5c3f-45eb-bab6-bdd2be16d46d",
        "colab": {
          "base_uri": "https://localhost:8080/",
          "height": 202
        }
      },
      "source": [
        "df_rawclean.sum().sort_values(ascending=False).tail(10)"
      ],
      "execution_count": 0,
      "outputs": [
        {
          "output_type": "execute_result",
          "data": {
            "text/plain": [
              "lackadaisical    1\n",
              "finals           1\n",
              "minetta          1\n",
              "buddakan         1\n",
              "assembled        1\n",
              "runjobwalk       1\n",
              "staffthis        1\n",
              "creativity       1\n",
              "retrospect       1\n",
              "cercas           1\n",
              "dtype: int64"
            ]
          },
          "metadata": {
            "tags": []
          },
          "execution_count": 20
        }
      ]
    },
    {
      "cell_type": "markdown",
      "metadata": {
        "id": "mtLy0LaxT3JY",
        "colab_type": "text"
      },
      "source": [
        "Si nos fijamos las palabras más frecuentes son stopwords"
      ]
    },
    {
      "cell_type": "code",
      "metadata": {
        "id": "dEOhi50_T3JY",
        "colab_type": "code",
        "outputId": "910589b1-4160-4d81-aa69-7cdd5d36b588",
        "colab": {
          "base_uri": "https://localhost:8080/",
          "height": 34
        }
      },
      "source": [
        "t1=time()\n",
        "corpus = df[df['Description'].isnull()==False].apply(lambda x: processing_text(x['Description'], stemming=True, stopword=True), axis=1)\n",
        "\n",
        "#Crear la bolsa de palabras (bag of words)\n",
        "vocabulary = set()\n",
        "for doc in corpus:\n",
        "    vocabulary  |=set(doc)\n",
        "\n",
        "    \n",
        "    \n",
        "fdoc = []   \n",
        "for doc in corpus:\n",
        "    d = {key: 0 for key in vocabulary}\n",
        "    for w in doc:\n",
        "        d[w] = d[w]+1 #d[w]+=1\n",
        "    fdoc.append(d)\n",
        "        \n",
        "t2=time()\n",
        "print(t2-t1)"
      ],
      "execution_count": 0,
      "outputs": [
        {
          "output_type": "stream",
          "text": [
            "43.85139989852905\n"
          ],
          "name": "stdout"
        }
      ]
    },
    {
      "cell_type": "code",
      "metadata": {
        "id": "135FC_loT3Jb",
        "colab_type": "code",
        "outputId": "208093c5-ed37-4688-ebd2-eb0b23212ec9",
        "colab": {
          "base_uri": "https://localhost:8080/",
          "height": 261
        }
      },
      "source": [
        "df_clean = pd.DataFrame(fdoc)\n",
        "print('Dimensión de la base de datos:', df_clean.shape)\n",
        "df_clean.head()"
      ],
      "execution_count": 0,
      "outputs": [
        {
          "output_type": "stream",
          "text": [
            "Dimensión de la base de datos: (5000, 14600)\n"
          ],
          "name": "stdout"
        },
        {
          "output_type": "execute_result",
          "data": {
            "text/html": [
              "<div>\n",
              "<style scoped>\n",
              "    .dataframe tbody tr th:only-of-type {\n",
              "        vertical-align: middle;\n",
              "    }\n",
              "\n",
              "    .dataframe tbody tr th {\n",
              "        vertical-align: top;\n",
              "    }\n",
              "\n",
              "    .dataframe thead th {\n",
              "        text-align: right;\n",
              "    }\n",
              "</style>\n",
              "<table border=\"1\" class=\"dataframe\">\n",
              "  <thead>\n",
              "    <tr style=\"text-align: right;\">\n",
              "      <th></th>\n",
              "      <th>aa</th>\n",
              "      <th>aaa</th>\n",
              "      <th>aaaaalll</th>\n",
              "      <th>aba</th>\n",
              "      <th>aback</th>\n",
              "      <th>abandon</th>\n",
              "      <th>abat</th>\n",
              "      <th>abb</th>\n",
              "      <th>abbott</th>\n",
              "      <th>abe</th>\n",
              "      <th>...</th>\n",
              "      <th>zonk</th>\n",
              "      <th>zoo</th>\n",
              "      <th>zoom</th>\n",
              "      <th>zoosafari</th>\n",
              "      <th>zumba</th>\n",
              "      <th>zumi</th>\n",
              "      <th>zzip</th>\n",
              "      <th>zzzs</th>\n",
              "      <th>zzzz</th>\n",
              "      <th>übermodern</th>\n",
              "    </tr>\n",
              "  </thead>\n",
              "  <tbody>\n",
              "    <tr>\n",
              "      <th>0</th>\n",
              "      <td>0</td>\n",
              "      <td>0</td>\n",
              "      <td>0</td>\n",
              "      <td>0</td>\n",
              "      <td>0</td>\n",
              "      <td>0</td>\n",
              "      <td>0</td>\n",
              "      <td>0</td>\n",
              "      <td>0</td>\n",
              "      <td>0</td>\n",
              "      <td>...</td>\n",
              "      <td>0</td>\n",
              "      <td>0</td>\n",
              "      <td>0</td>\n",
              "      <td>0</td>\n",
              "      <td>0</td>\n",
              "      <td>0</td>\n",
              "      <td>0</td>\n",
              "      <td>0</td>\n",
              "      <td>0</td>\n",
              "      <td>0</td>\n",
              "    </tr>\n",
              "    <tr>\n",
              "      <th>1</th>\n",
              "      <td>0</td>\n",
              "      <td>0</td>\n",
              "      <td>0</td>\n",
              "      <td>0</td>\n",
              "      <td>0</td>\n",
              "      <td>0</td>\n",
              "      <td>0</td>\n",
              "      <td>0</td>\n",
              "      <td>0</td>\n",
              "      <td>0</td>\n",
              "      <td>...</td>\n",
              "      <td>0</td>\n",
              "      <td>0</td>\n",
              "      <td>0</td>\n",
              "      <td>0</td>\n",
              "      <td>0</td>\n",
              "      <td>0</td>\n",
              "      <td>0</td>\n",
              "      <td>0</td>\n",
              "      <td>0</td>\n",
              "      <td>0</td>\n",
              "    </tr>\n",
              "    <tr>\n",
              "      <th>2</th>\n",
              "      <td>0</td>\n",
              "      <td>0</td>\n",
              "      <td>0</td>\n",
              "      <td>0</td>\n",
              "      <td>0</td>\n",
              "      <td>0</td>\n",
              "      <td>0</td>\n",
              "      <td>0</td>\n",
              "      <td>0</td>\n",
              "      <td>0</td>\n",
              "      <td>...</td>\n",
              "      <td>0</td>\n",
              "      <td>0</td>\n",
              "      <td>0</td>\n",
              "      <td>0</td>\n",
              "      <td>0</td>\n",
              "      <td>0</td>\n",
              "      <td>0</td>\n",
              "      <td>0</td>\n",
              "      <td>0</td>\n",
              "      <td>0</td>\n",
              "    </tr>\n",
              "    <tr>\n",
              "      <th>3</th>\n",
              "      <td>0</td>\n",
              "      <td>0</td>\n",
              "      <td>0</td>\n",
              "      <td>0</td>\n",
              "      <td>0</td>\n",
              "      <td>0</td>\n",
              "      <td>0</td>\n",
              "      <td>0</td>\n",
              "      <td>0</td>\n",
              "      <td>0</td>\n",
              "      <td>...</td>\n",
              "      <td>0</td>\n",
              "      <td>0</td>\n",
              "      <td>0</td>\n",
              "      <td>0</td>\n",
              "      <td>0</td>\n",
              "      <td>0</td>\n",
              "      <td>0</td>\n",
              "      <td>0</td>\n",
              "      <td>0</td>\n",
              "      <td>0</td>\n",
              "    </tr>\n",
              "    <tr>\n",
              "      <th>4</th>\n",
              "      <td>0</td>\n",
              "      <td>0</td>\n",
              "      <td>0</td>\n",
              "      <td>0</td>\n",
              "      <td>0</td>\n",
              "      <td>0</td>\n",
              "      <td>0</td>\n",
              "      <td>0</td>\n",
              "      <td>0</td>\n",
              "      <td>0</td>\n",
              "      <td>...</td>\n",
              "      <td>0</td>\n",
              "      <td>0</td>\n",
              "      <td>0</td>\n",
              "      <td>0</td>\n",
              "      <td>0</td>\n",
              "      <td>0</td>\n",
              "      <td>0</td>\n",
              "      <td>0</td>\n",
              "      <td>0</td>\n",
              "      <td>0</td>\n",
              "    </tr>\n",
              "  </tbody>\n",
              "</table>\n",
              "<p>5 rows × 14600 columns</p>\n",
              "</div>"
            ],
            "text/plain": [
              "   aa  aaa  aaaaalll  aba  aback  abandon  abat  abb  abbott  abe     ...      \\\n",
              "0   0    0         0    0      0        0     0    0       0    0     ...       \n",
              "1   0    0         0    0      0        0     0    0       0    0     ...       \n",
              "2   0    0         0    0      0        0     0    0       0    0     ...       \n",
              "3   0    0         0    0      0        0     0    0       0    0     ...       \n",
              "4   0    0         0    0      0        0     0    0       0    0     ...       \n",
              "\n",
              "   zonk  zoo  zoom  zoosafari  zumba  zumi  zzip  zzzs  zzzz  übermodern  \n",
              "0     0    0     0          0      0     0     0     0     0           0  \n",
              "1     0    0     0          0      0     0     0     0     0           0  \n",
              "2     0    0     0          0      0     0     0     0     0           0  \n",
              "3     0    0     0          0      0     0     0     0     0           0  \n",
              "4     0    0     0          0      0     0     0     0     0           0  \n",
              "\n",
              "[5 rows x 14600 columns]"
            ]
          },
          "metadata": {
            "tags": []
          },
          "execution_count": 22
        }
      ]
    },
    {
      "cell_type": "code",
      "metadata": {
        "id": "kWOTOTROT3Jf",
        "colab_type": "code",
        "outputId": "da75fbef-60b3-493c-d8e1-4fb2b72f9aec",
        "colab": {
          "base_uri": "https://localhost:8080/",
          "height": 34
        }
      },
      "source": [
        "100*(20520-14600)/20520"
      ],
      "execution_count": 0,
      "outputs": [
        {
          "output_type": "execute_result",
          "data": {
            "text/plain": [
              "28.84990253411306"
            ]
          },
          "metadata": {
            "tags": []
          },
          "execution_count": 23
        }
      ]
    },
    {
      "cell_type": "markdown",
      "metadata": {
        "id": "qvpfw3klT3Jm",
        "colab_type": "text"
      },
      "source": [
        "El vocabulario disminuyó de 20.520 a 14.600, es decir, se redujo el tamaño del vector de características en un 28,85 %, pero aún es muy grande dada la cantidad de documentos. El vocabulario puede reducirse más eliminando palabras muy frecuentes (que aparecen en todos los documentos al menos una vez), también se puede mejorar eliminando las palabras poco frecuentes, etc.\n"
      ]
    },
    {
      "cell_type": "code",
      "metadata": {
        "id": "5Kx6xxRRT3Jo",
        "colab_type": "code",
        "outputId": "b283af94-64c6-41ec-fc92-71a0eb385aa5",
        "colab": {
          "base_uri": "https://localhost:8080/",
          "height": 202
        }
      },
      "source": [
        "df_clean.sum().sort_values(ascending=False).head(10)"
      ],
      "execution_count": 0,
      "outputs": [
        {
          "output_type": "execute_result",
          "data": {
            "text/plain": [
              "room     10637\n",
              "hotel    10081\n",
              "stay      6227\n",
              "great     3400\n",
              "staff     3157\n",
              "locat     2884\n",
              "would     2862\n",
              "night     2775\n",
              "nice      2547\n",
              "one       2530\n",
              "dtype: int64"
            ]
          },
          "metadata": {
            "tags": []
          },
          "execution_count": 24
        }
      ]
    },
    {
      "cell_type": "code",
      "metadata": {
        "id": "fRc0c8dmT3Js",
        "colab_type": "code",
        "outputId": "82cdf1de-48e3-47e4-b16b-092d9400184e",
        "colab": {
          "base_uri": "https://localhost:8080/",
          "height": 202
        }
      },
      "source": [
        "df_clean.sum().sort_values(ascending=False).tail(10)"
      ],
      "execution_count": 0,
      "outputs": [
        {
          "output_type": "execute_result",
          "data": {
            "text/plain": [
              "furnituredesign    1\n",
              "furthe             1\n",
              "rage               1\n",
              "furthermost        1\n",
              "furthest           1\n",
              "raffl              1\n",
              "raffaello          1\n",
              "rafeal             1\n",
              "radiss             1\n",
              "übermodern         1\n",
              "dtype: int64"
            ]
          },
          "metadata": {
            "tags": []
          },
          "execution_count": 25
        }
      ]
    },
    {
      "cell_type": "code",
      "metadata": {
        "id": "IvpMhx09T3Jx",
        "colab_type": "code",
        "outputId": "63d3bd34-4b81-4e33-98a3-6a4c48ccb31d",
        "colab": {
          "base_uri": "https://localhost:8080/",
          "height": 34
        }
      },
      "source": [
        "print('Palabras que aparecen 5 o más veces en el corpus:', (df_clean.sum().sort_values(ascending=False)>=5).sum())"
      ],
      "execution_count": 0,
      "outputs": [
        {
          "output_type": "stream",
          "text": [
            "Palabras que aparecen 5 o más veces en el corpus: 4171\n"
          ],
          "name": "stdout"
        }
      ]
    },
    {
      "cell_type": "markdown",
      "metadata": {
        "id": "pVZFhou9T3J1",
        "colab_type": "text"
      },
      "source": [
        "Nos quedamos solo con las palabras del vocabulario que aparecen almenos  5 veces en el corpus"
      ]
    },
    {
      "cell_type": "code",
      "metadata": {
        "id": "mVB9e2NAT3J2",
        "colab_type": "code",
        "outputId": "145be98a-caac-4d80-8210-76d0f2192b57",
        "colab": {
          "base_uri": "https://localhost:8080/",
          "height": 241
        }
      },
      "source": [
        "voc_freq = df_clean.sum().reset_index(name='count')\n",
        "vocabulary = [*voc_freq[voc_freq['count']>=5]['index']]\n",
        "\n",
        "fdoc = []   \n",
        "for doc in corpus:\n",
        "    d = {key: 0 for key in vocabulary}\n",
        "    for w in doc:\n",
        "        if w in d.keys():\n",
        "            d[w] = d[w]+1 #d[w]+=1\n",
        "    fdoc.append(d)\n",
        "        \n",
        "df_tf = pd.DataFrame(fdoc)\n",
        "print('Dimensión de la base de datos:', df_tf.shape)\n",
        "df_tf.head()"
      ],
      "execution_count": 0,
      "outputs": [
        {
          "output_type": "stream",
          "text": [
            "Dimensión de la base de datos: (5000, 4171)\n"
          ],
          "name": "stdout"
        },
        {
          "output_type": "execute_result",
          "data": {
            "text/html": [
              "<div>\n",
              "<style scoped>\n",
              "    .dataframe tbody tr th:only-of-type {\n",
              "        vertical-align: middle;\n",
              "    }\n",
              "\n",
              "    .dataframe tbody tr th {\n",
              "        vertical-align: top;\n",
              "    }\n",
              "\n",
              "    .dataframe thead th {\n",
              "        text-align: right;\n",
              "    }\n",
              "</style>\n",
              "<table border=\"1\" class=\"dataframe\">\n",
              "  <thead>\n",
              "    <tr style=\"text-align: right;\">\n",
              "      <th></th>\n",
              "      <th>aaa</th>\n",
              "      <th>abil</th>\n",
              "      <th>abl</th>\n",
              "      <th>absenc</th>\n",
              "      <th>absolut</th>\n",
              "      <th>absurd</th>\n",
              "      <th>abund</th>\n",
              "      <th>abus</th>\n",
              "      <th>ac</th>\n",
              "      <th>accent</th>\n",
              "      <th>...</th>\n",
              "      <th>youth</th>\n",
              "      <th>youv</th>\n",
              "      <th>yr</th>\n",
              "      <th>yuck</th>\n",
              "      <th>yum</th>\n",
              "      <th>yummi</th>\n",
              "      <th>zaza</th>\n",
              "      <th>zero</th>\n",
              "      <th>zone</th>\n",
              "      <th>zoo</th>\n",
              "    </tr>\n",
              "  </thead>\n",
              "  <tbody>\n",
              "    <tr>\n",
              "      <th>0</th>\n",
              "      <td>0</td>\n",
              "      <td>0</td>\n",
              "      <td>0</td>\n",
              "      <td>0</td>\n",
              "      <td>1</td>\n",
              "      <td>0</td>\n",
              "      <td>0</td>\n",
              "      <td>0</td>\n",
              "      <td>0</td>\n",
              "      <td>0</td>\n",
              "      <td>...</td>\n",
              "      <td>0</td>\n",
              "      <td>0</td>\n",
              "      <td>0</td>\n",
              "      <td>0</td>\n",
              "      <td>0</td>\n",
              "      <td>0</td>\n",
              "      <td>0</td>\n",
              "      <td>0</td>\n",
              "      <td>0</td>\n",
              "      <td>0</td>\n",
              "    </tr>\n",
              "    <tr>\n",
              "      <th>1</th>\n",
              "      <td>0</td>\n",
              "      <td>0</td>\n",
              "      <td>0</td>\n",
              "      <td>0</td>\n",
              "      <td>0</td>\n",
              "      <td>0</td>\n",
              "      <td>0</td>\n",
              "      <td>0</td>\n",
              "      <td>0</td>\n",
              "      <td>0</td>\n",
              "      <td>...</td>\n",
              "      <td>0</td>\n",
              "      <td>0</td>\n",
              "      <td>0</td>\n",
              "      <td>0</td>\n",
              "      <td>0</td>\n",
              "      <td>0</td>\n",
              "      <td>0</td>\n",
              "      <td>0</td>\n",
              "      <td>0</td>\n",
              "      <td>0</td>\n",
              "    </tr>\n",
              "    <tr>\n",
              "      <th>2</th>\n",
              "      <td>0</td>\n",
              "      <td>0</td>\n",
              "      <td>0</td>\n",
              "      <td>0</td>\n",
              "      <td>0</td>\n",
              "      <td>0</td>\n",
              "      <td>0</td>\n",
              "      <td>0</td>\n",
              "      <td>0</td>\n",
              "      <td>0</td>\n",
              "      <td>...</td>\n",
              "      <td>0</td>\n",
              "      <td>0</td>\n",
              "      <td>0</td>\n",
              "      <td>0</td>\n",
              "      <td>0</td>\n",
              "      <td>0</td>\n",
              "      <td>0</td>\n",
              "      <td>0</td>\n",
              "      <td>0</td>\n",
              "      <td>0</td>\n",
              "    </tr>\n",
              "    <tr>\n",
              "      <th>3</th>\n",
              "      <td>0</td>\n",
              "      <td>0</td>\n",
              "      <td>0</td>\n",
              "      <td>0</td>\n",
              "      <td>0</td>\n",
              "      <td>0</td>\n",
              "      <td>0</td>\n",
              "      <td>0</td>\n",
              "      <td>0</td>\n",
              "      <td>0</td>\n",
              "      <td>...</td>\n",
              "      <td>0</td>\n",
              "      <td>0</td>\n",
              "      <td>0</td>\n",
              "      <td>0</td>\n",
              "      <td>0</td>\n",
              "      <td>0</td>\n",
              "      <td>0</td>\n",
              "      <td>0</td>\n",
              "      <td>0</td>\n",
              "      <td>0</td>\n",
              "    </tr>\n",
              "    <tr>\n",
              "      <th>4</th>\n",
              "      <td>0</td>\n",
              "      <td>0</td>\n",
              "      <td>0</td>\n",
              "      <td>0</td>\n",
              "      <td>0</td>\n",
              "      <td>0</td>\n",
              "      <td>0</td>\n",
              "      <td>0</td>\n",
              "      <td>0</td>\n",
              "      <td>0</td>\n",
              "      <td>...</td>\n",
              "      <td>0</td>\n",
              "      <td>0</td>\n",
              "      <td>0</td>\n",
              "      <td>0</td>\n",
              "      <td>0</td>\n",
              "      <td>0</td>\n",
              "      <td>0</td>\n",
              "      <td>0</td>\n",
              "      <td>0</td>\n",
              "      <td>0</td>\n",
              "    </tr>\n",
              "  </tbody>\n",
              "</table>\n",
              "<p>5 rows × 4171 columns</p>\n",
              "</div>"
            ],
            "text/plain": [
              "   aaa  abil  abl  absenc  absolut  absurd  abund  abus  ac  accent ...   \\\n",
              "0    0     0    0       0        1       0      0     0   0       0 ...    \n",
              "1    0     0    0       0        0       0      0     0   0       0 ...    \n",
              "2    0     0    0       0        0       0      0     0   0       0 ...    \n",
              "3    0     0    0       0        0       0      0     0   0       0 ...    \n",
              "4    0     0    0       0        0       0      0     0   0       0 ...    \n",
              "\n",
              "   youth  youv  yr  yuck  yum  yummi  zaza  zero  zone  zoo  \n",
              "0      0     0   0     0    0      0     0     0     0    0  \n",
              "1      0     0   0     0    0      0     0     0     0    0  \n",
              "2      0     0   0     0    0      0     0     0     0    0  \n",
              "3      0     0   0     0    0      0     0     0     0    0  \n",
              "4      0     0   0     0    0      0     0     0     0    0  \n",
              "\n",
              "[5 rows x 4171 columns]"
            ]
          },
          "metadata": {
            "tags": []
          },
          "execution_count": 27
        }
      ]
    },
    {
      "cell_type": "markdown",
      "metadata": {
        "id": "EEvQWl5NT3J5",
        "colab_type": "text"
      },
      "source": [
        "Lo que se ha hecho hasta aquí es usar vector space model, son una serie de pasos para llevar un documento a una representación vectorial, en este caso la representación es en frecuencia (TF), otras representaciones es la representación binaria (1 si la palabra aparece en el documento 0 si no) y TF-IDF (ver Aux 3)."
      ]
    },
    {
      "cell_type": "code",
      "metadata": {
        "id": "1qpIkwI3T3J6",
        "colab_type": "code",
        "outputId": "a74994b3-d840-4555-f555-8c5be4b3ae05",
        "colab": {
          "base_uri": "https://localhost:8080/",
          "height": 224
        }
      },
      "source": [
        "#TF_IDF\n",
        "\n",
        "df_tf_idf = df_tf.copy()\n",
        "\n",
        "N = len(df_tf)\n",
        "\n",
        "for col in [*df_tf.columns]:\n",
        "    f_t = len(df_tf[col][df_tf[col]>0]) #veces que el término t aparece al menos una vez dentro del corpus\n",
        "    idf = np.log(N/f_t) #notar que si la palabra aparece en todos los documentos el idf=0 (ln(N/N)=ln(1))\n",
        "    \n",
        "    df_tf_idf[col] = df_tf[col]*idf\n",
        "\n",
        "\n",
        "df_tf_idf.head()   "
      ],
      "execution_count": 0,
      "outputs": [
        {
          "output_type": "execute_result",
          "data": {
            "text/html": [
              "<div>\n",
              "<style scoped>\n",
              "    .dataframe tbody tr th:only-of-type {\n",
              "        vertical-align: middle;\n",
              "    }\n",
              "\n",
              "    .dataframe tbody tr th {\n",
              "        vertical-align: top;\n",
              "    }\n",
              "\n",
              "    .dataframe thead th {\n",
              "        text-align: right;\n",
              "    }\n",
              "</style>\n",
              "<table border=\"1\" class=\"dataframe\">\n",
              "  <thead>\n",
              "    <tr style=\"text-align: right;\">\n",
              "      <th></th>\n",
              "      <th>aaa</th>\n",
              "      <th>abil</th>\n",
              "      <th>abl</th>\n",
              "      <th>absenc</th>\n",
              "      <th>absolut</th>\n",
              "      <th>absurd</th>\n",
              "      <th>abund</th>\n",
              "      <th>abus</th>\n",
              "      <th>ac</th>\n",
              "      <th>accent</th>\n",
              "      <th>...</th>\n",
              "      <th>youth</th>\n",
              "      <th>youv</th>\n",
              "      <th>yr</th>\n",
              "      <th>yuck</th>\n",
              "      <th>yum</th>\n",
              "      <th>yummi</th>\n",
              "      <th>zaza</th>\n",
              "      <th>zero</th>\n",
              "      <th>zone</th>\n",
              "      <th>zoo</th>\n",
              "    </tr>\n",
              "  </thead>\n",
              "  <tbody>\n",
              "    <tr>\n",
              "      <th>0</th>\n",
              "      <td>0.0</td>\n",
              "      <td>0.0</td>\n",
              "      <td>0.0</td>\n",
              "      <td>0.0</td>\n",
              "      <td>3.203987</td>\n",
              "      <td>0.0</td>\n",
              "      <td>0.0</td>\n",
              "      <td>0.0</td>\n",
              "      <td>0.0</td>\n",
              "      <td>0.0</td>\n",
              "      <td>...</td>\n",
              "      <td>0.0</td>\n",
              "      <td>0.0</td>\n",
              "      <td>0.0</td>\n",
              "      <td>0.0</td>\n",
              "      <td>0.0</td>\n",
              "      <td>0.0</td>\n",
              "      <td>0.0</td>\n",
              "      <td>0.0</td>\n",
              "      <td>0.0</td>\n",
              "      <td>0.0</td>\n",
              "    </tr>\n",
              "    <tr>\n",
              "      <th>1</th>\n",
              "      <td>0.0</td>\n",
              "      <td>0.0</td>\n",
              "      <td>0.0</td>\n",
              "      <td>0.0</td>\n",
              "      <td>0.000000</td>\n",
              "      <td>0.0</td>\n",
              "      <td>0.0</td>\n",
              "      <td>0.0</td>\n",
              "      <td>0.0</td>\n",
              "      <td>0.0</td>\n",
              "      <td>...</td>\n",
              "      <td>0.0</td>\n",
              "      <td>0.0</td>\n",
              "      <td>0.0</td>\n",
              "      <td>0.0</td>\n",
              "      <td>0.0</td>\n",
              "      <td>0.0</td>\n",
              "      <td>0.0</td>\n",
              "      <td>0.0</td>\n",
              "      <td>0.0</td>\n",
              "      <td>0.0</td>\n",
              "    </tr>\n",
              "    <tr>\n",
              "      <th>2</th>\n",
              "      <td>0.0</td>\n",
              "      <td>0.0</td>\n",
              "      <td>0.0</td>\n",
              "      <td>0.0</td>\n",
              "      <td>0.000000</td>\n",
              "      <td>0.0</td>\n",
              "      <td>0.0</td>\n",
              "      <td>0.0</td>\n",
              "      <td>0.0</td>\n",
              "      <td>0.0</td>\n",
              "      <td>...</td>\n",
              "      <td>0.0</td>\n",
              "      <td>0.0</td>\n",
              "      <td>0.0</td>\n",
              "      <td>0.0</td>\n",
              "      <td>0.0</td>\n",
              "      <td>0.0</td>\n",
              "      <td>0.0</td>\n",
              "      <td>0.0</td>\n",
              "      <td>0.0</td>\n",
              "      <td>0.0</td>\n",
              "    </tr>\n",
              "    <tr>\n",
              "      <th>3</th>\n",
              "      <td>0.0</td>\n",
              "      <td>0.0</td>\n",
              "      <td>0.0</td>\n",
              "      <td>0.0</td>\n",
              "      <td>0.000000</td>\n",
              "      <td>0.0</td>\n",
              "      <td>0.0</td>\n",
              "      <td>0.0</td>\n",
              "      <td>0.0</td>\n",
              "      <td>0.0</td>\n",
              "      <td>...</td>\n",
              "      <td>0.0</td>\n",
              "      <td>0.0</td>\n",
              "      <td>0.0</td>\n",
              "      <td>0.0</td>\n",
              "      <td>0.0</td>\n",
              "      <td>0.0</td>\n",
              "      <td>0.0</td>\n",
              "      <td>0.0</td>\n",
              "      <td>0.0</td>\n",
              "      <td>0.0</td>\n",
              "    </tr>\n",
              "    <tr>\n",
              "      <th>4</th>\n",
              "      <td>0.0</td>\n",
              "      <td>0.0</td>\n",
              "      <td>0.0</td>\n",
              "      <td>0.0</td>\n",
              "      <td>0.000000</td>\n",
              "      <td>0.0</td>\n",
              "      <td>0.0</td>\n",
              "      <td>0.0</td>\n",
              "      <td>0.0</td>\n",
              "      <td>0.0</td>\n",
              "      <td>...</td>\n",
              "      <td>0.0</td>\n",
              "      <td>0.0</td>\n",
              "      <td>0.0</td>\n",
              "      <td>0.0</td>\n",
              "      <td>0.0</td>\n",
              "      <td>0.0</td>\n",
              "      <td>0.0</td>\n",
              "      <td>0.0</td>\n",
              "      <td>0.0</td>\n",
              "      <td>0.0</td>\n",
              "    </tr>\n",
              "  </tbody>\n",
              "</table>\n",
              "<p>5 rows × 4171 columns</p>\n",
              "</div>"
            ],
            "text/plain": [
              "   aaa  abil  abl  absenc   absolut  absurd  abund  abus   ac  accent ...   \\\n",
              "0  0.0   0.0  0.0     0.0  3.203987     0.0    0.0   0.0  0.0     0.0 ...    \n",
              "1  0.0   0.0  0.0     0.0  0.000000     0.0    0.0   0.0  0.0     0.0 ...    \n",
              "2  0.0   0.0  0.0     0.0  0.000000     0.0    0.0   0.0  0.0     0.0 ...    \n",
              "3  0.0   0.0  0.0     0.0  0.000000     0.0    0.0   0.0  0.0     0.0 ...    \n",
              "4  0.0   0.0  0.0     0.0  0.000000     0.0    0.0   0.0  0.0     0.0 ...    \n",
              "\n",
              "   youth  youv   yr  yuck  yum  yummi  zaza  zero  zone  zoo  \n",
              "0    0.0   0.0  0.0   0.0  0.0    0.0   0.0   0.0   0.0  0.0  \n",
              "1    0.0   0.0  0.0   0.0  0.0    0.0   0.0   0.0   0.0  0.0  \n",
              "2    0.0   0.0  0.0   0.0  0.0    0.0   0.0   0.0   0.0  0.0  \n",
              "3    0.0   0.0  0.0   0.0  0.0    0.0   0.0   0.0   0.0  0.0  \n",
              "4    0.0   0.0  0.0   0.0  0.0    0.0   0.0   0.0   0.0  0.0  \n",
              "\n",
              "[5 rows x 4171 columns]"
            ]
          },
          "metadata": {
            "tags": []
          },
          "execution_count": 28
        }
      ]
    },
    {
      "cell_type": "markdown",
      "metadata": {
        "id": "3THtT7TyT3J9",
        "colab_type": "text"
      },
      "source": [
        "## LDA\n",
        "\n",
        "más documentación en https://radimrehurek.com/gensim/models/ldamodel.html"
      ]
    },
    {
      "cell_type": "code",
      "metadata": {
        "id": "NNC6YeokT3J-",
        "colab_type": "code",
        "colab": {}
      },
      "source": [
        "#Creamos un nuevo corpus usando como base el vocabulario reducido, es decir, omitiendo las palabras que no estan en el vocabulario\n",
        "\n",
        "newcorpus = []\n",
        "\n",
        "for doc in corpus:\n",
        "    newdoc = []\n",
        "    for w in doc:\n",
        "        if w in vocabulary:\n",
        "            newdoc.append(w)\n",
        "            \n",
        "    newcorpus.append(newdoc)"
      ],
      "execution_count": 0,
      "outputs": []
    },
    {
      "cell_type": "code",
      "metadata": {
        "id": "n81EiXmqT3KA",
        "colab_type": "code",
        "colab": {}
      },
      "source": [
        "#Creamos el diccionario a partir de los textos procesados en el formato que necesita LDA en gensim\n",
        "dictionary = Dictionary(newcorpus)\n",
        "\n",
        "#Creamos el corpus para darle al modelo (segun el formato de esta libreria)\n",
        "#El corpus contiene una representacion numerica de los textos, un texto es representada por una lista de tuplas\n",
        "#donde el primer elemento de la tupla es la id de la palabra y el segundo es su frecuencia de aparición en el texto.\n",
        "\n",
        "\n",
        "corpus = [dictionary.doc2bow(text) for text in newcorpus]\n",
        "\n",
        "#guardamos el diccionario y el corpus\n",
        "dictionary.save('dictionary.dict')\n",
        "MmCorpus.serialize('corpus.mm', corpus)"
      ],
      "execution_count": 0,
      "outputs": []
    },
    {
      "cell_type": "code",
      "metadata": {
        "id": "6PT6_R42T3KB",
        "colab_type": "code",
        "outputId": "945f1c6c-34f8-483f-8768-79b08ba63766",
        "colab": {
          "base_uri": "https://localhost:8080/",
          "height": 87
        }
      },
      "source": [
        "print('Primer elemento del diccionario o bolsa de palabras:', dictionary[0])\n",
        "print('Representación del corpus en el formato que requiere la librería: \\n', corpus[0:2] )"
      ],
      "execution_count": 0,
      "outputs": [
        {
          "output_type": "stream",
          "text": [
            "Primer elemento del diccionario o bolsa de palabras: absolut\n",
            "Representación del corpus en el formato que requiere la librería: \n",
            " [[(0, 1), (1, 1), (2, 1), (3, 1), (4, 1), (5, 1), (6, 1), (7, 1), (8, 1), (9, 1), (10, 1), (11, 1), (12, 1), (13, 1), (14, 3), (15, 1), (16, 1), (17, 2), (18, 3), (19, 1), (20, 1), (21, 1), (22, 1), (23, 1), (24, 1), (25, 1), (26, 1), (27, 1), (28, 1), (29, 1), (30, 1), (31, 1), (32, 1), (33, 1), (34, 1)], [(25, 1), (29, 1), (35, 1), (36, 1), (37, 1), (38, 1), (39, 1), (40, 1), (41, 1), (42, 1), (43, 1), (44, 1), (45, 1), (46, 1), (47, 1), (48, 1), (49, 1), (50, 1), (51, 1)]]\n"
          ],
          "name": "stdout"
        }
      ]
    },
    {
      "cell_type": "code",
      "metadata": {
        "id": "5w3QJwSvT3KG",
        "colab_type": "code",
        "colab": {}
      },
      "source": [
        "Lda_k_5=LdaModel(corpus=corpus, id2word=dictionary, num_topics=5,  random_state=1) \n",
        "Lda_k_5.save('Lda_k_5.model') # guardamos el modelo"
      ],
      "execution_count": 0,
      "outputs": []
    },
    {
      "cell_type": "code",
      "metadata": {
        "id": "pAYXDZigT3KH",
        "colab_type": "code",
        "outputId": "8fa30d8d-916e-4e04-a48d-dfedf298d2b1",
        "colab": {
          "base_uri": "https://localhost:8080/",
          "height": 185
        }
      },
      "source": [
        "#Las 5 palabras más probables de los 5 tópicos\n",
        "Lda_k_5.show_topics(num_topics=5, num_words=5, log=False, formatted=True)"
      ],
      "execution_count": 0,
      "outputs": [
        {
          "output_type": "execute_result",
          "data": {
            "text/plain": [
              "[(0,\n",
              "  '0.041*\"hotel\" + 0.020*\"room\" + 0.016*\"stay\" + 0.009*\"locat\" + 0.008*\"would\"'),\n",
              " (1,\n",
              "  '0.035*\"room\" + 0.025*\"hotel\" + 0.017*\"stay\" + 0.014*\"great\" + 0.009*\"nice\"'),\n",
              " (2,\n",
              "  '0.021*\"hotel\" + 0.017*\"room\" + 0.014*\"stay\" + 0.010*\"one\" + 0.009*\"would\"'),\n",
              " (3,\n",
              "  '0.029*\"room\" + 0.027*\"hotel\" + 0.014*\"stay\" + 0.012*\"great\" + 0.010*\"locat\"'),\n",
              " (4,\n",
              "  '0.035*\"room\" + 0.019*\"stay\" + 0.016*\"hotel\" + 0.009*\"staff\" + 0.008*\"night\"')]"
            ]
          },
          "metadata": {
            "tags": []
          },
          "execution_count": 43
        }
      ]
    },
    {
      "cell_type": "code",
      "metadata": {
        "id": "bJRjQQIKT3KK",
        "colab_type": "code",
        "outputId": "66455a0a-fe47-4146-a6a8-172232e69a6d",
        "colab": {
          "base_uri": "https://localhost:8080/",
          "height": 101
        }
      },
      "source": [
        "# Mezcla de tópicos que genera el décimo documento del corpus\n",
        "Lda_k_5.get_document_topics(corpus, per_word_topics=False, minimum_probability=0)[10]"
      ],
      "execution_count": 0,
      "outputs": [
        {
          "output_type": "execute_result",
          "data": {
            "text/plain": [
              "[(0, 0.0062422995),\n",
              " (1, 0.006228853),\n",
              " (2, 0.0062257997),\n",
              " (3, 0.97506195),\n",
              " (4, 0.0062410757)]"
            ]
          },
          "metadata": {
            "tags": []
          },
          "execution_count": 44
        }
      ]
    },
    {
      "cell_type": "code",
      "metadata": {
        "id": "MZXlbt99T3KM",
        "colab_type": "code",
        "colab": {}
      },
      "source": [
        "lda_display = pyLDAvis.gensim.prepare(Lda_k_5, corpus, dictionary, sort_topics=True, R=30)"
      ],
      "execution_count": 0,
      "outputs": []
    },
    {
      "cell_type": "code",
      "metadata": {
        "id": "QMNgX1UNT3KO",
        "colab_type": "code",
        "outputId": "4f76b16c-9a37-441f-a81e-ea5240d57cf1",
        "colab": {
          "base_uri": "https://localhost:8080/",
          "height": 881
        }
      },
      "source": [
        "pyLDAvis.display(lda_display)"
      ],
      "execution_count": 0,
      "outputs": [
        {
          "output_type": "execute_result",
          "data": {
            "text/html": [
              "\n",
              "<link rel=\"stylesheet\" type=\"text/css\" href=\"https://cdn.rawgit.com/bmabey/pyLDAvis/files/ldavis.v1.0.0.css\">\n",
              "\n",
              "\n",
              "<div id=\"ldavis_el1131401015231099528163427577\"></div>\n",
              "<script type=\"text/javascript\">\n",
              "\n",
              "var ldavis_el1131401015231099528163427577_data = {\"mdsDat\": {\"Freq\": [27.07524871826172, 23.979516983032227, 19.571903228759766, 17.4951171875, 11.878209114074707], \"cluster\": [1, 1, 1, 1, 1], \"topics\": [1, 2, 3, 4, 5], \"x\": [0.021570206116896355, 0.0031397789782745774, -0.0352635496978098, 0.028505265772634594, -0.017951701169995688], \"y\": [0.009970302790873986, 0.008317512811136235, 0.016981056145270703, -0.005930231462876346, -0.029338640284404586]}, \"tinfo\": {\"Category\": [\"Default\", \"Default\", \"Default\", \"Default\", \"Default\", \"Default\", \"Default\", \"Default\", \"Default\", \"Default\", \"Default\", \"Default\", \"Default\", \"Default\", \"Default\", \"Default\", \"Default\", \"Default\", \"Default\", \"Default\", \"Default\", \"Default\", \"Default\", \"Default\", \"Default\", \"Default\", \"Default\", \"Default\", \"Default\", \"Default\", \"Topic1\", \"Topic1\", \"Topic1\", \"Topic1\", \"Topic1\", \"Topic1\", \"Topic1\", \"Topic1\", \"Topic1\", \"Topic1\", \"Topic1\", \"Topic1\", \"Topic1\", \"Topic1\", \"Topic1\", \"Topic1\", \"Topic1\", \"Topic1\", \"Topic1\", \"Topic1\", \"Topic1\", \"Topic1\", \"Topic1\", \"Topic1\", \"Topic1\", \"Topic1\", \"Topic1\", \"Topic1\", \"Topic1\", \"Topic1\", \"Topic1\", \"Topic1\", \"Topic1\", \"Topic1\", \"Topic1\", \"Topic1\", \"Topic1\", \"Topic1\", \"Topic1\", \"Topic1\", \"Topic1\", \"Topic1\", \"Topic1\", \"Topic1\", \"Topic1\", \"Topic1\", \"Topic1\", \"Topic1\", \"Topic1\", \"Topic1\", \"Topic1\", \"Topic1\", \"Topic1\", \"Topic1\", \"Topic1\", \"Topic1\", \"Topic1\", \"Topic1\", \"Topic1\", \"Topic1\", \"Topic1\", \"Topic1\", \"Topic1\", \"Topic1\", \"Topic1\", \"Topic1\", \"Topic1\", \"Topic1\", \"Topic1\", \"Topic1\", \"Topic1\", \"Topic1\", \"Topic1\", \"Topic1\", \"Topic1\", \"Topic1\", \"Topic1\", \"Topic1\", \"Topic1\", \"Topic1\", \"Topic1\", \"Topic2\", \"Topic2\", \"Topic2\", \"Topic2\", \"Topic2\", \"Topic2\", \"Topic2\", \"Topic2\", \"Topic2\", \"Topic2\", \"Topic2\", \"Topic2\", \"Topic2\", \"Topic2\", \"Topic2\", \"Topic2\", \"Topic2\", \"Topic2\", \"Topic2\", \"Topic2\", \"Topic2\", \"Topic2\", \"Topic2\", \"Topic2\", \"Topic2\", \"Topic2\", \"Topic2\", \"Topic2\", \"Topic2\", \"Topic2\", \"Topic2\", \"Topic2\", \"Topic2\", \"Topic2\", \"Topic2\", \"Topic2\", \"Topic2\", \"Topic2\", \"Topic2\", \"Topic2\", \"Topic2\", \"Topic2\", \"Topic2\", \"Topic2\", \"Topic2\", \"Topic2\", \"Topic2\", \"Topic2\", \"Topic2\", \"Topic2\", \"Topic2\", \"Topic2\", \"Topic2\", \"Topic2\", \"Topic2\", \"Topic2\", \"Topic2\", \"Topic2\", \"Topic2\", \"Topic2\", \"Topic2\", \"Topic2\", \"Topic2\", \"Topic2\", \"Topic2\", \"Topic2\", \"Topic2\", \"Topic2\", \"Topic2\", \"Topic2\", \"Topic2\", \"Topic2\", \"Topic2\", \"Topic2\", \"Topic2\", \"Topic2\", \"Topic2\", \"Topic3\", \"Topic3\", \"Topic3\", \"Topic3\", \"Topic3\", \"Topic3\", \"Topic3\", \"Topic3\", \"Topic3\", \"Topic3\", \"Topic3\", \"Topic3\", \"Topic3\", \"Topic3\", \"Topic3\", \"Topic3\", \"Topic3\", \"Topic3\", \"Topic3\", \"Topic3\", \"Topic3\", \"Topic3\", \"Topic3\", \"Topic3\", \"Topic3\", \"Topic3\", \"Topic3\", \"Topic3\", \"Topic3\", \"Topic3\", \"Topic3\", \"Topic3\", \"Topic3\", \"Topic3\", \"Topic3\", \"Topic3\", \"Topic3\", \"Topic3\", \"Topic3\", \"Topic3\", \"Topic3\", \"Topic3\", \"Topic3\", \"Topic3\", \"Topic3\", \"Topic3\", \"Topic3\", \"Topic3\", \"Topic3\", \"Topic3\", \"Topic3\", \"Topic3\", \"Topic3\", \"Topic3\", \"Topic3\", \"Topic3\", \"Topic3\", \"Topic3\", \"Topic3\", \"Topic3\", \"Topic3\", \"Topic3\", \"Topic3\", \"Topic3\", \"Topic3\", \"Topic3\", \"Topic3\", \"Topic3\", \"Topic3\", \"Topic3\", \"Topic3\", \"Topic3\", \"Topic3\", \"Topic3\", \"Topic3\", \"Topic3\", \"Topic3\", \"Topic3\", \"Topic3\", \"Topic3\", \"Topic3\", \"Topic3\", \"Topic3\", \"Topic3\", \"Topic3\", \"Topic3\", \"Topic3\", \"Topic3\", \"Topic3\", \"Topic3\", \"Topic3\", \"Topic3\", \"Topic4\", \"Topic4\", \"Topic4\", \"Topic4\", \"Topic4\", \"Topic4\", \"Topic4\", \"Topic4\", \"Topic4\", \"Topic4\", \"Topic4\", \"Topic4\", \"Topic4\", \"Topic4\", \"Topic4\", \"Topic4\", \"Topic4\", \"Topic4\", \"Topic4\", \"Topic4\", \"Topic4\", \"Topic4\", \"Topic4\", \"Topic4\", \"Topic4\", \"Topic4\", \"Topic4\", \"Topic4\", \"Topic4\", \"Topic4\", \"Topic4\", \"Topic4\", \"Topic4\", \"Topic4\", \"Topic4\", \"Topic4\", \"Topic4\", \"Topic4\", \"Topic4\", \"Topic4\", \"Topic4\", \"Topic4\", \"Topic4\", \"Topic4\", \"Topic4\", \"Topic4\", \"Topic4\", \"Topic4\", \"Topic4\", \"Topic4\", \"Topic4\", \"Topic4\", \"Topic4\", \"Topic4\", \"Topic4\", \"Topic4\", \"Topic4\", \"Topic4\", \"Topic4\", \"Topic4\", \"Topic4\", \"Topic4\", \"Topic4\", \"Topic4\", \"Topic4\", \"Topic4\", \"Topic4\", \"Topic4\", \"Topic4\", \"Topic4\", \"Topic4\", \"Topic4\", \"Topic4\", \"Topic4\", \"Topic4\", \"Topic4\", \"Topic4\", \"Topic4\", \"Topic5\", \"Topic5\", \"Topic5\", \"Topic5\", \"Topic5\", \"Topic5\", \"Topic5\", \"Topic5\", \"Topic5\", \"Topic5\", \"Topic5\", \"Topic5\", \"Topic5\", \"Topic5\", \"Topic5\", \"Topic5\", \"Topic5\", \"Topic5\", \"Topic5\", \"Topic5\", \"Topic5\", \"Topic5\", \"Topic5\", \"Topic5\", \"Topic5\", \"Topic5\", \"Topic5\", \"Topic5\", \"Topic5\", \"Topic5\", \"Topic5\", \"Topic5\", \"Topic5\", \"Topic5\", \"Topic5\", \"Topic5\", \"Topic5\", \"Topic5\", \"Topic5\", \"Topic5\", \"Topic5\", \"Topic5\", \"Topic5\", \"Topic5\", \"Topic5\", \"Topic5\", \"Topic5\", \"Topic5\", \"Topic5\", \"Topic5\", \"Topic5\", \"Topic5\", \"Topic5\", \"Topic5\", \"Topic5\", \"Topic5\", \"Topic5\", \"Topic5\", \"Topic5\", \"Topic5\", \"Topic5\", \"Topic5\", \"Topic5\", \"Topic5\", \"Topic5\", \"Topic5\", \"Topic5\", \"Topic5\", \"Topic5\", \"Topic5\", \"Topic5\", \"Topic5\", \"Topic5\", \"Topic5\", \"Topic5\", \"Topic5\", \"Topic5\", \"Topic5\", \"Topic5\", \"Topic5\", \"Topic5\", \"Topic5\", \"Topic5\"], \"Freq\": [9898.0, 1501.0, 1296.0, 2531.0, 2731.0, 2016.0, 6127.0, 1839.0, 3332.0, 10757.0, 916.0, 902.0, 916.0, 1167.0, 416.0, 904.0, 491.0, 3070.0, 929.0, 1146.0, 1432.0, 1610.0, 1259.0, 1188.0, 682.0, 1679.0, 1180.0, 875.0, 1498.0, 457.0, 13.165365219116211, 11.123238563537598, 11.641813278198242, 7.6452765464782715, 13.184759140014648, 11.435640335083008, 9.847898483276367, 7.281006336212158, 5.482296466827393, 7.936233997344971, 12.488703727722168, 5.422555446624756, 5.646783351898193, 6.7727556228637695, 8.670660018920898, 6.550756454467773, 4.948293209075928, 7.909195423126221, 14.238320350646973, 10.554306983947754, 6.542181491851807, 6.827467441558838, 7.637246131896973, 15.939107894897461, 6.860621452331543, 4.822967529296875, 7.089503288269043, 6.433052062988281, 3.973893642425537, 7.366971015930176, 25.873023986816406, 24.41203498840332, 18.227479934692383, 21.069780349731445, 59.63682174682617, 391.69134521484375, 40.51185607910156, 77.01163482666016, 241.71212768554688, 128.1044921875, 242.69789123535156, 707.1676025390625, 284.6726989746094, 163.66616821289062, 399.02789306640625, 754.1876220703125, 239.8062744140625, 1220.2747802734375, 441.6634826660156, 169.23944091796875, 378.608154296875, 1022.4716186523438, 169.9604034423828, 2769.412841796875, 504.5867919921875, 2953.062255859375, 329.4054870605469, 573.0543212890625, 101.21345520019531, 853.2005004882812, 278.9559631347656, 723.6145629882812, 845.9044799804688, 349.60784912109375, 284.23101806640625, 601.4099731445312, 491.6767272949219, 1475.34912109375, 475.55621337890625, 800.8463134765625, 476.45904541015625, 597.41357421875, 465.0126953125, 591.079833984375, 582.0970458984375, 579.5214233398438, 457.28662109375, 423.150390625, 498.7212829589844, 457.8509826660156, 405.4863586425781, 11.195444107055664, 8.721056938171387, 8.827404975891113, 7.428863048553467, 8.48411750793457, 5.657565593719482, 14.112607955932617, 5.510696887969971, 4.987424850463867, 4.952945709228516, 8.705354690551758, 7.0487380027771, 9.176009178161621, 4.8255109786987305, 15.483284950256348, 8.290312767028809, 4.9996819496154785, 10.00312614440918, 27.205522537231445, 4.359780311584473, 10.012201309204102, 6.511728763580322, 6.3651123046875, 4.5801544189453125, 9.013676643371582, 7.121336460113525, 6.115468978881836, 9.160367012023926, 10.919193267822266, 5.594228267669678, 14.069633483886719, 12.44837760925293, 7.297038555145264, 129.3399658203125, 34.464595794677734, 27.841894149780273, 172.73062133789062, 12.334113121032715, 1278.081298828125, 180.1210479736328, 515.2229614257812, 3176.136962890625, 686.223876953125, 704.4563598632812, 250.98399353027344, 370.2353210449219, 797.3703002929688, 804.4058837890625, 40.762474060058594, 715.517578125, 592.6915283203125, 526.9739990234375, 1545.9547119140625, 2264.8857421875, 482.493896484375, 748.1748657226562, 521.5202026367188, 194.833740234375, 489.8365478515625, 777.7314453125, 143.68539428710938, 738.9697875976562, 411.9230651855469, 390.01910400390625, 316.04437255859375, 436.5320129394531, 409.1888732910156, 285.4278259277344, 310.5252990722656, 726.1646118164062, 499.8715515136719, 580.1586303710938, 489.3262634277344, 436.41796875, 381.5772399902344, 341.02337646484375, 427.9256286621094, 12.229459762573242, 14.03996467590332, 8.841580390930176, 12.101304054260254, 13.433371543884277, 35.87519073486328, 11.890783309936523, 8.419589042663574, 7.8945159912109375, 8.30599308013916, 7.8073811531066895, 27.845502853393555, 27.65654945373535, 9.079164505004883, 8.411370277404785, 6.108260631561279, 38.35262680053711, 6.31168794631958, 5.458089828491211, 7.91643762588501, 8.192423820495605, 7.798732757568359, 29.27520751953125, 7.133087635040283, 3.7345480918884277, 8.881858825683594, 10.26688289642334, 6.7489776611328125, 5.175255298614502, 6.320662021636963, 27.934934616088867, 10.44135570526123, 110.07437133789062, 20.602773666381836, 36.0462760925293, 47.59601593017578, 14.782723426818848, 23.435775756835938, 32.499874114990234, 17.34145736694336, 152.48284912109375, 23.959135055541992, 56.249576568603516, 15.505224227905273, 72.1461181640625, 91.87250518798828, 23.960771560668945, 167.98822021484375, 349.37835693359375, 127.36861419677734, 76.95110321044922, 2574.233642578125, 108.44754028320312, 181.03257751464844, 1384.2640380859375, 103.70740509033203, 307.1326904296875, 563.8071899414062, 188.5841064453125, 418.3091125488281, 423.8572998046875, 117.99720764160156, 608.7700805664062, 424.5940856933594, 564.7427368164062, 638.7465209960938, 562.6783447265625, 441.0326843261719, 193.5713653564453, 169.79306030273438, 500.3322448730469, 276.3124694824219, 519.8916015625, 1178.5767822265625, 196.24266052246094, 242.75003051757812, 437.7622375488281, 334.6045227050781, 325.9779052734375, 336.51959228515625, 298.0426025390625, 288.5312805175781, 369.15423583984375, 277.34130859375, 323.3872375488281, 259.6628723144531, 330.1208190917969, 277.8822021484375, 301.04833984375, 344.0961608886719, 304.90631103515625, 287.4670715332031, 9.611263275146484, 8.691328048706055, 7.971347808837891, 7.951892375946045, 9.29554271697998, 7.606861591339111, 9.99841022491455, 11.609012603759766, 7.91736364364624, 7.664486408233643, 5.7021484375, 9.400086402893066, 7.6219072341918945, 8.910484313964844, 9.32693862915039, 5.4916090965271, 6.411933422088623, 5.415627956390381, 12.233597755432129, 6.832332611083984, 10.017383575439453, 8.606626510620117, 4.876221179962158, 8.32847785949707, 3.491739273071289, 15.29111385345459, 6.143008708953857, 16.324514389038086, 2.6792960166931152, 3.6227874755859375, 13.105724334716797, 12.67884635925293, 10.538176536560059, 17.48358726501465, 210.8761749267578, 363.44915771484375, 2740.182861328125, 99.21974182128906, 198.9217529296875, 16.15916633605957, 223.9794464111328, 165.0711212158203, 328.40673828125, 40.85298156738281, 405.23046875, 249.8467559814453, 175.92782592773438, 1075.7623291015625, 609.564453125, 404.2041931152344, 253.36691284179688, 309.1523132324219, 190.45199584960938, 204.82789611816406, 351.7174377441406, 559.2731323242188, 242.87136840820312, 123.20411682128906, 353.758056640625, 226.47596740722656, 123.08267211914062, 440.9786376953125, 1300.3443603515625, 473.8754577636719, 369.37652587890625, 336.7488708496094, 390.95928955078125, 500.852783203125, 435.31005859375, 336.2462463378906, 300.8413391113281, 276.361572265625, 298.5941467285156, 375.0263977050781, 354.64495849609375, 313.39117431640625, 342.6796569824219, 293.64605712890625, 14.612257957458496, 11.189949035644531, 13.403495788574219, 9.404436111450195, 6.124337673187256, 18.649017333984375, 11.866767883300781, 6.2869791984558105, 11.648420333862305, 5.5708770751953125, 7.110270023345947, 9.180244445800781, 5.283937454223633, 9.033803939819336, 21.57365608215332, 4.611568927764893, 5.158462047576904, 7.852489471435547, 3.478808879852295, 10.708507537841797, 4.841085433959961, 3.8453643321990967, 3.0198569297790527, 7.1841325759887695, 4.389889240264893, 8.17774772644043, 4.905782222747803, 13.645476341247559, 3.8580005168914795, 7.371652603149414, 8.363092422485352, 12.171009063720703, 7.664217948913574, 32.62256622314453, 13.071418762207031, 16.08884048461914, 32.25715637207031, 34.18236541748047, 86.56754302978516, 285.8836669921875, 449.54052734375, 302.55755615234375, 17.42094612121582, 351.1745910644531, 414.9648742675781, 223.6505889892578, 97.57554626464844, 177.49053955078125, 945.2754516601562, 403.73095703125, 646.5713500976562, 31.91958236694336, 274.6708984375, 77.74088287353516, 195.36024475097656, 103.36261749267578, 225.4493408203125, 158.44993591308594, 162.04029846191406, 112.16447448730469, 228.61456298828125, 753.5991821289062, 183.2057647705078, 157.1852264404297, 130.5298309326172, 254.15567016601562, 129.46046447753906, 279.1231689453125, 206.75048828125, 168.3161163330078, 254.9564666748047, 239.05914306640625, 168.12423706054688, 159.7211456298828, 147.25790405273438, 193.3438720703125, 190.9924774169922, 172.4811248779297, 202.91567993164062, 178.25161743164062, 203.83103942871094, 170.57843017578125, 173.06834411621094], \"Term\": [\"hotel\", \"desk\", \"front\", \"one\", \"would\", \"get\", \"stay\", \"us\", \"great\", \"room\", \"new\", \"much\", \"call\", \"realli\", \"york\", \"work\", \"san\", \"staff\", \"got\", \"price\", \"go\", \"like\", \"check\", \"free\", \"say\", \"place\", \"back\", \"bar\", \"even\", \"manag\", \"shi\", \"upcom\", \"montgomeri\", \"presidenti\", \"xmas\", \"radius\", \"introduc\", \"ralph\", \"highland\", \"keurig\", \"chrysler\", \"piti\", \"qualifi\", \"laundromat\", \"windi\", \"wellequip\", \"enhanc\", \"suburban\", \"joint\", \"limo\", \"epicent\", \"cider\", \"parad\", \"lenox\", \"hh\", \"nyu\", \"rittenhous\", \"timeshar\", \"meatpack\", \"pitch\", \"financi\", \"staybridg\", \"lexington\", \"chines\", \"execut\", \"suit\", \"diner\", \"menu\", \"easi\", \"buffet\", \"airport\", \"area\", \"wonder\", \"st\", \"th\", \"breakfast\", \"includ\", \"great\", \"view\", \"station\", \"bar\", \"locat\", \"shuttl\", \"hotel\", \"well\", \"room\", \"larg\", \"restaur\", \"market\", \"nice\", \"coffe\", \"servic\", \"good\", \"excel\", \"block\", \"walk\", \"floor\", \"stay\", \"comfort\", \"staff\", \"even\", \"bed\", \"also\", \"clean\", \"one\", \"night\", \"friend\", \"like\", \"would\", \"time\", \"us\", \"grey\", \"incent\", \"traveloc\", \"graylin\", \"fifti\", \"vomit\", \"motor\", \"granddaught\", \"strength\", \"fork\", \"mass\", \"sixth\", \"johnson\", \"unnecessari\", \"pit\", \"colonnad\", \"trolli\", \"petco\", \"jose\", \"observatori\", \"hollow\", \"micro\", \"fitzpatrick\", \"disinterest\", \"restaurantbar\", \"doorstep\", \"peek\", \"vacant\", \"sudden\", \"ucla\", \"franci\", \"kiosk\", \"accid\", \"readi\", \"babi\", \"venu\", \"earli\", \"orlando\", \"great\", \"fine\", \"check\", \"room\", \"us\", \"get\", \"squar\", \"book\", \"clean\", \"nice\", \"ticket\", \"time\", \"day\", \"park\", \"stay\", \"hotel\", \"desk\", \"night\", \"friend\", \"told\", \"help\", \"locat\", \"pm\", \"would\", \"front\", \"could\", \"got\", \"go\", \"small\", \"minut\", \"close\", \"staff\", \"walk\", \"one\", \"bed\", \"breakfast\", \"comfort\", \"back\", \"good\", \"pristin\", \"plesant\", \"dire\", \"le\", \"infest\", \"roach\", \"deceiv\", \"pond\", \"hawthorn\", \"compound\", \"debit\", \"burn\", \"golf\", \"meridien\", \"lush\", \"competitor\", \"odor\", \"lightbulb\", \"willing\", \"foul\", \"everybodi\", \"scottsdal\", \"leak\", \"allergi\", \"seahawk\", \"mildewi\", \"drip\", \"condo\", \"capabl\", \"hunt\", \"crib\", \"clip\", \"smoke\", \"conrad\", \"refund\", \"nonsmok\", \"cord\", \"nasti\", \"cigarett\", \"downhil\", \"smell\", \"mess\", \"bug\", \"vacuum\", \"wireless\", \"resort\", \"trash\", \"towel\", \"work\", \"carpet\", \"ac\", \"room\", \"dirti\", \"said\", \"stay\", \"card\", \"call\", \"bed\", \"internet\", \"floor\", \"desk\", \"air\", \"night\", \"place\", \"one\", \"staff\", \"good\", \"day\", \"water\", \"sleep\", \"clean\", \"next\", \"would\", \"hotel\", \"never\", \"pool\", \"time\", \"also\", \"even\", \"like\", \"front\", \"check\", \"servic\", \"need\", \"us\", \"use\", \"get\", \"bathroom\", \"friend\", \"nice\", \"locat\", \"great\", \"particip\", \"chaotic\", \"brag\", \"handleri\", \"soul\", \"rennov\", \"baysid\", \"dvds\", \"fl\", \"eclect\", \"william\", \"mediterranean\", \"queu\", \"ethernet\", \"bicycl\", \"martin\", \"sox\", \"ethnic\", \"sparkl\", \"alik\", \"suv\", \"salisburi\", \"lemon\", \"melros\", \"fourstar\", \"magnolia\", \"civil\", \"wellappoint\", \"protestor\", \"bahia\", \"mag\", \"palmer\", \"deco\", \"santa\", \"york\", \"new\", \"hotel\", \"francisco\", \"san\", \"loop\", \"car\", \"reason\", \"price\", \"eleg\", \"park\", \"excel\", \"high\", \"stay\", \"locat\", \"place\", \"much\", \"free\", \"mani\", \"better\", \"go\", \"would\", \"recommend\", \"star\", \"restaur\", \"bar\", \"central\", \"time\", \"room\", \"good\", \"walk\", \"like\", \"servic\", \"staff\", \"night\", \"breakfast\", \"also\", \"small\", \"help\", \"nice\", \"one\", \"bed\", \"great\", \"clean\", \"indiffer\", \"amsterdam\", \"shaft\", \"thoma\", \"hes\", \"commend\", \"alex\", \"ther\", \"dearborn\", \"war\", \"bellboy\", \"forewarn\", \"polari\", \"rap\", \"carlton\", \"groom\", \"jessica\", \"wi\", \"es\", \"ish\", \"echo\", \"courtious\", \"laquinta\", \"jennif\", \"tourism\", \"inexperienc\", \"mont\", \"afraid\", \"steve\", \"stressfre\", \"crimin\", \"band\", \"human\", \"dalla\", \"bride\", \"bistro\", \"bellman\", \"lax\", \"special\", \"front\", \"one\", \"desk\", \"waldorf\", \"get\", \"would\", \"realli\", \"put\", \"much\", \"hotel\", \"staff\", \"stay\", \"explain\", \"us\", \"thank\", \"back\", \"manag\", \"even\", \"make\", \"got\", \"enough\", \"like\", \"room\", \"look\", \"call\", \"say\", \"servic\", \"best\", \"night\", \"help\", \"need\", \"good\", \"time\", \"free\", \"use\", \"door\", \"day\", \"walk\", \"go\", \"clean\", \"area\", \"great\", \"friend\", \"nice\"], \"Total\": [9898.0, 1501.0, 1296.0, 2531.0, 2731.0, 2016.0, 6127.0, 1839.0, 3332.0, 10757.0, 916.0, 902.0, 916.0, 1167.0, 416.0, 904.0, 491.0, 3070.0, 929.0, 1146.0, 1432.0, 1610.0, 1259.0, 1188.0, 682.0, 1679.0, 1180.0, 875.0, 1498.0, 457.0, 14.270215034484863, 12.160818099975586, 12.818113327026367, 8.558016777038574, 15.229772567749023, 13.222869873046875, 11.41231632232666, 8.530292510986328, 6.438287734985352, 9.365193367004395, 14.779305458068848, 6.450778961181641, 6.750240325927734, 8.12389850616455, 10.436665534973145, 7.9208879470825195, 6.001353740692139, 9.636042594909668, 17.504201889038086, 13.045517921447754, 8.105901718139648, 8.491270065307617, 9.516438484191895, 19.872865676879883, 8.55569076538086, 6.023308277130127, 8.867554664611816, 8.146721839904785, 5.0340166091918945, 9.36171817779541, 33.104576110839844, 31.499841690063477, 23.99229621887207, 28.418846130371094, 91.8986587524414, 741.5289306640625, 61.33607482910156, 127.09173583984375, 465.77117919921875, 229.23008728027344, 475.3272705078125, 1604.7222900390625, 573.8396606445312, 309.3309631347656, 865.269775390625, 1829.9429931640625, 488.86956787109375, 3332.333740234375, 1022.5452880859375, 332.38299560546875, 875.35302734375, 2875.714111328125, 341.0202331542969, 9898.333984375, 1279.22900390625, 10757.376953125, 770.809326171875, 1522.931884765625, 185.2704620361328, 2549.79736328125, 641.5224609375, 2093.296630859375, 2565.34033203125, 871.6510009765625, 676.823974609375, 1827.26416015625, 1442.8450927734375, 6127.9013671875, 1438.02490234375, 3070.34130859375, 1498.8419189453125, 2090.7958984375, 1542.698486328125, 2385.34423828125, 2531.183837890625, 2650.8994140625, 1694.32861328125, 1610.011474609375, 2731.820556640625, 2291.16845703125, 1839.98046875, 12.308065414428711, 9.703532218933105, 10.000612258911133, 8.471319198608398, 9.746868133544922, 6.547030448913574, 16.463699340820312, 6.435844898223877, 5.882443904876709, 5.885593414306641, 10.380143165588379, 8.566591262817383, 11.19627857208252, 5.909142971038818, 19.23453712463379, 10.438318252563477, 6.327915191650391, 12.668468475341797, 34.474308013916016, 5.535111904144287, 12.760104179382324, 8.344808578491211, 8.264623641967773, 6.011734962463379, 11.863168716430664, 9.401569366455078, 8.09750747680664, 12.132746696472168, 14.519779205322266, 7.440421104431152, 18.7994441986084, 16.618928909301758, 9.740632057189941, 210.21441650390625, 51.65333557128906, 42.945491790771484, 335.05206298828125, 17.322324752807617, 3332.333740234375, 375.4714660644531, 1259.734130859375, 10757.376953125, 1839.98046875, 2016.5438232421875, 594.8104248046875, 953.1572875976562, 2385.34423828125, 2549.79736328125, 70.55994415283203, 2291.16845703125, 1832.28662109375, 1605.9644775390625, 6127.9013671875, 9898.333984375, 1501.078125, 2650.8994140625, 1694.32861328125, 495.33984375, 1569.29736328125, 2875.714111328125, 339.3128662109375, 2731.820556640625, 1296.95166015625, 1214.388916015625, 929.015625, 1432.220703125, 1323.646728515625, 824.6428833007812, 929.0750732421875, 3070.34130859375, 1827.26416015625, 2531.183837890625, 2090.7958984375, 1829.9429931640625, 1438.02490234375, 1180.501953125, 2565.34033203125, 13.24832534790039, 15.390013694763184, 9.893223762512207, 13.59692096710205, 15.34366512298584, 41.132102966308594, 13.799466133117676, 9.82262134552002, 9.263175964355469, 9.798397064208984, 9.272102355957031, 33.17559051513672, 33.00477600097656, 10.839110374450684, 10.089468955993652, 7.3290114402771, 46.07635498046875, 7.6739630699157715, 6.7843780517578125, 9.94754409790039, 10.355469703674316, 9.901535034179688, 37.185245513916016, 9.182774543762207, 4.815667152404785, 11.469121932983398, 13.322916030883789, 8.786564826965332, 6.744737148284912, 8.326696395874023, 36.91570281982422, 13.75859260559082, 154.6904754638672, 27.721433639526367, 49.62045669555664, 67.86979675292969, 19.93109130859375, 32.92473220825195, 47.306549072265625, 23.756071090698242, 272.8648986816406, 34.323909759521484, 89.59552764892578, 21.127178192138672, 124.6995849609375, 178.31309509277344, 35.51045227050781, 371.58319091796875, 904.5580444335938, 269.11614990234375, 146.70285034179688, 10757.376953125, 231.999267578125, 444.2890625, 6127.9013671875, 224.2195587158203, 916.9446411132812, 2090.7958984375, 503.95159912109375, 1442.8450927734375, 1501.078125, 274.9808349609375, 2650.8994140625, 1679.8109130859375, 2531.183837890625, 3070.34130859375, 2565.34033203125, 1832.28662109375, 569.55419921875, 473.94183349609375, 2385.34423828125, 988.5814819335938, 2731.820556640625, 9898.333984375, 603.4421997070312, 873.5711059570312, 2291.16845703125, 1542.698486328125, 1498.8419189453125, 1610.011474609375, 1296.95166015625, 1259.734130859375, 2093.296630859375, 1185.398193359375, 1839.98046875, 1092.7584228515625, 2016.5438232421875, 1310.656005859375, 1694.32861328125, 2549.79736328125, 2875.714111328125, 3332.333740234375, 10.464953422546387, 9.705653190612793, 8.908706665039062, 8.923707962036133, 10.434415817260742, 8.576543807983398, 11.447895050048828, 13.422806739807129, 9.177645683288574, 8.91037368774414, 6.671472549438477, 11.016363143920898, 8.966678619384766, 10.546213150024414, 11.154251098632812, 6.650110721588135, 7.822391033172607, 6.626367092132568, 15.094781875610352, 8.461142539978027, 12.425735473632812, 10.849123001098633, 6.218406677246094, 10.655817985534668, 4.478826522827148, 19.651403427124023, 8.038859367370605, 21.593753814697266, 3.5596084594726562, 4.82679557800293, 17.656816482543945, 17.4663028717041, 14.448153495788574, 25.49403190612793, 416.096435546875, 916.4073486328125, 9898.333984375, 201.60592651367188, 491.383056640625, 24.431434631347656, 637.4783935546875, 460.42138671875, 1146.72265625, 81.03211975097656, 1605.9644775390625, 871.6510009765625, 552.449462890625, 6127.9013671875, 2875.714111328125, 1679.8109130859375, 902.0546264648438, 1188.8499755859375, 623.6556396484375, 688.9999389648438, 1432.220703125, 2731.820556640625, 895.6232299804688, 357.63092041015625, 1522.931884765625, 875.35302734375, 376.6609191894531, 2291.16845703125, 10757.376953125, 2565.34033203125, 1827.26416015625, 1610.011474609375, 2093.296630859375, 3070.34130859375, 2650.8994140625, 1829.9429931640625, 1542.698486328125, 1323.646728515625, 1569.29736328125, 2549.79736328125, 2531.183837890625, 2090.7958984375, 3332.333740234375, 2385.34423828125, 15.949566841125488, 12.428121566772461, 14.981575965881348, 11.067211151123047, 7.255777359008789, 22.126174926757812, 14.10261344909668, 7.664187908172607, 14.214080810546875, 6.9268083572387695, 9.079867362976074, 11.85954475402832, 6.907456874847412, 11.824594497680664, 28.519350051879883, 6.1240997314453125, 6.853811264038086, 10.680882453918457, 4.746028900146484, 14.765436172485352, 6.72114372253418, 5.43001651763916, 4.3705644607543945, 10.408599853515625, 6.362265586853027, 11.858816146850586, 7.315816402435303, 20.69399642944336, 5.856910705566406, 11.194802284240723, 12.866382598876953, 19.336341857910156, 11.809527397155762, 62.63288116455078, 22.07440757751465, 28.486135482788086, 66.39701843261719, 72.82127380371094, 270.98504638671875, 1296.95166015625, 2531.183837890625, 1501.078125, 34.262367248535156, 2016.5438232421875, 2731.820556640625, 1167.8251953125, 371.8994140625, 902.0546264648438, 9898.333984375, 3070.34130859375, 6127.9013671875, 78.89588928222656, 1839.98046875, 288.28472900390625, 1180.501953125, 457.1586608886719, 1498.8419189453125, 888.8193359375, 929.015625, 528.3038940429688, 1610.011474609375, 10757.376953125, 1153.556396484375, 916.9446411132812, 682.1400756835938, 2093.296630859375, 685.0429077148438, 2650.8994140625, 1569.29736328125, 1185.398193359375, 2565.34033203125, 2291.16845703125, 1188.8499755859375, 1092.7584228515625, 933.45947265625, 1832.28662109375, 1827.26416015625, 1432.220703125, 2385.34423828125, 1604.7222900390625, 3332.333740234375, 1694.32861328125, 2549.79736328125], \"loglift\": [30.0, 29.0, 28.0, 27.0, 26.0, 25.0, 24.0, 23.0, 22.0, 21.0, 20.0, 19.0, 18.0, 17.0, 16.0, 15.0, 14.0, 13.0, 12.0, 11.0, 10.0, 9.0, 8.0, 7.0, 6.0, 5.0, 4.0, 3.0, 2.0, 1.0, 1.2259999513626099, 1.2173999547958374, 1.2102999687194824, 1.1937999725341797, 1.1624000072479248, 1.1612999439239502, 1.15910005569458, 1.1482000350952148, 1.145799994468689, 1.1410000324249268, 1.138100028038025, 1.1328999996185303, 1.128100037574768, 1.1246000528335571, 1.1211999654769897, 1.1166000366210938, 1.1136000156402588, 1.1090999841690063, 1.100000023841858, 1.094599962234497, 1.0922000408172607, 1.0885000228881836, 1.0865999460220337, 1.0859999656677246, 1.085800051689148, 1.0843000411987305, 1.082800030708313, 1.0703999996185303, 1.070099949836731, 1.0669000148773193, 1.0600999593734741, 1.0515999794006348, 1.0317000150680542, 1.0073000192642212, 0.8741000294685364, 0.6682999730110168, 0.8917999863624573, 0.8055999875068665, 0.650600016117096, 0.7246999740600586, 0.6344000101089478, 0.4871000051498413, 0.6054999828338623, 0.6700000166893005, 0.5325000286102295, 0.420199990272522, 0.5942999720573425, 0.3019999861717224, 0.46700000762939453, 0.631600022315979, 0.4684000015258789, 0.27250000834465027, 0.6101999878883362, 0.03280000016093254, 0.37630000710487366, 0.013799999840557575, 0.4564000070095062, 0.32910001277923584, 0.7020000219345093, 0.2117999941110611, 0.47380000352859497, 0.2442999929189682, 0.19709999859333038, 0.3930000066757202, 0.4388999938964844, 0.19529999792575836, 0.23000000417232513, -0.11739999800920486, 0.20000000298023224, -0.037300001829862595, 0.16050000488758087, 0.05389999970793724, 0.10729999840259552, -0.08860000222921371, -0.16329999268054962, -0.21389999985694885, -0.0031999999191612005, -0.02969999983906746, -0.39410001039505005, -0.3037000000476837, -0.20589999854564667, 1.3331999778747559, 1.3212000131607056, 1.3032000064849854, 1.2967000007629395, 1.289199948310852, 1.281999945640564, 1.273900032043457, 1.2727999687194824, 1.2628999948501587, 1.2553999423980713, 1.2519999742507935, 1.2329000234603882, 1.2289999723434448, 1.2253999710083008, 1.2109999656677246, 1.19760000705719, 1.1923999786376953, 1.1917999982833862, 1.1912000179290771, 1.1892999410629272, 1.1855000257492065, 1.179900050163269, 1.1668000221252441, 1.156000018119812, 1.1533000469207764, 1.1502000093460083, 1.1471999883651733, 1.1469000577926636, 1.1430000066757202, 1.142799973487854, 1.138200044631958, 1.1390000581741333, 1.1390999555587769, 0.942300021648407, 1.023300051689148, 0.9945999979972839, 0.7653999924659729, 1.0882999897003174, 0.46970000863075256, 0.6934000253677368, 0.5339000225067139, 0.20800000429153442, 0.4417000114917755, 0.37630000710487366, 0.5651000142097473, 0.4823000133037567, 0.33219999074935913, 0.2743000090122223, 0.8792999982833862, 0.26420000195503235, 0.2992999851703644, 0.31360000371932983, 0.05079999938607216, -0.04690000042319298, 0.2930000126361847, 0.16300000250339508, 0.24969999492168427, 0.4948999881744385, 0.263700008392334, 0.12030000239610672, 0.5687000155448914, 0.12049999833106995, 0.2809999883174896, 0.2921999990940094, 0.349700003862381, 0.23989999294281006, 0.2540000081062317, 0.367000013589859, 0.3319999873638153, -0.013799999840557575, 0.13169999420642853, -0.04520000144839287, -0.024299999698996544, -0.005499999970197678, 0.10130000114440918, 0.18619999289512634, -0.3628999888896942, 1.5511000156402588, 1.5392999649047852, 1.5187000036239624, 1.5145000219345093, 1.4981000423431396, 1.4943000078201294, 1.482200026512146, 1.4768999814987183, 1.4711999893188477, 1.4658000469207764, 1.4591000080108643, 1.455899953842163, 1.454300045967102, 1.4538999795913696, 1.4492000341415405, 1.4488999843597412, 1.44760000705719, 1.4356000423431396, 1.413599967956543, 1.4026999473571777, 1.3968000411987305, 1.392300009727478, 1.3918999433517456, 1.378499984741211, 1.3767999410629272, 1.3753999471664429, 1.3704999685287476, 1.3672000169754028, 1.3661999702453613, 1.3553999662399292, 1.3523000478744507, 1.3552000522613525, 1.2907999753952026, 1.3343000411987305, 1.3114999532699585, 1.2762000560760498, 1.3322999477386475, 1.291100025177002, 1.2556999921798706, 1.3163000345230103, 1.0492000579833984, 1.2716000080108643, 1.1655999422073364, 1.3216999769210815, 1.083899974822998, 0.9678999781608582, 1.2376999855041504, 0.8371999859809875, 0.6797999739646912, 0.8830000162124634, 0.98580002784729, 0.20100000500679016, 0.8705999851226807, 0.733299970626831, 0.14339999854564667, 0.8600000143051147, 0.5372999906539917, 0.320499986410141, 0.6481000185012817, 0.3928999900817871, 0.36649999022483826, 0.7850000262260437, 0.1598999947309494, 0.2558000087738037, 0.13099999725818634, 0.061000000685453415, 0.11389999836683273, 0.2069000005722046, 0.5519000291824341, 0.6046000123023987, 0.06920000165700912, 0.3562999963760376, -0.02800000086426735, -0.4970000088214874, 0.5077999830245972, 0.3504999876022339, -0.02410000003874302, 0.10270000249147415, 0.1054999977350235, 0.065700002014637, 0.16050000488758087, 0.15719999372959137, -0.10419999808073044, 0.1784999966621399, -0.10760000348091125, 0.1940000057220459, -0.1785999983549118, 0.07999999821186066, -0.09669999778270721, -0.3718000054359436, -0.6129999756813049, -0.8191999793052673, 1.6582000255584717, 1.6328999996185303, 1.632099986076355, 1.6279000043869019, 1.6276999711990356, 1.6232999563217163, 1.6079000234603882, 1.598099946975708, 1.5954999923706055, 1.5925999879837036, 1.586300015449524, 1.5845999717712402, 1.5808000564575195, 1.5746999979019165, 1.5642999410629272, 1.551800012588501, 1.5443999767303467, 1.5414999723434448, 1.5331000089645386, 1.5293999910354614, 1.5277999639511108, 1.5117000341415405, 1.500100016593933, 1.4967999458312988, 1.4943000078201294, 1.492400050163269, 1.4743000268936157, 1.4635000228881836, 1.4592000246047974, 1.4563000202178955, 1.445199966430664, 1.4228999614715576, 1.4277000427246094, 1.3660999536514282, 1.063599944114685, 0.8184000253677368, 0.45890000462532043, 1.0342999696731567, 0.8389000296592712, 1.3299000263214111, 0.6973000168800354, 0.7174999713897705, 0.4927999973297119, 1.05840003490448, 0.3662000000476837, 0.4936999976634979, 0.5989999771118164, 0.0034000000450760126, 0.19189999997615814, 0.31869998574256897, 0.4733999967575073, 0.39629998803138733, 0.5570999979972839, 0.5302000045776367, 0.3391000032424927, 0.15719999372959137, 0.4383000135421753, 0.6776000261306763, 0.28349998593330383, 0.3912999927997589, 0.6248000264167786, 0.09539999812841415, -0.36970001459121704, 0.05429999902844429, 0.1445000022649765, 0.1785999983549118, 0.06539999693632126, -0.07000000029802322, -0.0632999986410141, 0.04910000041127205, 0.10849999636411667, 0.17679999768733978, 0.08399999886751175, -0.17350000143051147, -0.22210000455379486, -0.15459999442100525, -0.5314000248908997, -0.351500004529953, 2.0429000854492188, 2.0255000591278076, 2.019200086593628, 1.9677000045776367, 1.9608999490737915, 1.9594999551773071, 1.957800030708313, 1.9323999881744385, 1.931399941444397, 1.912600040435791, 1.8859000205993652, 1.874400019645691, 1.8624999523162842, 1.861299991607666, 1.8514000177383423, 1.8467999696731567, 1.8463000059127808, 1.8228000402450562, 1.8198000192642212, 1.8092000484466553, 1.802299976348877, 1.7854000329971313, 1.7608000040054321, 1.7596999406814575, 1.7594000101089478, 1.7588000297546387, 1.7308000326156616, 1.7139999866485596, 1.7130000591278076, 1.7127000093460083, 1.6996999979019165, 1.6675000190734863, 1.698099970817566, 1.4781999588012695, 1.6065000295639038, 1.5592000484466553, 1.4085999727249146, 1.3741999864578247, 0.989300012588501, 0.6183000206947327, 0.40220001339912415, 0.5288000106811523, 1.4541000127792358, 0.38260000944137573, 0.2459000051021576, 0.47769999504089355, 0.7925000190734863, 0.5047000050544739, -0.21819999814033508, 0.10170000046491623, -0.1185000017285347, 1.225600004196167, 0.22849999368190765, 0.8198999762535095, 0.33160001039505005, 0.6437000036239624, 0.2361000031232834, 0.4059999883174896, 0.38420000672340393, 0.5807999968528748, 0.1784999966621399, -0.527999997138977, 0.2904999852180481, 0.3668000102043152, 0.47679999470710754, 0.021900000050663948, 0.4643999934196472, -0.12049999833106995, 0.10360000282526016, 0.1784999966621399, -0.17829999327659607, -0.12960000336170197, 0.17440000176429749, 0.20739999413490295, 0.28380000591278076, -0.11840000003576279, -0.12790000438690186, 0.013799999840557575, -0.33379998803138733, -0.06700000166893005, -0.6636999845504761, -0.16539999842643738, -0.5595999956130981], \"logprob\": [30.0, 29.0, 28.0, 27.0, 26.0, 25.0, 24.0, 23.0, 22.0, 21.0, 20.0, 19.0, 18.0, 17.0, 16.0, 15.0, 14.0, 13.0, 12.0, 11.0, 10.0, 9.0, 8.0, 7.0, 6.0, 5.0, 4.0, 3.0, 2.0, 1.0, -8.963399887084961, -9.1318998336792, -9.086400032043457, -9.5068998336792, -8.961899757385254, -9.10420036315918, -9.253700256347656, -9.555700302124023, -9.839400291442871, -9.469499588012695, -9.01609992980957, -9.8503999710083, -9.809900283813477, -9.628000259399414, -9.380999565124512, -9.661399841308594, -9.941900253295898, -9.472900390625, -8.885000228881836, -9.184399604797363, -9.662699699401855, -9.619999885559082, -9.50790023803711, -8.772199630737305, -9.61520004272461, -9.967599868774414, -9.582300186157227, -9.679499626159668, -10.161199569702148, -9.543999671936035, -8.287799835205078, -8.34589958190918, -8.637999534606934, -8.4931001663208, -7.452700138092041, -5.570499897003174, -7.839399814605713, -7.197000026702881, -6.053199768066406, -6.6880998611450195, -6.049099922180176, -4.979700088500977, -5.889599800109863, -6.4430999755859375, -5.5518999099731445, -4.915299892425537, -6.061100006103516, -4.434100151062012, -5.450399875640869, -6.409599781036377, -5.604499816894531, -4.611000061035156, -6.405399799346924, -3.6145999431610107, -5.317200183868408, -3.5504000186920166, -5.74370002746582, -5.190000057220459, -6.923699855804443, -4.791999816894531, -5.909900188446045, -4.956699848175049, -4.800600051879883, -5.684100151062012, -5.891200065612793, -5.14169979095459, -5.343100070953369, -4.24429988861084, -5.376500129699707, -4.855299949645996, -5.374599933624268, -5.1483001708984375, -5.398900032043457, -5.158999919891357, -5.174300193786621, -5.178800106048584, -5.415599822998047, -5.493199825286865, -5.32889986038208, -5.414400100708008, -5.535900115966797, -9.003999710083008, -9.253800392150879, -9.241700172424316, -9.414199829101562, -9.281299591064453, -9.68649959564209, -8.772500038146973, -9.712800025939941, -9.812600135803223, -9.819600105285645, -9.255599975585938, -9.466699600219727, -9.202899932861328, -9.845600128173828, -8.679800033569336, -9.304400444030762, -9.810199737548828, -9.116600036621094, -8.116100311279297, -9.947099685668945, -9.115699768066406, -9.545900344848633, -9.568699836730957, -9.89780044555664, -9.220800399780273, -9.456399917602539, -9.608699798583984, -9.20460033416748, -9.029000282287598, -9.697799682617188, -8.775500297546387, -8.897899627685547, -9.432100296020508, -6.55709981918335, -7.8796000480651855, -8.093000411987305, -6.2677998542785645, -8.90719985961914, -4.26639986038208, -6.225900173187256, -5.174900054931641, -3.356100082397461, -4.888299942016602, -4.862100124359131, -5.894100189208984, -5.50540018081665, -4.7382001876831055, -4.729400157928467, -7.7118000984191895, -4.846499919891357, -5.034900188446045, -5.152400016784668, -4.076099872589111, -3.6942999362945557, -5.240600109100342, -4.8018999099731445, -5.162799835205078, -6.14739990234375, -5.225500106811523, -4.763199806213379, -6.451900005340576, -4.814300060272217, -5.39870023727417, -5.4532999992370605, -5.663700103759766, -5.340700149536133, -5.405399799346924, -5.765500068664551, -5.681300163269043, -4.8317999839782715, -5.2052001953125, -5.05620002746582, -5.226500034332275, -5.34089994430542, -5.475200176239014, -5.587600231170654, -5.360599994659424, -8.712599754333496, -8.57450008392334, -9.036999702453613, -8.723099708557129, -8.61870002746582, -7.63640022277832, -8.740699768066406, -9.08590030670166, -9.150300025939941, -9.099499702453613, -9.161399841308594, -7.889800071716309, -7.896599769592285, -9.01039981842041, -9.086799621582031, -9.406800270080566, -7.5696001052856445, -9.37399959564209, -9.51930046081543, -9.147500038146973, -9.113200187683105, -9.162500381469727, -7.839700222015381, -9.251700401306152, -9.898799896240234, -9.032400131225586, -8.887499809265137, -9.307000160217285, -9.572500228881836, -9.372599601745605, -7.886600017547607, -8.870699882507324, -6.5152997970581055, -8.190999984741211, -7.6315999031066895, -7.353700160980225, -8.52299976348877, -8.062199592590332, -7.735199928283691, -8.363300323486328, -6.1894001960754395, -8.04010009765625, -7.186600208282471, -8.475299835205078, -6.937699794769287, -6.696000099182129, -8.039999961853027, -6.09250020980835, -5.360300064086914, -6.36929988861084, -6.873300075531006, -3.363100051879883, -6.530200004577637, -6.0177998542785645, -3.9835000038146973, -6.574900150299072, -5.489200115203857, -4.881700038909912, -5.976900100708008, -5.180200099945068, -5.166999816894531, -6.445799827575684, -4.804999828338623, -5.165299892425537, -4.880099773406982, -4.756899833679199, -4.883699893951416, -5.127299785614014, -5.950799942016602, -6.081900119781494, -5.001200199127197, -5.594900131225586, -4.962800025939941, -4.144400119781494, -5.937099933624268, -5.724400043487549, -5.134799957275391, -5.403500080108643, -5.429599761962891, -5.397799968719482, -5.519199848175049, -5.551599979400635, -5.305200099945068, -5.59119987487793, -5.437600135803223, -5.6570000648498535, -5.416999816894531, -5.589200019836426, -5.509200096130371, -5.375500202178955, -5.496399879455566, -5.555300235748291, -8.841300010681152, -8.941900253295898, -9.028400421142578, -9.030799865722656, -8.874699592590332, -9.075200080871582, -8.801799774169922, -8.65250015258789, -9.035200119018555, -9.067700386047363, -9.36340045928955, -8.863499641418457, -9.073200225830078, -8.916999816894531, -8.871399879455566, -9.401000022888184, -9.246100425720215, -9.414999961853027, -8.600099563598633, -9.182600021362305, -8.79990005493164, -8.951700210571289, -9.51990032196045, -8.984600067138672, -9.853899955749512, -8.376999855041504, -9.288900375366211, -8.311599731445312, -10.11870002746582, -9.817000389099121, -8.531200408935547, -8.564299583435059, -8.749300003051758, -8.243000030517578, -5.752999782562256, -5.208600044250488, -3.188499927520752, -6.506899833679199, -5.811299800872803, -8.321800231933594, -5.692699909210205, -5.997900009155273, -5.309999942779541, -7.3942999839782715, -5.099800109863281, -5.583399772644043, -5.934199810028076, -4.123499870300293, -4.691500186920166, -5.10230016708374, -5.569399833679199, -5.3703999519348145, -5.854899883270264, -5.782100200653076, -5.241399765014648, -4.777599811553955, -5.611700057983398, -6.29040002822876, -5.235599994659424, -5.681600093841553, -6.291399955749512, -5.0152997970581055, -3.9339001178741455, -4.943299770355225, -5.192399978637695, -5.284900188446045, -5.135700225830078, -4.887899875640869, -5.028200149536133, -5.286399841308594, -5.39769983291626, -5.482500076293945, -5.405200004577637, -5.177299976348877, -5.233099937438965, -5.356800079345703, -5.267499923706055, -5.421899795532227, -8.035200119018555, -8.302000045776367, -8.121500015258789, -8.475899696350098, -8.904800415039062, -7.791200160980225, -8.243300437927246, -8.878600120544434, -8.261899948120117, -8.999500274658203, -8.755499839782715, -8.5, -9.052399635314941, -8.51609992980957, -7.645599842071533, -9.18850040435791, -9.076399803161621, -8.656200408935547, -9.470399856567383, -8.345999717712402, -9.139900207519531, -9.370200157165527, -9.611800193786621, -8.745200157165527, -9.237700462341309, -8.615599632263184, -9.12660026550293, -8.103599548339844, -9.366900444030762, -8.719400405883789, -8.593199729919434, -8.218000411987305, -8.680500030517578, -7.23199987411499, -8.146599769592285, -7.938899993896484, -7.243299961090088, -7.185299873352051, -6.256100177764893, -5.061500072479248, -4.608799934387207, -5.004799842834473, -7.859399795532227, -4.855800151824951, -4.688799858093262, -5.307000160217285, -6.13640022277832, -5.538099765777588, -3.865600109100342, -4.716300010681152, -4.2453999519348145, -7.253799915313721, -5.101500034332275, -6.363699913024902, -5.442200183868408, -6.078800201416016, -5.298900127410889, -5.651599884033203, -5.629199981689453, -5.997099876403809, -5.284999847412109, -4.092199802398682, -5.506400108337402, -5.659599781036377, -5.845399856567383, -5.179100036621094, -5.853700160980225, -5.085400104522705, -5.385499954223633, -5.59119987487793, -5.175899982452393, -5.240300178527832, -5.592299938201904, -5.643599987030029, -5.724899768829346, -5.452600002288818, -5.464799880981445, -5.566800117492676, -5.404300212860107, -5.53380012512207, -5.399799823760986, -5.5777997970581055, -5.563399791717529]}, \"token.table\": {\"Topic\": [1, 2, 3, 4, 5, 1, 2, 3, 4, 1, 2, 3, 4, 5, 1, 2, 3, 4, 5, 1, 2, 3, 4, 5, 1, 5, 3, 4, 3, 5, 1, 2, 3, 4, 5, 5, 1, 2, 3, 4, 5, 1, 2, 3, 4, 5, 1, 2, 3, 4, 5, 3, 4, 1, 2, 3, 4, 5, 1, 2, 3, 4, 5, 1, 2, 3, 4, 5, 4, 1, 2, 3, 4, 5, 1, 3, 5, 1, 2, 3, 4, 5, 1, 2, 3, 4, 5, 1, 2, 3, 4, 5, 1, 2, 4, 1, 2, 3, 4, 5, 1, 2, 3, 4, 5, 1, 2, 3, 4, 5, 4, 1, 2, 3, 4, 5, 1, 2, 5, 1, 2, 3, 4, 5, 1, 2, 3, 4, 5, 1, 2, 3, 4, 5, 1, 2, 3, 4, 5, 3, 1, 2, 3, 4, 5, 1, 2, 3, 4, 5, 1, 2, 3, 4, 5, 1, 2, 3, 4, 5, 1, 2, 3, 4, 5, 4, 1, 2, 3, 4, 5, 1, 2, 3, 4, 5, 1, 2, 1, 2, 1, 2, 3, 4, 5, 1, 2, 4, 1, 2, 3, 4, 5, 1, 3, 4, 1, 2, 3, 4, 5, 1, 2, 3, 4, 5, 1, 2, 4, 5, 1, 2, 3, 4, 5, 1, 2, 5, 3, 1, 3, 2, 3, 5, 1, 2, 3, 4, 1, 2, 3, 5, 1, 2, 3, 4, 5, 5, 1, 2, 3, 4, 5, 1, 5, 1, 2, 3, 4, 5, 1, 2, 3, 4, 5, 1, 4, 5, 3, 1, 2, 3, 1, 2, 3, 4, 5, 1, 2, 3, 4, 5, 1, 2, 3, 4, 5, 3, 1, 2, 3, 4, 5, 2, 3, 1, 2, 3, 4, 5, 2, 3, 5, 1, 2, 3, 4, 5, 1, 2, 3, 1, 4, 1, 2, 3, 4, 5, 1, 2, 3, 4, 5, 2, 5, 4, 1, 2, 3, 4, 5, 1, 1, 2, 3, 4, 5, 1, 2, 5, 5, 4, 5, 2, 4, 1, 2, 3, 4, 5, 3, 4, 5, 1, 2, 3, 4, 5, 1, 2, 3, 4, 5, 1, 2, 3, 4, 5, 2, 1, 2, 3, 4, 5, 1, 2, 3, 4, 5, 1, 2, 2, 4, 1, 2, 3, 4, 5, 3, 4, 5, 2, 1, 2, 3, 4, 1, 2, 3, 5, 1, 2, 3, 4, 5, 1, 2, 3, 4, 5, 1, 2, 3, 4, 5, 1, 2, 3, 4, 5, 1, 2, 3, 4, 5, 1, 2, 3, 4, 5, 1, 2, 3, 4, 5, 1, 2, 3, 4, 5, 1, 2, 3, 4, 5, 2, 2, 1, 2, 3, 4, 5, 2, 2, 5, 4, 2, 3, 1, 2, 3, 4, 5, 5, 1, 2, 5, 1, 2, 3, 4, 5, 1, 2, 3, 1, 2, 3, 4, 5, 2, 3, 4, 5, 2, 3, 2, 1, 2, 3, 4, 5, 5, 1, 2, 3, 5, 2, 3, 4, 1, 2, 3, 4, 5, 1, 2, 1, 4, 5, 3, 4, 5, 1, 5, 2, 4, 1, 2, 3, 4, 1, 2, 3, 4, 5, 1, 3, 1, 2, 3, 5, 2, 5, 1, 2, 3, 4, 5, 1, 1, 2, 3, 4, 5, 3, 5, 1, 2, 3, 4, 5, 4, 1, 2, 3, 4, 5, 1, 2, 3, 4, 3, 1, 2, 3, 4, 5, 1, 2, 4, 5, 1, 2, 3, 4, 5, 1, 2, 3, 4, 5, 1, 2, 3, 4, 5, 1, 3, 2, 4, 1, 2, 4, 1, 2, 3, 4, 5, 1, 2, 3, 4, 5, 1, 2, 3, 4, 5, 1, 2, 3, 4, 5, 4, 2, 3, 1, 2, 4, 1, 3, 4, 5, 1, 2, 3, 4, 5, 1, 3, 1, 2, 3, 4, 5, 1, 2, 4, 2, 3, 1, 2, 3, 4, 5, 1, 4, 5, 1, 2, 4, 1, 2, 3, 4, 5, 1, 2, 3, 4, 5, 1, 2, 3, 4, 5, 1, 2, 3, 4, 5, 1, 2, 3, 4, 5, 1, 2, 3, 4, 5, 1, 2, 3, 4, 5, 1, 2, 3, 4, 5, 1, 2, 3, 4, 5, 1, 2, 1, 2, 3, 4, 5, 1, 2, 3, 4, 5, 1, 2, 4, 5, 2, 3, 4, 5, 1, 3, 1, 2, 3, 4, 5, 4, 1, 2, 2, 3, 5, 2, 3, 4, 1, 4, 5, 1, 1, 2, 3, 4, 5, 3, 5, 1, 2, 3, 4, 5, 3, 5, 1, 3, 1, 2, 3, 4, 5, 1, 1, 2, 3, 4, 5, 3, 4, 1, 2, 3, 4, 5, 1, 3, 4, 1, 4, 1, 2, 3, 5, 1, 2, 3, 4, 5, 1, 2, 3, 4, 5, 1, 2, 3, 4, 5, 1, 2, 3, 4, 5, 1, 2, 3, 4, 5, 4, 1, 2, 3, 4, 5, 1, 2, 3, 4, 5, 2, 4, 1, 2, 1, 2, 3, 4, 5, 1, 2, 3, 4, 5, 1, 2, 3, 4, 5, 1, 4, 1, 2, 3, 4, 5, 1, 2, 3, 4, 5, 1, 2, 3, 4, 5, 1, 3, 4, 3, 1, 2, 3, 4, 5, 5, 1, 1, 2, 3, 4, 5, 2, 1, 2, 3, 4, 5, 1, 2, 3, 4, 5, 1, 2, 3, 4, 5, 1, 2, 3, 4, 5, 4, 3, 4, 1, 2, 4, 1, 2, 3, 4, 5, 1, 2, 3, 4, 5, 1, 2, 3, 4, 5, 1, 2, 3, 4, 5, 1, 2, 3, 4, 5, 1, 2, 3, 4, 5, 1, 2, 3, 4, 5, 1, 2, 3, 4, 5, 2, 5, 2, 1, 2, 4, 5, 1, 4, 1, 2, 3, 4, 5, 1, 2, 3, 4, 5, 1, 2, 4, 1, 2, 3, 4, 5, 1, 2, 3, 4, 5, 2, 5, 2, 5, 1, 2, 3, 4, 5, 1, 2, 3, 4, 5, 1, 4, 1, 2, 3, 4, 5, 2, 3, 4, 5, 1, 2, 3, 4, 5, 1, 2, 3, 4, 5, 2, 2, 2, 3, 2, 1, 1, 2, 3, 4, 5, 1, 2, 3, 4, 5, 1, 2, 4, 1, 2, 3, 4, 5, 1, 2, 3, 4, 5, 1, 2, 3, 4, 5, 2, 1, 2, 3, 4, 5, 1, 2, 3, 4, 5, 3, 5, 1, 2, 3, 4, 5, 1, 2, 3, 4, 5, 1, 2, 3, 4, 5, 1, 4, 1, 5, 4, 3, 1, 5, 1, 2, 3, 4, 5, 1, 2, 3, 4, 5, 1, 2, 3, 4, 5, 1, 2, 3, 4, 5, 1, 2, 5, 1, 2, 3, 4, 5], \"Freq\": [0.1908619999885559, 0.14314649999141693, 0.5248705148696899, 0.06816500425338745, 0.07498150318861008, 0.10266274213790894, 0.7186391949653625, 0.10266274213790894, 0.10266274213790894, 0.09664639085531235, 0.09664639085531235, 0.048323195427656174, 0.09664639085531235, 0.6765246987342834, 0.08364219218492508, 0.22547025978565216, 0.429120808839798, 0.18546746671199799, 0.0727323442697525, 0.5112267136573792, 0.20406992733478546, 0.07152966409921646, 0.1199173778295517, 0.09467161446809769, 0.07090884447097778, 0.8509061336517334, 0.11818734556436539, 0.8273114562034607, 0.7622968554496765, 0.1088995486497879, 0.3014198839664459, 0.20289123058319092, 0.2171519547700882, 0.1951126605272293, 0.08361970633268356, 0.8850895166397095, 0.44057467579841614, 0.1314869225025177, 0.16513760387897491, 0.15205122530460358, 0.11092261970043182, 0.11615900695323944, 0.6582343578338623, 0.1548786759376526, 0.03871966898441315, 0.03871966898441315, 0.19483236968517303, 0.28886017203330994, 0.2007620632648468, 0.14908912777900696, 0.16518397629261017, 0.2071767896413803, 0.8287071585655212, 0.10343217849731445, 0.05171608924865723, 0.2068643569946289, 0.05171608924865723, 0.6205930709838867, 0.4329681694507599, 0.11309722810983658, 0.09024930000305176, 0.25818154215812683, 0.10510045289993286, 0.2685678005218506, 0.22889301180839539, 0.21210752427577972, 0.1792995184659958, 0.11139459908008575, 0.8735230565071106, 0.2855371832847595, 0.23388223350048065, 0.26975372433662415, 0.1497037559747696, 0.060742419213056564, 0.11013376712799072, 0.11013376712799072, 0.7709363698959351, 0.09036550670862198, 0.15060916543006897, 0.12048733979463577, 0.15060916543006897, 0.4819493591785431, 0.25545844435691833, 0.24232058227062225, 0.17955079674720764, 0.1328383982181549, 0.18830937147140503, 0.2249637395143509, 0.2177068442106247, 0.1712627112865448, 0.29753267765045166, 0.08853411674499512, 0.089651919901371, 0.089651919901371, 0.806867241859436, 0.14041918516159058, 0.14041918516159058, 0.035104796290397644, 0.10531438887119293, 0.5616767406463623, 0.41960689425468445, 0.25117313861846924, 0.054667092859745026, 0.25117313861846924, 0.023639824241399765, 0.1940917819738388, 0.3881835639476776, 0.13009394705295563, 0.1678631603717804, 0.11855336278676987, 0.8979979157447815, 0.41203469038009644, 0.23825879395008087, 0.08306269347667694, 0.18361227214336395, 0.08251623064279556, 0.1359039843082428, 0.22650665044784546, 0.5889172554016113, 0.5583909153938293, 0.13959772884845734, 0.09161101281642914, 0.09161101281642914, 0.11342315375804901, 0.03348381444811821, 0.24554796516895294, 0.6250311732292175, 0.04464508593082428, 0.04464508593082428, 0.03014264442026615, 0.0602852888405323, 0.8439940214157104, 0.03014264442026615, 0.03014264442026615, 0.16903965175151825, 0.2617388069629669, 0.3348075747489929, 0.06325354427099228, 0.1712208092212677, 0.7413187623023987, 0.2290273755788803, 0.22745868563652039, 0.08470875024795532, 0.3513844609260559, 0.10667028278112411, 0.2809745967388153, 0.1783965677022934, 0.4638310670852661, 0.02675948478281498, 0.05351896956562996, 0.035063911229372025, 0.1402556449174881, 0.035063911229372025, 0.07012782245874405, 0.7714060544967651, 0.1746457815170288, 0.09289669245481491, 0.47191518545150757, 0.1783616542816162, 0.0817490890622139, 0.3637223541736603, 0.19646316766738892, 0.058407969772815704, 0.3265536427497864, 0.0530981570482254, 0.9272946119308472, 0.18019674718379974, 0.4088164269924164, 0.2294134944677353, 0.07620655745267868, 0.10478401184082031, 0.738946259021759, 0.1407516747713089, 0.035187918692827225, 0.035187918692827225, 0.07037583738565445, 0.8119461536407471, 0.06766217947006226, 0.824376106262207, 0.11776801198720932, 0.06341616809368134, 0.06341616809368134, 0.676439106464386, 0.10569360852241516, 0.06341616809368134, 0.12439575791358948, 0.12439575791358948, 0.7463745474815369, 0.24776297807693481, 0.3341236710548401, 0.2096133530139923, 0.12325265258550644, 0.08510302007198334, 0.1453637033700943, 0.7268185019493103, 0.07268185168504715, 0.30352768301963806, 0.3347415030002594, 0.13346606492996216, 0.11732098460197449, 0.11193928867578506, 0.43490293622016907, 0.24317152798175812, 0.12937971949577332, 0.0841747596859932, 0.10755664110183716, 0.09580086916685104, 0.7664069533348083, 0.09580086916685104, 0.09580086916685104, 0.33100956678390503, 0.2656421363353729, 0.1870621293783188, 0.13907964527606964, 0.07718920707702637, 0.04519534111022949, 0.09039068222045898, 0.8587114810943604, 0.8186643123626709, 0.10205750912427902, 0.8164600729942322, 0.11381012201309204, 0.7966708540916443, 0.11381012201309204, 0.18036584556102753, 0.036073170602321625, 0.7575365900993347, 0.036073170602321625, 0.050172869116067886, 0.15051859617233276, 0.7525929808616638, 0.050172869116067886, 0.21739329397678375, 0.32114917039871216, 0.2066883146762848, 0.13998810946941376, 0.11446086317300797, 0.7366459965705872, 0.027088742703199387, 0.13544371724128723, 0.7584848403930664, 0.027088742703199387, 0.05417748540639877, 0.3108876943588257, 0.6217753887176514, 0.2235247641801834, 0.06386421620845795, 0.1117623820900917, 0.07983027398586273, 0.5268797874450684, 0.20357076823711395, 0.3236393332481384, 0.24068287014961243, 0.12716351449489594, 0.1053328663110733, 0.07035277038812637, 0.07035277038812637, 0.8442332744598389, 0.8628032207489014, 0.07246657460927963, 0.07246657460927963, 0.8695988655090332, 0.06921299546957016, 0.06921299546957016, 0.06921299546957016, 0.7613429427146912, 0.06921299546957016, 0.131905198097229, 0.3211025297641754, 0.2824636399745941, 0.06262166053056717, 0.2018549144268036, 0.6684483885765076, 0.09782171249389648, 0.03260723873972893, 0.1304289549589157, 0.08151809871196747, 0.9097135663032532, 0.0818968117237091, 0.15086254477500916, 0.4655187129974365, 0.13362111151218414, 0.17241433262825012, 0.8317066431045532, 0.16634133458137512, 0.24532398581504822, 0.18854594230651855, 0.2228270322084427, 0.18533208966255188, 0.1574787199497223, 0.7445565462112427, 0.10636521875858307, 0.10636521875858307, 0.08418900519609451, 0.08418900519609451, 0.7156065702438354, 0.08418900519609451, 0.042094502598047256, 0.07505864650011063, 0.07505864650011063, 0.7505864500999451, 0.07450006902217865, 0.8940008282661438, 0.19698430597782135, 0.5163376927375793, 0.09849215298891068, 0.0895383208990097, 0.09849215298891068, 0.5195684432983398, 0.20610979199409485, 0.06226233392953873, 0.17175815999507904, 0.0407925620675087, 0.14878420531749725, 0.7439209818840027, 0.8978298902511597, 0.2591564953327179, 0.12340785562992096, 0.06170392781496048, 0.5059722065925598, 0.049363140016794205, 0.8331453800201416, 0.23660624027252197, 0.21010634303092957, 0.16657079756259918, 0.1760350465774536, 0.21199919283390045, 0.8635683059692383, 0.12336690723896027, 0.12336690723896027, 0.6321073770523071, 0.8533868789672852, 0.0948207676410675, 0.15091225504875183, 0.7545612454414368, 0.31757852435112, 0.1701313555240631, 0.21750125288963318, 0.1441112607717514, 0.15011589229106903, 0.7725386023521423, 0.09656732529401779, 0.09656732529401779, 0.40153685212135315, 0.13078628480434418, 0.11243031919002533, 0.28681203722953796, 0.06883488595485687, 0.6528931260108948, 0.06528931111097336, 0.13057862222194672, 0.03264465555548668, 0.11969707161188126, 0.0887245237827301, 0.24082370102405548, 0.19012397527694702, 0.07604958862066269, 0.4055978059768677, 0.8207764625549316, 0.7853899002075195, 0.06041460856795311, 0.030207304283976555, 0.06041460856795311, 0.06041460856795311, 0.25567856431007385, 0.4793972671031952, 0.13582922518253326, 0.09055282175540924, 0.039949774742126465, 0.12099764496088028, 0.7259858846664429, 0.10896040499210358, 0.8716832399368286, 0.3409929573535919, 0.24257628619670868, 0.28970539569854736, 0.0686144307255745, 0.05891138315200806, 0.08432026952505112, 0.08432026952505112, 0.7588824033737183, 0.8495320081710815, 0.100527323782444, 0.100527323782444, 0.804218590259552, 0.6698182821273804, 0.15957918763160706, 0.7447028756141663, 0.05319306254386902, 0.05319306254386902, 0.09424325823783875, 0.3372916579246521, 0.03968137130141258, 0.49105697870254517, 0.03472120314836502, 0.2573916018009186, 0.19682887196540833, 0.14383648335933685, 0.2599150538444519, 0.14131303131580353, 0.2697233557701111, 0.308086633682251, 0.17765149474143982, 0.14400984346866608, 0.10092493146657944, 0.15035255253314972, 0.31766796112060547, 0.22976955771446228, 0.08173010498285294, 0.2205170840024948, 0.1938961148262024, 0.3491121828556061, 0.16364632546901703, 0.11901551485061646, 0.17406019568443298, 0.15849512815475464, 0.3051205575466156, 0.17036479711532593, 0.24577218294143677, 0.12009322643280029, 0.09089593589305878, 0.030298644676804543, 0.8483620882034302, 0.030298644676804543, 0.030298644676804543, 0.32978081703186035, 0.16683946549892426, 0.21946406364440918, 0.18477080762386322, 0.09940201789140701, 0.12486334890127182, 0.3401449918746948, 0.22281648218631744, 0.1388566493988037, 0.17437812685966492, 0.9322785139083862, 0.8263176083564758, 0.36610978841781616, 0.38351500034332275, 0.08612582832574844, 0.10293086618185043, 0.06121835857629776, 0.8937228918075562, 0.16328930854797363, 0.8164465427398682, 0.8964883089065552, 0.10795433819293976, 0.8636347055435181, 0.2236669808626175, 0.31224164366722107, 0.14210180938243866, 0.19053113460540771, 0.1319061666727066, 0.8269272446632385, 0.8181688785552979, 0.11688126623630524, 0.11688126623630524, 0.2425561249256134, 0.1918727606534958, 0.17015130817890167, 0.31858116388320923, 0.07964529097080231, 0.7766039967536926, 0.7836926579475403, 0.1567385345697403, 0.27974405884742737, 0.2288263887166977, 0.11911095678806305, 0.2768142521381378, 0.0954706147313118, 0.08467739075422287, 0.16935478150844574, 0.08467739075422287, 0.677419126033783, 0.1200956478714943, 0.720573902130127, 0.9274973273277283, 0.4909285008907318, 0.18000711500644684, 0.08386695384979248, 0.1779615730047226, 0.06750266999006271, 0.940464437007904, 0.08432544767856598, 0.08432544767856598, 0.08432544767856598, 0.6746035814285278, 0.06517347693443298, 0.8472551703453064, 0.06517347693443298, 0.1944631189107895, 0.21629060804843903, 0.37503600120544434, 0.13493359088897705, 0.07937270402908325, 0.8762463331222534, 0.08762463182210922, 0.20317719876766205, 0.06772573292255402, 0.7449830770492554, 0.09607440233230591, 0.09607440233230591, 0.6725208163261414, 0.14590422809123993, 0.7295210957527161, 0.8038384914398193, 0.08931539207696915, 0.7998079657554626, 0.0571291409432888, 0.0571291409432888, 0.1142582818865776, 0.058014217764139175, 0.7831919193267822, 0.11602843552827835, 0.029007108882069588, 0.029007108882069588, 0.8542268872261047, 0.10677836090326309, 0.06017234921455383, 0.722068190574646, 0.12034469842910767, 0.06017234921455383, 0.22880339622497559, 0.6864101886749268, 0.42682409286499023, 0.1946006566286087, 0.14270715415477753, 0.13622045516967773, 0.09859766811132431, 0.8616552948951721, 0.2471805214881897, 0.0961257591843605, 0.05492900311946869, 0.13732251524925232, 0.46689653396606445, 0.8825527429580688, 0.07354605942964554, 0.13446193933486938, 0.026892386376857758, 0.7798792123794556, 0.026892386376857758, 0.026892386376857758, 0.8040645122528076, 0.8051179051399231, 0.050319869071245193, 0.10063973814249039, 0.050319869071245193, 0.050319869071245193, 0.7502408027648926, 0.08336009085178375, 0.08336009085178375, 0.08336009085178375, 0.781864583492279, 0.26273104548454285, 0.17701737582683563, 0.20931528508663177, 0.20931528508663177, 0.14223501086235046, 0.8432014584541321, 0.07665468007326126, 0.07665468007326126, 0.07665468007326126, 0.3553899824619293, 0.2705414891242981, 0.10606060922145844, 0.21212121844291687, 0.05598609521985054, 0.2678672671318054, 0.2002502828836441, 0.16730868816375732, 0.2054515928030014, 0.1586398333311081, 0.08186174929141998, 0.04093087464570999, 0.04093087464570999, 0.6548939943313599, 0.20465438067913055, 0.09911324083805084, 0.7929059267044067, 0.16990604996681213, 0.7362595796585083, 0.05088695138692856, 0.15266084671020508, 0.7633042335510254, 0.2508946359157562, 0.22164234519004822, 0.20026567578315735, 0.14963671565055847, 0.1777639091014862, 0.14655743539333344, 0.2384292632341385, 0.2974897027015686, 0.09187182039022446, 0.2253047078847885, 0.32550013065338135, 0.1378966122865677, 0.14431041479110718, 0.3046553134918213, 0.08818969130516052, 0.5451489686965942, 0.13493786752223969, 0.08636023104190826, 0.1943105161190033, 0.03778260201215744, 0.7518671751022339, 0.8670400381088257, 0.09633778780698776, 0.7945941090583801, 0.0907740592956543, 0.8169665336608887, 0.09384544938802719, 0.09384544938802719, 0.7507635951042175, 0.09384544938802719, 0.6058616042137146, 0.17310330271720886, 0.07081498950719833, 0.08655165135860443, 0.07081498950719833, 0.09225849062204361, 0.8303264379501343, 0.11653684079647064, 0.11653684079647064, 0.6992210149765015, 0.02913421019911766, 0.02913421019911766, 0.11983498185873032, 0.838844895362854, 0.11983498185873032, 0.08719063550233841, 0.7847157120704651, 0.2522304058074951, 0.34560415148735046, 0.18189692497253418, 0.13460372388362885, 0.08488523215055466, 0.1366901397705078, 0.1366901397705078, 0.6834506988525391, 0.9361752271652222, 0.8503556847572327, 0.06073968857526779, 0.1729385256767273, 0.23723618686199188, 0.11196660995483398, 0.2804708182811737, 0.19621871411800385, 0.03037230484187603, 0.06074460968375206, 0.6985629796981812, 0.12148921936750412, 0.06074460968375206, 0.2716386914253235, 0.22270996868610382, 0.2336767464876175, 0.12907055020332336, 0.14172452688217163, 0.17068743705749512, 0.21874505281448364, 0.32480326294898987, 0.16737312078475952, 0.11765832453966141, 0.1756860613822937, 0.226973295211792, 0.11239543557167053, 0.3961120545864105, 0.08838864415884018, 0.2741301655769348, 0.14970946311950684, 0.2791879177093506, 0.18410217761993408, 0.11228209733963013, 0.3345363736152649, 0.3153191804885864, 0.13491268455982208, 0.14707051217556, 0.06784852594137192, 0.21879366040229797, 0.2821683883666992, 0.22973334789276123, 0.16409525275230408, 0.10524729639291763, 0.14734093844890594, 0.07367046922445297, 0.7072365283966064, 0.029468189924955368, 0.0442022830247879, 0.8301085829734802, 0.7226592898368835, 0.06510931998491287, 0.06510931998491287, 0.8247179985046387, 0.02170310541987419, 0.02170310541987419, 0.22993193566799164, 0.22914178669452667, 0.223215714097023, 0.1402505785226822, 0.17778243124485016, 0.05772897228598595, 0.6927476525306702, 0.1154579445719719, 0.05772897228598595, 0.11450619995594025, 0.11450619995594025, 0.744290292263031, 0.05725309997797012, 0.8406506180763245, 0.10508132725954056, 0.2216736525297165, 0.3281517028808594, 0.1432161182165146, 0.2521848976612091, 0.054795730859041214, 0.9555703997612, 0.12349478900432587, 0.7409687638282776, 0.7893614172935486, 0.0789361372590065, 0.157872274518013, 0.7798472046852112, 0.05198981240391731, 0.15596944093704224, 0.7477259635925293, 0.10681799799203873, 0.10681799799203873, 0.7751001715660095, 0.20478495955467224, 0.2125239223241806, 0.25300467014312744, 0.24050326645374298, 0.08870045840740204, 0.9096807837486267, 0.06497719883918762, 0.17977508902549744, 0.4243870973587036, 0.19451074302196503, 0.08841397613286972, 0.1149381697177887, 0.14477108418941498, 0.7238553762435913, 0.10180582106113434, 0.8144465684890747, 0.29991835355758667, 0.20147186517715454, 0.27816852927207947, 0.13049882650375366, 0.09043339639902115, 0.9347960352897644, 0.2049318552017212, 0.2738238275051117, 0.10551810264587402, 0.2860325574874878, 0.12819141149520874, 0.9057748317718506, 0.8427892923355103, 0.13713385164737701, 0.2204897254705429, 0.27695661783218384, 0.1021781638264656, 0.26351210474967957, 0.8888572454452515, 0.11152401566505432, 0.8921921253204346, 0.8318920135498047, 0.07562654465436935, 0.8206049203872681, 0.08456949889659882, 0.08456949889659882, 0.7611254453659058, 0.0951409563422203, 0.613659143447876, 0.11416914314031601, 0.06184161826968193, 0.11416914314031601, 0.27144473791122437, 0.18495918810367584, 0.14899490773677826, 0.2037976235151291, 0.1918095350265503, 0.212848499417305, 0.17592579126358032, 0.13465924561023712, 0.35836735367774963, 0.11945579200983047, 0.2757856249809265, 0.19762775301933289, 0.13175183534622192, 0.2713194489479065, 0.12281950563192368, 0.12091787159442902, 0.10076489299535751, 0.7255071997642517, 0.040305957198143005, 0.020152978599071503, 0.932776689529419, 0.1794596165418625, 0.0560811311006546, 0.5159463882446289, 0.07851358503103256, 0.17385150492191315, 0.37624794244766235, 0.1904221773147583, 0.13198226690292358, 0.23244637250900269, 0.06894595921039581, 0.7586506009101868, 0.1685890257358551, 0.7893946170806885, 0.11277066171169281, 0.024311909452080727, 0.024311909452080727, 0.875228762626648, 0.07293573021888733, 0.024311909452080727, 0.2745093107223511, 0.29523926973342896, 0.2392776608467102, 0.12084730714559555, 0.07009143382310867, 0.14179956912994385, 0.2768467962741852, 0.4073924422264099, 0.09003147482872009, 0.08327911794185638, 0.18434669077396393, 0.8295601606369019, 0.09361331909894943, 0.3703831434249878, 0.10989389568567276, 0.4049793779850006, 0.022385794669389725, 0.11767459660768509, 0.11767459660768509, 0.03922486677765846, 0.6668227314949036, 0.03922486677765846, 0.20230448246002197, 0.15246134996414185, 0.29466089606285095, 0.15832525491714478, 0.19204266369342804, 0.10099443793296814, 0.8079555034637451, 0.10099443793296814, 0.8306221961975098, 0.345865935087204, 0.16958895325660706, 0.17627698183059692, 0.1867867112159729, 0.12133970856666565, 0.8677324652671814, 0.9109883904457092, 0.4985041320323944, 0.19060452282428741, 0.12022747099399567, 0.08503894507884979, 0.10556558519601822, 0.8171278238296509, 0.20044653117656708, 0.19411665201187134, 0.35869380831718445, 0.10549817979335785, 0.14347752928733826, 0.2765088379383087, 0.3089948296546936, 0.1306995302438736, 0.20851485431194305, 0.07479336857795715, 0.11727415025234222, 0.17591123282909393, 0.5570522546768188, 0.09162043035030365, 0.05863707512617111, 0.07757426798343658, 0.09696783125400543, 0.7110974192619324, 0.06464522331953049, 0.05171617865562439, 0.8625302910804749, 0.1278381496667862, 0.7670289278030396, 0.06624805927276611, 0.06624805927276611, 0.7949767112731934, 0.26569733023643494, 0.14022913575172424, 0.14022913575172424, 0.13653889298439026, 0.3210509121417999, 0.25218120217323303, 0.42198318243026733, 0.021855702623724937, 0.24041272699832916, 0.062204692512750626, 0.5301764607429504, 0.1875014305114746, 0.0549573190510273, 0.16810473799705505, 0.05819009989500046, 0.26088306307792664, 0.2364557981491089, 0.2081201821565628, 0.16317404806613922, 0.13158145546913147, 0.2572484612464905, 0.13142040371894836, 0.209713414311409, 0.3439300060272217, 0.058719754219055176, 0.5084496140480042, 0.2045832723379135, 0.07822301238775253, 0.14742030203342438, 0.060171548277139664, 0.2407023012638092, 0.25228866934776306, 0.22585220634937286, 0.17559029161930084, 0.10558263957500458, 0.7619085907936096, 0.0952385738492012, 0.031746190041303635, 0.031746190041303635, 0.06349238008260727, 0.17073847353458405, 0.6829538941383362, 0.8499868512153625, 0.08932717144489288, 0.08932717144489288, 0.08932717144489288, 0.6252902150154114, 0.8302163481712341, 0.10377704352140427, 0.13774314522743225, 0.7575872540473938, 0.06887157261371613, 0.06887157261371613, 0.06887157261371613, 0.5286375284194946, 0.1375536322593689, 0.16182780265808105, 0.07551964372396469, 0.09574811905622482, 0.08047813177108765, 0.08047813177108765, 0.8047813177108765, 0.4611278474330902, 0.16757778823375702, 0.17451204359531403, 0.14446361362934113, 0.05200690031051636, 0.2566906809806824, 0.25322186946868896, 0.13875171542167664, 0.08325102925300598, 0.27056583762168884, 0.1304769665002823, 0.7828618288040161, 0.09035699814558029, 0.8132129907608032, 0.1275511234998703, 0.5810661911964417, 0.056689389050006866, 0.1275511234998703, 0.11337877810001373, 0.19989800453186035, 0.31250429153442383, 0.19116882979869843, 0.192478209733963, 0.10431358963251114, 0.7364925742149353, 0.12274876236915588, 0.11305369436740875, 0.39366912841796875, 0.23822028934955597, 0.08075264096260071, 0.17361818253993988, 0.15717671811580658, 0.15717671811580658, 0.15717671811580658, 0.6287068724632263, 0.17492717504501343, 0.1318681836128235, 0.45211946964263916, 0.07804443687200546, 0.16147124767303467, 0.14080362021923065, 0.11264289170503616, 0.6758573651313782, 0.02816072292625904, 0.05632144585251808, 0.8999449014663696, 0.7901496291160583, 0.8064059615135193, 0.13440099358558655, 0.8461464047431946, 0.9045444130897522, 0.22011102735996246, 0.37283003330230713, 0.175545334815979, 0.08152260631322861, 0.149458110332489, 0.2415904551744461, 0.2077311873435974, 0.23792998492717743, 0.16746610403060913, 0.14641845226287842, 0.08242157101631165, 0.7417941093444824, 0.08242157101631165, 0.04733239859342575, 0.14199718832969666, 0.757318377494812, 0.04733239859342575, 0.04733239859342575, 0.23285330832004547, 0.6519892811775208, 0.023285331204533577, 0.09314132481813431, 0.023285331204533577, 0.43225470185279846, 0.3002311885356903, 0.12908963859081268, 0.1075746938586235, 0.031294457614421844, 0.9164460301399231, 0.05837308242917061, 0.262678861618042, 0.08755962550640106, 0.08755962550640106, 0.4961712062358856, 0.3289070129394531, 0.27363312244415283, 0.09084619581699371, 0.20194125175476074, 0.10452785342931747, 0.14436663687229156, 0.866199791431427, 0.26687538623809814, 0.16328559815883636, 0.34061726927757263, 0.14748376607894897, 0.08252067863941193, 0.3947690427303314, 0.21731840074062347, 0.12038501352071762, 0.14305491745471954, 0.1250753402709961, 0.09261937439441681, 0.09261937439441681, 0.046309687197208405, 0.7409549951553345, 0.046309687197208405, 0.8837392926216125, 0.12624847888946533, 0.18725045025348663, 0.7490018010139465, 0.8993516564369202, 0.7369872331619263, 0.8623443841934204, 0.09581604599952698, 0.024057818576693535, 0.09623127430677414, 0.5773876309394836, 0.15236619114875793, 0.15236619114875793, 0.4966544210910797, 0.14463970065116882, 0.17077940702438354, 0.08887500315904617, 0.10107353329658508, 0.268639475107193, 0.1481386423110962, 0.3858237862586975, 0.0685417577624321, 0.12823942303657532, 0.18266206979751587, 0.2705155611038208, 0.1903492510318756, 0.2046254426240921, 0.1519133448600769, 0.8535912036895752, 0.06566086411476135, 0.06566086411476135, 0.14419734477996826, 0.19947299361228943, 0.05527564883232117, 0.5070939660072327, 0.09372827410697937], \"Term\": [\"ac\", \"ac\", \"ac\", \"ac\", \"ac\", \"accid\", \"accid\", \"accid\", \"accid\", \"afraid\", \"afraid\", \"afraid\", \"afraid\", \"afraid\", \"air\", \"air\", \"air\", \"air\", \"air\", \"airport\", \"airport\", \"airport\", \"airport\", \"airport\", \"alex\", \"alex\", \"alik\", \"alik\", \"allergi\", \"allergi\", \"also\", \"also\", \"also\", \"also\", \"also\", \"amsterdam\", \"area\", \"area\", \"area\", \"area\", \"area\", \"babi\", \"babi\", \"babi\", \"babi\", \"babi\", \"back\", \"back\", \"back\", \"back\", \"back\", \"bahia\", \"bahia\", \"band\", \"band\", \"band\", \"band\", \"band\", \"bar\", \"bar\", \"bar\", \"bar\", \"bar\", \"bathroom\", \"bathroom\", \"bathroom\", \"bathroom\", \"bathroom\", \"baysid\", \"bed\", \"bed\", \"bed\", \"bed\", \"bed\", \"bellboy\", \"bellboy\", \"bellboy\", \"bellman\", \"bellman\", \"bellman\", \"bellman\", \"bellman\", \"best\", \"best\", \"best\", \"best\", \"best\", \"better\", \"better\", \"better\", \"better\", \"better\", \"bicycl\", \"bicycl\", \"bicycl\", \"bistro\", \"bistro\", \"bistro\", \"bistro\", \"bistro\", \"block\", \"block\", \"block\", \"block\", \"block\", \"book\", \"book\", \"book\", \"book\", \"book\", \"brag\", \"breakfast\", \"breakfast\", \"breakfast\", \"breakfast\", \"breakfast\", \"bride\", \"bride\", \"bride\", \"buffet\", \"buffet\", \"buffet\", \"buffet\", \"buffet\", \"bug\", \"bug\", \"bug\", \"bug\", \"bug\", \"burn\", \"burn\", \"burn\", \"burn\", \"burn\", \"call\", \"call\", \"call\", \"call\", \"call\", \"capabl\", \"car\", \"car\", \"car\", \"car\", \"car\", \"card\", \"card\", \"card\", \"card\", \"card\", \"carlton\", \"carlton\", \"carlton\", \"carlton\", \"carlton\", \"carpet\", \"carpet\", \"carpet\", \"carpet\", \"carpet\", \"central\", \"central\", \"central\", \"central\", \"central\", \"chaotic\", \"check\", \"check\", \"check\", \"check\", \"check\", \"chines\", \"chines\", \"chines\", \"chines\", \"chines\", \"chrysler\", \"chrysler\", \"cider\", \"cider\", \"cigarett\", \"cigarett\", \"cigarett\", \"cigarett\", \"cigarett\", \"civil\", \"civil\", \"civil\", \"clean\", \"clean\", \"clean\", \"clean\", \"clean\", \"clip\", \"clip\", \"clip\", \"close\", \"close\", \"close\", \"close\", \"close\", \"coffe\", \"coffe\", \"coffe\", \"coffe\", \"coffe\", \"colonnad\", \"colonnad\", \"colonnad\", \"colonnad\", \"comfort\", \"comfort\", \"comfort\", \"comfort\", \"comfort\", \"commend\", \"commend\", \"commend\", \"competitor\", \"compound\", \"compound\", \"condo\", \"condo\", \"condo\", \"conrad\", \"conrad\", \"conrad\", \"conrad\", \"cord\", \"cord\", \"cord\", \"cord\", \"could\", \"could\", \"could\", \"could\", \"could\", \"courtious\", \"crib\", \"crib\", \"crib\", \"crib\", \"crib\", \"crimin\", \"crimin\", \"dalla\", \"dalla\", \"dalla\", \"dalla\", \"dalla\", \"day\", \"day\", \"day\", \"day\", \"day\", \"dearborn\", \"dearborn\", \"dearborn\", \"debit\", \"deceiv\", \"deceiv\", \"deceiv\", \"deco\", \"deco\", \"deco\", \"deco\", \"deco\", \"desk\", \"desk\", \"desk\", \"desk\", \"desk\", \"diner\", \"diner\", \"diner\", \"diner\", \"diner\", \"dire\", \"dirti\", \"dirti\", \"dirti\", \"dirti\", \"dirti\", \"disinterest\", \"disinterest\", \"door\", \"door\", \"door\", \"door\", \"door\", \"doorstep\", \"doorstep\", \"doorstep\", \"downhil\", \"downhil\", \"downhil\", \"downhil\", \"downhil\", \"drip\", \"drip\", \"drip\", \"dvds\", \"dvds\", \"earli\", \"earli\", \"earli\", \"earli\", \"earli\", \"easi\", \"easi\", \"easi\", \"easi\", \"easi\", \"echo\", \"echo\", \"eclect\", \"eleg\", \"eleg\", \"eleg\", \"eleg\", \"eleg\", \"enhanc\", \"enough\", \"enough\", \"enough\", \"enough\", \"enough\", \"epicent\", \"epicent\", \"epicent\", \"es\", \"ethernet\", \"ethernet\", \"ethnic\", \"ethnic\", \"even\", \"even\", \"even\", \"even\", \"even\", \"everybodi\", \"everybodi\", \"everybodi\", \"excel\", \"excel\", \"excel\", \"excel\", \"excel\", \"execut\", \"execut\", \"execut\", \"execut\", \"execut\", \"explain\", \"explain\", \"explain\", \"explain\", \"explain\", \"fifti\", \"financi\", \"financi\", \"financi\", \"financi\", \"financi\", \"fine\", \"fine\", \"fine\", \"fine\", \"fine\", \"fitzpatrick\", \"fitzpatrick\", \"fl\", \"fl\", \"floor\", \"floor\", \"floor\", \"floor\", \"floor\", \"forewarn\", \"forewarn\", \"forewarn\", \"fork\", \"foul\", \"foul\", \"foul\", \"fourstar\", \"franci\", \"franci\", \"franci\", \"franci\", \"francisco\", \"francisco\", \"francisco\", \"francisco\", \"francisco\", \"free\", \"free\", \"free\", \"free\", \"free\", \"friend\", \"friend\", \"friend\", \"friend\", \"friend\", \"front\", \"front\", \"front\", \"front\", \"front\", \"get\", \"get\", \"get\", \"get\", \"get\", \"go\", \"go\", \"go\", \"go\", \"go\", \"golf\", \"golf\", \"golf\", \"golf\", \"golf\", \"good\", \"good\", \"good\", \"good\", \"good\", \"got\", \"got\", \"got\", \"got\", \"got\", \"granddaught\", \"graylin\", \"great\", \"great\", \"great\", \"great\", \"great\", \"grey\", \"groom\", \"groom\", \"handleri\", \"hawthorn\", \"hawthorn\", \"help\", \"help\", \"help\", \"help\", \"help\", \"hes\", \"hh\", \"hh\", \"hh\", \"high\", \"high\", \"high\", \"high\", \"high\", \"highland\", \"hollow\", \"hollow\", \"hotel\", \"hotel\", \"hotel\", \"hotel\", \"hotel\", \"human\", \"human\", \"human\", \"human\", \"hunt\", \"hunt\", \"incent\", \"includ\", \"includ\", \"includ\", \"includ\", \"includ\", \"indiffer\", \"inexperienc\", \"inexperienc\", \"inexperienc\", \"inexperienc\", \"infest\", \"infest\", \"infest\", \"internet\", \"internet\", \"internet\", \"internet\", \"internet\", \"introduc\", \"introduc\", \"ish\", \"ish\", \"ish\", \"jennif\", \"jennif\", \"jennif\", \"jessica\", \"jessica\", \"johnson\", \"johnson\", \"joint\", \"joint\", \"joint\", \"joint\", \"jose\", \"jose\", \"jose\", \"jose\", \"jose\", \"keurig\", \"keurig\", \"kiosk\", \"kiosk\", \"kiosk\", \"kiosk\", \"laquinta\", \"laquinta\", \"larg\", \"larg\", \"larg\", \"larg\", \"larg\", \"laundromat\", \"lax\", \"lax\", \"lax\", \"lax\", \"lax\", \"le\", \"le\", \"leak\", \"leak\", \"leak\", \"leak\", \"leak\", \"lemon\", \"lenox\", \"lenox\", \"lenox\", \"lenox\", \"lenox\", \"lexington\", \"lexington\", \"lexington\", \"lexington\", \"lightbulb\", \"like\", \"like\", \"like\", \"like\", \"like\", \"limo\", \"limo\", \"limo\", \"limo\", \"locat\", \"locat\", \"locat\", \"locat\", \"locat\", \"look\", \"look\", \"look\", \"look\", \"look\", \"loop\", \"loop\", \"loop\", \"loop\", \"loop\", \"lush\", \"lush\", \"mag\", \"mag\", \"magnolia\", \"magnolia\", \"magnolia\", \"make\", \"make\", \"make\", \"make\", \"make\", \"manag\", \"manag\", \"manag\", \"manag\", \"manag\", \"mani\", \"mani\", \"mani\", \"mani\", \"mani\", \"market\", \"market\", \"market\", \"market\", \"market\", \"martin\", \"mass\", \"mass\", \"meatpack\", \"mediterranean\", \"mediterranean\", \"melros\", \"melros\", \"melros\", \"melros\", \"menu\", \"menu\", \"menu\", \"menu\", \"menu\", \"meridien\", \"meridien\", \"mess\", \"mess\", \"mess\", \"mess\", \"mess\", \"micro\", \"micro\", \"micro\", \"mildewi\", \"mildewi\", \"minut\", \"minut\", \"minut\", \"minut\", \"minut\", \"mont\", \"mont\", \"mont\", \"montgomeri\", \"motor\", \"motor\", \"much\", \"much\", \"much\", \"much\", \"much\", \"nasti\", \"nasti\", \"nasti\", \"nasti\", \"nasti\", \"need\", \"need\", \"need\", \"need\", \"need\", \"never\", \"never\", \"never\", \"never\", \"never\", \"new\", \"new\", \"new\", \"new\", \"new\", \"next\", \"next\", \"next\", \"next\", \"next\", \"nice\", \"nice\", \"nice\", \"nice\", \"nice\", \"night\", \"night\", \"night\", \"night\", \"night\", \"nonsmok\", \"nonsmok\", \"nonsmok\", \"nonsmok\", \"nonsmok\", \"nyu\", \"observatori\", \"odor\", \"odor\", \"odor\", \"odor\", \"odor\", \"one\", \"one\", \"one\", \"one\", \"one\", \"orlando\", \"orlando\", \"orlando\", \"orlando\", \"palmer\", \"palmer\", \"palmer\", \"palmer\", \"parad\", \"parad\", \"park\", \"park\", \"park\", \"park\", \"park\", \"particip\", \"peek\", \"peek\", \"petco\", \"petco\", \"petco\", \"pit\", \"pit\", \"pit\", \"pitch\", \"pitch\", \"pitch\", \"piti\", \"place\", \"place\", \"place\", \"place\", \"place\", \"plesant\", \"plesant\", \"pm\", \"pm\", \"pm\", \"pm\", \"pm\", \"polari\", \"polari\", \"pond\", \"pond\", \"pool\", \"pool\", \"pool\", \"pool\", \"pool\", \"presidenti\", \"price\", \"price\", \"price\", \"price\", \"price\", \"pristin\", \"protestor\", \"put\", \"put\", \"put\", \"put\", \"put\", \"qualifi\", \"queu\", \"queu\", \"radius\", \"radius\", \"ralph\", \"rap\", \"rap\", \"rap\", \"readi\", \"readi\", \"readi\", \"readi\", \"readi\", \"realli\", \"realli\", \"realli\", \"realli\", \"realli\", \"reason\", \"reason\", \"reason\", \"reason\", \"reason\", \"recommend\", \"recommend\", \"recommend\", \"recommend\", \"recommend\", \"refund\", \"refund\", \"refund\", \"refund\", \"refund\", \"rennov\", \"resort\", \"resort\", \"resort\", \"resort\", \"resort\", \"restaur\", \"restaur\", \"restaur\", \"restaur\", \"restaur\", \"restaurantbar\", \"restaurantbar\", \"rittenhous\", \"rittenhous\", \"roach\", \"roach\", \"roach\", \"roach\", \"roach\", \"room\", \"room\", \"room\", \"room\", \"room\", \"said\", \"said\", \"said\", \"said\", \"said\", \"salisburi\", \"salisburi\", \"san\", \"san\", \"san\", \"san\", \"san\", \"santa\", \"santa\", \"santa\", \"santa\", \"santa\", \"say\", \"say\", \"say\", \"say\", \"say\", \"scottsdal\", \"scottsdal\", \"scottsdal\", \"seahawk\", \"servic\", \"servic\", \"servic\", \"servic\", \"servic\", \"shaft\", \"shi\", \"shuttl\", \"shuttl\", \"shuttl\", \"shuttl\", \"shuttl\", \"sixth\", \"sleep\", \"sleep\", \"sleep\", \"sleep\", \"sleep\", \"small\", \"small\", \"small\", \"small\", \"small\", \"smell\", \"smell\", \"smell\", \"smell\", \"smell\", \"smoke\", \"smoke\", \"smoke\", \"smoke\", \"smoke\", \"soul\", \"sox\", \"sox\", \"sparkl\", \"sparkl\", \"sparkl\", \"special\", \"special\", \"special\", \"special\", \"special\", \"squar\", \"squar\", \"squar\", \"squar\", \"squar\", \"st\", \"st\", \"st\", \"st\", \"st\", \"staff\", \"staff\", \"staff\", \"staff\", \"staff\", \"star\", \"star\", \"star\", \"star\", \"star\", \"station\", \"station\", \"station\", \"station\", \"station\", \"stay\", \"stay\", \"stay\", \"stay\", \"stay\", \"staybridg\", \"staybridg\", \"staybridg\", \"staybridg\", \"staybridg\", \"steve\", \"steve\", \"strength\", \"stressfre\", \"stressfre\", \"stressfre\", \"stressfre\", \"suburban\", \"suburban\", \"sudden\", \"sudden\", \"sudden\", \"sudden\", \"sudden\", \"suit\", \"suit\", \"suit\", \"suit\", \"suit\", \"suv\", \"suv\", \"suv\", \"th\", \"th\", \"th\", \"th\", \"th\", \"thank\", \"thank\", \"thank\", \"thank\", \"thank\", \"ther\", \"ther\", \"thoma\", \"thoma\", \"ticket\", \"ticket\", \"ticket\", \"ticket\", \"ticket\", \"time\", \"time\", \"time\", \"time\", \"time\", \"timeshar\", \"timeshar\", \"told\", \"told\", \"told\", \"told\", \"told\", \"tourism\", \"tourism\", \"tourism\", \"tourism\", \"towel\", \"towel\", \"towel\", \"towel\", \"towel\", \"trash\", \"trash\", \"trash\", \"trash\", \"trash\", \"traveloc\", \"trolli\", \"ucla\", \"ucla\", \"unnecessari\", \"upcom\", \"us\", \"us\", \"us\", \"us\", \"us\", \"use\", \"use\", \"use\", \"use\", \"use\", \"vacant\", \"vacant\", \"vacant\", \"vacuum\", \"vacuum\", \"vacuum\", \"vacuum\", \"vacuum\", \"venu\", \"venu\", \"venu\", \"venu\", \"venu\", \"view\", \"view\", \"view\", \"view\", \"view\", \"vomit\", \"waldorf\", \"waldorf\", \"waldorf\", \"waldorf\", \"waldorf\", \"walk\", \"walk\", \"walk\", \"walk\", \"walk\", \"war\", \"war\", \"water\", \"water\", \"water\", \"water\", \"water\", \"well\", \"well\", \"well\", \"well\", \"well\", \"wellappoint\", \"wellappoint\", \"wellappoint\", \"wellappoint\", \"wellappoint\", \"wellequip\", \"wellequip\", \"wi\", \"wi\", \"william\", \"willing\", \"windi\", \"windi\", \"wireless\", \"wireless\", \"wireless\", \"wireless\", \"wireless\", \"wonder\", \"wonder\", \"wonder\", \"wonder\", \"wonder\", \"work\", \"work\", \"work\", \"work\", \"work\", \"would\", \"would\", \"would\", \"would\", \"would\", \"xmas\", \"xmas\", \"xmas\", \"york\", \"york\", \"york\", \"york\", \"york\"]}, \"R\": 30, \"lambda.step\": 0.01, \"plot.opts\": {\"xlab\": \"PC1\", \"ylab\": \"PC2\"}, \"topic.order\": [4, 2, 5, 1, 3]};\n",
              "\n",
              "function LDAvis_load_lib(url, callback){\n",
              "  var s = document.createElement('script');\n",
              "  s.src = url;\n",
              "  s.async = true;\n",
              "  s.onreadystatechange = s.onload = callback;\n",
              "  s.onerror = function(){console.warn(\"failed to load library \" + url);};\n",
              "  document.getElementsByTagName(\"head\")[0].appendChild(s);\n",
              "}\n",
              "\n",
              "if(typeof(LDAvis) !== \"undefined\"){\n",
              "   // already loaded: just create the visualization\n",
              "   !function(LDAvis){\n",
              "       new LDAvis(\"#\" + \"ldavis_el1131401015231099528163427577\", ldavis_el1131401015231099528163427577_data);\n",
              "   }(LDAvis);\n",
              "}else if(typeof define === \"function\" && define.amd){\n",
              "   // require.js is available: use it to load d3/LDAvis\n",
              "   require.config({paths: {d3: \"https://cdnjs.cloudflare.com/ajax/libs/d3/3.5.5/d3.min\"}});\n",
              "   require([\"d3\"], function(d3){\n",
              "      window.d3 = d3;\n",
              "      LDAvis_load_lib(\"https://cdn.rawgit.com/bmabey/pyLDAvis/files/ldavis.v1.0.0.js\", function(){\n",
              "        new LDAvis(\"#\" + \"ldavis_el1131401015231099528163427577\", ldavis_el1131401015231099528163427577_data);\n",
              "      });\n",
              "    });\n",
              "}else{\n",
              "    // require.js not available: dynamically load d3 & LDAvis\n",
              "    LDAvis_load_lib(\"https://cdnjs.cloudflare.com/ajax/libs/d3/3.5.5/d3.min.js\", function(){\n",
              "         LDAvis_load_lib(\"https://cdn.rawgit.com/bmabey/pyLDAvis/files/ldavis.v1.0.0.js\", function(){\n",
              "                 new LDAvis(\"#\" + \"ldavis_el1131401015231099528163427577\", ldavis_el1131401015231099528163427577_data);\n",
              "            })\n",
              "         });\n",
              "}\n",
              "</script>"
            ],
            "text/plain": [
              "<IPython.core.display.HTML object>"
            ]
          },
          "metadata": {
            "tags": []
          },
          "execution_count": 46
        }
      ]
    },
    {
      "cell_type": "markdown",
      "metadata": {
        "id": "Y2zMM7v7T3KR",
        "colab_type": "text"
      },
      "source": [
        "#  Laboratorio"
      ]
    },
    {
      "cell_type": "markdown",
      "metadata": {
        "id": "KJk5tH2ZT3KS",
        "colab_type": "text"
      },
      "source": [
        "## Base de datos\n",
        "\n",
        "La base de datos del laboratorio corresponde a los papers presentados en la conferencia organizada por el NIPS (Neural Information Processing Systems)  entre los años 1987-2017, el NIPS es la conferencia más prominente en inteligencia artificial.\n",
        "\n",
        "Descargar en https://www.kaggle.com/benhamner/nips-papers.\n",
        "\n",
        "En el presente laboratorio se utilizarán las publicaciones de los últimos 5 años (2013-2018) y se hará análisis de tópicos sobre la variable \\textbf{abstract} con el objetivo de encontrar las tendencias de los últimos años en inteligencia artificial."
      ]
    },
    {
      "cell_type": "code",
      "metadata": {
        "id": "1PcjGyqairRJ",
        "colab_type": "code",
        "outputId": "ed27f0d3-28a0-445f-f99f-4d143b4f1554",
        "colab": {
          "base_uri": "https://localhost:8080/",
          "height": 218
        }
      },
      "source": [
        "#importar dataset desde github debido a que subirlo directamente a colaboratory es muy lento\n",
        "!wget https://raw.githubusercontent.com/dgarridoa/Lab7---dataset/master/papers.csv\n",
        "!mv papers.csv papers.csv"
      ],
      "execution_count": 0,
      "outputs": [
        {
          "output_type": "stream",
          "text": [
            "--2018-11-29 03:37:40--  https://raw.githubusercontent.com/dgarridoa/Lab7---dataset/master/papers.csv\n",
            "Resolving raw.githubusercontent.com (raw.githubusercontent.com)... 151.101.0.133, 151.101.64.133, 151.101.128.133, ...\n",
            "Connecting to raw.githubusercontent.com (raw.githubusercontent.com)|151.101.0.133|:443... connected.\n",
            "HTTP request sent, awaiting response... 200 OK\n",
            "Length: 5098233 (4.9M) [text/plain]\n",
            "Saving to: ‘papers.csv.1’\n",
            "\n",
            "\rpapers.csv.1          0%[                    ]       0  --.-KB/s               \rpapers.csv.1         39%[======>             ]   1.94M  9.72MB/s               \rpapers.csv.1        100%[===================>]   4.86M  14.1MB/s    in 0.3s    \n",
            "\n",
            "2018-11-29 03:37:40 (14.1 MB/s) - ‘papers.csv.1’ saved [5098233/5098233]\n",
            "\n",
            "mv: 'papers.csv' and 'papers.csv' are the same file\n"
          ],
          "name": "stdout"
        }
      ]
    },
    {
      "cell_type": "code",
      "metadata": {
        "id": "_I1lZSI3T3KT",
        "colab_type": "code",
        "outputId": "0751b356-f4ce-447a-a43c-7fc6cab50c83",
        "colab": {
          "base_uri": "https://localhost:8080/",
          "height": 229
        }
      },
      "source": [
        "df = pd.read_csv('papers.csv')\n",
        "df.head()"
      ],
      "execution_count": 0,
      "outputs": [
        {
          "output_type": "execute_result",
          "data": {
            "text/html": [
              "<div>\n",
              "<style scoped>\n",
              "    .dataframe tbody tr th:only-of-type {\n",
              "        vertical-align: middle;\n",
              "    }\n",
              "\n",
              "    .dataframe tbody tr th {\n",
              "        vertical-align: top;\n",
              "    }\n",
              "\n",
              "    .dataframe thead th {\n",
              "        text-align: right;\n",
              "    }\n",
              "</style>\n",
              "<table border=\"1\" class=\"dataframe\">\n",
              "  <thead>\n",
              "    <tr style=\"text-align: right;\">\n",
              "      <th></th>\n",
              "      <th>Unnamed: 0</th>\n",
              "      <th>id</th>\n",
              "      <th>year</th>\n",
              "      <th>title</th>\n",
              "      <th>event_type</th>\n",
              "      <th>pdf_name</th>\n",
              "      <th>abstract</th>\n",
              "    </tr>\n",
              "  </thead>\n",
              "  <tbody>\n",
              "    <tr>\n",
              "      <th>0</th>\n",
              "      <td>0</td>\n",
              "      <td>1</td>\n",
              "      <td>1987</td>\n",
              "      <td>Self-Organization of Associative Database and ...</td>\n",
              "      <td>NaN</td>\n",
              "      <td>1-self-organization-of-associative-database-an...</td>\n",
              "      <td>Abstract Missing</td>\n",
              "    </tr>\n",
              "    <tr>\n",
              "      <th>1</th>\n",
              "      <td>1</td>\n",
              "      <td>10</td>\n",
              "      <td>1987</td>\n",
              "      <td>A Mean Field Theory of Layer IV of Visual Cort...</td>\n",
              "      <td>NaN</td>\n",
              "      <td>10-a-mean-field-theory-of-layer-iv-of-visual-c...</td>\n",
              "      <td>Abstract Missing</td>\n",
              "    </tr>\n",
              "    <tr>\n",
              "      <th>2</th>\n",
              "      <td>2</td>\n",
              "      <td>100</td>\n",
              "      <td>1988</td>\n",
              "      <td>Storing Covariance by the Associative Long-Ter...</td>\n",
              "      <td>NaN</td>\n",
              "      <td>100-storing-covariance-by-the-associative-long...</td>\n",
              "      <td>Abstract Missing</td>\n",
              "    </tr>\n",
              "    <tr>\n",
              "      <th>3</th>\n",
              "      <td>3</td>\n",
              "      <td>1000</td>\n",
              "      <td>1994</td>\n",
              "      <td>Bayesian Query Construction for Neural Network...</td>\n",
              "      <td>NaN</td>\n",
              "      <td>1000-bayesian-query-construction-for-neural-ne...</td>\n",
              "      <td>Abstract Missing</td>\n",
              "    </tr>\n",
              "    <tr>\n",
              "      <th>4</th>\n",
              "      <td>4</td>\n",
              "      <td>1001</td>\n",
              "      <td>1994</td>\n",
              "      <td>Neural Network Ensembles, Cross Validation, an...</td>\n",
              "      <td>NaN</td>\n",
              "      <td>1001-neural-network-ensembles-cross-validation...</td>\n",
              "      <td>Abstract Missing</td>\n",
              "    </tr>\n",
              "  </tbody>\n",
              "</table>\n",
              "</div>"
            ],
            "text/plain": [
              "   Unnamed: 0    id  year                                              title  \\\n",
              "0           0     1  1987  Self-Organization of Associative Database and ...   \n",
              "1           1    10  1987  A Mean Field Theory of Layer IV of Visual Cort...   \n",
              "2           2   100  1988  Storing Covariance by the Associative Long-Ter...   \n",
              "3           3  1000  1994  Bayesian Query Construction for Neural Network...   \n",
              "4           4  1001  1994  Neural Network Ensembles, Cross Validation, an...   \n",
              "\n",
              "  event_type                                           pdf_name  \\\n",
              "0        NaN  1-self-organization-of-associative-database-an...   \n",
              "1        NaN  10-a-mean-field-theory-of-layer-iv-of-visual-c...   \n",
              "2        NaN  100-storing-covariance-by-the-associative-long...   \n",
              "3        NaN  1000-bayesian-query-construction-for-neural-ne...   \n",
              "4        NaN  1001-neural-network-ensembles-cross-validation...   \n",
              "\n",
              "           abstract  \n",
              "0  Abstract Missing  \n",
              "1  Abstract Missing  \n",
              "2  Abstract Missing  \n",
              "3  Abstract Missing  \n",
              "4  Abstract Missing  "
            ]
          },
          "metadata": {
            "tags": []
          },
          "execution_count": 6
        }
      ]
    },
    {
      "cell_type": "code",
      "metadata": {
        "id": "JucE2rG7T3KX",
        "colab_type": "code",
        "outputId": "a8c8712f-5f27-4ea6-8db2-6584e3d70b7f",
        "colab": {
          "base_uri": "https://localhost:8080/",
          "height": 118
        }
      },
      "source": [
        "df['abstract'][df['year']>=2013].head()"
      ],
      "execution_count": 0,
      "outputs": [
        {
          "output_type": "execute_result",
          "data": {
            "text/plain": [
              "4261    If a piece of information is released from a m...\n",
              "4262    The adaptive anonymity problem is formalized w...\n",
              "4263    Tensor completion from incomplete observations...\n",
              "4265    Motivated by an application in computational b...\n",
              "4266    Lifted inference algorithms exploit symmetries...\n",
              "Name: abstract, dtype: object"
            ]
          },
          "metadata": {
            "tags": []
          },
          "execution_count": 7
        }
      ]
    },
    {
      "cell_type": "code",
      "metadata": {
        "id": "6PXZ4ueuT3KZ",
        "colab_type": "code",
        "colab": {}
      },
      "source": [
        ""
      ],
      "execution_count": 0,
      "outputs": []
    },
    {
      "cell_type": "markdown",
      "metadata": {
        "id": "vJx82xFuT3Ka",
        "colab_type": "text"
      },
      "source": [
        "## 1. Investigación, 2.5 ptos (0.5ptos c/u)\n",
        "\n",
        "\n",
        "\n",
        "\n",
        "1. ¿Qué es el modelado de tópicos?¿Para qué sirve? De dos ejemplos de uso.\n",
        "2. Explique LDA, detalle que significa cada unos de los parámetros ($\\theta_{d}, \\beta_{k}, \\alpha, \\eta$).\n",
        "3. Mencione algún uso alternativo de LDA a parte de encontrar tópicos.\n",
        "\n",
        "Hint: Piense en que tiene un problema de clasificación  con variables estructuradas y una variable no estructurada (texto), entonces, ¿cómo LDA puede ayudar a mejorar el performance del modelo de clasificación?, tenga en cuenta que el tamaño del vocabulario es muy grande como para concatenar la representación vectorial del documento al resto de variables usando vector space model, ya que si lo hace las variables estructuradas (que son pocas y son buenos predictores) son opacadas por la dimensionalidad del otro vector, además  de ser más sensible a sobreajuste y maldición  de la dimensionalidad.\n",
        "\n",
        "4. Investigue otro modelo de tópicos y expliquelo, comenté en que se diferencia de LDA.\n",
        "5. Investigue y explique al menos 2 técnicas para determinar el número óptimo de tópicos. ¿Cuál es el problema de usar métricas para escoger el número óptimo de tópicos? \n"
      ]
    },
    {
      "cell_type": "code",
      "metadata": {
        "id": "iDwS5zOaT3Kb",
        "colab_type": "code",
        "colab": {}
      },
      "source": [
        ""
      ],
      "execution_count": 0,
      "outputs": []
    },
    {
      "cell_type": "markdown",
      "metadata": {
        "id": "EmHFi64yT3Kd",
        "colab_type": "text"
      },
      "source": [
        "## 2. Aplicación, 3.5 ptos\n",
        "\n",
        "\n",
        "2.1 (0.5 ptos) Cree una función para procesar los textos e imprima en pantalla un ejemplo del dataset sin y con procesar. \n",
        "Justifique los supuestos realizados. ¿A cuánto se reduce el vocabulario? \n",
        "\n",
        "\n",
        "2.2. (0.5 ptos) Postprocessing: análisis de palabras muy frecuentes, poco frecuentes, errores ortográficos, etc. Justifique los supuestos realizados para reducir el vocabulario aún más. ¿A cuánto se reduce el vocabulario? \n",
        "\n",
        "\n",
        "2.3. (3.5 ptos) LDA \n",
        "\n",
        "2.3.1 (1.5 ptos) Ejecute LDA para k=2, ...10 e interprete los tópicos encontrados. Argumente.\n",
        "\n",
        "2.3.2 (0.5 ptos) Escoga el número óptimo de tópicos en base a las métricas investigadas y su juicio. \n",
        "\n",
        "2.3.3 (0.5 ptos) Analice el tamaño de los tópicos y concluya. \n",
        "\n",
        "\n",
        "Bonus (1 pto): Realice el mismo análisis con el otro modelo de tópicos investigado para el número óptimo de tópicos encontrado en la parte 2.3.2\n"
      ]
    },
    {
      "cell_type": "code",
      "metadata": {
        "id": "qMVgemEtT3Kd",
        "colab_type": "code",
        "colab": {}
      },
      "source": [
        ""
      ],
      "execution_count": 0,
      "outputs": []
    }
  ]
}