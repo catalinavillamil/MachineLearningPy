{
  "nbformat": 4,
  "nbformat_minor": 0,
  "metadata": {
    "colab": {
      "name": "Laboratorio 6: Regresión.ipynb",
      "provenance": [],
      "collapsed_sections": []
    }
  },
  "cells": [
    {
      "cell_type": "markdown",
      "metadata": {
        "id": "4s3KNcuvYE_x",
        "colab_type": "text"
      },
      "source": [
        "El formato de entrega será subir a u-cursos un Jupyter notebook laboratorio6.ipynb, que se debe ejecutar sin errores desde la primera celda a la última. Todo el código debe estar en el mismo notebook, el código debe estar comentado y el notebook debe estar escrito en forma de informe técnico, escribiendo una celda markdown antes de cada celda de código. **Recuerde escribir el nombre de todos los integrantes que trabajaron en la elaboración del entregable**.\n",
        "\n",
        "\n",
        "\n"
      ]
    },
    {
      "cell_type": "markdown",
      "metadata": {
        "id": "094W_jsCU61o",
        "colab_type": "text"
      },
      "source": [
        "**Integrantes**:\n",
        "1. NN1\n",
        "2. NN2\n",
        "3. NN3"
      ]
    },
    {
      "cell_type": "markdown",
      "metadata": {
        "id": "0gNZZLSLX8l5",
        "colab_type": "text"
      },
      "source": [
        "# Laboratorio 6: Regresión\n",
        "\n",
        "Objetivos:\n",
        "\n",
        "\n",
        "\n",
        "1.  Entender en qué casos se puede utilizar regresión\n",
        "2.  Conocer y aplicar modelos de regresión y métricas asociadas\n",
        "3.  Entender overfitting, cómo corregirlo y necesidad de validar un modelo\n",
        "\n",
        "\n",
        "\n"
      ]
    },
    {
      "cell_type": "markdown",
      "metadata": {
        "id": "9A8SMD2Jh4AY",
        "colab_type": "text"
      },
      "source": [
        "# 1. Regresión"
      ]
    },
    {
      "cell_type": "code",
      "metadata": {
        "id": "rmp88x2Tj8mv",
        "colab_type": "code",
        "colab": {}
      },
      "source": [
        "class Modelo:\n",
        "  # Definimos la clase modelo, para después poder tener una variable que sea una instancia de éste.\n",
        "  # Algunos modelos requieren iniciar ciertos parámetros, ésta es una forma de hacerlo.\n",
        "\n",
        "    def Fit(X,Y):\n",
        "      # Ajusta los pesos, o parámetros que posea el modelo.\n",
        "      # Esta es la función que \"entrena\" al modelo, dependiendo de cuál se haya elegido y la cantidad de datos puede tomar mucho tiempo.\n",
        "    \n",
        "    def Predict(X):\n",
        "      # Una vez que tenemos entrenado un modelo, usualmente queremos hacer predicciones, para este caso\n",
        "      # entregamos el vector de variables, y nos retorna un vector con los valores predichos para cada observación.\n",
        "      return predictions"
      ],
      "execution_count": 0,
      "outputs": []
    },
    {
      "cell_type": "markdown",
      "metadata": {
        "id": "PTYS6MLOLdPn",
        "colab_type": "text"
      },
      "source": [
        "# 2. Métricas"
      ]
    },
    {
      "cell_type": "code",
      "metadata": {
        "id": "hPK-268zahEu",
        "colab_type": "code",
        "colab": {}
      },
      "source": [
        "x=[1, 2, 3]\n",
        "y=[3, 4, 5]"
      ],
      "execution_count": 0,
      "outputs": []
    },
    {
      "cell_type": "markdown",
      "metadata": {
        "id": "IwarDzvRLg7M",
        "colab_type": "text"
      },
      "source": [
        "## Mean Absolute Error (MAE)\n",
        "\n"
      ]
    },
    {
      "cell_type": "markdown",
      "metadata": {
        "id": "x5muFnq5bA9p",
        "colab_type": "text"
      },
      "source": [
        "\\begin{equation}\n",
        " MAE=  \\frac{1}{n} \\sum_{i}^{n} | x_{i} - y_{i} |\n",
        "\\end{equation}"
      ]
    },
    {
      "cell_type": "code",
      "metadata": {
        "id": "dfHU3RpILgQQ",
        "colab_type": "code",
        "outputId": "31b8f30f-637f-4a7a-84ae-264b38996fc2",
        "colab": {
          "base_uri": "https://localhost:8080/",
          "height": 34
        }
      },
      "source": [
        "from sklearn.metrics import mean_absolute_error\n",
        "mean_absolute_error(x,y)"
      ],
      "execution_count": 0,
      "outputs": [
        {
          "output_type": "execute_result",
          "data": {
            "text/plain": [
              "2.0"
            ]
          },
          "metadata": {
            "tags": []
          },
          "execution_count": 124
        }
      ]
    },
    {
      "cell_type": "markdown",
      "metadata": {
        "id": "PBHMU_i-LlVe",
        "colab_type": "text"
      },
      "source": [
        "# Root Mean Squared Error (RMSE)"
      ]
    },
    {
      "cell_type": "markdown",
      "metadata": {
        "id": "EzsqHMTebaMq",
        "colab_type": "text"
      },
      "source": [
        "\\begin{equation}\n",
        " RMSE =  \\sqrt{ \\frac{1}{n} \\sum_{i}^{n}  (x_{i} - y_{i}) ^{2} } \n",
        "\\end{equation}"
      ]
    },
    {
      "cell_type": "code",
      "metadata": {
        "id": "kmg-z1veLqNz",
        "colab_type": "code",
        "outputId": "2ec19612-8f2d-4028-ace3-26b191cbfb00",
        "colab": {
          "base_uri": "https://localhost:8080/",
          "height": 34
        }
      },
      "source": [
        "from sklearn.metrics import mean_squared_error\n",
        "mean_squared_error(x,y)"
      ],
      "execution_count": 0,
      "outputs": [
        {
          "output_type": "execute_result",
          "data": {
            "text/plain": [
              "4.0"
            ]
          },
          "metadata": {
            "tags": []
          },
          "execution_count": 125
        }
      ]
    },
    {
      "cell_type": "markdown",
      "metadata": {
        "id": "h1SYL-ypLqn4",
        "colab_type": "text"
      },
      "source": [
        "# 3. Ejemplo"
      ]
    },
    {
      "cell_type": "code",
      "metadata": {
        "id": "wPXn5Mh7YXZK",
        "colab_type": "code",
        "colab": {}
      },
      "source": [
        "import numpy as np\n",
        "import matplotlib.pyplot as plt\n",
        "import pandas as pd"
      ],
      "execution_count": 0,
      "outputs": []
    },
    {
      "cell_type": "code",
      "metadata": {
        "id": "pKnp4cObTnRL",
        "colab_type": "code",
        "outputId": "a7981817-d12f-4f92-99e8-54a13f5b98b2",
        "colab": {
          "base_uri": "https://localhost:8080/",
          "height": 202
        }
      },
      "source": [
        "!wget https://raw.githubusercontent.com/Camiloez/Labs-Data-Mining/master/data.csv\n",
        "!mv data.csv ejemplo.csv\n",
        "df=pd.read_csv('ejemplo.csv')"
      ],
      "execution_count": 0,
      "outputs": [
        {
          "output_type": "stream",
          "text": [
            "--2018-11-29 03:43:33--  https://raw.githubusercontent.com/Camiloez/Labs-Data-Mining/master/data.csv\n",
            "Resolving raw.githubusercontent.com (raw.githubusercontent.com)... 151.101.0.133, 151.101.64.133, 151.101.128.133, ...\n",
            "Connecting to raw.githubusercontent.com (raw.githubusercontent.com)|151.101.0.133|:443... connected.\n",
            "HTTP request sent, awaiting response... 200 OK\n",
            "Length: 10223 (10.0K) [text/plain]\n",
            "Saving to: ‘data.csv’\n",
            "\n",
            "\rdata.csv              0%[                    ]       0  --.-KB/s               \rdata.csv            100%[===================>]   9.98K  --.-KB/s    in 0s      \n",
            "\n",
            "2018-11-29 03:43:33 (76.7 MB/s) - ‘data.csv’ saved [10223/10223]\n",
            "\n"
          ],
          "name": "stdout"
        }
      ]
    },
    {
      "cell_type": "code",
      "metadata": {
        "id": "l4XzJ5BWJ18N",
        "colab_type": "code",
        "outputId": "2adf0446-1ce0-4b2d-a6ed-7eee40f72a16",
        "colab": {
          "base_uri": "https://localhost:8080/",
          "height": 204
        }
      },
      "source": [
        "df=df.dropna()\n",
        "df.head(5)"
      ],
      "execution_count": 0,
      "outputs": [
        {
          "output_type": "execute_result",
          "data": {
            "text/html": [
              "<div>\n",
              "<style scoped>\n",
              "    .dataframe tbody tr th:only-of-type {\n",
              "        vertical-align: middle;\n",
              "    }\n",
              "\n",
              "    .dataframe tbody tr th {\n",
              "        vertical-align: top;\n",
              "    }\n",
              "\n",
              "    .dataframe thead th {\n",
              "        text-align: right;\n",
              "    }\n",
              "</style>\n",
              "<table border=\"1\" class=\"dataframe\">\n",
              "  <thead>\n",
              "    <tr style=\"text-align: right;\">\n",
              "      <th></th>\n",
              "      <th>CustomerID</th>\n",
              "      <th>State</th>\n",
              "      <th>Area Code</th>\n",
              "      <th>Address</th>\n",
              "      <th>Phone</th>\n",
              "      <th>Age</th>\n",
              "      <th>Genre</th>\n",
              "      <th>Education</th>\n",
              "      <th>Annual Income (k$)</th>\n",
              "      <th>Expenses</th>\n",
              "      <th>Spending Score (1-100)</th>\n",
              "      <th>Club Member</th>\n",
              "    </tr>\n",
              "  </thead>\n",
              "  <tbody>\n",
              "    <tr>\n",
              "      <th>0</th>\n",
              "      <td>1</td>\n",
              "      <td>KS</td>\n",
              "      <td>415</td>\n",
              "      <td>2.0</td>\n",
              "      <td>382-4657</td>\n",
              "      <td>19</td>\n",
              "      <td>Male</td>\n",
              "      <td>2.0</td>\n",
              "      <td>15</td>\n",
              "      <td>-</td>\n",
              "      <td>39</td>\n",
              "      <td>no</td>\n",
              "    </tr>\n",
              "    <tr>\n",
              "      <th>1</th>\n",
              "      <td>2</td>\n",
              "      <td>OH</td>\n",
              "      <td>415</td>\n",
              "      <td>17.0</td>\n",
              "      <td>371-7191</td>\n",
              "      <td>21</td>\n",
              "      <td>Male</td>\n",
              "      <td>3.0</td>\n",
              "      <td>15</td>\n",
              "      <td>-</td>\n",
              "      <td>81</td>\n",
              "      <td>no</td>\n",
              "    </tr>\n",
              "    <tr>\n",
              "      <th>2</th>\n",
              "      <td>3</td>\n",
              "      <td>NJ</td>\n",
              "      <td>415</td>\n",
              "      <td>12.0</td>\n",
              "      <td>358-1921</td>\n",
              "      <td>20</td>\n",
              "      <td>Female</td>\n",
              "      <td>1.0</td>\n",
              "      <td>16</td>\n",
              "      <td>-</td>\n",
              "      <td>6</td>\n",
              "      <td>no</td>\n",
              "    </tr>\n",
              "    <tr>\n",
              "      <th>3</th>\n",
              "      <td>4</td>\n",
              "      <td>OH</td>\n",
              "      <td>408</td>\n",
              "      <td>3.0</td>\n",
              "      <td>375-9999</td>\n",
              "      <td>23</td>\n",
              "      <td>Female</td>\n",
              "      <td>1.0</td>\n",
              "      <td>16</td>\n",
              "      <td>299.4</td>\n",
              "      <td>77</td>\n",
              "      <td>yes</td>\n",
              "    </tr>\n",
              "    <tr>\n",
              "      <th>4</th>\n",
              "      <td>5</td>\n",
              "      <td>OK</td>\n",
              "      <td>415</td>\n",
              "      <td>2.0</td>\n",
              "      <td>330-6626</td>\n",
              "      <td>31</td>\n",
              "      <td>Female</td>\n",
              "      <td>1.0</td>\n",
              "      <td>17</td>\n",
              "      <td>166.7</td>\n",
              "      <td>40</td>\n",
              "      <td>yes</td>\n",
              "    </tr>\n",
              "  </tbody>\n",
              "</table>\n",
              "</div>"
            ],
            "text/plain": [
              "   CustomerID State  Area Code  Address     Phone  Age   Genre  Education  \\\n",
              "0           1    KS        415      2.0  382-4657   19    Male        2.0   \n",
              "1           2    OH        415     17.0  371-7191   21    Male        3.0   \n",
              "2           3    NJ        415     12.0  358-1921   20  Female        1.0   \n",
              "3           4    OH        408      3.0  375-9999   23  Female        1.0   \n",
              "4           5    OK        415      2.0  330-6626   31  Female        1.0   \n",
              "\n",
              "   Annual Income (k$) Expenses  Spending Score (1-100) Club Member  \n",
              "0                  15        -                      39          no  \n",
              "1                  15        -                      81          no  \n",
              "2                  16        -                       6          no  \n",
              "3                  16    299.4                      77         yes  \n",
              "4                  17    166.7                      40         yes  "
            ]
          },
          "metadata": {
            "tags": []
          },
          "execution_count": 128
        }
      ]
    },
    {
      "cell_type": "code",
      "metadata": {
        "id": "5sky73XnH3Tt",
        "colab_type": "code",
        "outputId": "0831d2cc-be7c-4944-fd7d-e1fa01db9450",
        "colab": {
          "base_uri": "https://localhost:8080/",
          "height": 204
        }
      },
      "source": [
        "x=df.iloc[:,5:10]\n",
        "del x['Genre']\n",
        "del x['Expenses']\n",
        "x.head(5)\n",
        "\n"
      ],
      "execution_count": 0,
      "outputs": [
        {
          "output_type": "execute_result",
          "data": {
            "text/html": [
              "<div>\n",
              "<style scoped>\n",
              "    .dataframe tbody tr th:only-of-type {\n",
              "        vertical-align: middle;\n",
              "    }\n",
              "\n",
              "    .dataframe tbody tr th {\n",
              "        vertical-align: top;\n",
              "    }\n",
              "\n",
              "    .dataframe thead th {\n",
              "        text-align: right;\n",
              "    }\n",
              "</style>\n",
              "<table border=\"1\" class=\"dataframe\">\n",
              "  <thead>\n",
              "    <tr style=\"text-align: right;\">\n",
              "      <th></th>\n",
              "      <th>Age</th>\n",
              "      <th>Education</th>\n",
              "      <th>Annual Income (k$)</th>\n",
              "    </tr>\n",
              "  </thead>\n",
              "  <tbody>\n",
              "    <tr>\n",
              "      <th>0</th>\n",
              "      <td>19</td>\n",
              "      <td>2.0</td>\n",
              "      <td>15</td>\n",
              "    </tr>\n",
              "    <tr>\n",
              "      <th>1</th>\n",
              "      <td>21</td>\n",
              "      <td>3.0</td>\n",
              "      <td>15</td>\n",
              "    </tr>\n",
              "    <tr>\n",
              "      <th>2</th>\n",
              "      <td>20</td>\n",
              "      <td>1.0</td>\n",
              "      <td>16</td>\n",
              "    </tr>\n",
              "    <tr>\n",
              "      <th>3</th>\n",
              "      <td>23</td>\n",
              "      <td>1.0</td>\n",
              "      <td>16</td>\n",
              "    </tr>\n",
              "    <tr>\n",
              "      <th>4</th>\n",
              "      <td>31</td>\n",
              "      <td>1.0</td>\n",
              "      <td>17</td>\n",
              "    </tr>\n",
              "  </tbody>\n",
              "</table>\n",
              "</div>"
            ],
            "text/plain": [
              "   Age  Education  Annual Income (k$)\n",
              "0   19        2.0                  15\n",
              "1   21        3.0                  15\n",
              "2   20        1.0                  16\n",
              "3   23        1.0                  16\n",
              "4   31        1.0                  17"
            ]
          },
          "metadata": {
            "tags": []
          },
          "execution_count": 129
        }
      ]
    },
    {
      "cell_type": "code",
      "metadata": {
        "id": "tM0CM_aaLIxM",
        "colab_type": "code",
        "outputId": "cb203972-27f1-4b55-ad39-48691d3709f1",
        "colab": {
          "base_uri": "https://localhost:8080/",
          "height": 119
        }
      },
      "source": [
        "y=df.iloc[:,10]\n",
        "y.head(5)"
      ],
      "execution_count": 0,
      "outputs": [
        {
          "output_type": "execute_result",
          "data": {
            "text/plain": [
              "0    39\n",
              "1    81\n",
              "2     6\n",
              "3    77\n",
              "4    40\n",
              "Name: Spending Score (1-100), dtype: int64"
            ]
          },
          "metadata": {
            "tags": []
          },
          "execution_count": 130
        }
      ]
    },
    {
      "cell_type": "markdown",
      "metadata": {
        "id": "3x30xK9xPzr7",
        "colab_type": "text"
      },
      "source": [
        "### Separación 80% datos entrenamiento y 20% datos de test."
      ]
    },
    {
      "cell_type": "code",
      "metadata": {
        "id": "kskUZpWYPuwn",
        "colab_type": "code",
        "outputId": "b54b1a34-d345-41fd-dca1-e098a458a147",
        "colab": {
          "base_uri": "https://localhost:8080/",
          "height": 85
        }
      },
      "source": [
        "from sklearn.model_selection import train_test_split\n",
        "X_train, X_test, y_train, y_test = train_test_split(x, y, test_size=0.20, random_state=42)\n",
        "\n",
        "print(len(X_train))\n",
        "print(len(y_train))\n",
        "print(len(X_test))\n",
        "print(len(y_test))"
      ],
      "execution_count": 0,
      "outputs": [
        {
          "output_type": "stream",
          "text": [
            "96\n",
            "96\n",
            "24\n",
            "24\n"
          ],
          "name": "stdout"
        }
      ]
    },
    {
      "cell_type": "markdown",
      "metadata": {
        "id": "drQxvORZj61P",
        "colab_type": "text"
      },
      "source": [
        "## Entrenar modelos sobre los conjuntos train y test"
      ]
    },
    {
      "cell_type": "code",
      "metadata": {
        "id": "6a6FHV2_Tnbc",
        "colab_type": "code",
        "colab": {}
      },
      "source": [
        "from sklearn.linear_model import LinearRegression\n",
        "from sklearn.tree import DecisionTreeRegressor\n",
        "from sklearn.neighbors import KNeighborsRegressor\n",
        "from sklearn.svm import SVR\n",
        "from sklearn.ensemble import RandomForestRegressor\n",
        "\n",
        "\n",
        "# Modelos\n",
        "models = []\n",
        "models.append(LinearRegression())\n",
        "models.append(KNeighborsRegressor())\n",
        "models.append(DecisionTreeRegressor())\n",
        "models.append(RandomForestRegressor(random_state=10))\n",
        "models.append(SVR())\n",
        "#Names\n",
        "names=[]\n",
        "names.append('Reg Lineal')\n",
        "names.append('KNN')\n",
        "names.append('D Tree')\n",
        "names.append('Random Forest')\n",
        "names.append('SVM')\n"
      ],
      "execution_count": 0,
      "outputs": []
    },
    {
      "cell_type": "code",
      "metadata": {
        "id": "8c6ARA5DSV1p",
        "colab_type": "code",
        "colab": {}
      },
      "source": [
        "from sklearn.metrics import mean_squared_error\n",
        "from sklearn.metrics import mean_absolute_error\n",
        "\n",
        "\n",
        "\n",
        "train_MAE=[]\n",
        "train_RMSE=[]\n",
        "test_MAE=[]\n",
        "test_RMSE=[]\n",
        "\n",
        "for model in models:\n",
        "  #Ajuste\n",
        "  model.fit(X_train, y_train)\n",
        "  \n",
        "  # Train predict\n",
        "  y_pred=model.predict(X_train)  \n",
        "  #Métricas\n",
        "  RMSE=np.sqrt(mean_squared_error(y_train, y_pred))\n",
        "  MAE=mean_absolute_error(y_train, y_pred)\n",
        "  \n",
        "  \n",
        "  train_MAE.append(MAE)\n",
        "  train_RMSE.append(RMSE)\n",
        "  \n",
        "  \n",
        "  #Test predict\n",
        "  y_pred=model.predict(X_test) \n",
        "  #Métricas\n",
        "  RMSE=np.sqrt(mean_squared_error(y_test, y_pred))\n",
        "  MAE=mean_absolute_error(y_test, y_pred)\n",
        "  \n",
        "  test_MAE.append(MAE)\n",
        "  test_RMSE.append(RMSE)\n",
        "  "
      ],
      "execution_count": 0,
      "outputs": []
    },
    {
      "cell_type": "markdown",
      "metadata": {
        "id": "8lXL6uEC0I42",
        "colab_type": "text"
      },
      "source": [
        "## Métricas Train v/s Test por Modelo"
      ]
    },
    {
      "cell_type": "code",
      "metadata": {
        "id": "1ESf6V-R0HVz",
        "colab_type": "code",
        "outputId": "aa443794-9417-4540-9427-2a8d5985190c",
        "colab": {
          "base_uri": "https://localhost:8080/",
          "height": 362
        }
      },
      "source": [
        "plt.scatter(names, test_MAE, label='Test')\n",
        "plt.scatter(names, train_MAE, label='Train')\n",
        "plt.legend(loc='lower right')\n",
        "plt.title('Test MAE v/s Train MAE')\n",
        "plt.ylabel('MAE')\n",
        "plt.show()"
      ],
      "execution_count": 0,
      "outputs": [
        {
          "output_type": "display_data",
          "data": {
            "image/png": "[encoded data removed]",
            "text/plain": [
              "<matplotlib.figure.Figure at 0x7fdee81a6650>"
            ]
          },
          "metadata": {
            "tags": []
          }
        }
      ]
    },
    {
      "cell_type": "code",
      "metadata": {
        "id": "0BGCgTHXX-fs",
        "colab_type": "code",
        "outputId": "b65f6b0a-e9f4-4622-94d0-0e253be497ab",
        "colab": {
          "base_uri": "https://localhost:8080/",
          "height": 362
        }
      },
      "source": [
        "plt.scatter(names, test_RMSE, label='Test')\n",
        "plt.scatter(names, train_RMSE, label='Train')\n",
        "plt.legend(loc='lower right')\n",
        "plt.title('Test RMSE v/s Train RMSE ')\n",
        "plt.ylabel('RMSE')\n",
        "plt.show()"
      ],
      "execution_count": 0,
      "outputs": [
        {
          "output_type": "display_data",
          "data": {
            "image/png": "[encoded data removed]",
            "text/plain": [
              "<matplotlib.figure.Figure at 0x7fdee83b9550>"
            ]
          },
          "metadata": {
            "tags": []
          }
        }
      ]
    },
    {
      "cell_type": "markdown",
      "metadata": {
        "id": "Y--TrIWGUjca",
        "colab_type": "text"
      },
      "source": [
        "# Investigación (2 ptos)\n",
        "\n",
        "Responda 2 de 3 preguntas, si contesta todas se elegirán las mejores.\n",
        "\n",
        "1. Explique qué es la regularización, y cuál es su utilidad. ¿Es este un método *filter, wrapper o embedded*?\n",
        "2. Investigue las siguientes métricas:  *mean squared error (MSE), Median absolute error (MedAE), Mean squared logarithmic error (MSLE)*. Describa al menos un caso por cada métrica en que se recomiende el uso de ésta.\n",
        "3. Frente a una base de datos con gran cantidad de outliers, ¿Qué métrica posee más sensibilidad, MAE o RMSE? Justifique.\n",
        "\n"
      ]
    },
    {
      "cell_type": "markdown",
      "metadata": {
        "id": "wGlApIV7F9wJ",
        "colab_type": "text"
      },
      "source": [
        "# Laboratorio (4 ptos)\n",
        "\n",
        "\n",
        "Considere el problema que enfrenta una empresa de inversión inmobiliaria, cuyo fin es predecir el valor promedio de una casa en un distrito y poder definir donde invertir para maximizar sus ganancias.\n",
        "\n",
        "Para lo anterior cuenta con los siguientes datos:\n",
        "\n",
        "\n",
        "1.   Datos geográficos: latitud y longitud.\n",
        "2.   Datos asociados a personas: cuánta gente vive en un distrito, ingreso promedio, edad promedio de los habitantes.\n",
        "3. Datos asociados a hogares: cantidad de piezas, valor medio de una casa en un distrito, cantidad de hogares en un distrito.\n",
        "\n",
        "\n",
        "\n",
        "\n",
        "\n",
        "\n",
        "\n",
        "\n",
        "\n",
        "\n",
        "\n",
        "\n",
        "\n",
        "\n"
      ]
    },
    {
      "cell_type": "markdown",
      "metadata": {
        "id": "fKGkqDI9q3IR",
        "colab_type": "text"
      },
      "source": [
        "**Tareas:**\n",
        "\n",
        "\n",
        "1.   Realice un análisis exploratorio de los datos y muestre al menos 2 gráficos de variables que considere relevantes para el análisis.  Justifique las variables que usará en la regresión. Por último, divida sus datos en conjunto entrenamiento y prueba (**1 pto**)\n",
        "2. Implemente al menos 3 modelos de regresión,  y reporte al menos 2 métricas para cada uno, justifique las métricas elegidas. En caso de observar *overfitting* o *underfitting* mencione por qué cree que sucede. Concluya qué modelo es mejor y justifique (**hint: ** No necesariamente es el que tenga mejor métrica de precisión). (**2 ptos**) \n",
        "3. Seleccione uno de los modelos y aplíquelo en la base de datos de VALIDACION. Debe entregar un archivo .xlsx con la predicción realizada. (**1 pto**)\n",
        "\n",
        "(**BONUS - 1.0 pto**) Repita el paso 2 con validación cruzada ¿se mantiene su decisión respecto al modelo escogido? En caso de no ser así, justifique.\n",
        "\n",
        "\n"
      ]
    },
    {
      "cell_type": "markdown",
      "metadata": {
        "id": "3FuyG3GYWQ0P",
        "colab_type": "text"
      },
      "source": [
        "# Importar Librerías"
      ]
    },
    {
      "cell_type": "code",
      "metadata": {
        "id": "qh-lhh6jX7T0",
        "colab_type": "code",
        "colab": {}
      },
      "source": [
        "import numpy as np\n",
        "import matplotlib.pyplot as plt\n",
        "import pandas as pd\n",
        "import os"
      ],
      "execution_count": 0,
      "outputs": []
    },
    {
      "cell_type": "markdown",
      "metadata": {
        "id": "LpbH73CfbNzs",
        "colab_type": "text"
      },
      "source": [
        "## Descargar datos y leerlos en un Data Frame"
      ]
    },
    {
      "cell_type": "code",
      "metadata": {
        "id": "P0kghe4AnduW",
        "colab_type": "code",
        "outputId": "2a6bafda-9ee2-4a2c-f49e-d147ea1bcc26",
        "colab": {
          "base_uri": "https://localhost:8080/",
          "height": 204
        }
      },
      "source": [
        "#Descarga de datos\n",
        "!wget https://raw.githubusercontent.com/Camiloez/Labs/master/data.csv\n",
        "#Lectura en dataframe\n",
        "df=pd.read_csv('data.csv')"
      ],
      "execution_count": 0,
      "outputs": [
        {
          "output_type": "stream",
          "text": [
            "--2018-11-22 01:58:21--  https://raw.githubusercontent.com/Camiloez/Labs/master/data.csv\n",
            "Resolving raw.githubusercontent.com (raw.githubusercontent.com)... 151.101.0.133, 151.101.64.133, 151.101.128.133, ...\n",
            "Connecting to raw.githubusercontent.com (raw.githubusercontent.com)|151.101.0.133|:443... connected.\n",
            "HTTP request sent, awaiting response... 200 OK\n",
            "Length: 1706430 (1.6M) [text/plain]\n",
            "Saving to: ‘data.csv’\n",
            "\n",
            "\rdata.csv              0%[                    ]       0  --.-KB/s               \rdata.csv            100%[===================>]   1.63M  10.2MB/s    in 0.2s    \n",
            "\n",
            "2018-11-22 01:58:22 (10.2 MB/s) - ‘data.csv’ saved [1706430/1706430]\n",
            "\n"
          ],
          "name": "stdout"
        }
      ]
    },
    {
      "cell_type": "code",
      "metadata": {
        "id": "Zv0IRyLiNF59",
        "colab_type": "code",
        "outputId": "ff9b4cc3-d4db-4b41-bf4f-57b2a74e3833",
        "colab": {
          "base_uri": "https://localhost:8080/",
          "height": 34
        }
      },
      "source": [
        "!ls"
      ],
      "execution_count": 0,
      "outputs": [
        {
          "output_type": "stream",
          "text": [
            "data.csv  datasets  sample_data\n"
          ],
          "name": "stdout"
        }
      ]
    },
    {
      "cell_type": "code",
      "metadata": {
        "id": "A3G59niAd5Js",
        "colab_type": "code",
        "outputId": "71062499-ddf1-47af-8670-30e5625eec0e",
        "colab": {
          "base_uri": "https://localhost:8080/",
          "height": 204
        }
      },
      "source": [
        "df.head(5)"
      ],
      "execution_count": 0,
      "outputs": [
        {
          "output_type": "execute_result",
          "data": {
            "text/html": [
              "<div>\n",
              "<style scoped>\n",
              "    .dataframe tbody tr th:only-of-type {\n",
              "        vertical-align: middle;\n",
              "    }\n",
              "\n",
              "    .dataframe tbody tr th {\n",
              "        vertical-align: top;\n",
              "    }\n",
              "\n",
              "    .dataframe thead th {\n",
              "        text-align: right;\n",
              "    }\n",
              "</style>\n",
              "<table border=\"1\" class=\"dataframe\">\n",
              "  <thead>\n",
              "    <tr style=\"text-align: right;\">\n",
              "      <th></th>\n",
              "      <th>longitude</th>\n",
              "      <th>latitude</th>\n",
              "      <th>housing_median_age</th>\n",
              "      <th>total_rooms</th>\n",
              "      <th>total_bedrooms</th>\n",
              "      <th>population</th>\n",
              "      <th>households</th>\n",
              "      <th>median_income</th>\n",
              "      <th>median_house_value</th>\n",
              "    </tr>\n",
              "  </thead>\n",
              "  <tbody>\n",
              "    <tr>\n",
              "      <th>0</th>\n",
              "      <td>-114.31</td>\n",
              "      <td>34.19</td>\n",
              "      <td>15.0</td>\n",
              "      <td>5612.0</td>\n",
              "      <td>1283.0</td>\n",
              "      <td>1015.0</td>\n",
              "      <td>472.0</td>\n",
              "      <td>1.4936</td>\n",
              "      <td>66900.0</td>\n",
              "    </tr>\n",
              "    <tr>\n",
              "      <th>1</th>\n",
              "      <td>-114.47</td>\n",
              "      <td>34.40</td>\n",
              "      <td>19.0</td>\n",
              "      <td>7650.0</td>\n",
              "      <td>1901.0</td>\n",
              "      <td>1129.0</td>\n",
              "      <td>463.0</td>\n",
              "      <td>1.8200</td>\n",
              "      <td>80100.0</td>\n",
              "    </tr>\n",
              "    <tr>\n",
              "      <th>2</th>\n",
              "      <td>-114.56</td>\n",
              "      <td>33.69</td>\n",
              "      <td>17.0</td>\n",
              "      <td>720.0</td>\n",
              "      <td>174.0</td>\n",
              "      <td>333.0</td>\n",
              "      <td>117.0</td>\n",
              "      <td>1.6509</td>\n",
              "      <td>85700.0</td>\n",
              "    </tr>\n",
              "    <tr>\n",
              "      <th>3</th>\n",
              "      <td>-114.57</td>\n",
              "      <td>33.64</td>\n",
              "      <td>14.0</td>\n",
              "      <td>1501.0</td>\n",
              "      <td>337.0</td>\n",
              "      <td>515.0</td>\n",
              "      <td>226.0</td>\n",
              "      <td>3.1917</td>\n",
              "      <td>73400.0</td>\n",
              "    </tr>\n",
              "    <tr>\n",
              "      <th>4</th>\n",
              "      <td>-114.57</td>\n",
              "      <td>33.57</td>\n",
              "      <td>20.0</td>\n",
              "      <td>1454.0</td>\n",
              "      <td>326.0</td>\n",
              "      <td>624.0</td>\n",
              "      <td>262.0</td>\n",
              "      <td>1.9250</td>\n",
              "      <td>65500.0</td>\n",
              "    </tr>\n",
              "  </tbody>\n",
              "</table>\n",
              "</div>"
            ],
            "text/plain": [
              "   longitude  latitude  housing_median_age  total_rooms  total_bedrooms  \\\n",
              "0    -114.31     34.19                15.0       5612.0          1283.0   \n",
              "1    -114.47     34.40                19.0       7650.0          1901.0   \n",
              "2    -114.56     33.69                17.0        720.0           174.0   \n",
              "3    -114.57     33.64                14.0       1501.0           337.0   \n",
              "4    -114.57     33.57                20.0       1454.0           326.0   \n",
              "\n",
              "   population  households  median_income  median_house_value  \n",
              "0      1015.0       472.0         1.4936             66900.0  \n",
              "1      1129.0       463.0         1.8200             80100.0  \n",
              "2       333.0       117.0         1.6509             85700.0  \n",
              "3       515.0       226.0         3.1917             73400.0  \n",
              "4       624.0       262.0         1.9250             65500.0  "
            ]
          },
          "metadata": {
            "tags": []
          },
          "execution_count": 4
        }
      ]
    },
    {
      "cell_type": "code",
      "metadata": {
        "id": "gSVaH1k_bjG-",
        "colab_type": "code",
        "outputId": "5dcdaa3d-d11e-4a7f-8c3c-e8b272e6288f",
        "colab": {
          "base_uri": "https://localhost:8080/",
          "height": 297
        }
      },
      "source": [
        "df.describe()"
      ],
      "execution_count": 0,
      "outputs": [
        {
          "output_type": "execute_result",
          "data": {
            "text/html": [
              "<div>\n",
              "<style scoped>\n",
              "    .dataframe tbody tr th:only-of-type {\n",
              "        vertical-align: middle;\n",
              "    }\n",
              "\n",
              "    .dataframe tbody tr th {\n",
              "        vertical-align: top;\n",
              "    }\n",
              "\n",
              "    .dataframe thead th {\n",
              "        text-align: right;\n",
              "    }\n",
              "</style>\n",
              "<table border=\"1\" class=\"dataframe\">\n",
              "  <thead>\n",
              "    <tr style=\"text-align: right;\">\n",
              "      <th></th>\n",
              "      <th>longitude</th>\n",
              "      <th>latitude</th>\n",
              "      <th>housing_median_age</th>\n",
              "      <th>total_rooms</th>\n",
              "      <th>total_bedrooms</th>\n",
              "      <th>population</th>\n",
              "      <th>households</th>\n",
              "      <th>median_income</th>\n",
              "      <th>median_house_value</th>\n",
              "    </tr>\n",
              "  </thead>\n",
              "  <tbody>\n",
              "    <tr>\n",
              "      <th>count</th>\n",
              "      <td>17000.000000</td>\n",
              "      <td>17000.000000</td>\n",
              "      <td>17000.000000</td>\n",
              "      <td>17000.000000</td>\n",
              "      <td>17000.000000</td>\n",
              "      <td>17000.000000</td>\n",
              "      <td>17000.000000</td>\n",
              "      <td>17000.000000</td>\n",
              "      <td>17000.000000</td>\n",
              "    </tr>\n",
              "    <tr>\n",
              "      <th>mean</th>\n",
              "      <td>-119.562108</td>\n",
              "      <td>35.625225</td>\n",
              "      <td>28.589353</td>\n",
              "      <td>2643.664412</td>\n",
              "      <td>539.410824</td>\n",
              "      <td>1429.573941</td>\n",
              "      <td>501.221941</td>\n",
              "      <td>3.883578</td>\n",
              "      <td>207300.912353</td>\n",
              "    </tr>\n",
              "    <tr>\n",
              "      <th>std</th>\n",
              "      <td>2.005166</td>\n",
              "      <td>2.137340</td>\n",
              "      <td>12.586937</td>\n",
              "      <td>2179.947071</td>\n",
              "      <td>421.499452</td>\n",
              "      <td>1147.852959</td>\n",
              "      <td>384.520841</td>\n",
              "      <td>1.908157</td>\n",
              "      <td>115983.764387</td>\n",
              "    </tr>\n",
              "    <tr>\n",
              "      <th>min</th>\n",
              "      <td>-124.350000</td>\n",
              "      <td>32.540000</td>\n",
              "      <td>1.000000</td>\n",
              "      <td>2.000000</td>\n",
              "      <td>1.000000</td>\n",
              "      <td>3.000000</td>\n",
              "      <td>1.000000</td>\n",
              "      <td>0.499900</td>\n",
              "      <td>14999.000000</td>\n",
              "    </tr>\n",
              "    <tr>\n",
              "      <th>25%</th>\n",
              "      <td>-121.790000</td>\n",
              "      <td>33.930000</td>\n",
              "      <td>18.000000</td>\n",
              "      <td>1462.000000</td>\n",
              "      <td>297.000000</td>\n",
              "      <td>790.000000</td>\n",
              "      <td>282.000000</td>\n",
              "      <td>2.566375</td>\n",
              "      <td>119400.000000</td>\n",
              "    </tr>\n",
              "    <tr>\n",
              "      <th>50%</th>\n",
              "      <td>-118.490000</td>\n",
              "      <td>34.250000</td>\n",
              "      <td>29.000000</td>\n",
              "      <td>2127.000000</td>\n",
              "      <td>434.000000</td>\n",
              "      <td>1167.000000</td>\n",
              "      <td>409.000000</td>\n",
              "      <td>3.544600</td>\n",
              "      <td>180400.000000</td>\n",
              "    </tr>\n",
              "    <tr>\n",
              "      <th>75%</th>\n",
              "      <td>-118.000000</td>\n",
              "      <td>37.720000</td>\n",
              "      <td>37.000000</td>\n",
              "      <td>3151.250000</td>\n",
              "      <td>648.250000</td>\n",
              "      <td>1721.000000</td>\n",
              "      <td>605.250000</td>\n",
              "      <td>4.767000</td>\n",
              "      <td>265000.000000</td>\n",
              "    </tr>\n",
              "    <tr>\n",
              "      <th>max</th>\n",
              "      <td>-114.310000</td>\n",
              "      <td>41.950000</td>\n",
              "      <td>52.000000</td>\n",
              "      <td>37937.000000</td>\n",
              "      <td>6445.000000</td>\n",
              "      <td>35682.000000</td>\n",
              "      <td>6082.000000</td>\n",
              "      <td>15.000100</td>\n",
              "      <td>500001.000000</td>\n",
              "    </tr>\n",
              "  </tbody>\n",
              "</table>\n",
              "</div>"
            ],
            "text/plain": [
              "          longitude      latitude  housing_median_age   total_rooms  \\\n",
              "count  17000.000000  17000.000000        17000.000000  17000.000000   \n",
              "mean    -119.562108     35.625225           28.589353   2643.664412   \n",
              "std        2.005166      2.137340           12.586937   2179.947071   \n",
              "min     -124.350000     32.540000            1.000000      2.000000   \n",
              "25%     -121.790000     33.930000           18.000000   1462.000000   \n",
              "50%     -118.490000     34.250000           29.000000   2127.000000   \n",
              "75%     -118.000000     37.720000           37.000000   3151.250000   \n",
              "max     -114.310000     41.950000           52.000000  37937.000000   \n",
              "\n",
              "       total_bedrooms    population    households  median_income  \\\n",
              "count    17000.000000  17000.000000  17000.000000   17000.000000   \n",
              "mean       539.410824   1429.573941    501.221941       3.883578   \n",
              "std        421.499452   1147.852959    384.520841       1.908157   \n",
              "min          1.000000      3.000000      1.000000       0.499900   \n",
              "25%        297.000000    790.000000    282.000000       2.566375   \n",
              "50%        434.000000   1167.000000    409.000000       3.544600   \n",
              "75%        648.250000   1721.000000    605.250000       4.767000   \n",
              "max       6445.000000  35682.000000   6082.000000      15.000100   \n",
              "\n",
              "       median_house_value  \n",
              "count        17000.000000  \n",
              "mean        207300.912353  \n",
              "std         115983.764387  \n",
              "min          14999.000000  \n",
              "25%         119400.000000  \n",
              "50%         180400.000000  \n",
              "75%         265000.000000  \n",
              "max         500001.000000  "
            ]
          },
          "metadata": {
            "tags": []
          },
          "execution_count": 5
        }
      ]
    },
    {
      "cell_type": "code",
      "metadata": {
        "id": "n54-R96xYAQ4",
        "colab_type": "code",
        "colab": {}
      },
      "source": [
        ""
      ],
      "execution_count": 0,
      "outputs": []
    },
    {
      "cell_type": "code",
      "metadata": {
        "id": "Hm9PHcjzRnIQ",
        "colab_type": "code",
        "colab": {}
      },
      "source": [
        ""
      ],
      "execution_count": 0,
      "outputs": []
    },
    {
      "cell_type": "code",
      "metadata": {
        "id": "42fj7OqTRnK9",
        "colab_type": "code",
        "colab": {}
      },
      "source": [
        ""
      ],
      "execution_count": 0,
      "outputs": []
    },
    {
      "cell_type": "code",
      "metadata": {
        "id": "zQb1w51DRnPO",
        "colab_type": "code",
        "colab": {}
      },
      "source": [
        ""
      ],
      "execution_count": 0,
      "outputs": []
    },
    {
      "cell_type": "code",
      "metadata": {
        "id": "zi7YDpwjX7vQ",
        "colab_type": "code",
        "colab": {}
      },
      "source": [
        ""
      ],
      "execution_count": 0,
      "outputs": []
    },
    {
      "cell_type": "code",
      "metadata": {
        "id": "hIY_pE5IGPmB",
        "colab_type": "code",
        "colab": {}
      },
      "source": [
        ""
      ],
      "execution_count": 0,
      "outputs": []
    },
    {
      "cell_type": "code",
      "metadata": {
        "id": "KN7ODxOVGPuI",
        "colab_type": "code",
        "colab": {}
      },
      "source": [
        ""
      ],
      "execution_count": 0,
      "outputs": []
    },
    {
      "cell_type": "markdown",
      "metadata": {
        "id": "0r5aHeLbJECs",
        "colab_type": "text"
      },
      "source": [
        "## Validación"
      ]
    },
    {
      "cell_type": "code",
      "metadata": {
        "id": "eCZxSpUsJHYY",
        "colab_type": "code",
        "outputId": "20ef43cc-249d-431c-d992-7815b12dcaea",
        "colab": {
          "base_uri": "https://localhost:8080/",
          "height": 204
        }
      },
      "source": [
        "#Descarga de datos\n",
        "!wget https://raw.githubusercontent.com/Camiloez/Labs/master/validacion.csv\n",
        "#Lectura en dataframe\n",
        "df=pd.read_csv('validacion.csv')"
      ],
      "execution_count": 0,
      "outputs": [
        {
          "output_type": "stream",
          "text": [
            "--2018-11-22 01:59:36--  https://raw.githubusercontent.com/Camiloez/Labs/master/validacion.csv\n",
            "Resolving raw.githubusercontent.com (raw.githubusercontent.com)... 151.101.0.133, 151.101.64.133, 151.101.128.133, ...\n",
            "Connecting to raw.githubusercontent.com (raw.githubusercontent.com)|151.101.0.133|:443... connected.\n",
            "HTTP request sent, awaiting response... 200 OK\n",
            "Length: 129159 (126K) [text/plain]\n",
            "Saving to: ‘validacion.csv’\n",
            "\n",
            "\rvalidacion.csv        0%[                    ]       0  --.-KB/s               \rvalidacion.csv      100%[===================>] 126.13K  --.-KB/s    in 0.02s   \n",
            "\n",
            "2018-11-22 01:59:36 (5.85 MB/s) - ‘validacion.csv’ saved [129159/129159]\n",
            "\n"
          ],
          "name": "stdout"
        }
      ]
    },
    {
      "cell_type": "code",
      "metadata": {
        "id": "EBa7edA8JLbX",
        "colab_type": "code",
        "outputId": "c98e2ba5-dc7b-4599-b771-46baf3856312",
        "colab": {
          "base_uri": "https://localhost:8080/",
          "height": 204
        }
      },
      "source": [
        "df.head(5)"
      ],
      "execution_count": 0,
      "outputs": [
        {
          "output_type": "execute_result",
          "data": {
            "text/html": [
              "<div>\n",
              "<style scoped>\n",
              "    .dataframe tbody tr th:only-of-type {\n",
              "        vertical-align: middle;\n",
              "    }\n",
              "\n",
              "    .dataframe tbody tr th {\n",
              "        vertical-align: top;\n",
              "    }\n",
              "\n",
              "    .dataframe thead th {\n",
              "        text-align: right;\n",
              "    }\n",
              "</style>\n",
              "<table border=\"1\" class=\"dataframe\">\n",
              "  <thead>\n",
              "    <tr style=\"text-align: right;\">\n",
              "      <th></th>\n",
              "      <th>longitude</th>\n",
              "      <th>latitude</th>\n",
              "      <th>housing_median_age</th>\n",
              "      <th>total_rooms</th>\n",
              "      <th>total_bedrooms</th>\n",
              "      <th>population</th>\n",
              "      <th>households</th>\n",
              "      <th>median_income</th>\n",
              "      <th>median_house_value</th>\n",
              "    </tr>\n",
              "  </thead>\n",
              "  <tbody>\n",
              "    <tr>\n",
              "      <th>0</th>\n",
              "      <td>-122.05</td>\n",
              "      <td>37.37</td>\n",
              "      <td>27</td>\n",
              "      <td>3885</td>\n",
              "      <td>661</td>\n",
              "      <td>1537</td>\n",
              "      <td>606</td>\n",
              "      <td>6.6085</td>\n",
              "      <td>NaN</td>\n",
              "    </tr>\n",
              "    <tr>\n",
              "      <th>1</th>\n",
              "      <td>-118.30</td>\n",
              "      <td>34.26</td>\n",
              "      <td>43</td>\n",
              "      <td>1510</td>\n",
              "      <td>310</td>\n",
              "      <td>809</td>\n",
              "      <td>277</td>\n",
              "      <td>3.5990</td>\n",
              "      <td>NaN</td>\n",
              "    </tr>\n",
              "    <tr>\n",
              "      <th>2</th>\n",
              "      <td>-117.81</td>\n",
              "      <td>33.78</td>\n",
              "      <td>27</td>\n",
              "      <td>3589</td>\n",
              "      <td>507</td>\n",
              "      <td>1484</td>\n",
              "      <td>495</td>\n",
              "      <td>5.7934</td>\n",
              "      <td>NaN</td>\n",
              "    </tr>\n",
              "    <tr>\n",
              "      <th>3</th>\n",
              "      <td>-118.36</td>\n",
              "      <td>33.82</td>\n",
              "      <td>28</td>\n",
              "      <td>67</td>\n",
              "      <td>15</td>\n",
              "      <td>49</td>\n",
              "      <td>11</td>\n",
              "      <td>6.1359</td>\n",
              "      <td>NaN</td>\n",
              "    </tr>\n",
              "    <tr>\n",
              "      <th>4</th>\n",
              "      <td>-119.67</td>\n",
              "      <td>36.33</td>\n",
              "      <td>19</td>\n",
              "      <td>1241</td>\n",
              "      <td>244</td>\n",
              "      <td>850</td>\n",
              "      <td>237</td>\n",
              "      <td>2.9375</td>\n",
              "      <td>NaN</td>\n",
              "    </tr>\n",
              "  </tbody>\n",
              "</table>\n",
              "</div>"
            ],
            "text/plain": [
              "   longitude  latitude  housing_median_age  total_rooms  total_bedrooms  \\\n",
              "0    -122.05     37.37                  27         3885             661   \n",
              "1    -118.30     34.26                  43         1510             310   \n",
              "2    -117.81     33.78                  27         3589             507   \n",
              "3    -118.36     33.82                  28           67              15   \n",
              "4    -119.67     36.33                  19         1241             244   \n",
              "\n",
              "   population  households  median_income  median_house_value  \n",
              "0        1537         606         6.6085                 NaN  \n",
              "1         809         277         3.5990                 NaN  \n",
              "2        1484         495         5.7934                 NaN  \n",
              "3          49          11         6.1359                 NaN  \n",
              "4         850         237         2.9375                 NaN  "
            ]
          },
          "metadata": {
            "tags": []
          },
          "execution_count": 7
        }
      ]
    },
    {
      "cell_type": "code",
      "metadata": {
        "id": "bJZv_EH6JP-x",
        "colab_type": "code",
        "outputId": "71b7db19-a4c5-4352-91fa-9fa065bf11b6",
        "colab": {
          "base_uri": "https://localhost:8080/",
          "height": 297
        }
      },
      "source": [
        "df.describe()"
      ],
      "execution_count": 0,
      "outputs": [
        {
          "output_type": "execute_result",
          "data": {
            "text/html": [
              "<div>\n",
              "<style scoped>\n",
              "    .dataframe tbody tr th:only-of-type {\n",
              "        vertical-align: middle;\n",
              "    }\n",
              "\n",
              "    .dataframe tbody tr th {\n",
              "        vertical-align: top;\n",
              "    }\n",
              "\n",
              "    .dataframe thead th {\n",
              "        text-align: right;\n",
              "    }\n",
              "</style>\n",
              "<table border=\"1\" class=\"dataframe\">\n",
              "  <thead>\n",
              "    <tr style=\"text-align: right;\">\n",
              "      <th></th>\n",
              "      <th>longitude</th>\n",
              "      <th>latitude</th>\n",
              "      <th>housing_median_age</th>\n",
              "      <th>total_rooms</th>\n",
              "      <th>total_bedrooms</th>\n",
              "      <th>population</th>\n",
              "      <th>households</th>\n",
              "      <th>median_income</th>\n",
              "      <th>median_house_value</th>\n",
              "    </tr>\n",
              "  </thead>\n",
              "  <tbody>\n",
              "    <tr>\n",
              "      <th>count</th>\n",
              "      <td>3000.000000</td>\n",
              "      <td>3000.00000</td>\n",
              "      <td>3000.000000</td>\n",
              "      <td>3000.000000</td>\n",
              "      <td>3000.000000</td>\n",
              "      <td>3000.000000</td>\n",
              "      <td>3000.00000</td>\n",
              "      <td>3000.000000</td>\n",
              "      <td>0.0</td>\n",
              "    </tr>\n",
              "    <tr>\n",
              "      <th>mean</th>\n",
              "      <td>-119.589200</td>\n",
              "      <td>35.63539</td>\n",
              "      <td>28.845333</td>\n",
              "      <td>2599.578667</td>\n",
              "      <td>529.950667</td>\n",
              "      <td>1402.798667</td>\n",
              "      <td>489.91200</td>\n",
              "      <td>3.807272</td>\n",
              "      <td>NaN</td>\n",
              "    </tr>\n",
              "    <tr>\n",
              "      <th>std</th>\n",
              "      <td>1.994936</td>\n",
              "      <td>2.12967</td>\n",
              "      <td>12.555396</td>\n",
              "      <td>2155.593332</td>\n",
              "      <td>415.654368</td>\n",
              "      <td>1030.543012</td>\n",
              "      <td>365.42271</td>\n",
              "      <td>1.854512</td>\n",
              "      <td>NaN</td>\n",
              "    </tr>\n",
              "    <tr>\n",
              "      <th>min</th>\n",
              "      <td>-124.180000</td>\n",
              "      <td>32.56000</td>\n",
              "      <td>1.000000</td>\n",
              "      <td>6.000000</td>\n",
              "      <td>2.000000</td>\n",
              "      <td>5.000000</td>\n",
              "      <td>2.00000</td>\n",
              "      <td>0.499900</td>\n",
              "      <td>NaN</td>\n",
              "    </tr>\n",
              "    <tr>\n",
              "      <th>25%</th>\n",
              "      <td>-121.810000</td>\n",
              "      <td>33.93000</td>\n",
              "      <td>18.000000</td>\n",
              "      <td>1401.000000</td>\n",
              "      <td>291.000000</td>\n",
              "      <td>780.000000</td>\n",
              "      <td>273.00000</td>\n",
              "      <td>2.544000</td>\n",
              "      <td>NaN</td>\n",
              "    </tr>\n",
              "    <tr>\n",
              "      <th>50%</th>\n",
              "      <td>-118.485000</td>\n",
              "      <td>34.27000</td>\n",
              "      <td>29.000000</td>\n",
              "      <td>2106.000000</td>\n",
              "      <td>437.000000</td>\n",
              "      <td>1155.000000</td>\n",
              "      <td>409.50000</td>\n",
              "      <td>3.487150</td>\n",
              "      <td>NaN</td>\n",
              "    </tr>\n",
              "    <tr>\n",
              "      <th>75%</th>\n",
              "      <td>-118.020000</td>\n",
              "      <td>37.69000</td>\n",
              "      <td>37.000000</td>\n",
              "      <td>3129.000000</td>\n",
              "      <td>636.000000</td>\n",
              "      <td>1742.750000</td>\n",
              "      <td>597.25000</td>\n",
              "      <td>4.656475</td>\n",
              "      <td>NaN</td>\n",
              "    </tr>\n",
              "    <tr>\n",
              "      <th>max</th>\n",
              "      <td>-114.490000</td>\n",
              "      <td>41.92000</td>\n",
              "      <td>52.000000</td>\n",
              "      <td>30450.000000</td>\n",
              "      <td>5419.000000</td>\n",
              "      <td>11935.000000</td>\n",
              "      <td>4930.00000</td>\n",
              "      <td>15.000100</td>\n",
              "      <td>NaN</td>\n",
              "    </tr>\n",
              "  </tbody>\n",
              "</table>\n",
              "</div>"
            ],
            "text/plain": [
              "         longitude    latitude  housing_median_age   total_rooms  \\\n",
              "count  3000.000000  3000.00000         3000.000000   3000.000000   \n",
              "mean   -119.589200    35.63539           28.845333   2599.578667   \n",
              "std       1.994936     2.12967           12.555396   2155.593332   \n",
              "min    -124.180000    32.56000            1.000000      6.000000   \n",
              "25%    -121.810000    33.93000           18.000000   1401.000000   \n",
              "50%    -118.485000    34.27000           29.000000   2106.000000   \n",
              "75%    -118.020000    37.69000           37.000000   3129.000000   \n",
              "max    -114.490000    41.92000           52.000000  30450.000000   \n",
              "\n",
              "       total_bedrooms    population  households  median_income  \\\n",
              "count     3000.000000   3000.000000  3000.00000    3000.000000   \n",
              "mean       529.950667   1402.798667   489.91200       3.807272   \n",
              "std        415.654368   1030.543012   365.42271       1.854512   \n",
              "min          2.000000      5.000000     2.00000       0.499900   \n",
              "25%        291.000000    780.000000   273.00000       2.544000   \n",
              "50%        437.000000   1155.000000   409.50000       3.487150   \n",
              "75%        636.000000   1742.750000   597.25000       4.656475   \n",
              "max       5419.000000  11935.000000  4930.00000      15.000100   \n",
              "\n",
              "       median_house_value  \n",
              "count                 0.0  \n",
              "mean                  NaN  \n",
              "std                   NaN  \n",
              "min                   NaN  \n",
              "25%                   NaN  \n",
              "50%                   NaN  \n",
              "75%                   NaN  \n",
              "max                   NaN  "
            ]
          },
          "metadata": {
            "tags": []
          },
          "execution_count": 8
        }
      ]
    }
  ]
}