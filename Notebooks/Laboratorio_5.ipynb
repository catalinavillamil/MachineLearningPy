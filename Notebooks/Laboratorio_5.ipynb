{
  "nbformat": 4,
  "nbformat_minor": 0,
  "metadata": {
    "colab": {
      "name": "Laboratorio_5.ipynb",
      "provenance": [],
      "collapsed_sections": [],
      "toc_visible": true
    },
    "kernelspec": {
      "name": "python3",
      "display_name": "Python 3"
    }
  },
  "cells": [
    {
      "cell_type": "markdown",
      "metadata": {
        "id": "OzZsVflcQGIG",
        "colab_type": "text"
      },
      "source": [
        "El formato de entrega será subir a u-cursos un Jupyter notebook laboratorio5.ipynb, que se debe ejecutar sin errores desde la primera celda a la última. Todo el código debe estar en el mismo notebook, el código debe estar comentado y el notebook debe estar escrito en forma de informe técnico, escribiendo una celda markdown antes de cada celda de código. **Recuerde escribir el nombre de todos los integrantes que trabajaron en la elaboración del entregable**.\n",
        "\n",
        "\n",
        "---\n",
        "\n"
      ]
    },
    {
      "cell_type": "markdown",
      "metadata": {
        "id": "N-yIn6dvutym",
        "colab_type": "text"
      },
      "source": [
        "**Integrantes**:\n",
        "1. NN1\n",
        "2. NN2\n",
        "3. NN3"
      ]
    },
    {
      "cell_type": "markdown",
      "metadata": {
        "id": "5nH5mlRwhObD",
        "colab_type": "text"
      },
      "source": [
        "# LABORATORIO 5: CLASIFICACIÓN\n",
        "\n",
        "OBJETIVOS:\n",
        "\n",
        "1. COMPRENDER LAS NOCIONES BÁSICAS DE LAS LABORES DE CLASIFICACIÓN Y EL ROL DE LA INTERPRETABILIDAD DE LOS MODELOS.\n",
        "\n",
        "2. COMPRENDER EL CONCEPTO DE CROSS-VALIDATION.\n",
        "\n",
        "3. COMPRENDER EL CONCEPTO DE OVERFITTING.\n",
        "\n",
        "\n",
        "\n",
        "---\n",
        "\n"
      ]
    },
    {
      "cell_type": "markdown",
      "metadata": {
        "id": "WXN15K0U_cA8",
        "colab_type": "text"
      },
      "source": [
        "## 1. CLASIFICACIÓN"
      ]
    },
    {
      "cell_type": "code",
      "metadata": {
        "id": "v-JjVi9IDYSH",
        "colab_type": "code",
        "colab": {}
      },
      "source": [
        "class MachineLearning:\n",
        "  # Estudia como aprender automáticamente a hacer predicciones certeras \n",
        "  # basado en observaciones del pasado.\n",
        "\n",
        "    def Clasificador(data):\n",
        "      # Asigna nuevos ejemplos a una determinada clase dentro de un conjunto predefinido\n",
        "        clasificador = 'Un algoritmo que mediante la optimización de parámetros busca identificar patrones que distinguen a las diferentes clases'\n",
        "        ejemplos = ['Decision Trees', 'Random Forest', 'Support Vector Machines',\n",
        "                   'Redes Neuronales', 'Naive Bayes', 'Logit', 'etc.']\n",
        "        return clasificador\n",
        "    \n",
        "    def Predictor(data):\n",
        "      # Próximo laboratorio, pero mismos principios.\n",
        "      predictor = '?'\n",
        "      return predictor\n",
        " "
      ],
      "execution_count": 0,
      "outputs": []
    },
    {
      "cell_type": "markdown",
      "metadata": {
        "id": "7gxdG3NqMjCp",
        "colab_type": "text"
      },
      "source": [
        "[Tarea] Aprender del maestro: [\n",
        "Siraj Raval\n",
        "](https://www.youtube.com/watch?v=cAICT4Al5Ow)"
      ]
    },
    {
      "cell_type": "markdown",
      "metadata": {
        "id": "C2xJSdhqYtDJ",
        "colab_type": "text"
      },
      "source": [
        "### 1.1 Matriz de confusión"
      ]
    },
    {
      "cell_type": "code",
      "metadata": {
        "id": "OjCy4_nBYz6W",
        "colab_type": "code",
        "outputId": "ace73f69-0120-41fd-ef9e-f10f5a49cf82",
        "colab": {
          "base_uri": "https://localhost:8080/",
          "height": 309
        }
      },
      "source": [
        "from IPython.display import Image\n",
        "from IPython.core.display import HTML \n",
        "Image(url= \"https://rasbt.github.io/mlxtend/user_guide/evaluate/confusion_matrix_files/confusion_matrix_1.png\")"
      ],
      "execution_count": 0,
      "outputs": [
        {
          "output_type": "execute_result",
          "data": {
            "text/html": [
              "<img src=\"https://rasbt.github.io/mlxtend/user_guide/evaluate/confusion_matrix_files/confusion_matrix_1.png\"/>"
            ],
            "text/plain": [
              "<IPython.core.display.Image object>"
            ]
          },
          "metadata": {
            "tags": []
          },
          "execution_count": 74
        }
      ]
    },
    {
      "cell_type": "markdown",
      "metadata": {
        "id": "ECe5425P_l_n",
        "colab_type": "text"
      },
      "source": [
        "## 2. CROSS-VALIDATION"
      ]
    },
    {
      "cell_type": "code",
      "metadata": {
        "id": "MIcUwSxH_sRc",
        "colab_type": "code",
        "outputId": "7e459bf5-9ab2-4625-bc50-b1b133040629",
        "colab": {
          "base_uri": "https://localhost:8080/",
          "height": 409
        }
      },
      "source": [
        "from IPython.display import Image\n",
        "from IPython.core.display import HTML \n",
        "Image(url= \"https://cdn-images-1.medium.com/max/800/1*J2B_bcbd1-s1kpWOu_FZrg.png\")"
      ],
      "execution_count": 0,
      "outputs": [
        {
          "output_type": "execute_result",
          "data": {
            "text/html": [
              "<img src=\"https://cdn-images-1.medium.com/max/800/1*J2B_bcbd1-s1kpWOu_FZrg.png\"/>"
            ],
            "text/plain": [
              "<IPython.core.display.Image object>"
            ]
          },
          "metadata": {
            "tags": []
          },
          "execution_count": 2
        }
      ]
    },
    {
      "cell_type": "markdown",
      "metadata": {
        "id": "zQwjhQLITb__",
        "colab_type": "text"
      },
      "source": [
        "## 3. OVERFITTING\n",
        "\n"
      ]
    },
    {
      "cell_type": "code",
      "metadata": {
        "id": "ITA-TSqe9QFL",
        "colab_type": "code",
        "outputId": "2462b3b9-f9a6-4cfd-87a9-bce4d8a8c8fb",
        "colab": {
          "base_uri": "https://localhost:8080/",
          "height": 417
        }
      },
      "source": [
        "from IPython.display import Image\n",
        "from IPython.core.display import HTML \n",
        "Image(url= \"https://jakevdp.github.io/PythonDataScienceHandbook/figures/05.03-validation-curve.png\")"
      ],
      "execution_count": 0,
      "outputs": [
        {
          "output_type": "execute_result",
          "data": {
            "text/html": [
              "<img src=\"https://jakevdp.github.io/PythonDataScienceHandbook/figures/05.03-validation-curve.png\"/>"
            ],
            "text/plain": [
              "<IPython.core.display.Image object>"
            ]
          },
          "metadata": {
            "tags": []
          },
          "execution_count": 1
        }
      ]
    },
    {
      "cell_type": "markdown",
      "metadata": {
        "id": "IamxmF06CABR",
        "colab_type": "text"
      },
      "source": [
        "Ejemplo con código: [Notebook scikit-learn Underfitting vs. Overfitting](https://colab.research.google.com/drive/1bVRbyAXUm5-jlslwrUKuZqNRtYVFJ_I2)"
      ]
    },
    {
      "cell_type": "markdown",
      "metadata": {
        "id": "XpTqiqndQE7l",
        "colab_type": "text"
      },
      "source": [
        "## 4. EJEMPLOS"
      ]
    },
    {
      "cell_type": "code",
      "metadata": {
        "id": "RPeSnIqoQND9",
        "colab_type": "code",
        "outputId": "8784f532-2d33-4ce9-8ae3-fd07a6719ac6",
        "colab": {
          "base_uri": "https://localhost:8080/",
          "height": 204
        }
      },
      "source": [
        "#Original: https://machinelearningmastery.com/compare-machine-learning-algorithms-python-scikit-learn/\n",
        "# load libraries\n",
        "import pandas\n",
        "import matplotlib.pyplot as plt\n",
        "# load dataset diabetes\n",
        "url = \"https://raw.githubusercontent.com/jbrownlee/Datasets/master/pima-indians-diabetes.data.csv\"\n",
        "names = ['preg', 'plas', 'pres', 'skin', 'test', 'mass', 'pedi', 'age', 'class']\n",
        "dataframe = pandas.read_csv(url, names=names)\n",
        "dataframe.head()"
      ],
      "execution_count": 0,
      "outputs": [
        {
          "output_type": "execute_result",
          "data": {
            "text/html": [
              "<div>\n",
              "<style scoped>\n",
              "    .dataframe tbody tr th:only-of-type {\n",
              "        vertical-align: middle;\n",
              "    }\n",
              "\n",
              "    .dataframe tbody tr th {\n",
              "        vertical-align: top;\n",
              "    }\n",
              "\n",
              "    .dataframe thead th {\n",
              "        text-align: right;\n",
              "    }\n",
              "</style>\n",
              "<table border=\"1\" class=\"dataframe\">\n",
              "  <thead>\n",
              "    <tr style=\"text-align: right;\">\n",
              "      <th></th>\n",
              "      <th>preg</th>\n",
              "      <th>plas</th>\n",
              "      <th>pres</th>\n",
              "      <th>skin</th>\n",
              "      <th>test</th>\n",
              "      <th>mass</th>\n",
              "      <th>pedi</th>\n",
              "      <th>age</th>\n",
              "      <th>class</th>\n",
              "    </tr>\n",
              "  </thead>\n",
              "  <tbody>\n",
              "    <tr>\n",
              "      <th>0</th>\n",
              "      <td>6</td>\n",
              "      <td>148</td>\n",
              "      <td>72</td>\n",
              "      <td>35</td>\n",
              "      <td>0</td>\n",
              "      <td>33.6</td>\n",
              "      <td>0.627</td>\n",
              "      <td>50</td>\n",
              "      <td>1</td>\n",
              "    </tr>\n",
              "    <tr>\n",
              "      <th>1</th>\n",
              "      <td>1</td>\n",
              "      <td>85</td>\n",
              "      <td>66</td>\n",
              "      <td>29</td>\n",
              "      <td>0</td>\n",
              "      <td>26.6</td>\n",
              "      <td>0.351</td>\n",
              "      <td>31</td>\n",
              "      <td>0</td>\n",
              "    </tr>\n",
              "    <tr>\n",
              "      <th>2</th>\n",
              "      <td>8</td>\n",
              "      <td>183</td>\n",
              "      <td>64</td>\n",
              "      <td>0</td>\n",
              "      <td>0</td>\n",
              "      <td>23.3</td>\n",
              "      <td>0.672</td>\n",
              "      <td>32</td>\n",
              "      <td>1</td>\n",
              "    </tr>\n",
              "    <tr>\n",
              "      <th>3</th>\n",
              "      <td>1</td>\n",
              "      <td>89</td>\n",
              "      <td>66</td>\n",
              "      <td>23</td>\n",
              "      <td>94</td>\n",
              "      <td>28.1</td>\n",
              "      <td>0.167</td>\n",
              "      <td>21</td>\n",
              "      <td>0</td>\n",
              "    </tr>\n",
              "    <tr>\n",
              "      <th>4</th>\n",
              "      <td>0</td>\n",
              "      <td>137</td>\n",
              "      <td>40</td>\n",
              "      <td>35</td>\n",
              "      <td>168</td>\n",
              "      <td>43.1</td>\n",
              "      <td>2.288</td>\n",
              "      <td>33</td>\n",
              "      <td>1</td>\n",
              "    </tr>\n",
              "  </tbody>\n",
              "</table>\n",
              "</div>"
            ],
            "text/plain": [
              "   preg  plas  pres  skin  test  mass   pedi  age  class\n",
              "0     6   148    72    35     0  33.6  0.627   50      1\n",
              "1     1    85    66    29     0  26.6  0.351   31      0\n",
              "2     8   183    64     0     0  23.3  0.672   32      1\n",
              "3     1    89    66    23    94  28.1  0.167   21      0\n",
              "4     0   137    40    35   168  43.1  2.288   33      1"
            ]
          },
          "metadata": {
            "tags": []
          },
          "execution_count": 1
        }
      ]
    },
    {
      "cell_type": "code",
      "metadata": {
        "id": "Yoje1l2SQj3R",
        "colab_type": "code",
        "colab": {}
      },
      "source": [
        "#Get the target and the values in differents arrays\n",
        "array = dataframe.values\n",
        "X = array[:,0:8]\n",
        "Y = array[:,8]"
      ],
      "execution_count": 0,
      "outputs": []
    },
    {
      "cell_type": "code",
      "metadata": {
        "id": "6bQOjHE0QzL-",
        "colab_type": "code",
        "colab": {}
      },
      "source": [
        "# libraries\n",
        "from sklearn import model_selection\n",
        "from sklearn.linear_model import LogisticRegression\n",
        "from sklearn.tree import DecisionTreeClassifier\n",
        "from sklearn.neighbors import KNeighborsClassifier\n",
        "from sklearn.naive_bayes import GaussianNB\n",
        "from sklearn.svm import SVC\n",
        "# prepare configuration for cross validation test harness\n",
        "seed = 101\n",
        "# prepare models\n",
        "models = []\n",
        "models.append(('LOGIT  ', LogisticRegression()))\n",
        "models.append(('KNN    ', KNeighborsClassifier()))\n",
        "models.append(('D_TREE ', DecisionTreeClassifier()))\n",
        "models.append(('NB     ', GaussianNB()))\n",
        "models.append(('SVM    ', SVC()))"
      ],
      "execution_count": 0,
      "outputs": []
    },
    {
      "cell_type": "code",
      "metadata": {
        "id": "_AAfHKaWRcSZ",
        "colab_type": "code",
        "outputId": "8074eecb-1bd5-4512-9d8e-4305e974a7fc",
        "colab": {
          "base_uri": "https://localhost:8080/",
          "height": 119
        }
      },
      "source": [
        "# evaluate each model in turn\n",
        "results = []\n",
        "names = []\n",
        "scoring = 'accuracy'\n",
        "print('Model    Accuracy (mean)   Accuracy (std)')\n",
        "for name, model in models:\n",
        "\tkfold = model_selection.KFold(n_splits=10, random_state=seed)\n",
        "\tcv_results = model_selection.cross_val_score(model, X, Y, cv=kfold, scoring=scoring)\n",
        "\tresults.append(cv_results)\n",
        "\tnames.append(name)\n",
        "\tmsg = \"%s:   %f         %f\" % (name, cv_results.mean(), cv_results.std())\n",
        "\tprint(msg)"
      ],
      "execution_count": 0,
      "outputs": [
        {
          "output_type": "stream",
          "text": [
            "Model    Accuracy (mean)   Accuracy (std)\n",
            "LOGIT  :   0.769515         0.048411\n",
            "KNN    :   0.726555         0.061821\n",
            "D_TREE :   0.700496         0.051750\n",
            "NB     :   0.755178         0.042766\n",
            "SVM    :   0.651025         0.072141\n"
          ],
          "name": "stdout"
        }
      ]
    },
    {
      "cell_type": "code",
      "metadata": {
        "id": "Rhst3wgqS5PN",
        "colab_type": "code",
        "outputId": "00147d62-92e5-4861-d680-071e37462f1e",
        "colab": {
          "base_uri": "https://localhost:8080/",
          "height": 386
        }
      },
      "source": [
        "# boxplot algorithm comparison\n",
        "fig = plt.figure()\n",
        "fig.suptitle('Comparación de los algoritmos en términos de Accuracy')\n",
        "ax = fig.add_subplot(111)\n",
        "plt.boxplot(results)\n",
        "ax.set_xticklabels(names)\n",
        "plt.show()"
      ],
      "execution_count": 0,
      "outputs": [
        {
          "output_type": "display_data",
          "data": {
            "image/png": "[encoded data removed]",
            "text/plain": [
              "<matplotlib.figure.Figure at 0x7f937d9a3208>"
            ]
          },
          "metadata": {
            "tags": []
          }
        }
      ]
    },
    {
      "cell_type": "code",
      "metadata": {
        "id": "VLMxsFKRf7Wb",
        "colab_type": "code",
        "outputId": "f00c6bab-1882-4b41-a55d-b4dc4e2fb94a",
        "colab": {
          "base_uri": "https://localhost:8080/",
          "height": 34
        }
      },
      "source": [
        "names"
      ],
      "execution_count": 0,
      "outputs": [
        {
          "output_type": "execute_result",
          "data": {
            "text/plain": [
              "['LOGIT  ', 'KNN    ', 'D_TREE ', 'NB     ', 'SVM    ']"
            ]
          },
          "metadata": {
            "tags": []
          },
          "execution_count": 6
        }
      ]
    },
    {
      "cell_type": "markdown",
      "metadata": {
        "id": "P4r1zvYxJpmE",
        "colab_type": "text"
      },
      "source": [
        "---\n",
        "## 5. INVESTIGACIÓN (3 ptos)\n",
        "\n",
        "\n",
        "\n",
        "### Métricas de desempeño (2 ptos)\n",
        "5.1 Investigue las siguientes medidas de desempeño para los modelosde clasificación:\n",
        "\n",
        "a) Accuracy \\\\\n",
        "b) Precision \\\\\n",
        "c) Recall \\\\\n",
        "d) AUC \\\\\n",
        "e) F-Measure\n",
        "\n",
        "\n",
        "5.2  ¿Son equivalente los resultados de los modelos en términos de Accuracy y AUC? Utilice ejemplos prácticos para su respuesta.\n",
        "\n",
        "\n",
        "### Selección de atributos (1 pto)\n",
        "\n",
        "5.3 Elabore una tabla comparativa de los modelos de clasificación\n",
        "utilizados en el laboratorio de acuerdo a los siguientes campos: 1) uso de recursos computacionales, 2) interpretabilidad y 3) overfitting.\n",
        "\n",
        "\n",
        "---\n",
        "\n"
      ]
    },
    {
      "cell_type": "markdown",
      "metadata": {
        "id": "HFSNiALfHVcY",
        "colab_type": "text"
      },
      "source": [
        "## 6. LABORATORIO (3 ptos)\n",
        "\n",
        "### Descripción\n",
        "---\n",
        "Recuerda el problema de los laboratorios 2 y 3? Si no lo recuerda,\n",
        "a continuación un pequeño recordatorio: \"Considere el problema\n",
        "que enfrenta una entidad financiera que tiene altas tasas de\n",
        "fuga voluntaria. Esta institución no tiene claro cuál es el perfil\n",
        "característico que tienen los clientes fugitivos ni cuáles son las\n",
        "razones por las cuales estos se fugan\".\n",
        "\n",
        "Con la ayuda de sus trabajos anteriores se eliminaron duplicidades,\n",
        "imputaron valores perdidos, se escalaron los valores y restaron los\n",
        "atributos que no contribuían al problema de clasificación (es decir,\n",
        "el nuevo dataset está listo para que se apliquen los modelos de\n",
        "clasificación).\n",
        "\n",
        "\n",
        "### Datos\n",
        "***\n",
        "Se le entregarán 2 archivos: BASE y VALIDACION. En BASE se encuentra el conjunto de datos con los cuales se deben entrenar los modelos de clasificación y en VALIDACION el conjunto de datos sobre los cuales se aplicarán estos modelos. Ambos conjuntos poseen los mismos atributos, pero en VALIDACION no se tiene información sobre el atributo FUGA.\n",
        "\n",
        "Variable | Descripción\n",
        "------------- | -------------\n",
        "1. ID | Identificador del cliente\n",
        "2. Genero | Genero del cliente\n",
        "3. Edad | Edad en años\n",
        "4. NIV_Educ | Nivel educacional\n",
        "5. E_Civil | Estado civil\n",
        "6. COD Com | Código de la comuna\n",
        "7. COD_Ofi | Código de la oficina \n",
        "8. Ciudad | Ciudad de la oficina\n",
        "9. D_Marzo | Deuda de Marzo\n",
        "10. D_Abril | Deuda de Abril \n",
        "11. D_Junio | Deuda de Junio \n",
        "12. D_Julio | Deuda de Julio \n",
        "13. D_Septiembre | Deuda de Septiembre\n",
        "14. M_Moroso | Meses en Mora\n",
        "15. Fuga | Variable objetivo\n",
        "\n",
        "\n",
        "### Tareas:\n",
        "***\n",
        "Dada la información que ha sido presentada, se le pide que realice\n",
        "las siguientes tareas:\n",
        "\n",
        "a) **[2 ptos]** Implemente al menos 3 modelos de clasificación, reporte su desempeño y justifique la forma que ha seleccionado para evaluar su desempeño. Luego concluya qué modelo es mejor y porque.\n",
        "\n",
        "b) **[1 pto]** Seleccione uno de los modelos y aplíquelo en la base de datos de VALIDACION. Debe entregar un archivo .xlsx con la predicción realizada."
      ]
    },
    {
      "cell_type": "code",
      "metadata": {
        "id": "C-Vlm5LXPBSD",
        "colab_type": "code",
        "colab": {}
      },
      "source": [
        "#Guía completa : https://colab.research.google.com/drive/1SU176zTQvhflodEzuiacNrzxFQ6fWeWC#scrollTo=42Dvi-sgxNqz\n",
        "#!pip install -U -q PyDrive\n",
        "\n",
        "#LINKS:\n",
        "#Muestra  :  https://drive.google.com/open?id=1AsH3DfyWRwT8Z_Z2azdznQOP3q8FZcq2\n",
        "#Completa :  https://drive.google.com/open?id=1ZA0PCWnb3A729AsUPNcJf1hLhRFeQR8C\n",
        "\n",
        "from pydrive.auth import GoogleAuth\n",
        "from pydrive.drive import GoogleDrive\n",
        "from google.colab import auth\n",
        "from oauth2client.client import GoogleCredentials\n",
        "\n",
        "auth.authenticate_user()\n",
        "gauth = GoogleAuth()\n",
        "gauth.credentials = GoogleCredentials.get_application_default()\n",
        "drive = GoogleDrive(gauth)\n",
        "\n",
        "\n",
        "file_id_base = '1dTcwh3gzaS3d1xvgAt5WoLKn1XNFCb07'\n",
        "downloaded = drive.CreateFile({'id': file_id_base})\n",
        "downloaded.GetContentFile('exported.xlsx')"
      ],
      "execution_count": 0,
      "outputs": []
    },
    {
      "cell_type": "code",
      "metadata": {
        "id": "IDs0zmaWOEnN",
        "colab_type": "code",
        "outputId": "9c62732c-cd1d-4ffb-d850-6890939210de",
        "colab": {
          "base_uri": "https://localhost:8080/",
          "height": 309
        }
      },
      "source": [
        "!pip install -q xlrd\n",
        "import pandas as pd\n",
        "BASE = pd.read_excel('exported.xlsx')\n",
        "BASE.head()"
      ],
      "execution_count": 0,
      "outputs": [
        {
          "output_type": "execute_result",
          "data": {
            "text/html": [
              "<div>\n",
              "<style scoped>\n",
              "    .dataframe tbody tr th:only-of-type {\n",
              "        vertical-align: middle;\n",
              "    }\n",
              "\n",
              "    .dataframe tbody tr th {\n",
              "        vertical-align: top;\n",
              "    }\n",
              "\n",
              "    .dataframe thead th {\n",
              "        text-align: right;\n",
              "    }\n",
              "</style>\n",
              "<table border=\"1\" class=\"dataframe\">\n",
              "  <thead>\n",
              "    <tr style=\"text-align: right;\">\n",
              "      <th></th>\n",
              "      <th>ID</th>\n",
              "      <th>EDAD</th>\n",
              "      <th>D_Marzo</th>\n",
              "      <th>D_Abril</th>\n",
              "      <th>D_Junio</th>\n",
              "      <th>D_Julio</th>\n",
              "      <th>D_Septiembre</th>\n",
              "      <th>GENERO</th>\n",
              "      <th>NIV_EDUC</th>\n",
              "      <th>E_CIVIL</th>\n",
              "      <th>CIUDAD</th>\n",
              "      <th>COD_OFI</th>\n",
              "      <th>COD_COM</th>\n",
              "      <th>M_MOROSO</th>\n",
              "      <th>FUGA</th>\n",
              "    </tr>\n",
              "  </thead>\n",
              "  <tbody>\n",
              "    <tr>\n",
              "      <th>0</th>\n",
              "      <td>1</td>\n",
              "      <td>-0.568484</td>\n",
              "      <td>-0.307375</td>\n",
              "      <td>-0.582753</td>\n",
              "      <td>0.363883</td>\n",
              "      <td>1.114329</td>\n",
              "      <td>-0.162347</td>\n",
              "      <td>M</td>\n",
              "      <td>MED</td>\n",
              "      <td>CAS</td>\n",
              "      <td>LOS ANGELES</td>\n",
              "      <td>68</td>\n",
              "      <td>213</td>\n",
              "      <td>2</td>\n",
              "      <td>NO FUGA</td>\n",
              "    </tr>\n",
              "    <tr>\n",
              "      <th>1</th>\n",
              "      <td>2</td>\n",
              "      <td>0.670478</td>\n",
              "      <td>-0.307375</td>\n",
              "      <td>-0.677883</td>\n",
              "      <td>-0.283533</td>\n",
              "      <td>-0.482521</td>\n",
              "      <td>-0.196777</td>\n",
              "      <td>F</td>\n",
              "      <td>MED</td>\n",
              "      <td>VIU</td>\n",
              "      <td>SANTIAGO</td>\n",
              "      <td>16</td>\n",
              "      <td>89</td>\n",
              "      <td>1</td>\n",
              "      <td>NO FUGA</td>\n",
              "    </tr>\n",
              "    <tr>\n",
              "      <th>2</th>\n",
              "      <td>3</td>\n",
              "      <td>-0.568484</td>\n",
              "      <td>-0.307375</td>\n",
              "      <td>0.823079</td>\n",
              "      <td>-0.283533</td>\n",
              "      <td>-0.226914</td>\n",
              "      <td>0.099424</td>\n",
              "      <td>M</td>\n",
              "      <td>TEC</td>\n",
              "      <td>CAS</td>\n",
              "      <td>ANTOFAGASTA</td>\n",
              "      <td>90</td>\n",
              "      <td>16</td>\n",
              "      <td>1</td>\n",
              "      <td>NO FUGA</td>\n",
              "    </tr>\n",
              "    <tr>\n",
              "      <th>3</th>\n",
              "      <td>4</td>\n",
              "      <td>-0.940173</td>\n",
              "      <td>-0.307375</td>\n",
              "      <td>-0.665151</td>\n",
              "      <td>0.013077</td>\n",
              "      <td>-0.439765</td>\n",
              "      <td>-0.186144</td>\n",
              "      <td>F</td>\n",
              "      <td>UNV</td>\n",
              "      <td>CAS</td>\n",
              "      <td>SANTIAGO</td>\n",
              "      <td>85</td>\n",
              "      <td>115</td>\n",
              "      <td>1</td>\n",
              "      <td>NO FUGA</td>\n",
              "    </tr>\n",
              "    <tr>\n",
              "      <th>4</th>\n",
              "      <td>5</td>\n",
              "      <td>0.050997</td>\n",
              "      <td>-0.307375</td>\n",
              "      <td>-0.648206</td>\n",
              "      <td>-0.173296</td>\n",
              "      <td>-0.388644</td>\n",
              "      <td>-0.169233</td>\n",
              "      <td>M</td>\n",
              "      <td>TEC</td>\n",
              "      <td>CAS</td>\n",
              "      <td>SANTIAGO</td>\n",
              "      <td>45</td>\n",
              "      <td>80</td>\n",
              "      <td>1</td>\n",
              "      <td>NO FUGA</td>\n",
              "    </tr>\n",
              "  </tbody>\n",
              "</table>\n",
              "</div>"
            ],
            "text/plain": [
              "   ID      EDAD   D_Marzo   D_Abril   D_Junio   D_Julio  D_Septiembre GENERO  \\\n",
              "0   1 -0.568484 -0.307375 -0.582753  0.363883  1.114329     -0.162347      M   \n",
              "1   2  0.670478 -0.307375 -0.677883 -0.283533 -0.482521     -0.196777      F   \n",
              "2   3 -0.568484 -0.307375  0.823079 -0.283533 -0.226914      0.099424      M   \n",
              "3   4 -0.940173 -0.307375 -0.665151  0.013077 -0.439765     -0.186144      F   \n",
              "4   5  0.050997 -0.307375 -0.648206 -0.173296 -0.388644     -0.169233      M   \n",
              "\n",
              "  NIV_EDUC E_CIVIL       CIUDAD  COD_OFI  COD_COM  M_MOROSO     FUGA  \n",
              "0      MED     CAS  LOS ANGELES       68      213         2  NO FUGA  \n",
              "1      MED     VIU     SANTIAGO       16       89         1  NO FUGA  \n",
              "2      TEC     CAS  ANTOFAGASTA       90       16         1  NO FUGA  \n",
              "3      UNV     CAS     SANTIAGO       85      115         1  NO FUGA  \n",
              "4      TEC     CAS     SANTIAGO       45       80         1  NO FUGA  "
            ]
          },
          "metadata": {
            "tags": []
          },
          "execution_count": 92
        }
      ]
    },
    {
      "cell_type": "code",
      "metadata": {
        "id": "AP6paTCAig-o",
        "colab_type": "code",
        "colab": {}
      },
      "source": [
        ""
      ],
      "execution_count": 0,
      "outputs": []
    }
  ]
}