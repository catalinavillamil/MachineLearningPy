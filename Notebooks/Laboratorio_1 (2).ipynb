{
  "nbformat": 4,
  "nbformat_minor": 0,
  "metadata": {
    "colab": {
      "name": "Laboratorio_1.ipynb",
      "provenance": [],
      "collapsed_sections": []
    },
    "kernelspec": {
      "display_name": "Python 3",
      "language": "python",
      "name": "python3"
    }
  },
  "cells": [
    {
      "cell_type": "markdown",
      "metadata": {
        "id": "A-32409GuqQl",
        "colab_type": "text"
      },
      "source": [
        "# Instrucciones\n",
        "\n",
        "El laboratorio tiene 6 ptos, donde obtener 6 ptos equivale a un 7.0 y 0 ptos a un 1.0. \n",
        "\n",
        "El formato de entrega será subir a u-cursos un Jupyter notebook\n",
        "laboratorio1.ipynb, que se debe ejecutar sin errores desde la primera celda a la última. Todo el código debe estar en el mismo notebook, el código debe estar comentado y el notebook debe estar escrito en forma de informe técnico, escribiendo\n",
        "una celda markdown antes de cada celda de código. \n"
      ]
    },
    {
      "cell_type": "markdown",
      "metadata": {
        "id": "ITMxJb-nuqQn",
        "colab_type": "text"
      },
      "source": [
        "# 1. Implementar la clase MyMatrix  (3 ptos)\n",
        "\n",
        "En esta sección usted deberá crear:\n",
        "1. Una clase MyMatrix que sirva para almacenar matrices.\n",
        "2. Implementar los métodos descritos abajo y testearlos.\n",
        "\n",
        "Debe utilizar sólo la estructura de datos de Python por defecto (no usar liberías ni herencia)."
      ]
    },
    {
      "cell_type": "markdown",
      "metadata": {
        "id": "xdEZUucHuqQo",
        "colab_type": "text"
      },
      "source": [
        "class MyMatrix:<br> \n",
        "\n",
        "    def __init__(self, x): \n",
        "        #Método para instanciar un objeto clase matriz. Debe entregar una excepción si el número de columnas de cada fila no es el mismo.\n",
        "    \n",
        "    def __str__(self): \n",
        "        #Método print. Imprime en pantalla la matriz.\n",
        "        \n",
        "     def getitem(self, row, col): \n",
        "        #Método para indexar. Retorna un elemeno de la matriz en una posición específica.\n",
        "        \n",
        "    def __len__(self): \n",
        "        #Método para calcular el largo de una matriz = número de filas.\n",
        "        \n",
        "    def shape(self): \n",
        "        #Método para calcular la dimensión de una matriz. Retorna una tupla de la forma (n_filas, n_columnas).\n",
        "    \n",
        "    def __add__(self, other): \n",
        "        #Método para sumar matrices del mismo tamaño. Debe entregar una excepción si se intenta sumar matrices de diferente tamaño.\n",
        "        \n",
        "    def __sub__(self, other): \n",
        "        #Método para restar matrices. Debe entregar una excepción si se intenta restar matrices de diferente tamaño.\n",
        "        \n",
        "    def __mul__(self, other): \n",
        "        #Método de multiplicación de matrices. Debe entregar una excepción si se intenta multiplicar matrices de tamaño no adecuado para multiplicación matricial.\n",
        "        \n",
        "   \n",
        "    def transpose(self): \n",
        "        #Método para transponer una matriz.\n",
        "        \n",
        "        \n",
        "Hint: asuma que la entrada del método init son listas de números de la forma [[1, 2, 3] ] para representar un vector y [[1,2,3], [2,2,2]] para representar una matriz de dos filas y tres columnas."
      ]
    },
    {
      "cell_type": "code",
      "metadata": {
        "id": "aJ2hTfJ6uqQs",
        "colab_type": "code",
        "colab": {}
      },
      "source": [
        "![texto alternativo](https://)"
      ],
      "execution_count": 0,
      "outputs": []
    },
    {
      "cell_type": "markdown",
      "metadata": {
        "id": "nUIYvJSVuqQ9",
        "colab_type": "text"
      },
      "source": [
        "# 2. Obtener todos los intervalos disjuntos entre dos listas (1 ptos)\n",
        "\n",
        "Obtener todos los intervalos disjuntos entre dos listas, piense en el caso que tenga las fechas de comienzo y de término de cada formación de una persona y desea calcular sus años de estudio superior, por ejemplo una persona pudo empezar su pregrado en 2012 y terminarlo en 2017, comenzar su magíster en 2015 y terminarlo en 2018, finalmente comenzar su doctorado en 2022 y terminarlo en 2026, esto genera las siguientes variables, tiempo_inicio = [2012, 2015, 2022], tiempo_final = [2017, 2018, 2026] y le gustaría obtener la siguiente lista para calcular los años de estudio, merge(ti, tf) = [[2012, 2018], [2022, 2026]].\n",
        "\n",
        "Realice una prueba con:<br>\n",
        "ti = [2012, 2015, 2017, 2022, 2026, 2028]<br>\n",
        "tf = [2017, 2018, 2019, 2026, 2028, 2030]<br>\n",
        "\n",
        "merge(ti, tf) = [[2012, 2019], [2022 2030]]\n",
        "\n",
        "\n",
        "\n",
        "\n",
        "\n",
        "def merge(t1, t2): \n",
        "\n",
        "    ..."
      ]
    },
    {
      "cell_type": "code",
      "metadata": {
        "id": "3LCKp0SLuqQ-",
        "colab_type": "code",
        "colab": {}
      },
      "source": [
        ""
      ],
      "execution_count": 0,
      "outputs": []
    },
    {
      "cell_type": "markdown",
      "metadata": {
        "id": "g7xktXucuqRE",
        "colab_type": "text"
      },
      "source": [
        "# 3. Implemente función de correlación (1 pto)\n",
        "\n",
        "Cree una función para calcular la correlación entre dos vectores de tipo numpy array, considerando que la \n",
        "correlación muestral viene dada por la siguiente formula:\n",
        "\n",
        "$$ corr(X, Y) = \\frac{\\sum_{i=1}^{N} (X_{i}-\\bar{X})(Y_{i}-\\bar{Y})}{\\sqrt{\\sum_{i=1}^{N}(X_{i}-\\bar{X})^{2}}\\sqrt{\\sum_{i=1}^{N}(Y_{i}-\\bar{Y})^{2}}}$$\n",
        "\n",
        "No deben usar el método mean, std, cov o similares de numpy. <br>\n",
        "Considere que X e Y son vectores de igual dimensión.\n",
        "\n",
        "def corr(x, y):\n",
        "\n",
        "    ...."
      ]
    },
    {
      "cell_type": "code",
      "metadata": {
        "id": "StT0Akq0uqRF",
        "colab_type": "code",
        "colab": {}
      },
      "source": [
        "import numpy as np"
      ],
      "execution_count": 0,
      "outputs": []
    },
    {
      "cell_type": "code",
      "metadata": {
        "id": "QZHGexHsuqRI",
        "colab_type": "code",
        "colab": {}
      },
      "source": [
        ""
      ],
      "execution_count": 0,
      "outputs": []
    },
    {
      "cell_type": "markdown",
      "metadata": {
        "id": "WIzpRuSauqRL",
        "colab_type": "text"
      },
      "source": [
        "# 4. Implemente función que generé una matriz aleatoria simétrica (1 pto)\n",
        "\n",
        "def matriz_simetrica(n):\n",
        "\n",
        "    ...\n",
        "\n",
        "n = dimensión de la matriz cuadrada"
      ]
    },
    {
      "cell_type": "code",
      "metadata": {
        "id": "tcw0AAD5uqRL",
        "colab_type": "code",
        "colab": {}
      },
      "source": [
        "import random"
      ],
      "execution_count": 0,
      "outputs": []
    },
    {
      "cell_type": "code",
      "metadata": {
        "id": "TH724NOvuqRP",
        "colab_type": "code",
        "colab": {}
      },
      "source": [
        ""
      ],
      "execution_count": 0,
      "outputs": []
    },
    {
      "cell_type": "markdown",
      "metadata": {
        "id": "6WwaQsBnuqRT",
        "colab_type": "text"
      },
      "source": [
        "## Bonus matplotlib (1pto) \n",
        "### 1. En una misma visualización dibujar (x, f) y (x, g), donde:\n",
        "1. X es un vector que toma valores de -2 a 2 con saltos de 0.1, el largo de X es 41\n",
        "2. $f(x) = \\sqrt{1- (|x|-1)^{2}}, \\forall x \\in X $  \n",
        "3. $g(x) = -3\\sqrt{1- \\sqrt{\\frac{|x|}{2}}}, \\forall x \\in X $  \n",
        "    \n",
        "### 2. En una misma visualización dibujar (x1, y1) y (x2, y1), donde:\n",
        "1. X1 es un vector de 50 muestras equi-espaciadas en el intervalo [0, 5]\n",
        "2. X2 es un vector de 50 muestras equi-espaciadas en el intervalo [0, 2] \n",
        "3. $y1 =  cos(2\\pi x1)\\exp(-x1),  \\forall x1 \\in X1$\n",
        "4. $y2 =  cos(2\\pi x2), \\forall x2 \\in X2$\n",
        "   \n",
        "\n",
        "Además diseñe un estilo por defecto para los gráficos que al menos cambie colores, tamaño imagen\n",
        "y tamaño de textos.\n",
        "\n",
        "Para la parte 2 se recomienda usar el método linspace para generar X1 y X2."
      ]
    },
    {
      "cell_type": "code",
      "metadata": {
        "id": "Boa9TWiPuqRU",
        "colab_type": "code",
        "colab": {}
      },
      "source": [
        "import matplotlib.pyplot as plt"
      ],
      "execution_count": 0,
      "outputs": []
    },
    {
      "cell_type": "code",
      "metadata": {
        "id": "QvaFZ1m2uqRY",
        "colab_type": "code",
        "colab": {}
      },
      "source": [
        ""
      ],
      "execution_count": 0,
      "outputs": []
    },
    {
      "cell_type": "code",
      "metadata": {
        "id": "QI2WeLupuqRa",
        "colab_type": "code",
        "colab": {}
      },
      "source": [
        ""
      ],
      "execution_count": 0,
      "outputs": []
    }
  ]
}