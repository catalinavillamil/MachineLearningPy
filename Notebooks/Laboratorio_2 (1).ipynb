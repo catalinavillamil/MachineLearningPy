{
  "nbformat": 4,
  "nbformat_minor": 0,
  "metadata": {
    "colab": {
      "name": "Laboratorio_2.ipynb",
      "provenance": [],
      "toc_visible": true
    }
  },
  "cells": [
    {
      "cell_type": "markdown",
      "metadata": {
        "id": "OzZsVflcQGIG",
        "colab_type": "text"
      },
      "source": [
        "![texto alternativo](https://)El formato de entrega será subir a u-cursos un Jupyter notebook laboratorio2.ipynb, que se debe ejecutar sin errores desde la primera celda a la última. Todo el código debe estar en el mismo notebook, el código debe estar comentado y el notebook debe estar escrito en forma de informe técnico, escribiendo una celda markdown antes de cada celda de código."
      ]
    },
    {
      "cell_type": "markdown",
      "metadata": {
        "id": "5nH5mlRwhObD",
        "colab_type": "text"
      },
      "source": [
        "# LABORATORIO 2: ANÁLISIS EXPLORATORIO DE LOS DATOS\n",
        "Es uno de los primeros pasos en un proyecto de minería de datos luego de la comprensión del problema/negocio y la selección de los datos. Es de suma importancia ya que permite corroborar hipótesis, detectar outliers, estructurar el modelamiento de los datos, resolver problemas de los datos e iterar en el entendimiento del problema.\n",
        "\n",
        "Algunos de los principales desafíos son como visualizar datos no estructurados (como texto), visualizar estructuras de datos complejas como redes y visualizar conjunto de datos de alta dimensionalidad."
      ]
    },
    {
      "cell_type": "markdown",
      "metadata": {
        "id": "1WeQM2HI79bN",
        "colab_type": "text"
      },
      "source": [
        "## 1. Pandas\n",
        "\"**Pandas** is an open source, BSD-licensed library providing high-performance, easy-to-use data structures and data analysis tools for the Python programming language.\" \n",
        "\n",
        "Recuperado de [https://pandas.pydata.org/](https://pandas.pydata.org/) en Octubre de 2018.\n",
        "\n",
        "Ejemplo en: [Github/guipsamora/pandas_exercises](https://github.com/guipsamora/pandas_exercises/blob/master/06_Stats/US_Baby_Names/Exercises_with_solutions.ipynb)"
      ]
    },
    {
      "cell_type": "code",
      "metadata": {
        "id": "l8AvBvtbL4aZ",
        "colab_type": "code",
        "outputId": "9bcd9125-a7f1-44c6-86f8-d973b8fd4408",
        "colab": {
          "base_uri": "https://localhost:8080/",
          "height": 221
        }
      },
      "source": [
        "# 1. Importar las librerias\n",
        "import pandas as pd\n",
        "\n",
        "# 2. Importar los datos\n",
        "baby_names = pd.read_csv('https://raw.githubusercontent.com/guipsamora/pandas_exercises/master/06_Stats/US_Baby_Names/US_Baby_Names_right.csv')\n",
        "baby_names.info()\n"
      ],
      "execution_count": 0,
      "outputs": [
        {
          "output_type": "stream",
          "text": [
            "<class 'pandas.core.frame.DataFrame'>\n",
            "RangeIndex: 1016395 entries, 0 to 1016394\n",
            "Data columns (total 7 columns):\n",
            "Unnamed: 0    1016395 non-null int64\n",
            "Id            1016395 non-null int64\n",
            "Name          1016395 non-null object\n",
            "Year          1016395 non-null int64\n",
            "Gender        1016395 non-null object\n",
            "State         1016395 non-null object\n",
            "Count         1016395 non-null int64\n",
            "dtypes: int64(4), object(3)\n",
            "memory usage: 54.3+ MB\n"
          ],
          "name": "stdout"
        }
      ]
    },
    {
      "cell_type": "code",
      "metadata": {
        "id": "EfsWnPeFaUgQ",
        "colab_type": "code",
        "outputId": "53b04cd8-9a55-49ee-a957-893493953b1d",
        "colab": {
          "base_uri": "https://localhost:8080/",
          "height": 359
        }
      },
      "source": [
        "# 3. Ver los datos\n",
        "baby_names.head(10)"
      ],
      "execution_count": 0,
      "outputs": [
        {
          "output_type": "execute_result",
          "data": {
            "text/html": [
              "<div>\n",
              "<style scoped>\n",
              "    .dataframe tbody tr th:only-of-type {\n",
              "        vertical-align: middle;\n",
              "    }\n",
              "\n",
              "    .dataframe tbody tr th {\n",
              "        vertical-align: top;\n",
              "    }\n",
              "\n",
              "    .dataframe thead th {\n",
              "        text-align: right;\n",
              "    }\n",
              "</style>\n",
              "<table border=\"1\" class=\"dataframe\">\n",
              "  <thead>\n",
              "    <tr style=\"text-align: right;\">\n",
              "      <th></th>\n",
              "      <th>Unnamed: 0</th>\n",
              "      <th>Id</th>\n",
              "      <th>Name</th>\n",
              "      <th>Year</th>\n",
              "      <th>Gender</th>\n",
              "      <th>State</th>\n",
              "      <th>Count</th>\n",
              "    </tr>\n",
              "  </thead>\n",
              "  <tbody>\n",
              "    <tr>\n",
              "      <th>0</th>\n",
              "      <td>11349</td>\n",
              "      <td>11350</td>\n",
              "      <td>Emma</td>\n",
              "      <td>2004</td>\n",
              "      <td>F</td>\n",
              "      <td>AK</td>\n",
              "      <td>62</td>\n",
              "    </tr>\n",
              "    <tr>\n",
              "      <th>1</th>\n",
              "      <td>11350</td>\n",
              "      <td>11351</td>\n",
              "      <td>Madison</td>\n",
              "      <td>2004</td>\n",
              "      <td>F</td>\n",
              "      <td>AK</td>\n",
              "      <td>48</td>\n",
              "    </tr>\n",
              "    <tr>\n",
              "      <th>2</th>\n",
              "      <td>11351</td>\n",
              "      <td>11352</td>\n",
              "      <td>Hannah</td>\n",
              "      <td>2004</td>\n",
              "      <td>F</td>\n",
              "      <td>AK</td>\n",
              "      <td>46</td>\n",
              "    </tr>\n",
              "    <tr>\n",
              "      <th>3</th>\n",
              "      <td>11352</td>\n",
              "      <td>11353</td>\n",
              "      <td>Grace</td>\n",
              "      <td>2004</td>\n",
              "      <td>F</td>\n",
              "      <td>AK</td>\n",
              "      <td>44</td>\n",
              "    </tr>\n",
              "    <tr>\n",
              "      <th>4</th>\n",
              "      <td>11353</td>\n",
              "      <td>11354</td>\n",
              "      <td>Emily</td>\n",
              "      <td>2004</td>\n",
              "      <td>F</td>\n",
              "      <td>AK</td>\n",
              "      <td>41</td>\n",
              "    </tr>\n",
              "    <tr>\n",
              "      <th>5</th>\n",
              "      <td>11354</td>\n",
              "      <td>11355</td>\n",
              "      <td>Abigail</td>\n",
              "      <td>2004</td>\n",
              "      <td>F</td>\n",
              "      <td>AK</td>\n",
              "      <td>37</td>\n",
              "    </tr>\n",
              "    <tr>\n",
              "      <th>6</th>\n",
              "      <td>11355</td>\n",
              "      <td>11356</td>\n",
              "      <td>Olivia</td>\n",
              "      <td>2004</td>\n",
              "      <td>F</td>\n",
              "      <td>AK</td>\n",
              "      <td>33</td>\n",
              "    </tr>\n",
              "    <tr>\n",
              "      <th>7</th>\n",
              "      <td>11356</td>\n",
              "      <td>11357</td>\n",
              "      <td>Isabella</td>\n",
              "      <td>2004</td>\n",
              "      <td>F</td>\n",
              "      <td>AK</td>\n",
              "      <td>30</td>\n",
              "    </tr>\n",
              "    <tr>\n",
              "      <th>8</th>\n",
              "      <td>11357</td>\n",
              "      <td>11358</td>\n",
              "      <td>Alyssa</td>\n",
              "      <td>2004</td>\n",
              "      <td>F</td>\n",
              "      <td>AK</td>\n",
              "      <td>29</td>\n",
              "    </tr>\n",
              "    <tr>\n",
              "      <th>9</th>\n",
              "      <td>11358</td>\n",
              "      <td>11359</td>\n",
              "      <td>Sophia</td>\n",
              "      <td>2004</td>\n",
              "      <td>F</td>\n",
              "      <td>AK</td>\n",
              "      <td>28</td>\n",
              "    </tr>\n",
              "  </tbody>\n",
              "</table>\n",
              "</div>"
            ],
            "text/plain": [
              "   Unnamed: 0     Id      Name  Year Gender State  Count\n",
              "0       11349  11350      Emma  2004      F    AK     62\n",
              "1       11350  11351   Madison  2004      F    AK     48\n",
              "2       11351  11352    Hannah  2004      F    AK     46\n",
              "3       11352  11353     Grace  2004      F    AK     44\n",
              "4       11353  11354     Emily  2004      F    AK     41\n",
              "5       11354  11355   Abigail  2004      F    AK     37\n",
              "6       11355  11356    Olivia  2004      F    AK     33\n",
              "7       11356  11357  Isabella  2004      F    AK     30\n",
              "8       11357  11358    Alyssa  2004      F    AK     29\n",
              "9       11358  11359    Sophia  2004      F    AK     28"
            ]
          },
          "metadata": {
            "tags": []
          },
          "execution_count": 2
        }
      ]
    },
    {
      "cell_type": "code",
      "metadata": {
        "id": "qTrPNWqtaX_x",
        "colab_type": "code",
        "outputId": "e68aafe3-e4db-491a-d0e4-2c0147bb569a",
        "colab": {
          "base_uri": "https://localhost:8080/",
          "height": 204
        }
      },
      "source": [
        "# 4. Eliminar 'Unnamed: 0' y 'Id'\n",
        "del baby_names['Unnamed: 0']\n",
        "del baby_names['Id']\n",
        "\n",
        "baby_names.head()"
      ],
      "execution_count": 0,
      "outputs": [
        {
          "output_type": "execute_result",
          "data": {
            "text/html": [
              "<div>\n",
              "<style scoped>\n",
              "    .dataframe tbody tr th:only-of-type {\n",
              "        vertical-align: middle;\n",
              "    }\n",
              "\n",
              "    .dataframe tbody tr th {\n",
              "        vertical-align: top;\n",
              "    }\n",
              "\n",
              "    .dataframe thead th {\n",
              "        text-align: right;\n",
              "    }\n",
              "</style>\n",
              "<table border=\"1\" class=\"dataframe\">\n",
              "  <thead>\n",
              "    <tr style=\"text-align: right;\">\n",
              "      <th></th>\n",
              "      <th>Name</th>\n",
              "      <th>Year</th>\n",
              "      <th>Gender</th>\n",
              "      <th>State</th>\n",
              "      <th>Count</th>\n",
              "    </tr>\n",
              "  </thead>\n",
              "  <tbody>\n",
              "    <tr>\n",
              "      <th>0</th>\n",
              "      <td>Emma</td>\n",
              "      <td>2004</td>\n",
              "      <td>F</td>\n",
              "      <td>AK</td>\n",
              "      <td>62</td>\n",
              "    </tr>\n",
              "    <tr>\n",
              "      <th>1</th>\n",
              "      <td>Madison</td>\n",
              "      <td>2004</td>\n",
              "      <td>F</td>\n",
              "      <td>AK</td>\n",
              "      <td>48</td>\n",
              "    </tr>\n",
              "    <tr>\n",
              "      <th>2</th>\n",
              "      <td>Hannah</td>\n",
              "      <td>2004</td>\n",
              "      <td>F</td>\n",
              "      <td>AK</td>\n",
              "      <td>46</td>\n",
              "    </tr>\n",
              "    <tr>\n",
              "      <th>3</th>\n",
              "      <td>Grace</td>\n",
              "      <td>2004</td>\n",
              "      <td>F</td>\n",
              "      <td>AK</td>\n",
              "      <td>44</td>\n",
              "    </tr>\n",
              "    <tr>\n",
              "      <th>4</th>\n",
              "      <td>Emily</td>\n",
              "      <td>2004</td>\n",
              "      <td>F</td>\n",
              "      <td>AK</td>\n",
              "      <td>41</td>\n",
              "    </tr>\n",
              "  </tbody>\n",
              "</table>\n",
              "</div>"
            ],
            "text/plain": [
              "      Name  Year Gender State  Count\n",
              "0     Emma  2004      F    AK     62\n",
              "1  Madison  2004      F    AK     48\n",
              "2   Hannah  2004      F    AK     46\n",
              "3    Grace  2004      F    AK     44\n",
              "4    Emily  2004      F    AK     41"
            ]
          },
          "metadata": {
            "tags": []
          },
          "execution_count": 59
        }
      ]
    },
    {
      "cell_type": "code",
      "metadata": {
        "id": "n0yPQC5pb_qj",
        "colab_type": "code",
        "outputId": "3885d104-146b-4ddd-b8a7-3ca651cab8a7",
        "colab": {
          "base_uri": "https://localhost:8080/",
          "height": 119
        }
      },
      "source": [
        "# Primera fila del dataframe\n",
        "baby_names.iloc[0]\n"
      ],
      "execution_count": 0,
      "outputs": [
        {
          "output_type": "execute_result",
          "data": {
            "text/plain": [
              "Name      Emma\n",
              "Year      2004\n",
              "Gender       F\n",
              "State       AK\n",
              "Count       62\n",
              "Name: 0, dtype: object"
            ]
          },
          "metadata": {
            "tags": []
          },
          "execution_count": 60
        }
      ]
    },
    {
      "cell_type": "code",
      "metadata": {
        "id": "PgN4ddPXcOiR",
        "colab_type": "code",
        "outputId": "aaa56284-015c-4194-d18f-1c1a37aec40e",
        "colab": {
          "base_uri": "https://localhost:8080/",
          "height": 119
        }
      },
      "source": [
        "# Primera columna\n",
        "baby_names.iloc[:,0].head(5)"
      ],
      "execution_count": 0,
      "outputs": [
        {
          "output_type": "execute_result",
          "data": {
            "text/plain": [
              "0       Emma\n",
              "1    Madison\n",
              "2     Hannah\n",
              "3      Grace\n",
              "4      Emily\n",
              "Name: Name, dtype: object"
            ]
          },
          "metadata": {
            "tags": []
          },
          "execution_count": 61
        }
      ]
    },
    {
      "cell_type": "code",
      "metadata": {
        "id": "WPqK5301alVg",
        "colab_type": "code",
        "outputId": "c2d7ded9-ea08-4a27-b0fb-1c561d363809",
        "colab": {
          "base_uri": "https://localhost:8080/",
          "height": 72
        }
      },
      "source": [
        "# 5. Algunas operaciones: contar hombres y mujeres en el dataset\n",
        "baby_names['Gender'].value_counts()\n"
      ],
      "execution_count": 0,
      "outputs": [
        {
          "output_type": "execute_result",
          "data": {
            "text/plain": [
              "F    558846\n",
              "M    457549\n",
              "Name: Gender, dtype: int64"
            ]
          },
          "metadata": {
            "tags": []
          },
          "execution_count": 5
        }
      ]
    },
    {
      "cell_type": "code",
      "metadata": {
        "id": "8rHCkHhkc-MZ",
        "colab_type": "code",
        "outputId": "a89ac857-1f9d-4140-f5bc-385caca7246b",
        "colab": {
          "base_uri": "https://localhost:8080/",
          "height": 425
        }
      },
      "source": [
        "#Conteo por atributo\n",
        "baby_names.groupby(['Gender','Year']).size()"
      ],
      "execution_count": 0,
      "outputs": [
        {
          "output_type": "execute_result",
          "data": {
            "text/plain": [
              "Gender  Year\n",
              "F       2004    48083\n",
              "        2005    49196\n",
              "        2006    50851\n",
              "        2007    52234\n",
              "        2008    52568\n",
              "        2009    51987\n",
              "        2010    51084\n",
              "        2011    50651\n",
              "        2012    50722\n",
              "        2013    50440\n",
              "        2014    51030\n",
              "M       2004    38337\n",
              "        2005    39298\n",
              "        2006    40952\n",
              "        2007    42098\n",
              "        2008    42402\n",
              "        2009    42622\n",
              "        2010    42223\n",
              "        2011    41894\n",
              "        2012    42302\n",
              "        2013    42303\n",
              "        2014    43118\n",
              "dtype: int64"
            ]
          },
          "metadata": {
            "tags": []
          },
          "execution_count": 72
        }
      ]
    },
    {
      "cell_type": "code",
      "metadata": {
        "id": "eRSqBgD6eSb5",
        "colab_type": "code",
        "outputId": "f96183d5-fb11-476c-e57d-e13e978f9745",
        "colab": {
          "base_uri": "https://localhost:8080/",
          "height": 170
        }
      },
      "source": [
        "#Summary\n",
        "pd.set_option('display.float_format', lambda x: '%.1f' % x) #Desactivar notación científica\n",
        "baby_names['Year'].describe()"
      ],
      "execution_count": 0,
      "outputs": [
        {
          "output_type": "execute_result",
          "data": {
            "text/plain": [
              "count   1016395.0\n",
              "mean       2009.1\n",
              "std           3.1\n",
              "min        2004.0\n",
              "25%        2006.0\n",
              "50%        2009.0\n",
              "75%        2012.0\n",
              "max        2014.0\n",
              "Name: Year, dtype: float64"
            ]
          },
          "metadata": {
            "tags": []
          },
          "execution_count": 74
        }
      ]
    },
    {
      "cell_type": "code",
      "metadata": {
        "id": "Rqh4qhbJfJGk",
        "colab_type": "code",
        "outputId": "3a4100bb-0dcf-4ec7-d661-87693a2375c2",
        "colab": {
          "base_uri": "https://localhost:8080/",
          "height": 81
        }
      },
      "source": [
        "#Seleccionar con condiciones\n",
        "baby_names.loc[(baby_names['Year'] == 2012) & (baby_names['State'] == \"AK\") & (baby_names['Name'] == \"Sebastian\")]\n"
      ],
      "execution_count": 0,
      "outputs": [
        {
          "output_type": "execute_result",
          "data": {
            "text/html": [
              "<div>\n",
              "<style scoped>\n",
              "    .dataframe tbody tr th:only-of-type {\n",
              "        vertical-align: middle;\n",
              "    }\n",
              "\n",
              "    .dataframe tbody tr th {\n",
              "        vertical-align: top;\n",
              "    }\n",
              "\n",
              "    .dataframe thead th {\n",
              "        text-align: right;\n",
              "    }\n",
              "</style>\n",
              "<table border=\"1\" class=\"dataframe\">\n",
              "  <thead>\n",
              "    <tr style=\"text-align: right;\">\n",
              "      <th></th>\n",
              "      <th>Unnamed: 0</th>\n",
              "      <th>Id</th>\n",
              "      <th>Name</th>\n",
              "      <th>Year</th>\n",
              "      <th>Gender</th>\n",
              "      <th>State</th>\n",
              "      <th>Count</th>\n",
              "    </tr>\n",
              "  </thead>\n",
              "  <tbody>\n",
              "    <tr>\n",
              "      <th>4313</th>\n",
              "      <td>25985</td>\n",
              "      <td>25986</td>\n",
              "      <td>Sebastian</td>\n",
              "      <td>2012</td>\n",
              "      <td>M</td>\n",
              "      <td>AK</td>\n",
              "      <td>13</td>\n",
              "    </tr>\n",
              "  </tbody>\n",
              "</table>\n",
              "</div>"
            ],
            "text/plain": [
              "      Unnamed: 0     Id       Name  Year Gender State  Count\n",
              "4313       25985  25986  Sebastian  2012      M    AK     13"
            ]
          },
          "metadata": {
            "tags": []
          },
          "execution_count": 6
        }
      ]
    },
    {
      "cell_type": "code",
      "metadata": {
        "id": "9qAZhXWhlsLv",
        "colab_type": "code",
        "outputId": "6567486a-c8b2-4215-e851-d3a20c8fcbf4",
        "colab": {
          "base_uri": "https://localhost:8080/",
          "height": 49
        }
      },
      "source": [
        "# Buscar nombres que sean unisex\n",
        "M_names = baby_names.loc[baby_names['Gender'] == \"M\"]['Name'].values.tolist()\n",
        "baby_names.loc[(baby_names['Gender'] == \"F\") & (baby_names['Name'].values.tolist() in M_names)]\n",
        "##### 3 DÉCIMAS EXTRAS EN EL LAB AL GRUPO QUE LOGRE ENCONTRAR EL RESULTADO SÓLO A TRAVES DE BÚSQUEDAS POR CONDICIÓN"
      ],
      "execution_count": 0,
      "outputs": [
        {
          "output_type": "execute_result",
          "data": {
            "text/html": [
              "<div>\n",
              "<style scoped>\n",
              "    .dataframe tbody tr th:only-of-type {\n",
              "        vertical-align: middle;\n",
              "    }\n",
              "\n",
              "    .dataframe tbody tr th {\n",
              "        vertical-align: top;\n",
              "    }\n",
              "\n",
              "    .dataframe thead th {\n",
              "        text-align: right;\n",
              "    }\n",
              "</style>\n",
              "<table border=\"1\" class=\"dataframe\">\n",
              "  <thead>\n",
              "    <tr style=\"text-align: right;\">\n",
              "      <th></th>\n",
              "      <th>Name</th>\n",
              "      <th>Year</th>\n",
              "      <th>Gender</th>\n",
              "      <th>State</th>\n",
              "      <th>Count</th>\n",
              "    </tr>\n",
              "  </thead>\n",
              "  <tbody>\n",
              "  </tbody>\n",
              "</table>\n",
              "</div>"
            ],
            "text/plain": [
              "Empty DataFrame\n",
              "Columns: [Name, Year, Gender, State, Count]\n",
              "Index: []"
            ]
          },
          "metadata": {
            "tags": []
          },
          "execution_count": 117
        }
      ]
    },
    {
      "cell_type": "code",
      "metadata": {
        "id": "_HeLGkcKgoBe",
        "colab_type": "code",
        "outputId": "97776829-5a46-47be-d75e-3dbfa91c47c6",
        "colab": {
          "base_uri": "https://localhost:8080/",
          "height": 71
        }
      },
      "source": [
        "# Buscar nombres que sean unisex (ahora si)\n",
        "import timeit\n",
        "start = timeit.default_timer()\n",
        "# Buscar nombres de Mujer y Hombre\n",
        "F_names = baby_names['Name'].loc[(baby_names['Gender'] == \"F\")]\n",
        "M_names = baby_names['Name'].loc[(baby_names['Gender'] == \"M\")]\n",
        "FM_names = [x for x in list(set(F_names.values.tolist())) if x in list(set(M_names.values.tolist()))]\n",
        "stop = timeit.default_timer()\n",
        "print('Time (s): ', stop - start) \n",
        "print(FM_names)\n",
        "\n",
        " "
      ],
      "execution_count": 0,
      "outputs": [
        {
          "output_type": "stream",
          "text": [
            "('Time: ', 192.13603496551514)\n",
            "['Rory', 'Itzae', 'Casey', 'Sandy', 'Merlin', 'Kailey', 'Yuki', 'Cole', 'Dominique', 'Quincy', 'Unnamed', 'Kaydence', 'Gentry', 'Kameron', 'Emerson', 'Indigo', 'Kayce', 'Briar', 'Braedyn', 'Dempsey', 'Reese', 'Braylin', 'Quinn', 'Jules', 'Kaegan', 'Nazareth', 'Kendal', 'Brooks', 'Seth', 'Caiden', 'Aspen', 'Embry', 'Josiah', 'Kodi', 'Kody', 'Paul', 'Gianni', 'Raleigh', 'Ashlan', 'Alexander', 'Natasha', 'Chloe', 'Matthew', 'Cody', 'Angela', 'Kimani', 'Holly', 'Imari', 'Asa', 'Lynn', 'Sofia', 'Mckenna', 'Skylan', 'Skylar', 'Daryn', 'Mylan', 'Issa', 'Saige', 'Rio', 'Mackenzie', 'Anderson', 'John', 'Rayne', 'Lindsey', 'Laura', 'Layne', 'Carlos', 'William', 'Jadyn', 'Remington', 'Harrison', 'Campbell', 'Zailyn', 'Skye', 'Courtney', 'Amelia', 'Hollis', 'Terren', 'Gavin', 'Gurnoor', 'Oscar', 'Steven', 'Basil', 'Noel', 'Abby', 'Royce', 'Remy', 'Alik', 'Alix', 'Remi', 'Kadence', 'Cayden', 'Amber', 'Valentine', 'Emari', 'Amauri', 'Toni', 'Yarel', 'Tony', 'Jose', 'Nolan', 'Alijah', 'Tracy', 'Charley', 'Samari', 'Charles', 'Kayleigh', 'Brett', 'Mikah', 'Kamalei', 'Indiana', 'Wen', 'Lyle', 'Kali', 'Tal', 'Tam', 'Tai', 'Kevin', 'Eliyah', 'Cruz', 'Francis', 'True', 'Emma', 'David', 'Boston', 'Travis', 'Joni', 'August', 'Henley', 'Braeden', 'Irie', 'Brian', 'Sage', 'Yoltzin', 'Layla', 'Kensley', 'Arshdeep', 'Eliah', 'Teagan', 'Cypress', 'Whitney', 'Ezrah', 'Jace', 'Kaitlynn', 'Kris', 'Elizabeth', 'Joy', 'Valerie', 'Raylin', 'Brodie', 'Royal', 'Patrick', 'Jourdan', 'Seven', 'Allison', 'Weston', 'Sky', 'Brecken', 'Kenyatta', 'Michal', 'Santana', 'Lee', 'Madeline', 'Wisdom', 'Jaylynn', 'Demari', 'Skyler', 'Syncere', 'Chidera', 'Payten', 'Jireh', 'Kamron', 'Rion', 'Hallie', 'Daniel', 'Colby', 'Jeremy', 'Caidyn', 'Perry', 'Brandon', 'Kristian', 'Sloan', 'Finley', 'Stevie', 'Wrigley', 'Rowyn', 'Jeriah', 'Alex', 'Lyric', 'Lyrik', 'Blakely', 'Kingsley', 'Ollie', 'Noam', 'Toby', 'Jayce', 'Tobi', 'Leyton', 'Arlin', 'Jordyn', 'Charlie', 'Justine', 'Ryen', 'Jared', 'Lacey', 'Katelyn', 'Nery', 'Neri', 'Nana', 'Benjamin', 'Dasani', 'Kimi', 'Graycen', 'Brody', 'Michael', 'Elliot', 'Savannah', 'Bryn', 'Ngawang', 'Cade', 'Dior', 'Blaize', 'Jaylyn', 'Sunny', 'Serenity', 'Jaydyn', 'Shiloh', 'Hannah', 'Haidyn', 'Isa', 'Jessica', 'Teagen', 'Amarie', 'Amarii', 'Han', 'Lilly', 'Sequoia', 'Reed', 'Dalton', 'Jailyn', 'Honor', 'Jason', 'Teddy', 'Macy', 'Tristian', 'Scout', 'Ashlyn', 'Michel', 'Zuriel', 'Shamari', 'Armoni', 'Shayla', 'Alisha', 'Sol', 'Kara', 'Landon', 'Brandy', 'Ahmari', 'Wynn', 'Mallory', 'Dakota', 'Andi', 'Riki', 'Andy', 'Brady', 'Antonio', 'Katie', 'Shay', 'Ivan', 'Shae', 'Shai', 'Sierra', 'Khamari', 'Neftali', 'Nehemiah', 'Neftaly', 'Lonnie', 'Jia', 'Kolby', 'Alden', 'Holland', 'Vaughn', 'Rowen', 'Alaa', 'Peyton', 'Freedom', 'Elisha', 'Caitlyn', 'Kori', 'Neko', 'Clayton', 'Robin', 'Nathan', 'Hudsyn', 'Ryan', 'Carsyn', 'Marlowe', 'Denim', 'Denis', 'Deniz', 'Shayne', 'Brooke', 'Haven', 'Sai', 'Arlen', 'Sam', 'Arley', 'Mills', 'Manjot', 'Karsen', 'Kamrin', 'Miguel', 'Aiden', 'Jesus', 'Rani', 'Brennen', 'Iran', 'Jasiah', 'Jaycee', 'Zaire', 'Zamari', 'Finn', 'Cashmere', 'Paris', 'Brittany', 'Giovanni', 'River', 'Ryland', 'Linden', 'Ariana', 'Maika', 'Kawena', 'Rhyan', 'Lukas', 'Piper', 'Danny', 'Grey', 'Carmen', 'Kristen', 'Julia', 'Jayden', 'Hayden', 'Flynn', 'Darius', 'Mykah', 'Yael', 'Conley', 'Khamani', 'Montana', 'Eden', 'Azariah', 'Karsyn', 'Alexi', 'Nijah', 'Chelsea', 'Jessy', 'Jessi', 'Jesse', 'Iman', 'Khari', 'Hendrix', 'Micaiah', 'Keaton', 'Collins', 'Avery', 'Shea', 'Breanna', 'Kinsler', 'Kaydin', 'Brentley', 'Rowan', 'Renee', 'Dylan', 'Ocean', 'Jayleen', 'Marissa', 'Maison', 'Ashby', 'Drew', 'Evan', 'Kyrie', 'Yareth', 'Arrow', 'Dezi', 'Aubrey', 'Cooper', 'Tracey', 'Finnley', 'Jasmin', 'Selena', 'Christian', 'Kashmere', 'Kamren', 'Luca', 'Ayden', 'Adair', 'Aidan', 'Kayden', 'Anna', 'Layton', 'Jackson', 'Osiris', 'Kerry', 'Reece', 'Raylen', 'Ming', 'Kacey', 'Uriyah', 'Torrey', 'Olamide', 'Tru', 'Cameryn', 'Robbie', 'Kirsten', 'Gray', 'Tucker', 'Ari', 'Mykel', 'Presley', 'Brighton', 'Jessie', 'Roni', 'Tenzin', 'Jaspreet', 'Kellen', 'Kelley', 'Adel', 'Parker', 'Sincere', 'George', 'Reilly', 'Eastyn', 'Rivers', 'Legacy', 'Isaac', 'Adler', 'Shalom', 'Yihan', 'Taylen', 'Tayler', 'Rebel', 'Justus', 'Shia', 'Jai', 'Jae', 'Yuval', 'Kirby', 'Grace', 'Jamari', 'Aaron', 'Barrett', 'Eliot', 'Caroline', 'Journey', 'Camden', 'Callan', 'Erin', 'Eric', 'Landry', 'Ever', 'Diamond', 'Kaiden', 'Malachi', 'Cali', 'Yuri', 'Keona', 'Cree', 'Aydan', 'Sacha', 'Tylar', 'Melanie', 'Kenneth', 'Reagan', 'Israel', 'Arden', 'Kamil', 'Kaitlyn', 'Rylan', 'Sterling', 'Jayla', 'Adriel', 'Adrien', 'Mark', 'Mary', 'Rayaan', 'Amaree', 'Taj', 'Storm', 'Adi', 'Abriel', 'Carlin', 'Aziah', 'Myles', 'Judah', 'Kadyn', 'Jake', 'Fernando', 'Naveen', 'Unknown', 'Lian', 'Ella', 'Omari', 'Bentley', 'Sascha', 'Bentlee', 'Bryce', 'Alexes', 'Kellan', 'Tommie', 'Joan', 'Clarke', 'Connor', 'Bless', 'Justyce', 'Keelyn', 'Nour', 'Matisse', 'Adonai', 'Atlas', 'Bodhi', 'Dominik', 'Rilyn', 'Dominic', 'Blayke', 'Taylin', 'Liam', 'Kamden', 'Emersyn', 'Everett', 'Lexus', 'Kaleb', 'Jeremiah', 'Ayan', 'Caelan', 'Schuyler', 'Braylyn', 'Kimberly', 'Abigayle', 'Rhys', 'Braden', 'Gabrielle', 'Lennox', 'Lennon', 'Evyn', 'Jael', 'Cristian', 'Michelle', 'Domonique', 'Laramie', 'Cheyenne', 'Blair', 'Isabella', 'Isabelle', 'Keegan', 'Ayomide', 'Royale', 'Bralyn', 'Allie', 'Faith', 'Aidyn', 'Akira', 'Dennis', 'Tylee', 'Tyler', 'Billy', 'Alexandria', 'Jaydenn', 'Semaj', 'Taylor', 'Catherine', 'Lior', 'Eli', 'Ryley', 'Rylee', 'Ely', 'Rylen', 'Makena', 'Sutton', 'Adrian', 'Jaydin', 'Tate', 'Zen', 'Aviv', 'Hayes', 'Tristin', 'An', 'Gracie', 'Crimson', 'Noe', 'Noa', 'Riyan', 'Jaime', 'Xavier', 'Izel', 'Cameran', 'Armani', 'Blake', 'Emory', 'Rayan', 'Arshia', 'Memphis', 'Claire', 'Jaedyn', 'Zyaire', 'Kamani', 'Alexiz', 'Alexis', 'Alexia', 'Joey', 'Nicky', 'Sina', 'Kodie', 'Kylin', 'Kylie', 'Madden', 'Ekam', 'Alexa', 'Messiah', 'Atley', 'Atlee', 'Shane', 'Aryan', 'Channing', 'Kelby', 'Richard', 'Kamdyn', 'Ainsley', 'Billie', 'Makell', 'Dyllan', 'Santos', 'Bowie', 'Jackie', 'Devine', 'Callie', 'Lou', 'Haylee', 'Haylen', 'Ann', 'Anh', 'Hayley', 'Saba', 'Brylee', 'Brylen', 'Porter', 'Bo', 'Kooper', 'Kemani', 'Damoni', 'Beckett', 'Rumi', 'Kailen', 'Mason', 'Larkin', 'Kayla', 'Dayton', 'Devan', 'Cassidy', 'Lake', 'Madelyn', 'Kaimana', 'Makana', 'Damien', 'Aiman', 'Cierra', 'Simcha', 'Aimar', 'Rylin', 'Bailey', 'Rylie', 'Douglas', 'Jaydn', 'Thomas', 'Aven', 'Camdyn', 'Yannis', 'Lamar', 'Tristen', 'Hailey', 'Hailee', 'Jacob', 'Shannon', 'Breslin', 'Phoenix', 'Jacy', 'Kai', 'Josey', 'Jack', 'Lucas', 'Arya', 'Sonam', 'Ali', 'Aly', 'Monroe', 'Blue', 'Blaine', 'Milan', 'Destiny', 'Jalyn', 'Amere', 'Tamari', 'Laine', 'Charleston', 'Kyler', 'Zoey', 'Kylen', 'Colin', 'Kylee', 'Trinidad', 'Kiernan', 'Devon', 'Loren', 'Trenton', 'Payden', 'Tamar', 'Amani', 'Kymani', 'Cortney', 'Kalen', 'Sydney', 'Dusty', 'Gunnar', 'Lenox', 'Jaidan', 'Jeffrey', 'Britton', 'Tatum', 'Griffin', 'Gurjot', 'Lupe', 'Lucca', 'Ary', 'Ara', 'Garrett', 'Name', 'Makenzie', 'Marlo', 'Corey', 'Cameron', 'Marley', 'Dallas', 'Niko', 'Shawn', 'Jean', 'Kayson', 'Golden', 'Kailan', 'Conner', 'Teegan', 'Kyndall', 'Andrew', 'Andrea', 'Agam', 'Shelby', 'Maddox', 'Alana', 'Ronnie', 'Ridley', 'Easton', 'Abrar', 'Kaylee', 'Kaylen', 'Collier', 'Micha', 'Orion', 'Alyssa', 'Jaydan', 'Quincey', 'Langston', 'Jade', 'Jada', 'Tristan', 'Kylan', 'Lexington', 'Kaelan', 'Leslie', 'Nasiah', 'Rain', 'Sevyn', 'Kyle', 'Gage', 'Lux', 'Luz', 'Camron', 'Josie', 'Jude', 'Anmol', 'Grant', 'Levi', 'Corrie', 'Torrance', 'Murphy', 'Oluwademilade', 'Frankie', 'Stephen', 'Jonah', 'Kylar', 'Amir', 'Angel', 'Elan', 'Lael', 'Riley', 'Ty', 'Amari', 'Amare', 'Kieran', 'Carrington', 'Brianna', 'Mckinley', 'Jazz', 'Rene', 'Rilee', 'Margaret', 'London', 'Mel', 'Kaelin', 'Dru', 'Berkley', 'Stacey', 'Kalin', 'Jaiden', 'Autumn', 'Kemari', 'Greyson', 'Walker', 'Aliyah', 'Avi', 'Ava', 'Saylor', 'Mendy', 'Corin', 'Keylen', 'Kaena', 'Van', 'Winter', 'Darby', 'Sebastian', 'Sivan', 'Denver', 'Ellis', 'Jezreel', 'Trystan', 'Devin', 'Jameson', 'Cory', 'Kennedy', 'Zachary', 'Jermiah', 'Stacy', 'Aaliyah', 'Kelly', 'Surya', 'Sophia', 'Dillon', 'Karter', 'Trinity', 'Jaelin', 'Elijah', 'Jaydee', 'Eh', 'Evann', 'Briley', 'Ethan', 'Genesis', 'Jacky', 'Justin', 'Lakota', 'Austyn', 'Airam', 'Ryann', 'Kona', 'Egypt', 'Brayden', 'Paxton', 'Marion', 'Asani', 'Terry', 'Isaiah', 'Braylen', 'Dani', 'Dana', 'Haiden', 'Sidney', 'Collin', 'Chayse', 'Rachel', 'Charly', 'Ira', 'Elliott', 'Zander', 'Samantha', 'Christopher', 'Mckenzie', 'Robert', 'Harley', 'Harlem', 'Bradley', 'Merritt', 'Wiley', 'Troy', 'Davis', 'Ezra', 'Megan', 'Bennett', 'Delaney', 'Lane', 'Damari', 'Ashtyn', 'Asiah', 'Nikola', 'Jaidyn', 'Harper', 'Angelina', 'Lucky', 'Chaise', 'Toryn', 'Johnnie', 'Olivia', 'Rian', 'Jorden', 'Jasani', 'Jennifer', 'Nico', 'Nihal', 'Johnathon', 'Katherine', 'Savanna', 'Nicola', 'Nicole', 'Graysen', 'Yi', 'Dayan', 'Yu', 'Emery', 'Oluwanifemi', 'Carsen', 'Preston', 'Mycah', 'Colton', 'Brooklynn', 'Maven', 'Kinsley', 'Maysen', 'Sammy', 'Lincoln', 'Dominque', 'Caleb', 'Tristyn', 'Sheridan', 'Jensen', 'Kaedyn', 'Britten', 'Regan', 'Lillian', 'Christen', 'Austen', 'Emry', 'Zoe', 'July', 'Reign', 'Brooklyn', 'Trevor', 'Marlow', 'Rhiley', 'Luis', 'Jaylan', 'Gabrial', 'Alexys', 'Jalen', 'Hunter', 'Marcus', 'Shilo', 'Anay', 'Bayan', 'Adam', 'Ashlee', 'Victoria', 'Sawyer', 'Dakotah', 'Mika', 'Miko', 'Heaven', 'Masyn', 'Lydia', 'Jonathon', 'Child', 'Harlan', 'Kirin', 'Erika', 'Kendra', 'Hanna', 'Rooney', 'Leah', 'Elie', 'Baby', 'Henry', 'Wren', 'Khali', 'Zi', 'Damani', 'Ashten', 'Koi', 'Arin', 'Juno', 'Jadin', 'Tessa', 'Sara', 'Jerry', 'Nathaniel', 'Jordan', 'Mariah', 'Marlin', 'Emanuel', 'Kameryn', 'Maxwell', 'Gabriele', 'Gabriell', 'Puneet', 'Addison', 'Kelsey', 'Nakia', 'Noah', 'Crosby', 'Dylann', 'Jaxon', 'Nevaeh', 'Rebecca', 'Jelani', 'Kaylin', 'Dereon', 'Brixton', 'Joelle', 'Mina', 'Jamison', 'Jasmine', 'Paige', 'Avry', 'Lauryn', 'Loghan', 'Jalynn', 'Raven', 'Zephaniah', 'Chevy', 'Londen', 'Jalani', 'Hadley', 'Kaya', 'Brittan', 'Azriel', 'Zyan', 'Spencer', 'Chance', 'Adama', 'Alexandra', 'Void', 'Elia', 'Braxton', 'Aria', 'Arie', 'Aris', 'Taryn', 'James', 'Cedar', 'Kenley', 'Bristol', 'Hadyn', 'Amrit', 'Sarah', 'Xander', 'Ian', 'Krishna', 'Gabriel', 'Jaylen', 'Shaya', 'Shaye', 'Tegan', 'Camari', 'Madison', 'Haleigh', 'Zixuan', 'Amel', 'Abyan', 'Keagan', 'Ashtin', 'Sukhman', 'Kyree', 'Jaydeen', 'Hudson', 'Abigail', 'Carson', 'Aaryn', 'Aarya', 'Emily', 'Mayson', 'Brailyn', 'Tiffany', 'Nova', 'Rei', 'Amanda', 'Harnoor', 'Ariel', 'Aries', 'Nyjah', 'Indy', 'Asher', 'Owen', 'Kanon', 'Mia', 'Natalie', 'Myka', 'Wesley', 'Infant', 'Oluwadarasimi', 'Zakaria', 'Julian', 'Amen', 'Sammie', 'Ameya', 'Palmer', 'Taytum', 'Luke', 'Tori', 'Brennan', 'Tory', 'Merrick', 'Audrey', 'Luka', 'Korbyn', 'Bentlie', 'Talyn', 'Harlow', 'Denali', 'Lauren', 'Chandler', 'Brantlee', 'Brantley', 'Quinlan', 'Jodie', 'Dream', 'Karson', 'Blaise', 'Jett', 'Kasey', 'Mana', 'Lily', 'Zephyr', 'Zaylin', 'Auden', 'Jordon', 'Camren', 'Jamie', 'Marvel', 'Haley', 'Jaylin', 'Halen', 'Dara', 'Majesty', 'Jayme', 'Noor', 'Soren', 'Jaziah', 'Cyan', 'Joshua', 'Carly', 'Kathryn', 'Chase', 'Mica', 'Baylor', 'Cadyn', 'Grayson', 'Guadalupe', 'Dillan', 'Erica', 'Wyatt', 'Ryker', 'Aden', 'Kinnick', 'Darian', 'Kiran', 'Dakoda', 'Logan', 'Sean', 'Beau', 'Sami', 'Arian', 'Sehaj', 'Karol', 'Jacey', 'Joseph', 'Kenzie', 'Cadence', 'Samuel', 'Laken', 'Zyon', 'Reid', 'Dorian', 'Wylie', 'Sinai', 'Jadan', 'Bryson', 'Jordin', 'Daylen', 'Reegan', 'Uriah', 'Daelyn', 'Micah', 'Sasha', 'Salem', 'Kobi', 'Oakley', 'Danielle', 'Jasiyah', 'Samar', 'Carter', 'Miller', 'Devyn', 'Kree', 'Jaelyn', 'Kamryn', 'Rosario', 'Kendell', 'Kalani', 'Justice', 'Kamauri', 'Alize', 'Leighton', 'Landyn', 'Jasper', 'Tennyson', 'Karma', 'Payton', 'Anthony', 'Bryan', 'Ashton', 'Austin', 'Natividad', 'Ellington', 'Zion', 'Laakea', 'Kendel', 'Notnamed', 'Tanner', 'Jaeden', 'Khristian', 'Molly', 'Lynden', 'Lakin', 'Makayla', 'Caden', 'Onyx', 'Ashley', 'Cai', 'Summer', 'Ciel', 'Dariel', 'Keelan', 'Alika', 'Unique', 'Lawson', 'Kamari', 'Divine', 'Tien', 'Ryder', 'Meredith', 'Dannie', 'Ellison', 'Bergen', 'Diego', 'Jody', 'Micheal', 'Kaysen', 'Kaden', 'Legend', 'Sullivan', 'Nikita', 'Gracen', 'Maggie', 'Destin', 'Camryn', 'Timothy', 'Emilee', 'Kaidyn', 'Hope', 'Alma', 'Dawson', 'Daylin', 'Nicholas', 'Bayley', 'Landen', 'Baylee', 'Zuri', 'Dustin', 'Jonathan', 'Kendall', 'Morgan', 'Juan', 'Ami', 'Ivory', 'Ramsey', 'Britain', 'Jenna', 'Braelyn', 'Ricky', 'Marin', 'Desi', 'Maria', 'Jaden', 'Payson', 'Adison']\n"
          ],
          "name": "stdout"
        }
      ]
    },
    {
      "cell_type": "code",
      "metadata": {
        "id": "sdTQuoJTrU5n",
        "colab_type": "code",
        "outputId": "cb6f4c2f-389e-4e62-9ff4-5bf33d343464",
        "colab": {
          "base_uri": "https://localhost:8080/",
          "height": 359
        }
      },
      "source": [
        "baby_names.loc[baby_names['Name'] == \"Casey\"].head(10)"
      ],
      "execution_count": 0,
      "outputs": [
        {
          "output_type": "execute_result",
          "data": {
            "text/html": [
              "<div>\n",
              "<style scoped>\n",
              "    .dataframe tbody tr th:only-of-type {\n",
              "        vertical-align: middle;\n",
              "    }\n",
              "\n",
              "    .dataframe tbody tr th {\n",
              "        vertical-align: top;\n",
              "    }\n",
              "\n",
              "    .dataframe thead th {\n",
              "        text-align: right;\n",
              "    }\n",
              "</style>\n",
              "<table border=\"1\" class=\"dataframe\">\n",
              "  <thead>\n",
              "    <tr style=\"text-align: right;\">\n",
              "      <th></th>\n",
              "      <th>Name</th>\n",
              "      <th>Year</th>\n",
              "      <th>Gender</th>\n",
              "      <th>State</th>\n",
              "      <th>Count</th>\n",
              "    </tr>\n",
              "  </thead>\n",
              "  <tbody>\n",
              "    <tr>\n",
              "      <th>2801</th>\n",
              "      <td>Casey</td>\n",
              "      <td>2005</td>\n",
              "      <td>M</td>\n",
              "      <td>AK</td>\n",
              "      <td>5</td>\n",
              "    </tr>\n",
              "    <tr>\n",
              "      <th>3479</th>\n",
              "      <td>Casey</td>\n",
              "      <td>2008</td>\n",
              "      <td>M</td>\n",
              "      <td>AK</td>\n",
              "      <td>5</td>\n",
              "    </tr>\n",
              "    <tr>\n",
              "      <th>5347</th>\n",
              "      <td>Casey</td>\n",
              "      <td>2004</td>\n",
              "      <td>F</td>\n",
              "      <td>AL</td>\n",
              "      <td>12</td>\n",
              "    </tr>\n",
              "    <tr>\n",
              "      <th>6226</th>\n",
              "      <td>Casey</td>\n",
              "      <td>2005</td>\n",
              "      <td>F</td>\n",
              "      <td>AL</td>\n",
              "      <td>11</td>\n",
              "    </tr>\n",
              "    <tr>\n",
              "      <th>8288</th>\n",
              "      <td>Casey</td>\n",
              "      <td>2007</td>\n",
              "      <td>F</td>\n",
              "      <td>AL</td>\n",
              "      <td>6</td>\n",
              "    </tr>\n",
              "    <tr>\n",
              "      <th>8904</th>\n",
              "      <td>Casey</td>\n",
              "      <td>2008</td>\n",
              "      <td>F</td>\n",
              "      <td>AL</td>\n",
              "      <td>12</td>\n",
              "    </tr>\n",
              "    <tr>\n",
              "      <th>10075</th>\n",
              "      <td>Casey</td>\n",
              "      <td>2009</td>\n",
              "      <td>F</td>\n",
              "      <td>AL</td>\n",
              "      <td>7</td>\n",
              "    </tr>\n",
              "    <tr>\n",
              "      <th>10969</th>\n",
              "      <td>Casey</td>\n",
              "      <td>2010</td>\n",
              "      <td>F</td>\n",
              "      <td>AL</td>\n",
              "      <td>7</td>\n",
              "    </tr>\n",
              "    <tr>\n",
              "      <th>12087</th>\n",
              "      <td>Casey</td>\n",
              "      <td>2011</td>\n",
              "      <td>F</td>\n",
              "      <td>AL</td>\n",
              "      <td>5</td>\n",
              "    </tr>\n",
              "    <tr>\n",
              "      <th>14488</th>\n",
              "      <td>Casey</td>\n",
              "      <td>2014</td>\n",
              "      <td>F</td>\n",
              "      <td>AL</td>\n",
              "      <td>8</td>\n",
              "    </tr>\n",
              "  </tbody>\n",
              "</table>\n",
              "</div>"
            ],
            "text/plain": [
              "        Name  Year Gender State  Count\n",
              "2801   Casey  2005      M    AK      5\n",
              "3479   Casey  2008      M    AK      5\n",
              "5347   Casey  2004      F    AL     12\n",
              "6226   Casey  2005      F    AL     11\n",
              "8288   Casey  2007      F    AL      6\n",
              "8904   Casey  2008      F    AL     12\n",
              "10075  Casey  2009      F    AL      7\n",
              "10969  Casey  2010      F    AL      7\n",
              "12087  Casey  2011      F    AL      5\n",
              "14488  Casey  2014      F    AL      8"
            ]
          },
          "metadata": {
            "tags": []
          },
          "execution_count": 122
        }
      ]
    },
    {
      "cell_type": "markdown",
      "metadata": {
        "id": "LRsHimyQ-hJz",
        "colab_type": "text"
      },
      "source": [
        "## 2. Librerias para visualización de datos en Python\n",
        "Top 5 librerias para visualización de datos en Python: [Analytics India Magazine](https://www.analyticsindiamag.com/top-5-best-data-visualisation-libraries-in-python/)"
      ]
    },
    {
      "cell_type": "markdown",
      "metadata": {
        "id": "dRjhNq3P-o9f",
        "colab_type": "text"
      },
      "source": [
        "## 3. Ejemplos y documentación"
      ]
    },
    {
      "cell_type": "markdown",
      "metadata": {
        "id": "PbKPGecc_r97",
        "colab_type": "text"
      },
      "source": [
        "1. Ejemplos para Matplotlib, Seaborn, Altair, Plotly y Bokeh en: [Charts in Colaboratory](https://colab.research.google.com/notebooks/charts.ipynb#scrollTo=hFCg8XrdO4xj)\n",
        "\n",
        "2. Una de las mejores integraciones para visualizar grafos se obtiene con la libreria [Networkx](https://networkx.github.io/documentation/stable/auto_examples/index.html) y [Holoviews](http://holoviews.org/getting_started/Tabular_Datasets.html)\n",
        "\n",
        "3. Parallel Coordinates con Plotly: [Plotly Parallel Coord](https://plot.ly/python/parallel-coordinates-plot/) (Advertencia: esta libreria requiere entender su uso offline)"
      ]
    },
    {
      "cell_type": "markdown",
      "metadata": {
        "id": "P4r1zvYxJpmE",
        "colab_type": "text"
      },
      "source": [
        "## 4. Tareas de investigación (2 ptos)\n",
        "\n",
        "### Variables visuales (1,5 ptos)\n",
        "#### 4.1 Investigue que son las variables visuales y elabore un breve resumen del significado de este concepto.\n",
        "#### 4.2 Describalas brevemente cada una de las variables visuales.\n",
        "#### 4.3 Describa la relación entre variables visuales y los atributos de un conjunto de datos en el desarrollo de una visualización.\n",
        "#### 4.4 Busque una imagen en internet en el que se haya hecho un mal uso de alguna de las variables visuales que usted investigo y reportela justificando porque fue mal elaborada dicha visualización (además inserte el link a la visualización).\n",
        "\n",
        "### Visualización de datos multidimensional (0,5 ptos)\n",
        "#### 4.5 Investigue sobre al menos 2 técnicas de datos para la visualización de datos multidimensional. Reportelos con una breve descripción (puede utilizar imágenes si considera que apoyan la explicación de la visualización)."
      ]
    },
    {
      "cell_type": "markdown",
      "metadata": {
        "id": "HFSNiALfHVcY",
        "colab_type": "text"
      },
      "source": [
        "## 5. Ejercicio Laboratorio (4 ptos)\n",
        "\n",
        "\n",
        "---\n",
        "Considere el problema que enfrenta una entidad financiera que tiene altas tasas de fuga voluntaria. Esta institución no tiene claro cuál es el perfil característico que tienen los clientes fugitivos ni cuáles son las razones por las cuales estos se fugan.\n",
        "\n",
        "El gerente general le ha pedido **definir el patrón característico de los clientes fugitivos y de los clientes no fugitivos con el objetivo de definir una serie de políticas comerciales** que permitan retener a estos potenciales clientes fugitivos.\n",
        "\n",
        "#### Entregables:\n",
        "\n",
        "5.1 Muestre al menos 3 gráficos que muestren diferencias entre el grupo que se fuga y el que no (3 ptos)\n",
        "\n",
        "5.2 Implemente al menos uno de los gráficos para la visualización de datos multidimensionales que investigo en la parte anterior. La idea es que este gráfico resuma los resultados obtenidos del proceso de análisis exploratorio de los datos (i.e, muestra en una visualización las diferencias en los atributos que caracterizan ambas poblaciones) (1 pto)\n",
        "\n",
        "---\n",
        "Variable | Descripción\n",
        "------------- | -------------\n",
        "1. ID | Identificador del cliente\n",
        "2. Genero | Genero del cliente\n",
        "3. Renta | Renta en pesos\n",
        "4. Edad | Edad en años\n",
        "5. NIV_Educ | Nivel educacional\n",
        "6. E_Civil | Estado civil\n",
        "7. COD_OfI | Código de la oficina \n",
        "8. Ciudad | Ciudad de la oficina\n",
        "9. D_Marzo | Deuda de Marzo\n",
        "10. D_Abril | Deuda de Abril \n",
        "11. D_Mayo | Deuda de Mayo\n",
        "12. D_Junio | Deuda de Junio \n",
        "13. D_Julio | Deuda de Julio \n",
        "14. D_Agosto | Deuda de Agosto \n",
        "15. D_Septiembre | Deuda de Septiembre\n",
        "16. M_Moroso | Meses en Mora\n",
        "17. Monto | Monto preaprobado \n",
        "18. Seguro | Seguro de gravamen \n",
        "19. Fuga | Variable objetivo\n"
      ]
    },
    {
      "cell_type": "code",
      "metadata": {
        "id": "QNhIht1VI-il",
        "colab_type": "code",
        "outputId": "95ded434-c98a-4e1f-aca6-588380a8b715",
        "colab": {
          "base_uri": "https://localhost:8080/",
          "height": 122
        }
      },
      "source": [
        "!pip install xlrd"
      ],
      "execution_count": 0,
      "outputs": [
        {
          "output_type": "stream",
          "text": [
            "Collecting xlrd\n",
            "\u001b[?25l  Downloading https://files.pythonhosted.org/packages/07/e6/e95c4eec6221bfd8528bcc4ea252a850bffcc4be88ebc367e23a1a84b0bb/xlrd-1.1.0-py2.py3-none-any.whl (108kB)\n",
            "\u001b[K    100% |████████████████████████████████| 112kB 2.6MB/s \n",
            "\u001b[?25hInstalling collected packages: xlrd\n",
            "Successfully installed xlrd-1.1.0\n"
          ],
          "name": "stdout"
        }
      ]
    },
    {
      "cell_type": "code",
      "metadata": {
        "id": "pO1MdCj-JYp4",
        "colab_type": "code",
        "outputId": "e08c1979-426a-4a6c-f415-9f28c54ededb",
        "colab": {
          "resources": {
            "http://localhost:8080/nbextensions/google.colab/files.js": {
              "data": "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",
              "ok": true,
              "headers": [
                [
                  "content-type",
                  "application/javascript"
                ]
              ],
              "status": 200,
              "status_text": ""
            }
          },
          "base_uri": "https://localhost:8080/",
          "height": 86
        }
      },
      "source": [
        "from google.colab import files\n",
        "uploaded = files.upload()"
      ],
      "execution_count": 0,
      "outputs": [
        {
          "output_type": "display_data",
          "data": {
            "text/plain": [
              "<IPython.core.display.HTML object>"
            ],
            "text/html": [
              "\n",
              "     <input type=\"file\" id=\"files-ceb81f27-ea13-4f98-8bdb-81577d2f27ff\" name=\"files[]\" multiple disabled />\n",
              "     <output id=\"result-ceb81f27-ea13-4f98-8bdb-81577d2f27ff\">\n",
              "      Upload widget is only available when the cell has been executed in the\n",
              "      current browser session. Please rerun this cell to enable.\n",
              "      </output>\n",
              "      <script src=\"/nbextensions/google.colab/files.js\"></script> "
            ]
          },
          "metadata": {
            "tags": []
          }
        },
        {
          "output_type": "stream",
          "text": [
            "Saving Fuga_Bancos.xlsx to Fuga_Bancos.xlsx\n"
          ],
          "name": "stdout"
        }
      ]
    },
    {
      "cell_type": "code",
      "metadata": {
        "id": "4jV9K6aT-rdp",
        "colab_type": "code",
        "outputId": "120afd3c-940c-44f5-8e2a-1880574c3df9",
        "colab": {
          "base_uri": "https://localhost:8080/",
          "height": 309
        }
      },
      "source": [
        "import pandas as pd\n",
        "from pandas import ExcelWriter\n",
        "from pandas import ExcelFile\n",
        "\n",
        "data = pd.read_excel('Fuga_Bancos.xlsx')\n",
        "data.head(5)"
      ],
      "execution_count": 0,
      "outputs": [
        {
          "output_type": "execute_result",
          "data": {
            "text/html": [
              "<div>\n",
              "<style scoped>\n",
              "    .dataframe tbody tr th:only-of-type {\n",
              "        vertical-align: middle;\n",
              "    }\n",
              "\n",
              "    .dataframe tbody tr th {\n",
              "        vertical-align: top;\n",
              "    }\n",
              "\n",
              "    .dataframe thead th {\n",
              "        text-align: right;\n",
              "    }\n",
              "</style>\n",
              "<table border=\"1\" class=\"dataframe\">\n",
              "  <thead>\n",
              "    <tr style=\"text-align: right;\">\n",
              "      <th></th>\n",
              "      <th>GENERO</th>\n",
              "      <th>RENTA</th>\n",
              "      <th>EDAD</th>\n",
              "      <th>NIV_EDUC</th>\n",
              "      <th>E_CIVIL</th>\n",
              "      <th>CIUDAD</th>\n",
              "      <th>COD_OFI</th>\n",
              "      <th>D_Marzo</th>\n",
              "      <th>D_Abril</th>\n",
              "      <th>D_Mayo</th>\n",
              "      <th>D_Junio</th>\n",
              "      <th>D_Julio</th>\n",
              "      <th>D_Agosto</th>\n",
              "      <th>D_Septiembre</th>\n",
              "      <th>M_MOROSO</th>\n",
              "      <th>MONTO</th>\n",
              "      <th>SEGURO</th>\n",
              "      <th>FUGA</th>\n",
              "    </tr>\n",
              "  </thead>\n",
              "  <tbody>\n",
              "    <tr>\n",
              "      <th>0</th>\n",
              "      <td>M</td>\n",
              "      <td>746476</td>\n",
              "      <td>39.0</td>\n",
              "      <td>MED</td>\n",
              "      <td>CAS</td>\n",
              "      <td>LOS ANGELES</td>\n",
              "      <td>68</td>\n",
              "      <td>0</td>\n",
              "      <td>38292</td>\n",
              "      <td>0</td>\n",
              "      <td>434357</td>\n",
              "      <td>1766</td>\n",
              "      <td>9110</td>\n",
              "      <td>340</td>\n",
              "      <td>2</td>\n",
              "      <td>2000000</td>\n",
              "      <td>NO</td>\n",
              "      <td>NO FUGA</td>\n",
              "    </tr>\n",
              "    <tr>\n",
              "      <th>1</th>\n",
              "      <td>F</td>\n",
              "      <td>11901</td>\n",
              "      <td>49.0</td>\n",
              "      <td>MED</td>\n",
              "      <td>VIU</td>\n",
              "      <td>SANTIAGO</td>\n",
              "      <td>16</td>\n",
              "      <td>0</td>\n",
              "      <td>0</td>\n",
              "      <td>0</td>\n",
              "      <td>0</td>\n",
              "      <td>48</td>\n",
              "      <td>0</td>\n",
              "      <td>0</td>\n",
              "      <td>1</td>\n",
              "      <td>7500000</td>\n",
              "      <td>SI</td>\n",
              "      <td>NO FUGA</td>\n",
              "    </tr>\n",
              "    <tr>\n",
              "      <th>2</th>\n",
              "      <td>M</td>\n",
              "      <td>1651421</td>\n",
              "      <td>39.0</td>\n",
              "      <td>TEC</td>\n",
              "      <td>CAS</td>\n",
              "      <td>ANTOFAGASTA</td>\n",
              "      <td>90</td>\n",
              "      <td>0</td>\n",
              "      <td>604169</td>\n",
              "      <td>0</td>\n",
              "      <td>0</td>\n",
              "      <td>323</td>\n",
              "      <td>26489</td>\n",
              "      <td>2925</td>\n",
              "      <td>1</td>\n",
              "      <td>8000000</td>\n",
              "      <td>NO</td>\n",
              "      <td>NO FUGA</td>\n",
              "    </tr>\n",
              "    <tr>\n",
              "      <th>3</th>\n",
              "      <td>F</td>\n",
              "      <td>638969</td>\n",
              "      <td>36.0</td>\n",
              "      <td>UNV</td>\n",
              "      <td>CAS</td>\n",
              "      <td>SANTIAGO</td>\n",
              "      <td>85</td>\n",
              "      <td>0</td>\n",
              "      <td>5125</td>\n",
              "      <td>0</td>\n",
              "      <td>198998</td>\n",
              "      <td>94</td>\n",
              "      <td>0</td>\n",
              "      <td>105</td>\n",
              "      <td>1</td>\n",
              "      <td>2600000</td>\n",
              "      <td>NO</td>\n",
              "      <td>NO FUGA</td>\n",
              "    </tr>\n",
              "    <tr>\n",
              "      <th>4</th>\n",
              "      <td>M</td>\n",
              "      <td>860113</td>\n",
              "      <td>44.0</td>\n",
              "      <td>TEC</td>\n",
              "      <td>CAS</td>\n",
              "      <td>SANTIAGO</td>\n",
              "      <td>45</td>\n",
              "      <td>0</td>\n",
              "      <td>11946</td>\n",
              "      <td>0</td>\n",
              "      <td>73959</td>\n",
              "      <td>149</td>\n",
              "      <td>0</td>\n",
              "      <td>272</td>\n",
              "      <td>1</td>\n",
              "      <td>6400000</td>\n",
              "      <td>NO</td>\n",
              "      <td>NO FUGA</td>\n",
              "    </tr>\n",
              "  </tbody>\n",
              "</table>\n",
              "</div>"
            ],
            "text/plain": [
              "  GENERO    RENTA  EDAD NIV_EDUC E_CIVIL       CIUDAD  COD_OFI  D_Marzo  \\\n",
              "0      M   746476  39.0      MED     CAS  LOS ANGELES       68        0   \n",
              "1      F    11901  49.0      MED     VIU     SANTIAGO       16        0   \n",
              "2      M  1651421  39.0      TEC     CAS  ANTOFAGASTA       90        0   \n",
              "3      F   638969  36.0      UNV     CAS     SANTIAGO       85        0   \n",
              "4      M   860113  44.0      TEC     CAS     SANTIAGO       45        0   \n",
              "\n",
              "   D_Abril  D_Mayo  D_Junio  D_Julio  D_Agosto  D_Septiembre  M_MOROSO  \\\n",
              "0    38292       0   434357     1766      9110           340         2   \n",
              "1        0       0        0       48         0             0         1   \n",
              "2   604169       0        0      323     26489          2925         1   \n",
              "3     5125       0   198998       94         0           105         1   \n",
              "4    11946       0    73959      149         0           272         1   \n",
              "\n",
              "     MONTO SEGURO     FUGA  \n",
              "0  2000000     NO  NO FUGA  \n",
              "1  7500000     SI  NO FUGA  \n",
              "2  8000000     NO  NO FUGA  \n",
              "3  2600000     NO  NO FUGA  \n",
              "4  6400000     NO  NO FUGA  "
            ]
          },
          "metadata": {
            "tags": []
          },
          "execution_count": 14
        }
      ]
    }
  ]
}