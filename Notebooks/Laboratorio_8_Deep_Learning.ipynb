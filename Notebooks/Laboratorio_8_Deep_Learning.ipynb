{
  "nbformat": 4,
  "nbformat_minor": 0,
  "metadata": {
    "colab": {
      "name": "Laboratorio 8: Deep Learning.ipynb",
      "provenance": [],
      "collapsed_sections": []
    },
    "kernelspec": {
      "name": "python3",
      "display_name": "Python 3"
    },
    "accelerator": "GPU"
  },
  "cells": [
    {
      "cell_type": "markdown",
      "metadata": {
        "id": "4s3KNcuvYE_x",
        "colab_type": "text"
      },
      "source": [
        "El formato de entrega será subir a u-cursos un Jupyter notebook laboratorio8.ipynb, que se debe ejecutar sin errores desde la primera celda a la última. Todo el código debe estar en el mismo notebook, el código debe estar comentado y el notebook debe estar escrito en forma de informe técnico, escribiendo una celda markdown antes de cada celda de código. **Recuerde escribir el nombre de todos los integrantes que trabajaron en la elaboración del entregable**.\n",
        "\n",
        "\n",
        "\n"
      ]
    },
    {
      "cell_type": "markdown",
      "metadata": {
        "id": "094W_jsCU61o",
        "colab_type": "text"
      },
      "source": [
        "**Integrantes**:\n",
        "1. NN1\n",
        "2. NN2\n",
        "3. NN3"
      ]
    },
    {
      "cell_type": "markdown",
      "metadata": {
        "id": "OKwMxVPszuCm",
        "colab_type": "text"
      },
      "source": [
        ""
      ]
    },
    {
      "cell_type": "markdown",
      "metadata": {
        "id": "0gNZZLSLX8l5",
        "colab_type": "text"
      },
      "source": [
        "# Laboratorio 8: Deep Learning\n",
        "\n",
        "Objetivos:\n",
        "\n",
        "\n",
        "\n",
        "1.  Entender qué es una red neuronal y sus principales componentes\n",
        "2.  Comprender las limitaciones de las redes neuronales\n",
        "3.  Conocer los beneficios que tiene el uso de una tarjeta gráfica (GPU)\n",
        "\n",
        "\n",
        "\n"
      ]
    },
    {
      "cell_type": "markdown",
      "metadata": {
        "id": "9A8SMD2Jh4AY",
        "colab_type": "text"
      },
      "source": [
        "# 1. Estructura Red Neuronal"
      ]
    },
    {
      "cell_type": "code",
      "metadata": {
        "id": "rmp88x2Tj8mv",
        "colab_type": "code",
        "outputId": "59c37c24-1407-496c-b511-e9c033de4b24",
        "colab": {
          "base_uri": "https://localhost:8080/",
          "height": 129
        }
      },
      "source": [
        "class FFNN():\n",
        "  def __init__(self, F):\n",
        "    #Inicializamos parámetros, la función de activación se puede definir afuera y entregar.\n",
        "    \n",
        "    self.W = weights #W\n",
        "    self.b = biases  #b\n",
        "    self.F = F # Función de activación\n",
        "    \n",
        "\n",
        "    def Fit(X,Y): # A diferencia de los casos anteriores\n",
        "        backpropagate() #Backpropagación haciendo uso de la regla de la cadena actualiza los pesos \"hacia atrás\"\n",
        "        optimize() # Con los pesos calculados se utiliza una función (un método de optimización) ajustando así b y W        \n",
        "        \n",
        "    \n",
        "    def backpropagate():\n",
        "      pass\n",
        "      #Aca se calculan las derivadas asociadas a la función de costo\n",
        "      \n",
        "    def optimize():\n",
        "      pass\n",
        "      #Se define el método de optimización, usualmente se usa método del gradiente de newton o ADAM, o métodos estocásticos de optimización.\n",
        "      #La idea es encontrar pesos óptimos\n",
        "      \n",
        "    \n",
        "    def Predict(X):\n",
        "      # Una vez que tenemos entrenado un modelo, usualmente queremos hacer predicciones, para este caso\n",
        "      # entregamos el vector de variables, y nos retorna un vector con los valores predichos para cada observación.\n",
        "      return predictions\n",
        "    \n",
        "    \n",
        "  # Definimos los métodos para entrenar por GPU o CPU\n",
        "    def gpu(self):\n",
        "      pass\n",
        "    def cpu(self):\n",
        "      pass"
      ],
      "execution_count": 0,
      "outputs": [
        {
          "output_type": "error",
          "ename": "IndentationError",
          "evalue": "ignored",
          "traceback": [
            "\u001b[0;36m  File \u001b[0;32m\"<ipython-input-1-f3eee666108d>\"\u001b[0;36m, line \u001b[0;32m18\u001b[0m\n\u001b[0;31m    def optimize():\u001b[0m\n\u001b[0m      ^\u001b[0m\n\u001b[0;31mIndentationError\u001b[0m\u001b[0;31m:\u001b[0m expected an indented block\n"
          ]
        }
      ]
    },
    {
      "cell_type": "code",
      "metadata": {
        "id": "pUDMeUJOA7F4",
        "colab_type": "code",
        "colab": {}
      },
      "source": [
        "#Usualmente al entrenar una red, lo que hacemos es entregar el objeto red\n",
        "#Más el dataset (en batches), la función que queremos para optimizar y el número de épocas (iteraciones)\n",
        "#Es posible entrenar una red con todo el conjunto de datos de una, pero dependiendo la cantidad de datos muy posiblemente nuestra memoria no podrá\n",
        "\n",
        "def entrenar_FFNN(red, dataset, optimizador, epochs):\n",
        "  init_time=time()\n",
        "  for epoch in range(epochs):\n",
        "    for x,y in dataset.paquetes(B):\n",
        "      red.fit(x,y)\n",
        "      y_pred=red.predict(x)\n",
        "     "
      ],
      "execution_count": 0,
      "outputs": []
    },
    {
      "cell_type": "markdown",
      "metadata": {
        "id": "PTYS6MLOLdPn",
        "colab_type": "text"
      },
      "source": [
        "# 2. Ejemplo"
      ]
    },
    {
      "cell_type": "code",
      "metadata": {
        "id": "jwttZ1j742SU",
        "colab_type": "code",
        "outputId": "5cfaabde-e2a0-4e06-9025-65b3666e8371",
        "colab": {
          "base_uri": "https://localhost:8080/",
          "height": 85
        }
      },
      "source": [
        "!git clone https://github.com/Camiloez/Labs-DL.git"
      ],
      "execution_count": 0,
      "outputs": [
        {
          "output_type": "stream",
          "text": [
            "Cloning into 'Labs-DL'...\n",
            "remote: Enumerating objects: 4008, done.\u001b[K\n",
            "remote: Total 4008 (delta 0), reused 0 (delta 0), pack-reused 4008\n",
            "Receiving objects: 100% (4008/4008), 86.14 MiB | 10.40 MiB/s, done.\n"
          ],
          "name": "stdout"
        }
      ]
    },
    {
      "cell_type": "code",
      "metadata": {
        "id": "zL-d1d_p49Hw",
        "colab_type": "code",
        "outputId": "d5965a18-1f61-4c77-bbaa-1757ebf01517",
        "colab": {
          "base_uri": "https://localhost:8080/",
          "height": 34
        }
      },
      "source": [
        "!ls"
      ],
      "execution_count": 0,
      "outputs": [
        {
          "output_type": "stream",
          "text": [
            "cat  dog\n"
          ],
          "name": "stdout"
        }
      ]
    },
    {
      "cell_type": "code",
      "metadata": {
        "id": "z10C8hfo49u1",
        "colab_type": "code",
        "colab": {}
      },
      "source": [
        "import os\n",
        "os.chdir(\"Labs-DL\")"
      ],
      "execution_count": 0,
      "outputs": []
    },
    {
      "cell_type": "code",
      "metadata": {
        "id": "lgLR-COo5nNk",
        "colab_type": "code",
        "colab": {}
      },
      "source": [
        "import os, cv2, re, random\n",
        "import numpy as np\n",
        "import pandas as pd\n",
        "from keras.preprocessing.image import ImageDataGenerator\n",
        "from keras.preprocessing.image import img_to_array, load_img\n",
        "from keras import layers, models, optimizers\n",
        "from keras import backend as K\n",
        "from keras.utils import to_categorical\n",
        "from sklearn.model_selection import train_test_split\n",
        "import matplotlib.pylab as plt"
      ],
      "execution_count": 0,
      "outputs": []
    },
    {
      "cell_type": "code",
      "metadata": {
        "id": "HNEcXrw55oB0",
        "colab_type": "code",
        "colab": {}
      },
      "source": [
        "img_width = 150\n",
        "img_height = 150\n",
        "CAT_DIR = 'cat/'\n",
        "DOG_DIR = 'dog/'\n",
        "cats = [CAT_DIR+i for i in os.listdir(CAT_DIR)] # use this for full dataset\n",
        "dogs = [DOG_DIR+i for i in os.listdir(DOG_DIR)]\n"
      ],
      "execution_count": 0,
      "outputs": []
    },
    {
      "cell_type": "code",
      "metadata": {
        "id": "i_3TziYI9eYl",
        "colab_type": "code",
        "outputId": "00905a97-0c1d-416c-f4f7-0385a5a0724e",
        "colab": {
          "base_uri": "https://localhost:8080/",
          "height": 54
        }
      },
      "source": [
        "print(dogs)"
      ],
      "execution_count": 0,
      "outputs": [
        {
          "output_type": "stream",
          "text": [
            "['dog/dog.827.jpg', 'dog/dog.1431.jpg', 'dog/dog.1883.jpg', 'dog/dog.1943.jpg', 'dog/dog.1264.jpg', 'dog/dog.831.jpg', 'dog/dog.771.jpg', 'dog/dog.597.jpg', 'dog/dog.1745.jpg', 'dog/dog.1961.jpg', 'dog/dog.409.jpg', 'dog/dog.939.jpg', 'dog/dog.1665.jpg', 'dog/dog.273.jpg', 'dog/dog.911.jpg', 'dog/dog.1823.jpg', 'dog/dog.1906.jpg', 'dog/dog.680.jpg', 'dog/dog.1841.jpg', 'dog/dog.699.jpg', 'dog/dog.1553.jpg', 'dog/dog.1752.jpg', 'dog/dog.1672.jpg', 'dog/dog.400.jpg', 'dog/dog.526.jpg', 'dog/dog.913.jpg', 'dog/dog.1048.jpg', 'dog/dog.665.jpg', 'dog/dog.1361.jpg', 'dog/dog.1867.jpg', 'dog/dog.1763.jpg', 'dog/dog.249.jpg', 'dog/dog.804.jpg', 'dog/dog.1767.jpg', 'dog/dog.251.jpg', 'dog/dog.1677.jpg', 'dog/dog.396.jpg', 'dog/dog.736.jpg', 'dog/dog.952.jpg', 'dog/dog.660.jpg', 'dog/dog.1358.jpg', 'dog/dog.487.jpg', 'dog/dog.642.jpg', 'dog/dog.198.jpg', 'dog/dog.1150.jpg', 'dog/dog.1630.jpg', 'dog/dog.1937.jpg', 'dog/dog.247.jpg', 'dog/dog.964.jpg', 'dog/dog.436.jpg', 'dog/dog.1791.jpg', 'dog/dog.775.jpg', 'dog/dog.1604.jpg', 'dog/dog.1355.jpg', 'dog/dog.719.jpg', 'dog/dog.53.jpg', 'dog/dog.163.jpg', 'dog/dog.1699.jpg', 'dog/dog.1184.jpg', 'dog/dog.77.jpg', 'dog/dog.733.jpg', 'dog/dog.413.jpg', 'dog/dog.1529.jpg', 'dog/dog.884.jpg', 'dog/dog.1964.jpg', 'dog/dog.801.jpg', 'dog/dog.1656.jpg', 'dog/dog.86.jpg', 'dog/dog.1812.jpg', 'dog/dog.1188.jpg', 'dog/dog.1160.jpg', 'dog/dog.991.jpg', 'dog/dog.1036.jpg', 'dog/dog.709.jpg', 'dog/dog.1965.jpg', 'dog/dog.715.jpg', 'dog/dog.1653.jpg', 'dog/dog.1495.jpg', 'dog/dog.636.jpg', 'dog/dog.674.jpg', 'dog/dog.335.jpg', 'dog/dog.1304.jpg', 'dog/dog.22.jpg', 'dog/dog.1997.jpg', 'dog/dog.363.jpg', 'dog/dog.1429.jpg', 'dog/dog.1582.jpg', 'dog/dog.1789.jpg', 'dog/dog.1136.jpg', 'dog/dog.1448.jpg', 'dog/dog.1914.jpg', 'dog/dog.1827.jpg', 'dog/dog.1821.jpg', 'dog/dog.1174.jpg', 'dog/dog.1322.jpg', 'dog/dog.821.jpg', 'dog/dog.1198.jpg', 'dog/dog.799.jpg', 'dog/dog.1470.jpg', 'dog/dog.732.jpg', 'dog/dog.694.jpg', 'dog/dog.1889.jpg', 'dog/dog.1612.jpg', 'dog/dog.51.jpg', 'dog/dog.455.jpg', 'dog/dog.900.jpg', 'dog/dog.295.jpg', 'dog/dog.1615.jpg', 'dog/dog.173.jpg', 'dog/dog.1258.jpg', 'dog/dog.1983.jpg', 'dog/dog.437.jpg', 'dog/dog.943.jpg', 'dog/dog.1988.jpg', 'dog/dog.1629.jpg', 'dog/dog.830.jpg', 'dog/dog.575.jpg', 'dog/dog.1772.jpg', 'dog/dog.1443.jpg', 'dog/dog.1500.jpg', 'dog/dog.227.jpg', 'dog/dog.1822.jpg', 'dog/dog.98.jpg', 'dog/dog.1581.jpg', 'dog/dog.100.jpg', 'dog/dog.1433.jpg', 'dog/dog.888.jpg', 'dog/dog.1439.jpg', 'dog/dog.1102.jpg', 'dog/dog.1235.jpg', 'dog/dog.1933.jpg', 'dog/dog.84.jpg', 'dog/dog.894.jpg', 'dog/dog.826.jpg', 'dog/dog.495.jpg', 'dog/dog.1415.jpg', 'dog/dog.39.jpg', 'dog/dog.697.jpg', 'dog/dog.1817.jpg', 'dog/dog.109.jpg', 'dog/dog.1476.jpg', 'dog/dog.1818.jpg', 'dog/dog.1351.jpg', 'dog/dog.1104.jpg', 'dog/dog.1929.jpg', 'dog/dog.208.jpg', 'dog/dog.520.jpg', 'dog/dog.669.jpg', 'dog/dog.608.jpg', 'dog/dog.1597.jpg', 'dog/dog.672.jpg', 'dog/dog.1452.jpg', 'dog/dog.1496.jpg', 'dog/dog.671.jpg', 'dog/dog.1543.jpg', 'dog/dog.1112.jpg', 'dog/dog.1237.jpg', 'dog/dog.1105.jpg', 'dog/dog.1509.jpg', 'dog/dog.317.jpg', 'dog/dog.1428.jpg', 'dog/dog.472.jpg', 'dog/dog.684.jpg', 'dog/dog.119.jpg', 'dog/dog.387.jpg', 'dog/dog.914.jpg', 'dog/dog.1808.jpg', 'dog/dog.814.jpg', 'dog/dog.906.jpg', 'dog/dog.1226.jpg', 'dog/dog.1999.jpg', 'dog/dog.797.jpg', 'dog/dog.161.jpg', 'dog/dog.233.jpg', 'dog/dog.1477.jpg', 'dog/dog.1840.jpg', 'dog/dog.1560.jpg', 'dog/dog.1641.jpg', 'dog/dog.1506.jpg', 'dog/dog.923.jpg', 'dog/dog.1289.jpg', 'dog/dog.1599.jpg', 'dog/dog.491.jpg', 'dog/dog.139.jpg', 'dog/dog.185.jpg', 'dog/dog.1750.jpg', 'dog/dog.877.jpg', 'dog/dog.1551.jpg', 'dog/dog.591.jpg', 'dog/dog.38.jpg', 'dog/dog.1516.jpg', 'dog/dog.627.jpg', 'dog/dog.1080.jpg', 'dog/dog.1989.jpg', 'dog/dog.1091.jpg', 'dog/dog.451.jpg', 'dog/dog.1915.jpg', 'dog/dog.1765.jpg', 'dog/dog.110.jpg', 'dog/dog.1405.jpg', 'dog/dog.1228.jpg', 'dog/dog.1122.jpg', 'dog/dog.1493.jpg', 'dog/dog.1675.jpg', 'dog/dog.1078.jpg', 'dog/dog.1353.jpg', 'dog/dog.738.jpg', 'dog/dog.1986.jpg', 'dog/dog.867.jpg', 'dog/dog.244.jpg', 'dog/dog.1792.jpg', 'dog/dog.423.jpg', 'dog/dog.551.jpg', 'dog/dog.1723.jpg', 'dog/dog.399.jpg', 'dog/dog.1011.jpg', 'dog/dog.225.jpg', 'dog/dog.28.jpg', 'dog/dog.795.jpg', 'dog/dog.426.jpg', 'dog/dog.843.jpg', 'dog/dog.1472.jpg', 'dog/dog.1459.jpg', 'dog/dog.1009.jpg', 'dog/dog.1731.jpg', 'dog/dog.883.jpg', 'dog/dog.985.jpg', 'dog/dog.1758.jpg', 'dog/dog.1489.jpg', 'dog/dog.1134.jpg', 'dog/dog.1127.jpg', 'dog/dog.1668.jpg', 'dog/dog.1798.jpg', 'dog/dog.616.jpg', 'dog/dog.559.jpg', 'dog/dog.1042.jpg', 'dog/dog.271.jpg', 'dog/dog.833.jpg', 'dog/dog.291.jpg', 'dog/dog.323.jpg', 'dog/dog.1041.jpg', 'dog/dog.340.jpg', 'dog/dog.580.jpg', 'dog/dog.766.jpg', 'dog/dog.1316.jpg', 'dog/dog.1693.jpg', 'dog/dog.545.jpg', 'dog/dog.852.jpg', 'dog/dog.1374.jpg', 'dog/dog.1600.jpg', 'dog/dog.1894.jpg', 'dog/dog.1874.jpg', 'dog/dog.855.jpg', 'dog/dog.505.jpg', 'dog/dog.27.jpg', 'dog/dog.1498.jpg', 'dog/dog.1903.jpg', 'dog/dog.162.jpg', 'dog/dog.979.jpg', 'dog/dog.483.jpg', 'dog/dog.1165.jpg', 'dog/dog.1957.jpg', 'dog/dog.583.jpg', 'dog/dog.1857.jpg', 'dog/dog.407.jpg', 'dog/dog.24.jpg', 'dog/dog.787.jpg', 'dog/dog.229.jpg', 'dog/dog.1931.jpg', 'dog/dog.942.jpg', 'dog/dog.778.jpg', 'dog/dog.274.jpg', 'dog/dog.276.jpg', 'dog/dog.1061.jpg', 'dog/dog.1744.jpg', 'dog/dog.120.jpg', 'dog/dog.154.jpg', 'dog/dog.1025.jpg', 'dog/dog.102.jpg', 'dog/dog.610.jpg', 'dog/dog.1393.jpg', 'dog/dog.1125.jpg', 'dog/dog.1456.jpg', 'dog/dog.1949.jpg', 'dog/dog.1974.jpg', 'dog/dog.782.jpg', 'dog/dog.1432.jpg', 'dog/dog.1891.jpg', 'dog/dog.76.jpg', 'dog/dog.466.jpg', 'dog/dog.91.jpg', 'dog/dog.1252.jpg', 'dog/dog.1834.jpg', 'dog/dog.1850.jpg', 'dog/dog.846.jpg', 'dog/dog.635.jpg', 'dog/dog.72.jpg', 'dog/dog.57.jpg', 'dog/dog.1457.jpg', 'dog/dog.686.jpg', 'dog/dog.52.jpg', 'dog/dog.382.jpg', 'dog/dog.1286.jpg', 'dog/dog.1222.jpg', 'dog/dog.1298.jpg', 'dog/dog.183.jpg', 'dog/dog.349.jpg', 'dog/dog.1778.jpg', 'dog/dog.1951.jpg', 'dog/dog.639.jpg', 'dog/dog.500.jpg', 'dog/dog.824.jpg', 'dog/dog.255.jpg', 'dog/dog.131.jpg', 'dog/dog.212.jpg', 'dog/dog.1195.jpg', 'dog/dog.1352.jpg', 'dog/dog.759.jpg', 'dog/dog.464.jpg', 'dog/dog.381.jpg', 'dog/dog.850.jpg', 'dog/dog.15.jpg', 'dog/dog.1359.jpg', 'dog/dog.96.jpg', 'dog/dog.398.jpg', 'dog/dog.1760.jpg', 'dog/dog.1039.jpg', 'dog/dog.1876.jpg', 'dog/dog.1028.jpg', 'dog/dog.1569.jpg', 'dog/dog.168.jpg', 'dog/dog.793.jpg', 'dog/dog.1338.jpg', 'dog/dog.1403.jpg', 'dog/dog.417.jpg', 'dog/dog.287.jpg', 'dog/dog.1862.jpg', 'dog/dog.603.jpg', 'dog/dog.540.jpg', 'dog/dog.1248.jpg', 'dog/dog.313.jpg', 'dog/dog.628.jpg', 'dog/dog.1613.jpg', 'dog/dog.632.jpg', 'dog/dog.958.jpg', 'dog/dog.1418.jpg', 'dog/dog.1924.jpg', 'dog/dog.1189.jpg', 'dog/dog.1759.jpg', 'dog/dog.3.jpg', 'dog/dog.1213.jpg', 'dog/dog.468.jpg', 'dog/dog.1955.jpg', 'dog/dog.1453.jpg', 'dog/dog.1167.jpg', 'dog/dog.118.jpg', 'dog/dog.849.jpg', 'dog/dog.915.jpg', 'dog/dog.1319.jpg', 'dog/dog.1882.jpg', 'dog/dog.1330.jpg', 'dog/dog.1886.jpg', 'dog/dog.350.jpg', 'dog/dog.1647.jpg', 'dog/dog.1328.jpg', 'dog/dog.1397.jpg', 'dog/dog.1515.jpg', 'dog/dog.306.jpg', 'dog/dog.1332.jpg', 'dog/dog.1825.jpg', 'dog/dog.508.jpg', 'dog/dog.1427.jpg', 'dog/dog.1097.jpg', 'dog/dog.1347.jpg', 'dog/dog.1682.jpg', 'dog/dog.184.jpg', 'dog/dog.1595.jpg', 'dog/dog.135.jpg', 'dog/dog.1718.jpg', 'dog/dog.1527.jpg', 'dog/dog.1395.jpg', 'dog/dog.755.jpg', 'dog/dog.44.jpg', 'dog/dog.1757.jpg', 'dog/dog.1118.jpg', 'dog/dog.682.jpg', 'dog/dog.167.jpg', 'dog/dog.1203.jpg', 'dog/dog.845.jpg', 'dog/dog.1926.jpg', 'dog/dog.679.jpg', 'dog/dog.564.jpg', 'dog/dog.1768.jpg', 'dog/dog.1809.jpg', 'dog/dog.1438.jpg', 'dog/dog.1545.jpg', 'dog/dog.1421.jpg', 'dog/dog.860.jpg', 'dog/dog.605.jpg', 'dog/dog.1336.jpg', 'dog/dog.1860.jpg', 'dog/dog.779.jpg', 'dog/dog.1871.jpg', 'dog/dog.544.jpg', 'dog/dog.1324.jpg', 'dog/dog.1573.jpg', 'dog/dog.762.jpg', 'dog/dog.1052.jpg', 'dog/dog.339.jpg', 'dog/dog.1724.jpg', 'dog/dog.1726.jpg', 'dog/dog.992.jpg', 'dog/dog.1015.jpg', 'dog/dog.1143.jpg', 'dog/dog.692.jpg', 'dog/dog.78.jpg', 'dog/dog.1115.jpg', 'dog/dog.1734.jpg', 'dog/dog.1201.jpg', 'dog/dog.391.jpg', 'dog/dog.115.jpg', 'dog/dog.1385.jpg', 'dog/dog.1176.jpg', 'dog/dog.1736.jpg', 'dog/dog.301.jpg', 'dog/dog.75.jpg', 'dog/dog.1786.jpg', 'dog/dog.875.jpg', 'dog/dog.164.jpg', 'dog/dog.303.jpg', 'dog/dog.1354.jpg', 'dog/dog.54.jpg', 'dog/dog.1550.jpg', 'dog/dog.62.jpg', 'dog/dog.928.jpg', 'dog/dog.1437.jpg', 'dog/dog.1715.jpg', 'dog/dog.599.jpg', 'dog/dog.283.jpg', 'dog/dog.1425.jpg', 'dog/dog.430.jpg', 'dog/dog.881.jpg', 'dog/dog.1210.jpg', 'dog/dog.241.jpg', 'dog/dog.80.jpg', 'dog/dog.1637.jpg', 'dog/dog.1852.jpg', 'dog/dog.834.jpg', 'dog/dog.1272.jpg', 'dog/dog.511.jpg', 'dog/.DS_Store', 'dog/dog.1810.jpg', 'dog/dog.629.jpg', 'dog/dog.1445.jpg', 'dog/dog.1267.jpg', 'dog/dog.194.jpg', 'dog/dog.1460.jpg', 'dog/dog.13.jpg', 'dog/dog.1464.jpg', 'dog/dog.1878.jpg', 'dog/dog.1919.jpg', 'dog/dog.924.jpg', 'dog/dog.1507.jpg', 'dog/dog.1293.jpg', 'dog/dog.1754.jpg', 'dog/dog.707.jpg', 'dog/dog.1032.jpg', 'dog/dog.1534.jpg', 'dog/dog.389.jpg', 'dog/dog.235.jpg', 'dog/dog.1314.jpg', 'dog/dog.1062.jpg', 'dog/dog.1591.jpg', 'dog/dog.1020.jpg', 'dog/dog.1987.jpg', 'dog/dog.1548.jpg', 'dog/dog.1384.jpg', 'dog/dog.631.jpg', 'dog/dog.1158.jpg', 'dog/dog.1607.jpg', 'dog/dog.360.jpg', 'dog/dog.557.jpg', 'dog/dog.868.jpg', 'dog/dog.263.jpg', 'dog/dog.1031.jpg', 'dog/dog.1879.jpg', 'dog/dog.296.jpg', 'dog/dog.1893.jpg', 'dog/dog.734.jpg', 'dog/dog.203.jpg', 'dog/dog.265.jpg', 'dog/dog.595.jpg', 'dog/dog.784.jpg', 'dog/dog.1406.jpg', 'dog/dog.885.jpg', 'dog/dog.810.jpg', 'dog/dog.1366.jpg', 'dog/dog.1138.jpg', 'dog/dog.978.jpg', 'dog/dog.477.jpg', 'dog/dog.373.jpg', 'dog/dog.1124.jpg', 'dog/dog.568.jpg', 'dog/dog.588.jpg', 'dog/dog.1532.jpg', 'dog/dog.1938.jpg', 'dog/dog.1037.jpg', 'dog/dog.1920.jpg', 'dog/dog.611.jpg', 'dog/dog.94.jpg', 'dog/dog.1329.jpg', 'dog/dog.1022.jpg', 'dog/dog.405.jpg', 'dog/dog.581.jpg', 'dog/dog.1249.jpg', 'dog/dog.1079.jpg', 'dog/dog.1998.jpg', 'dog/dog.974.jpg', 'dog/dog.199.jpg', 'dog/dog.1291.jpg', 'dog/dog.624.jpg', 'dog/dog.1670.jpg', 'dog/dog.929.jpg', 'dog/dog.1921.jpg', 'dog/dog.584.jpg', 'dog/dog.1499.jpg', 'dog/dog.1064.jpg', 'dog/dog.1069.jpg', 'dog/dog.1071.jpg', 'dog/dog.351.jpg', 'dog/dog.1953.jpg', 'dog/dog.1123.jpg', 'dog/dog.12.jpg', 'dog/dog.1200.jpg', 'dog/dog.288.jpg', 'dog/dog.1004.jpg', 'dog/dog.309.jpg', 'dog/dog.1187.jpg', 'dog/dog.209.jpg', 'dog/dog.259.jpg', 'dog/dog.342.jpg', 'dog/dog.856.jpg', 'dog/dog.1465.jpg', 'dog/dog.528.jpg', 'dog/dog.1303.jpg', 'dog/dog.724.jpg', 'dog/dog.840.jpg', 'dog/dog.1979.jpg', 'dog/dog.1057.jpg', 'dog/dog.434.jpg', 'dog/dog.248.jpg', 'dog/dog.1652.jpg', 'dog/dog.1578.jpg', 'dog/dog.1262.jpg', 'dog/dog.1215.jpg', 'dog/dog.1386.jpg', 'dog/dog.50.jpg', 'dog/dog.1334.jpg', 'dog/dog.1829.jpg', 'dog/dog.21.jpg', 'dog/dog.1947.jpg', 'dog/dog.1717.jpg', 'dog/dog.211.jpg', 'dog/dog.740.jpg', 'dog/dog.307.jpg', 'dog/dog.1207.jpg', 'dog/dog.1155.jpg', 'dog/dog.1975.jpg', 'dog/dog.907.jpg', 'dog/dog.535.jpg', 'dog/dog.1008.jpg', 'dog/dog.656.jpg', 'dog/dog.160.jpg', 'dog/dog.780.jpg', 'dog/dog.1950.jpg', 'dog/dog.578.jpg', 'dog/dog.1579.jpg', 'dog/dog.1923.jpg', 'dog/dog.122.jpg', 'dog/dog.1344.jpg', 'dog/dog.1049.jpg', 'dog/dog.1413.jpg', 'dog/dog.1706.jpg', 'dog/dog.521.jpg', 'dog/dog.742.jpg', 'dog/dog.1376.jpg', 'dog/dog.197.jpg', 'dog/dog.461.jpg', 'dog/dog.331.jpg', 'dog/dog.1710.jpg', 'dog/dog.774.jpg', 'dog/dog.475.jpg', 'dog/dog.1451.jpg', 'dog/dog.1302.jpg', 'dog/dog.1727.jpg', 'dog/dog.1561.jpg', 'dog/dog.569.jpg', 'dog/dog.1620.jpg', 'dog/dog.664.jpg', 'dog/dog.1144.jpg', 'dog/dog.1254.jpg', 'dog/dog.1824.jpg', 'dog/dog.895.jpg', 'dog/dog.921.jpg', 'dog/dog.1722.jpg', 'dog/dog.151.jpg', 'dog/dog.808.jpg', 'dog/dog.1697.jpg', 'dog/dog.285.jpg', 'dog/dog.730.jpg', 'dog/dog.844.jpg', 'dog/dog.796.jpg', 'dog/dog.1243.jpg', 'dog/dog.1279.jpg', 'dog/dog.1205.jpg', 'dog/dog.463.jpg', 'dog/dog.990.jpg', 'dog/dog.1574.jpg', 'dog/dog.1563.jpg', 'dog/dog.1325.jpg', 'dog/dog.1546.jpg', 'dog/dog.140.jpg', 'dog/dog.949.jpg', 'dog/dog.700.jpg', 'dog/dog.1240.jpg', 'dog/dog.704.jpg', 'dog/dog.1896.jpg', 'dog/dog.1362.jpg', 'dog/dog.1153.jpg', 'dog/dog.815.jpg', 'dog/dog.512.jpg', 'dog/dog.1977.jpg', 'dog/dog.493.jpg', 'dog/dog.989.jpg', 'dog/dog.1636.jpg', 'dog/dog.1517.jpg', 'dog/dog.822.jpg', 'dog/dog.16.jpg', 'dog/dog.658.jpg', 'dog/dog.1370.jpg', 'dog/dog.1746.jpg', 'dog/dog.1917.jpg', 'dog/dog.951.jpg', 'dog/dog.1192.jpg', 'dog/dog.221.jpg', 'dog/dog.1856.jpg', 'dog/dog.710.jpg', 'dog/dog.377.jpg', 'dog/dog.874.jpg', 'dog/dog.322.jpg', 'dog/dog.541.jpg', 'dog/dog.155.jpg', 'dog/dog.1223.jpg', 'dog/dog.825.jpg', 'dog/dog.471.jpg', 'dog/dog.1858.jpg', 'dog/dog.1593.jpg', 'dog/dog.1273.jpg', 'dog/dog.156.jpg', 'dog/dog.879.jpg', 'dog/dog.812.jpg', 'dog/dog.33.jpg', 'dog/dog.180.jpg', 'dog/dog.956.jpg', 'dog/dog.1514.jpg', 'dog/dog.1704.jpg', 'dog/dog.277.jpg', 'dog/dog.1948.jpg', 'dog/dog.383.jpg', 'dog/dog.193.jpg', 'dog/dog.1148.jpg', 'dog/dog.1121.jpg', 'dog/dog.614.jpg', 'dog/dog.55.jpg', 'dog/dog.1692.jpg', 'dog/dog.1566.jpg', 'dog/dog.189.jpg', 'dog/dog.619.jpg', 'dog/dog.1709.jpg', 'dog/dog.1835.jpg', 'dog/dog.1002.jpg', 'dog/dog.1700.jpg', 'dog/dog.1182.jpg', 'dog/dog.1178.jpg', 'dog/dog.524.jpg', 'dog/dog.675.jpg', 'dog/dog.1635.jpg', 'dog/dog.1268.jpg', 'dog/dog.289.jpg', 'dog/dog.281.jpg', 'dog/dog.1076.jpg', 'dog/dog.1239.jpg', 'dog/dog.1797.jpg', 'dog/dog.586.jpg', 'dog/dog.1661.jpg', 'dog/dog.1023.jpg', 'dog/dog.809.jpg', 'dog/dog.1270.jpg', 'dog/dog.1246.jpg', 'dog/dog.1281.jpg', 'dog/dog.1721.jpg', 'dog/dog.601.jpg', 'dog/dog.1034.jpg', 'dog/dog.1430.jpg', 'dog/dog.1398.jpg', 'dog/dog.1389.jpg', 'dog/dog.1000.jpg', 'dog/dog.217.jpg', 'dog/dog.348.jpg', 'dog/dog.1043.jpg', 'dog/dog.1995.jpg', 'dog/dog.1539.jpg', 'dog/dog.966.jpg', 'dog/dog.577.jpg', 'dog/dog.1434.jpg', 'dog/dog.286.jpg', 'dog/dog.465.jpg', 'dog/dog.496.jpg', 'dog/dog.129.jpg', 'dog/dog.305.jpg', 'dog/dog.683.jpg', 'dog/dog.596.jpg', 'dog/dog.169.jpg', 'dog/dog.818.jpg', 'dog/dog.1309.jpg', 'dog/dog.1468.jpg', 'dog/dog.0.jpg', 'dog/dog.1743.jpg', 'dog/dog.149.jpg', 'dog/dog.1357.jpg', 'dog/dog.1111.jpg', 'dog/dog.1623.jpg', 'dog/dog.1388.jpg', 'dog/dog.1753.jpg', 'dog/dog.820.jpg', 'dog/dog.290.jpg', 'dog/dog.702.jpg', 'dog/dog.1469.jpg', 'dog/dog.823.jpg', 'dog/dog.1571.jpg', 'dog/dog.1674.jpg', 'dog/dog.1181.jpg', 'dog/dog.1925.jpg', 'dog/dog.1231.jpg', 'dog/dog.1749.jpg', 'dog/dog.1297.jpg', 'dog/dog.449.jpg', 'dog/dog.878.jpg', 'dog/dog.1542.jpg', 'dog/dog.994.jpg', 'dog/dog.79.jpg', 'dog/dog.892.jpg', 'dog/dog.891.jpg', 'dog/dog.1318.jpg', 'dog/dog.1216.jpg', 'dog/dog.903.jpg', 'dog/dog.1365.jpg', 'dog/dog.42.jpg', 'dog/dog.1244.jpg', 'dog/dog.1580.jpg', 'dog/dog.1287.jpg', 'dog/dog.770.jpg', 'dog/dog.1040.jpg', 'dog/dog.1614.jpg', 'dog/dog.997.jpg', 'dog/dog.897.jpg', 'dog/dog.1851.jpg', 'dog/dog.1156.jpg', 'dog/dog.166.jpg', 'dog/dog.5.jpg', 'dog/dog.375.jpg', 'dog/dog.130.jpg', 'dog/dog.1487.jpg', 'dog/dog.917.jpg', 'dog/dog.365.jpg', 'dog/dog.1229.jpg', 'dog/dog.916.jpg', 'dog/dog.1463.jpg', 'dog/dog.1007.jpg', 'dog/dog.1911.jpg', 'dog/dog.652.jpg', 'dog/dog.1592.jpg', 'dog/dog.981.jpg', 'dog/dog.1617.jpg', 'dog/dog.1980.jpg', 'dog/dog.1190.jpg', 'dog/dog.73.jpg', 'dog/dog.1191.jpg', 'dog/dog.1978.jpg', 'dog/dog.1694.jpg', 'dog/dog.1299.jpg', 'dog/dog.1870.jpg', 'dog/dog.392.jpg', 'dog/dog.713.jpg', 'dog/dog.378.jpg', 'dog/dog.1056.jpg', 'dog/dog.456.jpg', 'dog/dog.1628.jpg', 'dog/dog.1945.jpg', 'dog/dog.59.jpg', 'dog/dog.1446.jpg', 'dog/dog.735.jpg', 'dog/dog.1909.jpg', 'dog/dog.1547.jpg', 'dog/dog.1861.jpg', 'dog/dog.458.jpg', 'dog/dog.1047.jpg', 'dog/dog.1275.jpg', 'dog/dog.1572.jpg', 'dog/dog.940.jpg', 'dog/dog.257.jpg', 'dog/dog.1875.jpg', 'dog/dog.712.jpg', 'dog/dog.1394.jpg', 'dog/dog.728.jpg', 'dog/dog.195.jpg', 'dog/dog.23.jpg', 'dog/dog.670.jpg', 'dog/dog.1848.jpg', 'dog/dog.1183.jpg', 'dog/dog.1881.jpg', 'dog/dog.750.jpg', 'dog/dog.847.jpg', 'dog/dog.478.jpg', 'dog/dog.1271.jpg', 'dog/dog.182.jpg', 'dog/dog.1855.jpg', 'dog/dog.920.jpg', 'dog/dog.1218.jpg', 'dog/dog.932.jpg', 'dog/dog.1863.jpg', 'dog/dog.889.jpg', 'dog/dog.138.jpg', 'dog/dog.999.jpg', 'dog/dog.1552.jpg', 'dog/dog.1719.jpg', 'dog/dog.1310.jpg', 'dog/dog.32.jpg', 'dog/dog.1735.jpg', 'dog/dog.1877.jpg', 'dog/dog.1108.jpg', 'dog/dog.95.jpg', 'dog/dog.741.jpg', 'dog/dog.582.jpg', 'dog/dog.859.jpg', 'dog/dog.590.jpg', 'dog/dog.141.jpg', 'dog/dog.510.jpg', 'dog/dog.1521.jpg', 'dog/dog.1854.jpg', 'dog/dog.443.jpg', 'dog/dog.539.jpg', 'dog/dog.1099.jpg', 'dog/dog.435.jpg', 'dog/dog.370.jpg', 'dog/dog.61.jpg', 'dog/dog.1012.jpg', 'dog/dog.972.jpg', 'dog/dog.1114.jpg', 'dog/dog.723.jpg', 'dog/dog.90.jpg', 'dog/dog.1485.jpg', 'dog/dog.384.jpg', 'dog/dog.1327.jpg', 'dog/dog.1221.jpg', 'dog/dog.618.jpg', 'dog/dog.501.jpg', 'dog/dog.497.jpg', 'dog/dog.763.jpg', 'dog/dog.739.jpg', 'dog/dog.266.jpg', 'dog/dog.410.jpg', 'dog/dog.853.jpg', 'dog/dog.1518.jpg', 'dog/dog.1762.jpg', 'dog/dog.1868.jpg', 'dog/dog.1523.jpg', 'dog/dog.314.jpg', 'dog/dog.1133.jpg', 'dog/dog.1770.jpg', 'dog/dog.1508.jpg', 'dog/dog.1420.jpg', 'dog/dog.902.jpg', 'dog/dog.534.jpg', 'dog/dog.1820.jpg', 'dog/dog.1530.jpg', 'dog/dog.1794.jpg', 'dog/dog.552.jpg', 'dog/dog.651.jpg', 'dog/dog.1208.jpg', 'dog/dog.1557.jpg', 'dog/dog.1471.jpg', 'dog/dog.876.jpg', 'dog/dog.1606.jpg', 'dog/dog.727.jpg', 'dog/dog.1110.jpg', 'dog/dog.1622.jpg', 'dog/dog.899.jpg', 'dog/dog.960.jpg', 'dog/dog.441.jpg', 'dog/dog.237.jpg', 'dog/dog.1738.jpg', 'dog/dog.1846.jpg', 'dog/dog.2.jpg', 'dog/dog.1941.jpg', 'dog/dog.1790.jpg', 'dog/dog.88.jpg', 'dog/dog.1985.jpg', 'dog/dog.26.jpg', 'dog/dog.250.jpg', 'dog/dog.721.jpg', 'dog/dog.275.jpg', 'dog/dog.1422.jpg', 'dog/dog.1308.jpg', 'dog/dog.1565.jpg', 'dog/dog.794.jpg', 'dog/dog.1570.jpg', 'dog/dog.1084.jpg', 'dog/dog.887.jpg', 'dog/dog.517.jpg', 'dog/dog.1137.jpg', 'dog/dog.1120.jpg', 'dog/dog.1634.jpg', 'dog/dog.550.jpg', 'dog/dog.474.jpg', 'dog/dog.746.jpg', 'dog/dog.757.jpg', 'dog/dog.1367.jpg', 'dog/dog.1274.jpg', 'dog/dog.667.jpg', 'dog/dog.1590.jpg', 'dog/dog.1482.jpg', 'dog/dog.1901.jpg', 'dog/dog.725.jpg', 'dog/dog.783.jpg', 'dog/dog.134.jpg', 'dog/dog.40.jpg', 'dog/dog.904.jpg', 'dog/dog.617.jpg', 'dog/dog.1788.jpg', 'dog/dog.93.jpg', 'dog/dog.403.jpg', 'dog/dog.337.jpg', 'dog/dog.320.jpg', 'dog/dog.1996.jpg', 'dog/dog.440.jpg', 'dog/dog.1288.jpg', 'dog/dog.1307.jpg', 'dog/dog.315.jpg', 'dog/dog.600.jpg', 'dog/dog.258.jpg', 'dog/dog.101.jpg', 'dog/dog.1342.jpg', 'dog/dog.117.jpg', 'dog/dog.359.jpg', 'dog/dog.1959.jpg', 'dog/dog.36.jpg', 'dog/dog.598.jpg', 'dog/dog.807.jpg', 'dog/dog.1632.jpg', 'dog/dog.7.jpg', 'dog/dog.20.jpg', 'dog/dog.1026.jpg', 'dog/dog.192.jpg', 'dog/dog.1494.jpg', 'dog/dog.1263.jpg', 'dog/dog.1555.jpg', 'dog/dog.1171.jpg', 'dog/dog.1769.jpg', 'dog/dog.1444.jpg', 'dog/dog.1594.jpg', 'dog/dog.837.jpg', 'dog/dog.1973.jpg', 'dog/dog.132.jpg', 'dog/dog.1454.jpg', 'dog/dog.1643.jpg', 'dog/dog.1934.jpg', 'dog/dog.1739.jpg', 'dog/dog.34.jpg', 'dog/dog.1055.jpg', 'dog/dog.1992.jpg', 'dog/dog.431.jpg', 'dog/dog.1505.jpg', 'dog/dog.648.jpg', 'dog/dog.326.jpg', 'dog/dog.1225.jpg', 'dog/dog.232.jpg', 'dog/dog.1813.jpg', 'dog/dog.486.jpg', 'dog/dog.1640.jpg', 'dog/dog.29.jpg', 'dog/dog.1725.jpg', 'dog/dog.358.jpg', 'dog/dog.1373.jpg', 'dog/dog.1356.jpg', 'dog/dog.1705.jpg', 'dog/dog.703.jpg', 'dog/dog.1644.jpg', 'dog/dog.1255.jpg', 'dog/dog.633.jpg', 'dog/dog.390.jpg', 'dog/dog.45.jpg', 'dog/dog.800.jpg', 'dog/dog.1904.jpg', 'dog/dog.655.jpg', 'dog/dog.1479.jpg', 'dog/dog.673.jpg', 'dog/dog.1277.jpg', 'dog/dog.64.jpg', 'dog/dog.1488.jpg', 'dog/dog.67.jpg', 'dog/dog.1932.jpg', 'dog/dog.1963.jpg', 'dog/dog.298.jpg', 'dog/dog.890.jpg', 'dog/dog.1962.jpg', 'dog/dog.1455.jpg', 'dog/dog.234.jpg', 'dog/dog.970.jpg', 'dog/dog.1576.jpg', 'dog/dog.1540.jpg', 'dog/dog.576.jpg', 'dog/dog.336.jpg', 'dog/dog.1969.jpg', 'dog/dog.769.jpg', 'dog/dog.1209.jpg', 'dog/dog.1918.jpg', 'dog/dog.925.jpg', 'dog/dog.1392.jpg', 'dog/dog.311.jpg', 'dog/dog.1666.jpg', 'dog/dog.696.jpg', 'dog/dog.561.jpg', 'dog/dog.930.jpg', 'dog/dog.1238.jpg', 'dog/dog.1066.jpg', 'dog/dog.1162.jpg', 'dog/dog.835.jpg', 'dog/dog.1713.jpg', 'dog/dog.415.jpg', 'dog/dog.380.jpg', 'dog/dog.751.jpg', 'dog/dog.429.jpg', 'dog/dog.1098.jpg', 'dog/dog.1956.jpg', 'dog/dog.1650.jpg', 'dog/dog.530.jpg', 'dog/dog.1610.jpg', 'dog/dog.1859.jpg', 'dog/dog.1866.jpg', 'dog/dog.527.jpg', 'dog/dog.506.jpg', 'dog/dog.1686.jpg', 'dog/dog.1541.jpg', 'dog/dog.1654.jpg', 'dog/dog.1245.jpg', 'dog/dog.1257.jpg', 'dog/dog.1407.jpg', 'dog/dog.85.jpg', 'dog/dog.1301.jpg', 'dog/dog.515.jpg', 'dog/dog.1492.jpg', 'dog/dog.1113.jpg', 'dog/dog.1224.jpg', 'dog/dog.341.jpg', 'dog/dog.432.jpg', 'dog/dog.1196.jpg', 'dog/dog.490.jpg', 'dog/dog.555.jpg', 'dog/dog.1728.jpg', 'dog/dog.1294.jpg', 'dog/dog.1596.jpg', 'dog/dog.948.jpg', 'dog/dog.1603.jpg', 'dog/dog.1173.jpg', 'dog/dog.1093.jpg', 'dog/dog.228.jpg', 'dog/dog.1766.jpg', 'dog/dog.1625.jpg', 'dog/dog.494.jpg', 'dog/dog.1400.jpg', 'dog/dog.330.jpg', 'dog/dog.1335.jpg', 'dog/dog.1537.jpg', 'dog/dog.1194.jpg', 'dog/dog.668.jpg', 'dog/dog.731.jpg', 'dog/dog.1737.jpg', 'dog/dog.147.jpg', 'dog/dog.1473.jpg', 'dog/dog.202.jpg', 'dog/dog.1944.jpg', 'dog/dog.1707.jpg', 'dog/dog.547.jpg', 'dog/dog.1315.jpg', 'dog/dog.1712.jpg', 'dog/dog.1751.jpg', 'dog/dog.1259.jpg', 'dog/dog.1220.jpg', 'dog/dog.1323.jpg', 'dog/dog.231.jpg', 'dog/dog.230.jpg', 'dog/dog.254.jpg', 'dog/dog.1212.jpg', 'dog/dog.424.jpg', 'dog/dog.1116.jpg', 'dog/dog.819.jpg', 'dog/dog.1685.jpg', 'dog/dog.48.jpg', 'dog/dog.452.jpg', 'dog/dog.1295.jpg', 'dog/dog.66.jpg', 'dog/dog.543.jpg', 'dog/dog.1140.jpg', 'dog/dog.870.jpg', 'dog/dog.1154.jpg', 'dog/dog.1902.jpg', 'dog/dog.253.jpg', 'dog/dog.1381.jpg', 'dog/dog.1412.jpg', 'dog/dog.1984.jpg', 'dog/dog.1230.jpg', 'dog/dog.476.jpg', 'dog/dog.944.jpg', 'dog/dog.31.jpg', 'dog/dog.1631.jpg', 'dog/dog.71.jpg', 'dog/dog.1312.jpg', 'dog/dog.1662.jpg', 'dog/dog.457.jpg', 'dog/dog.983.jpg', 'dog/dog.1598.jpg', 'dog/dog.1845.jpg', 'dog/dog.864.jpg', 'dog/dog.482.jpg', 'dog/dog.1343.jpg', 'dog/dog.1785.jpg', 'dog/dog.1519.jpg', 'dog/dog.1843.jpg', 'dog/dog.1936.jpg', 'dog/dog.268.jpg', 'dog/dog.1234.jpg', 'dog/dog.984.jpg', 'dog/dog.1816.jpg', 'dog/dog.419.jpg', 'dog/dog.421.jpg', 'dog/dog.781.jpg', 'dog/dog.996.jpg', 'dog/dog.861.jpg', 'dog/dog.959.jpg', 'dog/dog.726.jpg', 'dog/dog.144.jpg', 'dog/dog.538.jpg', 'dog/dog.1135.jpg', 'dog/dog.1372.jpg', 'dog/dog.587.jpg', 'dog/dog.1689.jpg', 'dog/dog.1730.jpg', 'dog/dog.872.jpg', 'dog/dog.1265.jpg', 'dog/dog.1054.jpg', 'dog/dog.1916.jpg', 'dog/dog.1833.jpg', 'dog/dog.321.jpg', 'dog/dog.448.jpg', 'dog/dog.9.jpg', 'dog/dog.502.jpg', 'dog/dog.514.jpg', 'dog/dog.272.jpg', 'dog/dog.866.jpg', 'dog/dog.1828.jpg', 'dog/dog.1001.jpg', 'dog/dog.1526.jpg', 'dog/dog.522.jpg', 'dog/dog.347.jpg', 'dog/dog.145.jpg', 'dog/dog.976.jpg', 'dog/dog.1619.jpg', 'dog/dog.1326.jpg', 'dog/dog.133.jpg', 'dog/dog.839.jpg', 'dog/dog.975.jpg', 'dog/dog.1531.jpg', 'dog/dog.1462.jpg', 'dog/dog.1186.jpg', 'dog/dog.1849.jpg', 'dog/dog.329.jpg', 'dog/dog.1363.jpg', 'dog/dog.1242.jpg', 'dog/dog.111.jpg', 'dog/dog.851.jpg', 'dog/dog.1898.jpg', 'dog/dog.1660.jpg', 'dog/dog.1946.jpg', 'dog/dog.1568.jpg', 'dog/dog.361.jpg', 'dog/dog.402.jpg', 'dog/dog.1935.jpg', 'dog/dog.589.jpg', 'dog/dog.1511.jpg', 'dog/dog.1669.jpg', 'dog/dog.367.jpg', 'dog/dog.1714.jpg', 'dog/dog.1522.jpg', 'dog/dog.1807.jpg', 'dog/dog.2000.jpg', 'dog/dog.1364.jpg', 'dog/dog.908.jpg', 'dog/dog.1887.jpg', 'dog/dog.607.jpg', 'dog/dog.420.jpg', 'dog/dog.1030.jpg', 'dog/dog.196.jpg', 'dog/dog.592.jpg', 'dog/dog.1284.jpg', 'dog/dog.1013.jpg', 'dog/dog.459.jpg', 'dog/dog.278.jpg', 'dog/dog.1681.jpg', 'dog/dog.1793.jpg', 'dog/dog.1016.jpg', 'dog/dog.388.jpg', 'dog/dog.1146.jpg', 'dog/dog.663.jpg', 'dog/dog.1584.jpg', 'dog/dog.1729.jpg', 'dog/dog.961.jpg', 'dog/dog.143.jpg', 'dog/dog.1520.jpg', 'dog/dog.936.jpg', 'dog/dog.828.jpg', 'dog/dog.1382.jpg', 'dog/dog.1908.jpg', 'dog/dog.240.jpg', 'dog/dog.644.jpg', 'dog/dog.479.jpg', 'dog/dog.566.jpg', 'dog/dog.1556.jpg', 'dog/dog.1659.jpg', 'dog/dog.863.jpg', 'dog/dog.1390.jpg', 'dog/dog.1832.jpg', 'dog/dog.159.jpg', 'dog/dog.1586.jpg', 'dog/dog.1180.jpg', 'dog/dog.1645.jpg', 'dog/dog.965.jpg', 'dog/dog.1480.jpg', 'dog/dog.722.jpg', 'dog/dog.1900.jpg', 'dog/dog.8.jpg', 'dog/dog.988.jpg', 'dog/dog.1046.jpg', 'dog/dog.223.jpg', 'dog/dog.705.jpg', 'dog/dog.1440.jpg', 'dog/dog.112.jpg', 'dog/dog.1466.jpg', 'dog/dog.300.jpg', 'dog/dog.1175.jpg', 'dog/dog.1884.jpg', 'dog/dog.1815.jpg', 'dog/dog.1664.jpg', 'dog/dog.662.jpg', 'dog/dog.857.jpg', 'dog/dog.987.jpg', 'dog/dog.1411.jpg', 'dog/dog.1533.jpg', 'dog/dog.1784.jpg', 'dog/dog.1844.jpg', 'dog/dog.1483.jpg', 'dog/dog.1967.jpg', 'dog/dog.498.jpg', 'dog/dog.995.jpg', 'dog/dog.1814.jpg', 'dog/dog.909.jpg', 'dog/dog.1107.jpg', 'dog/dog.832.jpg', 'dog/dog.1410.jpg', 'dog/dog.1486.jpg', 'dog/dog.1285.jpg', 'dog/dog.1126.jpg', 'dog/dog.1528.jpg', 'dog/dog.460.jpg', 'dog/dog.1109.jpg', 'dog/dog.1671.jpg', 'dog/dog.1648.jpg', 'dog/dog.893.jpg', 'dog/dog.1199.jpg', 'dog/dog.1864.jpg', 'dog/dog.695.jpg', 'dog/dog.178.jpg', 'dog/dog.560.jpg', 'dog/dog.622.jpg', 'dog/dog.1423.jpg', 'dog/dog.364.jpg', 'dog/dog.1779.jpg', 'dog/dog.556.jpg', 'dog/dog.1096.jpg', 'dog/dog.1280.jpg', 'dog/dog.791.jpg', 'dog/dog.805.jpg', 'dog/dog.157.jpg', 'dog/dog.1970.jpg', 'dog/dog.1045.jpg', 'dog/dog.1638.jpg', 'dog/dog.1401.jpg', 'dog/dog.678.jpg', 'dog/dog.1383.jpg', 'dog/dog.1605.jpg', 'dog/dog.594.jpg', 'dog/dog.353.jpg', 'dog/dog.641.jpg', 'dog/dog.873.jpg', 'dog/dog.97.jpg', 'dog/dog.1075.jpg', 'dog/dog.1942.jpg', 'dog/dog.1417.jpg', 'dog/dog.1799.jpg', 'dog/dog.602.jpg', 'dog/dog.89.jpg', 'dog/dog.1442.jpg', 'dog/dog.626.jpg', 'dog/dog.11.jpg', 'dog/dog.1667.jpg', 'dog/dog.177.jpg', 'dog/dog.492.jpg', 'dog/dog.993.jpg', 'dog/dog.1305.jpg', 'dog/dog.1993.jpg', 'dog/dog.1577.jpg', 'dog/dog.533.jpg', 'dog/dog.945.jpg', 'dog/dog.142.jpg', 'dog/dog.104.jpg', 'dog/dog.1811.jpg', 'dog/dog.1101.jpg', 'dog/dog.1690.jpg', 'dog/dog.613.jpg', 'dog/dog.1074.jpg', 'dog/dog.553.jpg', 'dog/dog.1142.jpg', 'dog/dog.1106.jpg', 'dog/dog.758.jpg', 'dog/dog.609.jpg', 'dog/dog.125.jpg', 'dog/dog.406.jpg', 'dog/dog.1256.jpg', 'dog/dog.181.jpg', 'dog/dog.1474.jpg', 'dog/dog.293.jpg', 'dog/dog.1536.jpg', 'dog/dog.896.jpg', 'dog/dog.242.jpg', 'dog/dog.1773.jpg', 'dog/dog.47.jpg', 'dog/dog.128.jpg', 'dog/dog.729.jpg', 'dog/dog.1068.jpg', 'dog/dog.1206.jpg', 'dog/dog.1292.jpg', 'dog/dog.1649.jpg', 'dog/dog.1375.jpg', 'dog/dog.938.jpg', 'dog/dog.264.jpg', 'dog/dog.425.jpg', 'dog/dog.1379.jpg', 'dog/dog.548.jpg', 'dog/dog.901.jpg', 'dog/dog.1940.jpg', 'dog/dog.1414.jpg', 'dog/dog.698.jpg', 'dog/dog.279.jpg', 'dog/dog.753.jpg', 'dog/dog.1678.jpg', 'dog/dog.777.jpg', 'dog/dog.126.jpg', 'dog/dog.854.jpg', 'dog/dog.1077.jpg', 'dog/dog.200.jpg', 'dog/dog.252.jpg', 'dog/dog.105.jpg', 'dog/dog.114.jpg', 'dog/dog.910.jpg', 'dog/dog.204.jpg', 'dog/dog.447.jpg', 'dog/dog.1558.jpg', 'dog/dog.205.jpg', 'dog/dog.786.jpg', 'dog/dog.1639.jpg', 'dog/dog.935.jpg', 'dog/dog.1117.jpg', 'dog/dog.1.jpg', 'dog/dog.1283.jpg', 'dog/dog.1611.jpg', 'dog/dog.1163.jpg', 'dog/dog.1130.jpg', 'dog/dog.1441.jpg', 'dog/dog.798.jpg', 'dog/dog.172.jpg', 'dog/dog.688.jpg', 'dog/dog.743.jpg', 'dog/dog.748.jpg', 'dog/dog.1720.jpg', 'dog/dog.469.jpg', 'dog/dog.70.jpg', 'dog/dog.1683.jpg', 'dog/dog.1806.jpg', 'dog/dog.1236.jpg', 'dog/dog.1627.jpg', 'dog/dog.676.jpg', 'dog/dog.630.jpg', 'dog/dog.1185.jpg', 'dog/dog.765.jpg', 'dog/dog.1895.jpg', 'dog/dog.792.jpg', 'dog/dog.1771.jpg', 'dog/dog.1447.jpg', 'dog/dog.954.jpg', 'dog/dog.1152.jpg', 'dog/dog.842.jpg', 'dog/dog.646.jpg', 'dog/dog.236.jpg', 'dog/dog.312.jpg', 'dog/dog.1702.jpg', 'dog/dog.108.jpg', 'dog/dog.749.jpg', 'dog/dog.269.jpg', 'dog/dog.645.jpg', 'dog/dog.1922.jpg', 'dog/dog.661.jpg', 'dog/dog.1691.jpg', 'dog/dog.570.jpg', 'dog/dog.785.jpg', 'dog/dog.1033.jpg', 'dog/dog.947.jpg', 'dog/dog.1796.jpg', 'dog/dog.1990.jpg', 'dog/dog.1233.jpg', 'dog/dog.971.jpg', 'dog/dog.1211.jpg', 'dog/dog.816.jpg', 'dog/dog.1082.jpg', 'dog/dog.408.jpg', 'dog/dog.1349.jpg', 'dog/dog.1128.jpg', 'dog/dog.422.jpg', 'dog/dog.1300.jpg', 'dog/dog.1065.jpg', 'dog/dog.542.jpg', 'dog/dog.137.jpg', 'dog/dog.1732.jpg', 'dog/dog.1399.jpg', 'dog/dog.998.jpg', 'dog/dog.1467.jpg', 'dog/dog.677.jpg', 'dog/dog.1795.jpg', 'dog/dog.659.jpg', 'dog/dog.562.jpg', 'dog/dog.1050.jpg', 'dog/dog.1449.jpg', 'dog/dog.1742.jpg', 'dog/dog.1501.jpg', 'dog/dog.201.jpg', 'dog/dog.214.jpg', 'dog/dog.1633.jpg', 'dog/dog.49.jpg', 'dog/dog.817.jpg', 'dog/dog.1890.jpg', 'dog/dog.1038.jpg', 'dog/dog.1387.jpg', 'dog/dog.446.jpg', 'dog/dog.344.jpg', 'dog/dog.1391.jpg', 'dog/dog.977.jpg', 'dog/dog.1058.jpg', 'dog/dog.294.jpg', 'dog/dog.179.jpg', 'dog/dog.489.jpg', 'dog/dog.621.jpg', 'dog/dog.1708.jpg', 'dog/dog.450.jpg', 'dog/dog.706.jpg', 'dog/dog.1139.jpg', 'dog/dog.1839.jpg', 'dog/dog.572.jpg', 'dog/dog.30.jpg', 'dog/dog.1348.jpg', 'dog/dog.152.jpg', 'dog/dog.1478.jpg', 'dog/dog.1892.jpg', 'dog/dog.444.jpg', 'dog/dog.1830.jpg', 'dog/dog.579.jpg', 'dog/dog.1368.jpg', 'dog/dog.764.jpg', 'dog/dog.374.jpg', 'dog/dog.395.jpg', 'dog/dog.1930.jpg', 'dog/dog.1051.jpg', 'dog/dog.537.jpg', 'dog/dog.63.jpg', 'dog/dog.640.jpg', 'dog/dog.1100.jpg', 'dog/dog.433.jpg', 'dog/dog.1865.jpg', 'dog/dog.1838.jpg', 'dog/dog.355.jpg', 'dog/dog.171.jpg', 'dog/dog.1094.jpg', 'dog/dog.1991.jpg', 'dog/dog.1282.jpg', 'dog/dog.509.jpg', 'dog/dog.1585.jpg', 'dog/dog.1345.jpg', 'dog/dog.302.jpg', 'dog/dog.634.jpg', 'dog/dog.1145.jpg', 'dog/dog.1306.jpg', 'dog/dog.1380.jpg', 'dog/dog.412.jpg', 'dog/dog.1014.jpg', 'dog/dog.215.jpg', 'dog/dog.1169.jpg', 'dog/dog.1217.jpg', 'dog/dog.1095.jpg', 'dog/dog.649.jpg', 'dog/dog.1756.jpg', 'dog/dog.1880.jpg', 'dog/dog.438.jpg', 'dog/dog.1968.jpg', 'dog/dog.563.jpg', 'dog/dog.1873.jpg', 'dog/dog.1424.jpg', 'dog/dog.1755.jpg', 'dog/dog.1510.jpg', 'dog/dog.1232.jpg', 'dog/dog.158.jpg', 'dog/dog.328.jpg', 'dog/dog.488.jpg', 'dog/dog.1089.jpg', 'dog/dog.1544.jpg', 'dog/dog.950.jpg', 'dog/dog.1775.jpg', 'dog/dog.222.jpg', 'dog/dog.1408.jpg', 'dog/dog.297.jpg', 'dog/dog.1802.jpg', 'dog/dog.1490.jpg', 'dog/dog.718.jpg', 'dog/dog.803.jpg', 'dog/dog.18.jpg', 'dog/dog.41.jpg', 'dog/dog.1966.jpg', 'dog/dog.654.jpg', 'dog/dog.1018.jpg', 'dog/dog.1588.jpg', 'dog/dog.345.jpg', 'dog/dog.1017.jpg', 'dog/dog.1219.jpg', 'dog/dog.1837.jpg', 'dog/dog.772.jpg', 'dog/dog.1994.jpg', 'dog/dog.1805.jpg', 'dog/dog.638.jpg', 'dog/dog.862.jpg', 'dog/dog.1783.jpg', 'dog/dog.103.jpg', 'dog/dog.124.jpg', 'dog/dog.1748.jpg', 'dog/dog.1583.jpg', 'dog/dog.1164.jpg', 'dog/dog.1450.jpg', 'dog/dog.504.jpg', 'dog/dog.841.jpg', 'dog/dog.1781.jpg', 'dog/dog.969.jpg', 'dog/dog.10.jpg', 'dog/dog.280.jpg', 'dog/dog.123.jpg', 'dog/dog.1251.jpg', 'dog/dog.1247.jpg', 'dog/dog.106.jpg', 'dog/dog.191.jpg', 'dog/dog.773.jpg', 'dog/dog.1083.jpg', 'dog/dog.625.jpg', 'dog/dog.754.jpg', 'dog/dog.1072.jpg', 'dog/dog.442.jpg', 'dog/dog.946.jpg', 'dog/dog.1053.jpg', 'dog/dog.623.jpg', 'dog/dog.1976.jpg', 'dog/dog.1897.jpg', 'dog/dog.1311.jpg', 'dog/dog.516.jpg', 'dog/dog.1119.jpg', 'dog/dog.65.jpg', 'dog/dog.1320.jpg', 'dog/dog.369.jpg', 'dog/dog.386.jpg', 'dog/dog.982.jpg', 'dog/dog.1253.jpg', 'dog/dog.912.jpg', 'dog/dog.481.jpg', 'dog/dog.1696.jpg', 'dog/dog.260.jpg', 'dog/dog.1803.jpg', 'dog/dog.1853.jpg', 'dog/dog.1070.jpg', 'dog/dog.1157.jpg', 'dog/dog.1484.jpg', 'dog/dog.418.jpg', 'dog/dog.379.jpg', 'dog/dog.220.jpg', 'dog/dog.1701.jpg', 'dog/dog.153.jpg', 'dog/dog.1481.jpg', 'dog/dog.1204.jpg', 'dog/dog.1003.jpg', 'dog/dog.318.jpg', 'dog/dog.1954.jpg', 'dog/dog.338.jpg', 'dog/dog.760.jpg', 'dog/dog.1019.jpg', 'dog/dog.371.jpg', 'dog/dog.689.jpg', 'dog/dog.346.jpg', 'dog/dog.767.jpg', 'dog/dog.404.jpg', 'dog/dog.116.jpg', 'dog/dog.1687.jpg', 'dog/dog.768.jpg', 'dog/dog.188.jpg', 'dog/dog.1684.jpg', 'dog/dog.1764.jpg', 'dog/dog.685.jpg', 'dog/dog.1503.jpg', 'dog/dog.1179.jpg', 'dog/dog.962.jpg', 'dog/dog.1559.jpg', 'dog/dog.376.jpg', 'dog/dog.1575.jpg', 'dog/dog.17.jpg', 'dog/dog.1676.jpg', 'dog/dog.1346.jpg', 'dog/dog.1819.jpg', 'dog/dog.1340.jpg', 'dog/dog.480.jpg', 'dog/dog.19.jpg', 'dog/dog.714.jpg', 'dog/dog.1703.jpg', 'dog/dog.1458.jpg', 'dog/dog.813.jpg', 'dog/dog.354.jpg', 'dog/dog.83.jpg', 'dog/dog.1147.jpg', 'dog/dog.411.jpg', 'dog/dog.1981.jpg', 'dog/dog.1642.jpg', 'dog/dog.1170.jpg', 'dog/dog.150.jpg', 'dog/dog.1419.jpg', 'dog/dog.148.jpg', 'dog/dog.968.jpg', 'dog/dog.1426.jpg', 'dog/dog.531.jpg', 'dog/dog.1787.jpg', 'dog/dog.931.jpg', 'dog/dog.1655.jpg', 'dog/dog.933.jpg', 'dog/dog.416.jpg', 'dog/dog.1774.jpg', 'dog/dog.319.jpg', 'dog/dog.905.jpg', 'dog/dog.1831.jpg', 'dog/dog.1960.jpg', 'dog/dog.1782.jpg', 'dog/dog.206.jpg', 'dog/dog.226.jpg', 'dog/dog.1616.jpg', 'dog/dog.1826.jpg', 'dog/dog.1321.jpg', 'dog/dog.1378.jpg', 'dog/dog.1801.jpg', 'dog/dog.518.jpg', 'dog/dog.1847.jpg', 'dog/dog.1912.jpg', 'dog/dog.1695.jpg', 'dog/dog.647.jpg', 'dog/dog.1404.jpg', 'dog/dog.882.jpg', 'dog/dog.267.jpg', 'dog/dog.776.jpg', 'dog/dog.1899.jpg', 'dog/dog.1663.jpg', 'dog/dog.519.jpg', 'dog/dog.246.jpg', 'dog/dog.325.jpg', 'dog/dog.170.jpg', 'dog/dog.604.jpg', 'dog/dog.1269.jpg', 'dog/dog.1360.jpg', 'dog/dog.245.jpg', 'dog/dog.1149.jpg', 'dog/dog.1067.jpg', 'dog/dog.1780.jpg', 'dog/dog.186.jpg', 'dog/dog.1202.jpg', 'dog/dog.922.jpg', 'dog/dog.1250.jpg', 'dog/dog.789.jpg', 'dog/dog.957.jpg', 'dog/dog.1461.jpg', 'dog/dog.292.jpg', 'dog/dog.1927.jpg', 'dog/dog.1276.jpg', 'dog/dog.1103.jpg', 'dog/dog.74.jpg', 'dog/dog.1525.jpg', 'dog/dog.593.jpg', 'dog/dog.352.jpg', 'dog/dog.986.jpg', 'dog/dog.46.jpg', 'dog/dog.574.jpg', 'dog/dog.886.jpg', 'dog/dog.1512.jpg', 'dog/dog.1402.jpg', 'dog/dog.207.jpg', 'dog/dog.485.jpg', 'dog/dog.308.jpg', 'dog/dog.174.jpg', 'dog/dog.1621.jpg', 'dog/dog.1060.jpg', 'dog/dog.565.jpg', 'dog/dog.6.jpg', 'dog/dog.1608.jpg', 'dog/dog.1624.jpg', 'dog/dog.967.jpg', 'dog/dog.1073.jpg', 'dog/dog.711.jpg', 'dog/dog.529.jpg', 'dog/dog.761.jpg', 'dog/dog.1313.jpg', 'dog/dog.802.jpg', 'dog/dog.756.jpg', 'dog/dog.356.jpg', 'dog/dog.1711.jpg', 'dog/dog.99.jpg', 'dog/dog.1740.jpg', 'dog/dog.1562.jpg', 'dog/dog.219.jpg', 'dog/dog.1436.jpg', 'dog/dog.427.jpg', 'dog/dog.473.jpg', 'dog/dog.1331.jpg', 'dog/dog.453.jpg', 'dog/dog.1059.jpg', 'dog/dog.1159.jpg', 'dog/dog.1435.jpg', 'dog/dog.737.jpg', 'dog/dog.643.jpg', 'dog/dog.701.jpg', 'dog/dog.87.jpg', 'dog/dog.687.jpg', 'dog/dog.1172.jpg', 'dog/dog.1350.jpg', 'dog/dog.681.jpg', 'dog/dog.35.jpg', 'dog/dog.927.jpg', 'dog/dog.216.jpg', 'dog/dog.401.jpg', 'dog/dog.58.jpg', 'dog/dog.1680.jpg', 'dog/dog.554.jpg', 'dog/dog.327.jpg', 'dog/dog.1177.jpg', 'dog/dog.69.jpg', 'dog/dog.871.jpg', 'dog/dog.439.jpg', 'dog/dog.467.jpg', 'dog/dog.121.jpg', 'dog/dog.606.jpg', 'dog/dog.1913.jpg', 'dog/dog.385.jpg', 'dog/dog.428.jpg', 'dog/dog.316.jpg', 'dog/dog.507.jpg', 'dog/dog.262.jpg', 'dog/dog.637.jpg', 'dog/dog.136.jpg', 'dog/dog.1958.jpg', 'dog/dog.299.jpg', 'dog/dog.503.jpg', 'dog/dog.612.jpg', 'dog/dog.1021.jpg', 'dog/dog.585.jpg', 'dog/dog.571.jpg', 'dog/dog.693.jpg', 'dog/dog.1086.jpg', 'dog/dog.720.jpg', 'dog/dog.573.jpg', 'dog/dog.869.jpg', 'dog/dog.1646.jpg', 'dog/dog.1535.jpg', 'dog/dog.708.jpg', 'dog/dog.1733.jpg', 'dog/dog.1333.jpg', 'dog/dog.1005.jpg', 'dog/dog.1377.jpg', 'dog/dog.270.jpg', 'dog/dog.1141.jpg', 'dog/dog.744.jpg', 'dog/dog.745.jpg', 'dog/dog.1688.jpg', 'dog/dog.1971.jpg', 'dog/dog.1679.jpg', 'dog/dog.1024.jpg', 'dog/dog.973.jpg', 'dog/dog.1589.jpg', 'dog/dog.1651.jpg', 'dog/dog.1554.jpg', 'dog/dog.1090.jpg', 'dog/dog.60.jpg', 'dog/dog.1952.jpg', 'dog/dog.1214.jpg', 'dog/dog.1618.jpg', 'dog/dog.1602.jpg', 'dog/dog.372.jpg', 'dog/dog.187.jpg', 'dog/dog.1010.jpg', 'dog/dog.615.jpg', 'dog/dog.532.jpg', 'dog/dog.1266.jpg', 'dog/dog.43.jpg', 'dog/dog.362.jpg', 'dog/dog.567.jpg', 'dog/dog.243.jpg', 'dog/dog.937.jpg', 'dog/dog.919.jpg', 'dog/dog.324.jpg', 'dog/dog.525.jpg', 'dog/dog.1261.jpg', 'dog/dog.256.jpg', 'dog/dog.934.jpg', 'dog/dog.1538.jpg', 'dog/dog.865.jpg', 'dog/dog.806.jpg', 'dog/dog.1260.jpg', 'dog/dog.1088.jpg', 'dog/dog.445.jpg', 'dog/dog.1747.jpg', 'dog/dog.1296.jpg', 'dog/dog.176.jpg', 'dog/dog.716.jpg', 'dog/dog.238.jpg', 'dog/dog.394.jpg', 'dog/dog.650.jpg', 'dog/dog.1241.jpg', 'dog/dog.1396.jpg', 'dog/dog.1741.jpg', 'dog/dog.1369.jpg', 'dog/dog.304.jpg', 'dog/dog.880.jpg', 'dog/dog.14.jpg', 'dog/dog.1657.jpg', 'dog/dog.146.jpg', 'dog/dog.1151.jpg', 'dog/dog.1587.jpg', 'dog/dog.1761.jpg', 'dog/dog.752.jpg', 'dog/dog.92.jpg', 'dog/dog.546.jpg', 'dog/dog.1193.jpg', 'dog/dog.1928.jpg', 'dog/dog.1006.jpg', 'dog/dog.190.jpg', 'dog/dog.691.jpg', 'dog/dog.1337.jpg', 'dog/dog.4.jpg', 'dog/dog.1609.jpg', 'dog/dog.523.jpg', 'dog/dog.165.jpg', 'dog/dog.239.jpg', 'dog/dog.1409.jpg', 'dog/dog.1161.jpg', 'dog/dog.558.jpg', 'dog/dog.1836.jpg', 'dog/dog.414.jpg', 'dog/dog.1168.jpg', 'dog/dog.1549.jpg', 'dog/dog.1341.jpg', 'dog/dog.1626.jpg', 'dog/dog.107.jpg', 'dog/dog.1502.jpg', 'dog/dog.1972.jpg', 'dog/dog.1227.jpg', 'dog/dog.1567.jpg', 'dog/dog.1513.jpg', 'dog/dog.366.jpg', 'dog/dog.1035.jpg', 'dog/dog.310.jpg', 'dog/dog.536.jpg', 'dog/dog.1504.jpg', 'dog/dog.1601.jpg', 'dog/dog.1166.jpg', 'dog/dog.261.jpg', 'dog/dog.397.jpg', 'dog/dog.790.jpg', 'dog/dog.334.jpg', 'dog/dog.127.jpg', 'dog/dog.1317.jpg', 'dog/dog.1885.jpg', 'dog/dog.1869.jpg', 'dog/dog.963.jpg', 'dog/dog.1475.jpg', 'dog/dog.955.jpg', 'dog/dog.282.jpg', 'dog/dog.224.jpg', 'dog/dog.657.jpg', 'dog/dog.1371.jpg', 'dog/dog.332.jpg', 'dog/dog.1491.jpg', 'dog/dog.549.jpg', 'dog/dog.333.jpg', 'dog/dog.1777.jpg', 'dog/dog.1872.jpg', 'dog/dog.1800.jpg', 'dog/dog.1092.jpg', 'dog/dog.788.jpg', 'dog/dog.941.jpg', 'dog/dog.811.jpg', 'dog/dog.1029.jpg', 'dog/dog.25.jpg', 'dog/dog.1905.jpg', 'dog/dog.1129.jpg', 'dog/dog.213.jpg', 'dog/dog.484.jpg', 'dog/dog.1698.jpg', 'dog/dog.1197.jpg', 'dog/dog.1027.jpg', 'dog/dog.393.jpg', 'dog/dog.918.jpg', 'dog/dog.218.jpg', 'dog/dog.113.jpg', 'dog/dog.1524.jpg', 'dog/dog.1564.jpg', 'dog/dog.284.jpg', 'dog/dog.357.jpg', 'dog/dog.1716.jpg', 'dog/dog.1939.jpg', 'dog/dog.1888.jpg', 'dog/dog.1132.jpg', 'dog/dog.898.jpg', 'dog/dog.620.jpg', 'dog/dog.848.jpg', 'dog/dog.690.jpg', 'dog/dog.175.jpg', 'dog/dog.926.jpg', 'dog/dog.653.jpg', 'dog/dog.56.jpg', 'dog/dog.1842.jpg', 'dog/dog.1673.jpg', 'dog/dog.829.jpg', 'dog/dog.953.jpg', 'dog/dog.1416.jpg', 'dog/dog.838.jpg', 'dog/dog.1085.jpg', 'dog/dog.454.jpg', 'dog/dog.1063.jpg', 'dog/dog.1081.jpg', 'dog/dog.470.jpg', 'dog/dog.513.jpg', 'dog/dog.343.jpg', 'dog/dog.462.jpg', 'dog/dog.1910.jpg', 'dog/dog.81.jpg', 'dog/dog.666.jpg', 'dog/dog.747.jpg', 'dog/dog.368.jpg', 'dog/dog.210.jpg', 'dog/dog.1497.jpg', 'dog/dog.1290.jpg', 'dog/dog.82.jpg', 'dog/dog.1278.jpg', 'dog/dog.1131.jpg', 'dog/dog.37.jpg', 'dog/dog.1982.jpg', 'dog/dog.1658.jpg', 'dog/dog.980.jpg', 'dog/dog.1776.jpg', 'dog/dog.858.jpg', 'dog/dog.836.jpg', 'dog/dog.1804.jpg', 'dog/dog.717.jpg', 'dog/dog.1044.jpg', 'dog/dog.1087.jpg', 'dog/dog.1907.jpg', 'dog/dog.1339.jpg', 'dog/dog.68.jpg', 'dog/dog.499.jpg']\n"
          ],
          "name": "stdout"
        }
      ]
    },
    {
      "cell_type": "code",
      "metadata": {
        "id": "KslRsa3F5547",
        "colab_type": "code",
        "colab": {}
      },
      "source": [
        "def prepare_data(cats, dogs):\n",
        "    x_cats = [] # images as arrays\n",
        "    x_dogs=[]\n",
        "    y_cats = [] # labels\n",
        "    y_dogs=[]\n",
        "    \n",
        "    for image in cats:\n",
        "        try:\n",
        "          x_cats.append(cv2.resize(cv2.imread(image), (img_width,img_height), interpolation=cv2.INTER_CUBIC))\n",
        "          y_cats.append(0)\n",
        "        except:\n",
        "          pass\n",
        "    \n",
        "    for image in dogs:\n",
        "      try:\n",
        "        x_dogs.append(cv2.resize(cv2.imread(image), (img_width,img_height), interpolation=cv2.INTER_CUBIC))\n",
        "        y_dogs.append(1)\n",
        "      except:\n",
        "        pass\n",
        "    \n",
        "    \n",
        "    \n",
        "    X_train=x_cats[0:1500] + x_dogs[0:1500]\n",
        "    y_train=y_cats[0:1500] + y_dogs[0:1500]\n",
        "    \n",
        "    X_test=x_cats[1500:2000] + x_dogs[1500:2000]\n",
        "    y_test=y_cats[1500:2000] + y_dogs[1500:2000]\n",
        "    \n",
        " \n",
        "    return X_train, y_train, X_test, y_test"
      ],
      "execution_count": 0,
      "outputs": []
    },
    {
      "cell_type": "code",
      "metadata": {
        "id": "S4pS1d1o6A6D",
        "colab_type": "code",
        "colab": {}
      },
      "source": [
        "X_train, y_train, X_test, y_test = prepare_data(cats, dogs)"
      ],
      "execution_count": 0,
      "outputs": []
    },
    {
      "cell_type": "code",
      "metadata": {
        "id": "SinY5L4NUF8p",
        "colab_type": "code",
        "outputId": "a95246c2-06f2-482a-d6a3-996c5db1d5cb",
        "colab": {
          "base_uri": "https://localhost:8080/",
          "height": 34
        }
      },
      "source": [
        "print(len(y_train))"
      ],
      "execution_count": 0,
      "outputs": [
        {
          "output_type": "stream",
          "text": [
            "3000\n"
          ],
          "name": "stdout"
        }
      ]
    },
    {
      "cell_type": "code",
      "metadata": {
        "id": "rdMH5hd3UfCs",
        "colab_type": "code",
        "outputId": "e34ea9b0-b5b1-4661-fed6-c123d8dd94da",
        "colab": {
          "base_uri": "https://localhost:8080/",
          "height": 34
        }
      },
      "source": [
        "y_train[0]"
      ],
      "execution_count": 0,
      "outputs": [
        {
          "output_type": "execute_result",
          "data": {
            "text/plain": [
              "0"
            ]
          },
          "metadata": {
            "tags": []
          },
          "execution_count": 53
        }
      ]
    },
    {
      "cell_type": "code",
      "metadata": {
        "id": "f59njp1_Tc3L",
        "colab_type": "code",
        "colab": {}
      },
      "source": [
        "import numpy as np\n",
        "\n",
        "y_train = np.array(y_train)"
      ],
      "execution_count": 0,
      "outputs": []
    },
    {
      "cell_type": "code",
      "metadata": {
        "id": "LWW44n-RUXk6",
        "colab_type": "code",
        "outputId": "838bd288-ad7c-4e13-9bb5-59a86309eab1",
        "colab": {
          "base_uri": "https://localhost:8080/",
          "height": 34
        }
      },
      "source": [
        "y_train.shape"
      ],
      "execution_count": 0,
      "outputs": [
        {
          "output_type": "execute_result",
          "data": {
            "text/plain": [
              "(3000,)"
            ]
          },
          "metadata": {
            "tags": []
          },
          "execution_count": 56
        }
      ]
    },
    {
      "cell_type": "code",
      "metadata": {
        "id": "ejvf18OE6Jy_",
        "colab_type": "code",
        "outputId": "eea0ebb0-98da-4a8b-c1d0-32586c1a897f",
        "colab": {
          "base_uri": "https://localhost:8080/",
          "height": 269
        }
      },
      "source": [
        "plt.subplot(221)\n",
        "plt.imshow(X_train[10], cmap=plt.get_cmap('gray'))\n",
        "plt.subplot(222)\n",
        "plt.imshow(X_train[11], cmap=plt.get_cmap('gray'))\n",
        "plt.subplot(223)\n",
        "plt.imshow(X_train[2012], cmap=plt.get_cmap('gray'))\n",
        "plt.subplot(224)\n",
        "plt.imshow(X_train[2014], cmap=plt.get_cmap('gray'))\n",
        "plt.show()"
      ],
      "execution_count": 0,
      "outputs": [
        {
          "output_type": "display_data",
          "data": {
            "image/png": "[encoded data removed]",
            "text/plain": [
              "<Figure size 432x288 with 4 Axes>"
            ]
          },
          "metadata": {
            "tags": []
          }
        }
      ]
    },
    {
      "cell_type": "code",
      "metadata": {
        "id": "DwrwRcKm-byC",
        "colab_type": "code",
        "colab": {}
      },
      "source": [
        "X_train=np.array(X_train)\n",
        "y_train=np.array(y_train)\n",
        "X_test=np.array(X_test)\n",
        "y_test=np.array(y_test)\n",
        "\n",
        "#Pasar a categoricas\n",
        "y_train=to_categorical(y_train)\n",
        "y_test=to_categorical(y_test)"
      ],
      "execution_count": 0,
      "outputs": []
    },
    {
      "cell_type": "code",
      "metadata": {
        "id": "ev1c1HGv_gW3",
        "colab_type": "code",
        "outputId": "83ef3029-83dd-48a0-b4a1-5da3b3d009a3",
        "colab": {
          "base_uri": "https://localhost:8080/",
          "height": 34
        }
      },
      "source": [
        "X_train.shape"
      ],
      "execution_count": 0,
      "outputs": [
        {
          "output_type": "execute_result",
          "data": {
            "text/plain": [
              "(3000, 150, 150, 3)"
            ]
          },
          "metadata": {
            "tags": []
          },
          "execution_count": 58
        }
      ]
    },
    {
      "cell_type": "code",
      "metadata": {
        "id": "S1B6kxSTAQ3J",
        "colab_type": "code",
        "outputId": "6be6d54d-d8df-44c4-94e9-16a1f41c62c0",
        "colab": {
          "base_uri": "https://localhost:8080/",
          "height": 34
        }
      },
      "source": [
        "y_train.shape"
      ],
      "execution_count": 0,
      "outputs": [
        {
          "output_type": "execute_result",
          "data": {
            "text/plain": [
              "(3000, 2)"
            ]
          },
          "metadata": {
            "tags": []
          },
          "execution_count": 59
        }
      ]
    },
    {
      "cell_type": "code",
      "metadata": {
        "id": "9tDub3BxTEd3",
        "colab_type": "code",
        "outputId": "b3112338-5b1f-49f8-af15-c5d6185a5978",
        "colab": {
          "base_uri": "https://localhost:8080/",
          "height": 34
        }
      },
      "source": [
        "print(y_train[2000])"
      ],
      "execution_count": 0,
      "outputs": [
        {
          "output_type": "stream",
          "text": [
            "[0. 1.]\n"
          ],
          "name": "stdout"
        }
      ]
    },
    {
      "cell_type": "markdown",
      "metadata": {
        "id": "K9Pn9SwZxdK0",
        "colab_type": "text"
      },
      "source": [
        "### 2.1 Red Neuronal MLP (Multilayer Perceptron)"
      ]
    },
    {
      "cell_type": "code",
      "metadata": {
        "id": "pMFm6txmOZ6T",
        "colab_type": "code",
        "colab": {}
      },
      "source": [
        ""
      ],
      "execution_count": 0,
      "outputs": []
    },
    {
      "cell_type": "code",
      "metadata": {
        "id": "SkRwU8itDDgw",
        "colab_type": "code",
        "colab": {}
      },
      "source": [
        "def NN():\n",
        "  #Declaramos la estructura de la red\n",
        "  model=models.Sequential()\n",
        "  model.add(layers.Dense(16, activation='relu', input_shape=(img_width, img_height, 3)))\n",
        "  model.add(layers.Dense(15, activation='sigmoid'))\n",
        "  model.add(layers.Flatten())\n",
        "  model.add(layers.Dense(2, activation='sigmoid'))\n",
        "  \n",
        "  \n",
        "  #Compilamos el modelo\n",
        "  model.compile(optimizer='rmsprop', loss='categorical_crossentropy', metrics=['accuracy'])\n",
        "  \n",
        "  print(model.summary())\n",
        "  \n",
        "  return model"
      ],
      "execution_count": 0,
      "outputs": []
    },
    {
      "cell_type": "code",
      "metadata": {
        "id": "2YQhHAfLVa9w",
        "colab_type": "code",
        "outputId": "778f8d4e-feb4-4806-df76-8a1813bf2b2f",
        "colab": {
          "base_uri": "https://localhost:8080/",
          "height": 289
        }
      },
      "source": [
        "red=NN()"
      ],
      "execution_count": 0,
      "outputs": [
        {
          "output_type": "stream",
          "text": [
            "_________________________________________________________________\n",
            "Layer (type)                 Output Shape              Param #   \n",
            "=================================================================\n",
            "dense_7 (Dense)              (None, 150, 150, 16)      64        \n",
            "_________________________________________________________________\n",
            "dense_8 (Dense)              (None, 150, 150, 15)      255       \n",
            "_________________________________________________________________\n",
            "flatten_3 (Flatten)          (None, 337500)            0         \n",
            "_________________________________________________________________\n",
            "dense_9 (Dense)              (None, 2)                 675002    \n",
            "=================================================================\n",
            "Total params: 675,321\n",
            "Trainable params: 675,321\n",
            "Non-trainable params: 0\n",
            "_________________________________________________________________\n",
            "None\n"
          ],
          "name": "stdout"
        }
      ]
    },
    {
      "cell_type": "code",
      "metadata": {
        "id": "E02AK2XcDsOB",
        "colab_type": "code",
        "outputId": "8f56f425-b1aa-4fbd-f24b-196f561a9975",
        "colab": {
          "base_uri": "https://localhost:8080/",
          "height": 221
        }
      },
      "source": [
        "%%time\n",
        "\n",
        "red=NN()\n",
        "red.fit(X_train, y_train, epochs=5, batch_size=128)"
      ],
      "execution_count": 0,
      "outputs": [
        {
          "output_type": "stream",
          "text": [
            "Epoch 1/5\n",
            "3000/3000 [==============================] - 4s 1ms/step - loss: 7.7096 - acc: 0.5047\n",
            "Epoch 2/5\n",
            "3000/3000 [==============================] - 4s 1ms/step - loss: 8.0590 - acc: 0.5000\n",
            "Epoch 3/5\n",
            "3000/3000 [==============================] - 4s 1ms/step - loss: 8.0590 - acc: 0.5000\n",
            "Epoch 4/5\n",
            "3000/3000 [==============================] - 4s 1ms/step - loss: 8.0590 - acc: 0.5000\n",
            "Epoch 5/5\n",
            "3000/3000 [==============================] - 4s 1ms/step - loss: 8.0590 - acc: 0.5000\n",
            "CPU times: user 9.03 s, sys: 4.72 s, total: 13.8 s\n",
            "Wall time: 19 s\n"
          ],
          "name": "stdout"
        }
      ]
    },
    {
      "cell_type": "markdown",
      "metadata": {
        "id": "UF88jGEYCEXQ",
        "colab_type": "text"
      },
      "source": [
        "### 2.2 Red Neuronal Convolucional"
      ]
    },
    {
      "cell_type": "code",
      "metadata": {
        "id": "L9Pps4x2GHpW",
        "colab_type": "code",
        "colab": {}
      },
      "source": [
        "X_train, y_train, X_test, y_test = prepare_data(cats, dogs)\n",
        "\n",
        "\n",
        "X_train=np.array(X_train)\n",
        "y_train=np.array(y_train)\n",
        "X_test=np.array(X_test)\n",
        "y_test=np.array(y_test)\n",
        "\n",
        "#Pasar a categoricas\n",
        "y_train=to_categorical(y_train)\n",
        "y_test=to_categorical(y_test)"
      ],
      "execution_count": 0,
      "outputs": []
    },
    {
      "cell_type": "code",
      "metadata": {
        "id": "Fhx3bOjkVmYu",
        "colab_type": "code",
        "outputId": "9ce0f7d6-efbe-40cb-951f-7930b7e95882",
        "colab": {
          "base_uri": "https://localhost:8080/",
          "height": 34
        }
      },
      "source": [
        "print(y_train.shape)"
      ],
      "execution_count": 0,
      "outputs": [
        {
          "output_type": "stream",
          "text": [
            "(3000, 2)\n"
          ],
          "name": "stdout"
        }
      ]
    },
    {
      "cell_type": "code",
      "metadata": {
        "id": "SkmIvFPkWT-6",
        "colab_type": "code",
        "outputId": "f3bc751f-5cab-4f60-bad8-3c4f7d69b4a1",
        "colab": {
          "base_uri": "https://localhost:8080/",
          "height": 34
        }
      },
      "source": [
        "y_train[0]"
      ],
      "execution_count": 0,
      "outputs": [
        {
          "output_type": "execute_result",
          "data": {
            "text/plain": [
              "array([1., 0.], dtype=float32)"
            ]
          },
          "metadata": {
            "tags": []
          },
          "execution_count": 92
        }
      ]
    },
    {
      "cell_type": "code",
      "metadata": {
        "id": "rWDE-3RjWynn",
        "colab_type": "code",
        "colab": {}
      },
      "source": [
        "y_train = y_train.reshape(3000,-1)"
      ],
      "execution_count": 0,
      "outputs": []
    },
    {
      "cell_type": "code",
      "metadata": {
        "id": "jnXoFNIMW05f",
        "colab_type": "code",
        "outputId": "1bb46fe1-5fbc-459f-d0e8-dbd16470433b",
        "colab": {
          "base_uri": "https://localhost:8080/",
          "height": 34
        }
      },
      "source": [
        "y_train.shape"
      ],
      "execution_count": 0,
      "outputs": [
        {
          "output_type": "execute_result",
          "data": {
            "text/plain": [
              "(3000, 2)"
            ]
          },
          "metadata": {
            "tags": []
          },
          "execution_count": 95
        }
      ]
    },
    {
      "cell_type": "code",
      "metadata": {
        "id": "hPK-268zahEu",
        "colab_type": "code",
        "colab": {}
      },
      "source": [
        "def NN():\n",
        "  #Declaramos la estructura de la red\n",
        "  model=models.Sequential()\n",
        "\n",
        "  #Construcción de capas\n",
        "  model.add(layers.Conv2D(32, (3, 3), input_shape=(img_width, img_height, 3)))\n",
        "  model.add(layers.Activation('relu'))\n",
        "  model.add(layers.MaxPooling2D(pool_size=(2, 2)))\n",
        "\n",
        "  model.add(layers.Conv2D(32, (3, 3)))\n",
        "  model.add(layers.Activation('relu'))\n",
        "  model.add(layers.MaxPooling2D(pool_size=(2, 2)))\n",
        "\n",
        "  model.add(layers.Conv2D(64, (3, 3)))\n",
        "  model.add(layers.Activation('relu'))\n",
        "  model.add(layers.MaxPooling2D(pool_size=(2, 2)))\n",
        "\n",
        "  model.add(layers.Flatten())\n",
        "  \n",
        "  model.add(layers.Dense(10, activation = 'relu'))\n",
        "  model.add(layers.Dense(2, activation = 'softmax'))\n",
        "  \n",
        "  print(model.summary())\n",
        "  \n",
        "  \n",
        "  #Compilamos elred=NN() modelo\n",
        "  model.compile(optimizer='rmsprop', loss='categorical_crossentropy', metrics=['accuracy'])\n",
        "  \n",
        "  return model"
      ],
      "execution_count": 0,
      "outputs": []
    },
    {
      "cell_type": "code",
      "metadata": {
        "id": "6nFvgabyVwaR",
        "colab_type": "code",
        "outputId": "d1993657-0292-476d-f18c-911e8fdaf283",
        "colab": {
          "base_uri": "https://localhost:8080/",
          "height": 561
        }
      },
      "source": [
        "red=NN()"
      ],
      "execution_count": 0,
      "outputs": [
        {
          "output_type": "stream",
          "text": [
            "_________________________________________________________________\n",
            "Layer (type)                 Output Shape              Param #   \n",
            "=================================================================\n",
            "conv2d_22 (Conv2D)           (None, 148, 148, 32)      896       \n",
            "_________________________________________________________________\n",
            "activation_32 (Activation)   (None, 148, 148, 32)      0         \n",
            "_________________________________________________________________\n",
            "max_pooling2d_22 (MaxPooling (None, 74, 74, 32)        0         \n",
            "_________________________________________________________________\n",
            "conv2d_23 (Conv2D)           (None, 72, 72, 32)        9248      \n",
            "_________________________________________________________________\n",
            "activation_33 (Activation)   (None, 72, 72, 32)        0         \n",
            "_________________________________________________________________\n",
            "max_pooling2d_23 (MaxPooling (None, 36, 36, 32)        0         \n",
            "_________________________________________________________________\n",
            "conv2d_24 (Conv2D)           (None, 34, 34, 64)        18496     \n",
            "_________________________________________________________________\n",
            "activation_34 (Activation)   (None, 34, 34, 64)        0         \n",
            "_________________________________________________________________\n",
            "max_pooling2d_24 (MaxPooling (None, 17, 17, 64)        0         \n",
            "_________________________________________________________________\n",
            "flatten_11 (Flatten)         (None, 18496)             0         \n",
            "_________________________________________________________________\n",
            "dense_24 (Dense)             (None, 10)                184970    \n",
            "_________________________________________________________________\n",
            "dense_25 (Dense)             (None, 2)                 22        \n",
            "=================================================================\n",
            "Total params: 213,632\n",
            "Trainable params: 213,632\n",
            "Non-trainable params: 0\n",
            "_________________________________________________________________\n",
            "None\n"
          ],
          "name": "stdout"
        }
      ]
    },
    {
      "cell_type": "code",
      "metadata": {
        "id": "3BF6bucXxT4f",
        "colab_type": "code",
        "outputId": "b3b7ee6d-119d-4423-aa21-3cccaa643bfc",
        "colab": {
          "base_uri": "https://localhost:8080/",
          "height": 408
        }
      },
      "source": [
        "%%time\n",
        "red.fit(X_train, y_train, epochs=10, batch_size=128)\n",
        "\n"
      ],
      "execution_count": 0,
      "outputs": [
        {
          "output_type": "stream",
          "text": [
            "Epoch 1/10\n",
            "3000/3000 [==============================] - 4s 1ms/step - loss: 8.0901 - acc: 0.4970\n",
            "Epoch 2/10\n",
            "3000/3000 [==============================] - 3s 1ms/step - loss: 8.0590 - acc: 0.5000\n",
            "Epoch 3/10\n",
            "3000/3000 [==============================] - 3s 1ms/step - loss: 8.0590 - acc: 0.5000\n",
            "Epoch 4/10\n",
            "3000/3000 [==============================] - 3s 1ms/step - loss: 8.0590 - acc: 0.5000\n",
            "Epoch 5/10\n",
            "3000/3000 [==============================] - 3s 1ms/step - loss: 8.0590 - acc: 0.5000\n",
            "Epoch 6/10\n",
            "3000/3000 [==============================] - 3s 1000us/step - loss: 8.0590 - acc: 0.5000\n",
            "Epoch 7/10\n",
            "3000/3000 [==============================] - 3s 1ms/step - loss: 8.0590 - acc: 0.5000\n",
            "Epoch 8/10\n",
            "3000/3000 [==============================] - 3s 1ms/step - loss: 8.0590 - acc: 0.5000\n",
            "Epoch 9/10\n",
            "3000/3000 [==============================] - 3s 1ms/step - loss: 8.0590 - acc: 0.5000\n",
            "Epoch 10/10\n",
            "3000/3000 [==============================] - 3s 1ms/step - loss: 8.0590 - acc: 0.5000\n",
            "CPU times: user 16.1 s, sys: 7.12 s, total: 23.3 s\n",
            "Wall time: 31 s\n"
          ],
          "name": "stdout"
        },
        {
          "output_type": "execute_result",
          "data": {
            "text/plain": [
              "<keras.callbacks.History at 0x7ff2814de240>"
            ]
          },
          "metadata": {
            "tags": []
          },
          "execution_count": 102
        }
      ]
    },
    {
      "cell_type": "markdown",
      "metadata": {
        "id": "Y--TrIWGUjca",
        "colab_type": "text"
      },
      "source": [
        "# Investigación (2 ptos)\n",
        "\n",
        "Responda 4 de 5 preguntas, si contesta todas se elegirán las mejores.\n",
        "\n",
        "1. Explique qué es una red neuronal (no más de 3 líneas).\n",
        "2. ¿Qué es una función de activación? ¿Por qué se utilizan? ¿Qué característica es deseable (si es que no necesaria) que tengan estas? (hint: piense en óptimos locales y globales y cuál le gustaría tener)\n",
        "3. ¿En qué consiste el algoritmo de backpropagation? ¿Por qué es tan importante para entrenar una red?\n",
        "4. ¿Por qué se dice que las redes neuronales son *cajas negras*? ¿Es esto siempre un problema?  Justifique (Hint: piense en el *tradeoff* usual de interpretabilidad v/s precisión)\n",
        "5. ¿Qué es una red convolucional? Mencione al menos 2 casos en los que sean particularmente útiles y explique qué ventaja tiene la convolución v/s el enfoque tradicional.\n",
        "\n"
      ]
    },
    {
      "cell_type": "markdown",
      "metadata": {
        "id": "wGlApIV7F9wJ",
        "colab_type": "text"
      },
      "source": [
        "# Laboratorio (4 ptos)\n",
        "\n",
        "En esta sección del laboratorio se utilizará un conocido dataset: MNIST, el cual consiste en dígitos del 1 al 9\n",
        "escritos a mano.p\n",
        "Cada uno está en 28 x 28 pixeles y posee una etiqueta indicando su valor real.\n",
        "\n",
        "\n",
        "\n",
        "\n",
        "\n",
        "\n",
        "\n",
        "\n",
        "\n",
        "\n",
        "\n",
        "\n",
        "\n"
      ]
    },
    {
      "cell_type": "code",
      "metadata": {
        "id": "vKPKZDOHmU5Q",
        "colab_type": "code",
        "colab": {}
      },
      "source": [
        "from keras.datasets import mnist\n",
        "import matplotlib.pylab as plt\n",
        "from keras.utils import to_categorical\n",
        "from keras import models, layers\n",
        "\n"
      ],
      "execution_count": 0,
      "outputs": []
    },
    {
      "cell_type": "code",
      "metadata": {
        "id": "ZQNAUkctmSac",
        "colab_type": "code",
        "outputId": "bed1746f-e2bc-49e1-a744-913f816f9c9a",
        "colab": {
          "base_uri": "https://localhost:8080/",
          "height": 51
        }
      },
      "source": [
        "#Carga de datos\n",
        "(X_train, y_train), (X_test, y_test) = mnist.load_data()\n",
        "\n",
        "print(X_train.shape)\n",
        "print(y_train.shape)\n"
      ],
      "execution_count": 0,
      "outputs": [
        {
          "output_type": "stream",
          "text": [
            "(60000, 28, 28)\n",
            "(60000,)\n"
          ],
          "name": "stdout"
        }
      ]
    },
    {
      "cell_type": "code",
      "metadata": {
        "id": "vQIyEED6l6RT",
        "colab_type": "code",
        "outputId": "3b1572e2-26e8-42ac-f800-886a26b8586f",
        "colab": {
          "base_uri": "https://localhost:8080/",
          "height": 348
        }
      },
      "source": [
        "\n",
        "#Plot de algunos números\n",
        "plt.subplot(221)\n",
        "plt.imshow(X_train[10], cmap=plt.get_cmap('gray'))\n",
        "plt.subplot(222)\n",
        "plt.imshow(X_train[11], cmap=plt.get_cmap('gray'))\n",
        "plt.subplot(223)\n",
        "plt.imshow(X_train[12], cmap=plt.get_cmap('gray'))\n",
        "plt.subplot(224)\n",
        "plt.imshow(X_train[13], cmap=plt.get_cmap('gray'))\n",
        "plt.show()"
      ],
      "execution_count": 0,
      "outputs": [
        {
          "output_type": "display_data",
          "data": {
            "image/png": "[encoded data removed]",
            "text/plain": [
              "<matplotlib.figure.Figure at 0x7fb0b9fde250>"
            ]
          },
          "metadata": {
            "tags": []
          }
        }
      ]
    },
    {
      "cell_type": "markdown",
      "metadata": {
        "id": "fKGkqDI9q3IR",
        "colab_type": "text"
      },
      "source": [
        "**Tareas:**\n",
        "\n",
        "\n",
        "1.   Entrene al menos 2 modelos de clasificación distintos a una red neuronal (no es necesario que ajuste excesivamente los parámetros)  (**0.5 pto**)\n",
        "2. Implemente una red MLP (multilayer perceptron) fully connected con al menos 500 épocas. Para cada uno de los siguientes item pruebe al menos 2 configuraciones distintas: capas ocultas, neuronas por capas,  optimizador, funciones de activación. <br>\n",
        "Reporte un gráfico de accuracy v/s épocas y otro de precisión v/s tiempo de entrenamiento. Compare respecto a los modelos entrenados en 1. (**3 ptos**) \n",
        "3. Elija una de las configuraciones anteriores y compare los tiempos de entrenamiento usando CPU y GPU (**0.5 pto**)\n",
        "\n",
        "**Nota:** para el punto 3 se recomienda fuertemente utilizar colaboratory, ya que aunque tenga un computador con GPU la instalación de Keras y el uso de ésta no es sencilla.\n",
        "\n",
        "(**BONUS - 2.5 pto**) Implemente  y entrene una red convolucional.\n",
        "\n",
        "\n"
      ]
    },
    {
      "cell_type": "markdown",
      "metadata": {
        "id": "cDf6Z0oZqlRd",
        "colab_type": "text"
      },
      "source": [
        "#1. Entrenamiento 2 modelos"
      ]
    },
    {
      "cell_type": "code",
      "metadata": {
        "id": "vw8Ry8czqnYm",
        "colab_type": "code",
        "colab": {}
      },
      "source": [
        ""
      ],
      "execution_count": 0,
      "outputs": []
    },
    {
      "cell_type": "markdown",
      "metadata": {
        "id": "IDW1y1VHo-lY",
        "colab_type": "text"
      },
      "source": [
        "# 2.  Entrenamiento red neuronal\n"
      ]
    },
    {
      "cell_type": "code",
      "metadata": {
        "id": "C2m83SRyqvoc",
        "colab_type": "code",
        "colab": {}
      },
      "source": [
        "from keras.datasets import mnist\n",
        "import matplotlib.pylab as plt\n",
        "from keras.utils import to_categorical\n",
        "from keras import models, layers\n",
        "from time import time\n",
        "\n",
        "\n",
        "#Carga de datos\n",
        "(X_train, y_train), (X_test, y_test) = mnist.load_data()"
      ],
      "execution_count": 0,
      "outputs": []
    },
    {
      "cell_type": "code",
      "metadata": {
        "id": "JunH9ZA2uU0Y",
        "colab_type": "code",
        "outputId": "732f99d3-bc1c-4e88-90ac-f036993db30f",
        "colab": {
          "base_uri": "https://localhost:8080/",
          "height": 85
        }
      },
      "source": [
        "print(X_train.shape)\n",
        "print(X_test.shape)\n",
        "\n",
        "print(y_train.shape)\n",
        "print(y_test.shape)"
      ],
      "execution_count": 0,
      "outputs": [
        {
          "output_type": "stream",
          "text": [
            "(60000, 28, 28)\n",
            "(10000, 28, 28)\n",
            "(60000,)\n",
            "(10000,)\n"
          ],
          "name": "stdout"
        }
      ]
    },
    {
      "cell_type": "markdown",
      "metadata": {
        "id": "6-9Hckg_qrCQ",
        "colab_type": "text"
      },
      "source": [
        "Transformar shape de las imagenes a vectores de 28 x 28"
      ]
    },
    {
      "cell_type": "code",
      "metadata": {
        "id": "U2-toKjXpEjq",
        "colab_type": "code",
        "outputId": "db74967b-20c4-42be-d2e9-1a1d62cd3082",
        "colab": {
          "base_uri": "https://localhost:8080/",
          "height": 51
        }
      },
      "source": [
        "#Reshape\n",
        "X_train=X_train.reshape((60000, 28*28))\n",
        "X_test=X_test.reshape((10000,28*28))\n",
        "\n",
        "#Normalizamos los valores\n",
        "X_train=X_train.astype('float32')/255\n",
        "X_test=X_test.astype('float32')/255\n",
        "\n",
        "print(X_train.shape)\n",
        "print(X_test.shape)\n",
        "\n"
      ],
      "execution_count": 0,
      "outputs": [
        {
          "output_type": "stream",
          "text": [
            "(60000, 784)\n",
            "(10000, 784)\n"
          ],
          "name": "stdout"
        }
      ]
    },
    {
      "cell_type": "code",
      "metadata": {
        "id": "vssw2vsouoNE",
        "colab_type": "code",
        "colab": {}
      },
      "source": [
        "y_train=to_categorical(y_train)\n",
        "y_test=to_categorical(y_test)"
      ],
      "execution_count": 0,
      "outputs": []
    },
    {
      "cell_type": "code",
      "metadata": {
        "id": "v23jG9H7utir",
        "colab_type": "code",
        "outputId": "a1152e28-0e79-4ee8-ee43-46f79890daab",
        "colab": {
          "base_uri": "https://localhost:8080/",
          "height": 51
        }
      },
      "source": [
        "print(y_train.shape)\n",
        "print(y_test.shape)"
      ],
      "execution_count": 0,
      "outputs": [
        {
          "output_type": "stream",
          "text": [
            "(60000, 10)\n",
            "(10000, 10)\n"
          ],
          "name": "stdout"
        }
      ]
    },
    {
      "cell_type": "markdown",
      "metadata": {
        "id": "HHU-qe26pD7O",
        "colab_type": "text"
      },
      "source": [
        "### 2.1 Construcción de la Red"
      ]
    },
    {
      "cell_type": "code",
      "metadata": {
        "id": "n54-R96xYAQ4",
        "colab_type": "code",
        "colab": {}
      },
      "source": [
        "def NN():\n",
        "  #Declaramos la estructura de la red\n",
        "  network=models.Sequential()\n",
        "  \n",
        "  #Capa inicial\n",
        "  network.add(layers.Dense(16, activation='relu', input_shape=(28*28)))\n",
        "  \n",
        "  network.add() #Agregamos capas ocultas\n",
        "  network.add() \n",
        "  \n",
        "  #Capa salida\n",
        "  network.add(layers.Dense(10, activation='sigmoid'))\n",
        "\n",
        "  network.compile(optimizer='rmsprop', loss='categorical_crossentropy', metrics=['accuracy'])\n",
        "  \n",
        "  return network"
      ],
      "execution_count": 0,
      "outputs": []
    },
    {
      "cell_type": "code",
      "metadata": {
        "id": "42fj7OqTRnK9",
        "colab_type": "code",
        "colab": {}
      },
      "source": [
        ""
      ],
      "execution_count": 0,
      "outputs": []
    },
    {
      "cell_type": "markdown",
      "metadata": {
        "id": "cbG6nSHTrR_7",
        "colab_type": "text"
      },
      "source": [
        "### 3. Uso de GPU y CPU"
      ]
    },
    {
      "cell_type": "code",
      "metadata": {
        "id": "zQb1w51DRnPO",
        "colab_type": "code",
        "colab": {}
      },
      "source": [
        "import os\n",
        "from time import time\n",
        "import tensorflow as tf\n"
      ],
      "execution_count": 0,
      "outputs": []
    },
    {
      "cell_type": "code",
      "metadata": {
        "id": "J3biEvoSC0wO",
        "colab_type": "code",
        "colab": {}
      },
      "source": [
        "#Uso de CPU\n",
        "\n",
        "#Entrenamiento red\n",
        "t_i=time()\n",
        "\n",
        "\n",
        "\n",
        "red=NN()\n",
        "with tf.device('/cpu:0'):\n",
        "    red.fit(X_train, y_train, epochs=10, batch_size=128)\n",
        "\n",
        "t_f=time()- t_i\n",
        "\n",
        "print(\"Tiempo Entrenamiento: {}\".format(t_f))"
      ],
      "execution_count": 0,
      "outputs": []
    },
    {
      "cell_type": "code",
      "metadata": {
        "id": "ivspmM9hC4R8",
        "colab_type": "code",
        "colab": {}
      },
      "source": [
        "#Uso de GPU\n",
        "t_i=time()\n",
        "\n",
        "red=NN()\n",
        "red.fit(X_train, y_train, epochs=10, batch_size=128)\n",
        "scores = red.evaluate(X_test, y_test, verbose=0)\n",
        "\n",
        "t_f=time()- t_i\n",
        "\n",
        "print(\"Error: %.2f%%\" % (100-scores[1]*100))\n",
        "print(\"Tiempo Entrenamiento: {}\".format(t_f))"
      ],
      "execution_count": 0,
      "outputs": []
    }
  ]
}