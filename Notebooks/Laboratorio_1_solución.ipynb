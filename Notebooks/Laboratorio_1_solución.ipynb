{
  "nbformat": 4,
  "nbformat_minor": 0,
  "metadata": {
    "colab": {
      "name": "Laboratorio_1_solución.ipynb",
      "provenance": [],
      "collapsed_sections": []
    },
    "kernelspec": {
      "display_name": "Python 3",
      "language": "python",
      "name": "python3"
    }
  },
  "cells": [
    {
      "cell_type": "markdown",
      "metadata": {
        "id": "DGn_owrd-HIe",
        "colab_type": "text"
      },
      "source": [
        "# Instrucciones\n",
        "\n",
        "El laboratorio tiene 6 ptos, donde obtener 6 ptos equivale a un 7.0 y 0 ptos a 1.0. \n",
        "\n",
        "El formato de entrega será subir a u-cursos un Jupyter notebook\n",
        "laboratorio1.ipynb, que se debe ejecutar sin errores desde la primera celda a la última. Todo el código debe estar en el mismo notebook, el código debe estar comentado y el notebook debe estar escrito en forma de informe técnico, escribiendo\n",
        "una celda markdown antes de cada celda de código. \n",
        "\n"
      ]
    },
    {
      "cell_type": "markdown",
      "metadata": {
        "id": "_u4HRu-2-HIg",
        "colab_type": "text"
      },
      "source": [
        "## 1. Implementar la clase MyMatrix  (3 ptos)\n",
        "\n",
        "En esta sección usted deberá crear:\n",
        "1. Una clase MyMatrix que sirva para almacenar matrices.\n",
        "2. Implementar los métodos descritos y abajo y testearlos.\n",
        "\n",
        "Debe utilizar sólo la estructura de datos de Python por defecto (no usar liberías ni herencia)."
      ]
    },
    {
      "cell_type": "markdown",
      "metadata": {
        "id": "KyKiQ3xn-HIg",
        "colab_type": "text"
      },
      "source": [
        "class MyMatrix:<br> \n",
        "\n",
        "    def __init__(self, x): \n",
        "        #Método para instanciar un objeto clase matriz. Debe entregar una excepción si el número de columnas de cada fila no es el mismo.\n",
        "    \n",
        "    def __str__(self): \n",
        "        #Método print. Imprime en pantalla la matriz.\n",
        "        \n",
        "     def getitem(self, row, col): \n",
        "        #Método para indexar. Retorna un elemeno de la matriz en una posición específica.\n",
        "        \n",
        "    def __len__(self): \n",
        "        #Método para calcular el largo de una matriz = número de filas.\n",
        "        \n",
        "    def shape(self): \n",
        "        #Método para calcular la dimensión de una matriz. Retorna una tupla de la forma (n_filas, n_columnas).\n",
        "    \n",
        "    def __add__(self, other): \n",
        "        #Método para sumar matrices del mismo tamaño. Debe entregar una excepción si se intenta sumar matrices de diferente tamaño.\n",
        "        \n",
        "    def __sub__(self, other): \n",
        "        #Método para restar matrices. Debe entregar una excepción si se intenta restar matrices de diferente tamaño.\n",
        "        \n",
        "    def __mul__(self, other): \n",
        "        #Método de multiplicación de matrices. Debe entregar una excepción si se intenta multiplicar matrices de tamaño no adecuado para multiplicación matricial.\n",
        "        \n",
        "   \n",
        "    def transpose(self): \n",
        "        #Método para transponer una matriz.\n",
        "        \n",
        "        \n",
        "Hint: asuma que la entrada del método init son listas de números de la forma [[1, 2, 3] ] para representar un vector y [[1,2,3], [2,2,2]] para representar una matriz de dos filas y 3 columnas."
      ]
    },
    {
      "cell_type": "code",
      "metadata": {
        "id": "099ORqEF-HIi",
        "colab_type": "code",
        "colab": {}
      },
      "source": [
        "class MyMatrix:\n",
        "    #Supuesto: asuman que la entrada del método init son listas de números de la forma [[]]\n",
        "    def __init__(self, x):\n",
        "\n",
        "        m = [len(row) for row in x]\n",
        "        m = len(set(m))\n",
        "        if m==1:\n",
        "            self.matrix = x\n",
        "        else:\n",
        "            raise ValueError(\"El número de columnas de cada fila debe ser el mismo para ser una matriz\")\n",
        "        \n",
        "    def __str__(self):\n",
        "        return str(self.matrix)\n",
        "    \n",
        "    def getitem(self, row, col):\n",
        "        return self.matrix[row][col]\n",
        "    \n",
        "    def __len__(self):\n",
        "        return len(self.matrix)\n",
        "    \n",
        "    def shape(self):\n",
        "        m = len(self.matrix)\n",
        "        n = len(self.matrix[0])\n",
        "        \n",
        "        return (m, n)\n",
        "    \n",
        "    def __add__(self, other):\n",
        "        \n",
        "        if (self.shape() == other.shape()):\n",
        "            \n",
        "            m = self.shape()[0]\n",
        "            n = self.shape()[1]\n",
        "            C = [[0]*n for i in range(m)]\n",
        "            \n",
        "            for i in range(m):\n",
        "                for j in range(n):\n",
        "                    C[i][j] = self.getitem(i, j) + other.getitem(i, j)\n",
        "                    #C[i][j] = self.matrix[i][j] + other.matrix[i][j]\n",
        "            return MyMatrix(C)\n",
        "            \n",
        "        else:\n",
        "            raise ValueError(\"Las matrices no tienen la misma dimensión\")\n",
        "            \n",
        "    def  __sub__(self, other):\n",
        "        \n",
        "        if (self.shape() == other.shape()):\n",
        "            \n",
        "            m = self.shape()[0]\n",
        "            n = self.shape()[1]\n",
        "            C = [[0]*n for i in range(m)]\n",
        "            \n",
        "            for i in range(m):\n",
        "                for j in range(n):\n",
        "                    C[i][j] = self.getitem(i, j) - other.getitem(i, j)\n",
        "                    #C[i][j] = self.matrix[i][j] - other.matrix[i][j]\n",
        "            return MyMatrix(C)\n",
        "            \n",
        "        else:\n",
        "            raise ValueError(\"Las matrices no tienen la misma dimensión\")\n",
        "    \n",
        "    def __mul__(self, other):\n",
        "        r1 = self.shape()[0]\n",
        "        c1 = self.shape()[1]\n",
        "        r2 = other.shape()[0]\n",
        "        c2 = other.shape()[1]\n",
        "        \n",
        "        M = [[0]*c2 for i in range(r1)]\n",
        "        if c1==r2:\n",
        "            for i in range(r1):\n",
        "                for j in range(c2):\n",
        "                    for k in range(c1):\n",
        "                        M[i][j] += self.getitem(i, k)*other.getitem(k, j)\n",
        "                        #M[i][j] = M[i][j]+ self.getitem(i, k)*other.getitem(k, j)\n",
        "            return MyMatrix(M)\n",
        "            \n",
        "        else:\n",
        "            raise ValueError(\"La dimensión de las matrices no es adecuada para multiplicación matricial\")\n",
        "        \n",
        "       \n",
        "    def transpose(self):\n",
        "        m = self.shape()[0]\n",
        "        n = self.shape()[1]\n",
        "        \n",
        "        T = [[0]*m for i in range(n)]\n",
        "        \n",
        "        for i in range(n):\n",
        "            for j in range(m):\n",
        "                T[i][j] = self.getitem(j, i)\n",
        "        return MyMatrix(T)"
      ],
      "execution_count": 0,
      "outputs": []
    },
    {
      "cell_type": "code",
      "metadata": {
        "id": "zmWD13V1-HIl",
        "colab_type": "code",
        "outputId": "f66f83aa-2d5d-4c46-8480-d8b344920471",
        "colab": {
          "base_uri": "https://localhost:8080/",
          "height": 313
        }
      },
      "source": [
        "#Método init\n",
        "A=MyMatrix([[1,2,3]])\n",
        "B = MyMatrix([[2,2,2], [3,3,3]])\n",
        "C = MyMatrix([[1,2], [2,2,3]]) # intento con dimensiones incorrectas"
      ],
      "execution_count": 0,
      "outputs": [
        {
          "output_type": "error",
          "ename": "ValueError",
          "evalue": "ignored",
          "traceback": [
            "\u001b[0;31m---------------------------------------------------------------------------\u001b[0m",
            "\u001b[0;31mValueError\u001b[0m                                Traceback (most recent call last)",
            "\u001b[0;32m<ipython-input-2-bd6e7ecaf805>\u001b[0m in \u001b[0;36m<module>\u001b[0;34m()\u001b[0m\n\u001b[1;32m      1\u001b[0m \u001b[0mA\u001b[0m\u001b[0;34m=\u001b[0m\u001b[0mMyMatrix\u001b[0m\u001b[0;34m(\u001b[0m\u001b[0;34m[\u001b[0m\u001b[0;34m[\u001b[0m\u001b[0;36m1\u001b[0m\u001b[0;34m,\u001b[0m\u001b[0;36m2\u001b[0m\u001b[0;34m,\u001b[0m\u001b[0;36m3\u001b[0m\u001b[0;34m]\u001b[0m\u001b[0;34m]\u001b[0m\u001b[0;34m)\u001b[0m\u001b[0;34m\u001b[0m\u001b[0m\n\u001b[1;32m      2\u001b[0m \u001b[0mB\u001b[0m \u001b[0;34m=\u001b[0m \u001b[0mMyMatrix\u001b[0m\u001b[0;34m(\u001b[0m\u001b[0;34m[\u001b[0m\u001b[0;34m[\u001b[0m\u001b[0;36m2\u001b[0m\u001b[0;34m,\u001b[0m\u001b[0;36m2\u001b[0m\u001b[0;34m,\u001b[0m\u001b[0;36m2\u001b[0m\u001b[0;34m]\u001b[0m\u001b[0;34m,\u001b[0m \u001b[0;34m[\u001b[0m\u001b[0;36m3\u001b[0m\u001b[0;34m,\u001b[0m\u001b[0;36m3\u001b[0m\u001b[0;34m,\u001b[0m\u001b[0;36m3\u001b[0m\u001b[0;34m]\u001b[0m\u001b[0;34m]\u001b[0m\u001b[0;34m)\u001b[0m\u001b[0;34m\u001b[0m\u001b[0m\n\u001b[0;32m----> 3\u001b[0;31m \u001b[0mC\u001b[0m \u001b[0;34m=\u001b[0m \u001b[0mMyMatrix\u001b[0m\u001b[0;34m(\u001b[0m\u001b[0;34m[\u001b[0m\u001b[0;34m[\u001b[0m\u001b[0;36m1\u001b[0m\u001b[0;34m,\u001b[0m\u001b[0;36m2\u001b[0m\u001b[0;34m]\u001b[0m\u001b[0;34m,\u001b[0m \u001b[0;34m[\u001b[0m\u001b[0;36m2\u001b[0m\u001b[0;34m,\u001b[0m\u001b[0;36m2\u001b[0m\u001b[0;34m,\u001b[0m\u001b[0;36m3\u001b[0m\u001b[0;34m]\u001b[0m\u001b[0;34m]\u001b[0m\u001b[0;34m)\u001b[0m \u001b[0;31m# intento con dimensiones incorrectas\u001b[0m\u001b[0;34m\u001b[0m\u001b[0m\n\u001b[0m",
            "\u001b[0;32m<ipython-input-1-02ce56f11d01>\u001b[0m in \u001b[0;36m__init__\u001b[0;34m(self, x)\u001b[0m\n\u001b[1;32m      8\u001b[0m             \u001b[0mself\u001b[0m\u001b[0;34m.\u001b[0m\u001b[0mmatrix\u001b[0m \u001b[0;34m=\u001b[0m \u001b[0mx\u001b[0m\u001b[0;34m\u001b[0m\u001b[0m\n\u001b[1;32m      9\u001b[0m         \u001b[0;32melse\u001b[0m\u001b[0;34m:\u001b[0m\u001b[0;34m\u001b[0m\u001b[0m\n\u001b[0;32m---> 10\u001b[0;31m             \u001b[0;32mraise\u001b[0m \u001b[0mValueError\u001b[0m\u001b[0;34m(\u001b[0m\u001b[0;34m\"El número de columnas de cada fila debe ser el mismo para ser una matriz\"\u001b[0m\u001b[0;34m)\u001b[0m\u001b[0;34m\u001b[0m\u001b[0m\n\u001b[0m\u001b[1;32m     11\u001b[0m \u001b[0;34m\u001b[0m\u001b[0m\n\u001b[1;32m     12\u001b[0m     \u001b[0;32mdef\u001b[0m \u001b[0m__str__\u001b[0m\u001b[0;34m(\u001b[0m\u001b[0mself\u001b[0m\u001b[0;34m)\u001b[0m\u001b[0;34m:\u001b[0m\u001b[0;34m\u001b[0m\u001b[0m\n",
            "\u001b[0;31mValueError\u001b[0m: El número de columnas de cada fila debe ser el mismo para ser una matriz"
          ]
        }
      ]
    },
    {
      "cell_type": "code",
      "metadata": {
        "id": "ITVJQ0hQ-HIq",
        "colab_type": "code",
        "outputId": "a455dc6d-2288-4d47-e151-775c14d4d0fa",
        "colab": {
          "base_uri": "https://localhost:8080/",
          "height": 151
        }
      },
      "source": [
        "#__str__\n",
        "print(A)\n",
        "#__len__\n",
        "print(len(A))\n",
        "#shape()\n",
        "print(A.shape())\n",
        "#indexamiento\n",
        "print(A.getitem(0,1))\n",
        "#suma\n",
        "print(A+A)\n",
        "#resta\n",
        "print(A-A)\n",
        "#transpuesta\n",
        "print(A.transpose())\n",
        "#producto\n",
        "print(A*A.transpose())"
      ],
      "execution_count": 0,
      "outputs": [
        {
          "output_type": "stream",
          "text": [
            "[[1, 2, 3]]\n",
            "1\n",
            "(1, 3)\n",
            "2\n",
            "[[2, 4, 6]]\n",
            "[[0, 0, 0]]\n",
            "[[1], [2], [3]]\n",
            "[[14]]\n"
          ],
          "name": "stdout"
        }
      ]
    },
    {
      "cell_type": "markdown",
      "metadata": {
        "id": "R5Lbpfk3-HIu",
        "colab_type": "text"
      },
      "source": [
        "### Validaciones"
      ]
    },
    {
      "cell_type": "code",
      "metadata": {
        "id": "s-clRAO6-HIu",
        "colab_type": "code",
        "outputId": "b96317f5-b666-43ac-a559-668ddcc82d57",
        "colab": {
          "base_uri": "https://localhost:8080/",
          "height": 279
        }
      },
      "source": [
        "A+B"
      ],
      "execution_count": 0,
      "outputs": [
        {
          "output_type": "error",
          "ename": "ValueError",
          "evalue": "ignored",
          "traceback": [
            "\u001b[0;31m---------------------------------------------------------------------------\u001b[0m",
            "\u001b[0;31mValueError\u001b[0m                                Traceback (most recent call last)",
            "\u001b[0;32m<ipython-input-3-17a53b3d2418>\u001b[0m in \u001b[0;36m<module>\u001b[0;34m()\u001b[0m\n\u001b[0;32m----> 1\u001b[0;31m \u001b[0mA\u001b[0m\u001b[0;34m+\u001b[0m\u001b[0mB\u001b[0m\u001b[0;34m\u001b[0m\u001b[0m\n\u001b[0m",
            "\u001b[0;32m<ipython-input-1-02ce56f11d01>\u001b[0m in \u001b[0;36m__add__\u001b[0;34m(self, other)\u001b[0m\n\u001b[1;32m     40\u001b[0m \u001b[0;34m\u001b[0m\u001b[0m\n\u001b[1;32m     41\u001b[0m         \u001b[0;32melse\u001b[0m\u001b[0;34m:\u001b[0m\u001b[0;34m\u001b[0m\u001b[0m\n\u001b[0;32m---> 42\u001b[0;31m             \u001b[0;32mraise\u001b[0m \u001b[0mValueError\u001b[0m\u001b[0;34m(\u001b[0m\u001b[0;34m\"Las matrices no tienen la misma dimensión\"\u001b[0m\u001b[0;34m)\u001b[0m\u001b[0;34m\u001b[0m\u001b[0m\n\u001b[0m\u001b[1;32m     43\u001b[0m \u001b[0;34m\u001b[0m\u001b[0m\n\u001b[1;32m     44\u001b[0m     \u001b[0;32mdef\u001b[0m  \u001b[0m__sub__\u001b[0m\u001b[0;34m(\u001b[0m\u001b[0mself\u001b[0m\u001b[0;34m,\u001b[0m \u001b[0mother\u001b[0m\u001b[0;34m)\u001b[0m\u001b[0;34m:\u001b[0m\u001b[0;34m\u001b[0m\u001b[0m\n",
            "\u001b[0;31mValueError\u001b[0m: Las matrices no tienen la misma dimensión"
          ]
        }
      ]
    },
    {
      "cell_type": "code",
      "metadata": {
        "id": "pIPrQ9kj-HIy",
        "colab_type": "code",
        "outputId": "05974473-892f-4fcf-a19d-fa3fd883e4c7",
        "colab": {
          "base_uri": "https://localhost:8080/",
          "height": 279
        }
      },
      "source": [
        "A-B"
      ],
      "execution_count": 0,
      "outputs": [
        {
          "output_type": "error",
          "ename": "ValueError",
          "evalue": "ignored",
          "traceback": [
            "\u001b[0;31m---------------------------------------------------------------------------\u001b[0m",
            "\u001b[0;31mValueError\u001b[0m                                Traceback (most recent call last)",
            "\u001b[0;32m<ipython-input-4-ca2486c81344>\u001b[0m in \u001b[0;36m<module>\u001b[0;34m()\u001b[0m\n\u001b[0;32m----> 1\u001b[0;31m \u001b[0mA\u001b[0m\u001b[0;34m-\u001b[0m\u001b[0mB\u001b[0m\u001b[0;34m\u001b[0m\u001b[0m\n\u001b[0m",
            "\u001b[0;32m<ipython-input-1-02ce56f11d01>\u001b[0m in \u001b[0;36m__sub__\u001b[0;34m(self, other)\u001b[0m\n\u001b[1;32m     57\u001b[0m \u001b[0;34m\u001b[0m\u001b[0m\n\u001b[1;32m     58\u001b[0m         \u001b[0;32melse\u001b[0m\u001b[0;34m:\u001b[0m\u001b[0;34m\u001b[0m\u001b[0m\n\u001b[0;32m---> 59\u001b[0;31m             \u001b[0;32mraise\u001b[0m \u001b[0mValueError\u001b[0m\u001b[0;34m(\u001b[0m\u001b[0;34m\"Las matrices no tienen la misma dimensión\"\u001b[0m\u001b[0;34m)\u001b[0m\u001b[0;34m\u001b[0m\u001b[0m\n\u001b[0m\u001b[1;32m     60\u001b[0m \u001b[0;34m\u001b[0m\u001b[0m\n\u001b[1;32m     61\u001b[0m     \u001b[0;32mdef\u001b[0m \u001b[0m__mul__\u001b[0m\u001b[0;34m(\u001b[0m\u001b[0mself\u001b[0m\u001b[0;34m,\u001b[0m \u001b[0mother\u001b[0m\u001b[0;34m)\u001b[0m\u001b[0;34m:\u001b[0m\u001b[0;34m\u001b[0m\u001b[0m\n",
            "\u001b[0;31mValueError\u001b[0m: Las matrices no tienen la misma dimensión"
          ]
        }
      ]
    },
    {
      "cell_type": "code",
      "metadata": {
        "id": "bevWtzT0-HI3",
        "colab_type": "code",
        "outputId": "25288e99-539b-4ba9-c05f-f4856944b9b7",
        "colab": {
          "base_uri": "https://localhost:8080/",
          "height": 279
        }
      },
      "source": [
        "A*B"
      ],
      "execution_count": 0,
      "outputs": [
        {
          "output_type": "error",
          "ename": "ValueError",
          "evalue": "ignored",
          "traceback": [
            "\u001b[0;31m---------------------------------------------------------------------------\u001b[0m",
            "\u001b[0;31mValueError\u001b[0m                                Traceback (most recent call last)",
            "\u001b[0;32m<ipython-input-3-47896efed660>\u001b[0m in \u001b[0;36m<module>\u001b[0;34m()\u001b[0m\n\u001b[0;32m----> 1\u001b[0;31m \u001b[0mA\u001b[0m\u001b[0;34m*\u001b[0m\u001b[0mB\u001b[0m\u001b[0;34m\u001b[0m\u001b[0m\n\u001b[0m",
            "\u001b[0;32m<ipython-input-1-02ce56f11d01>\u001b[0m in \u001b[0;36m__mul__\u001b[0;34m(self, other)\u001b[0m\n\u001b[1;32m     75\u001b[0m \u001b[0;34m\u001b[0m\u001b[0m\n\u001b[1;32m     76\u001b[0m         \u001b[0;32melse\u001b[0m\u001b[0;34m:\u001b[0m\u001b[0;34m\u001b[0m\u001b[0m\n\u001b[0;32m---> 77\u001b[0;31m             \u001b[0;32mraise\u001b[0m \u001b[0mValueError\u001b[0m\u001b[0;34m(\u001b[0m\u001b[0;34m\"La dimensión de las matrices no es adecuada para multiplicación matricial\"\u001b[0m\u001b[0;34m)\u001b[0m\u001b[0;34m\u001b[0m\u001b[0m\n\u001b[0m\u001b[1;32m     78\u001b[0m \u001b[0;34m\u001b[0m\u001b[0m\n\u001b[1;32m     79\u001b[0m \u001b[0;34m\u001b[0m\u001b[0m\n",
            "\u001b[0;31mValueError\u001b[0m: La dimensión de las matrices no es adecuada para multiplicación matricial"
          ]
        }
      ]
    },
    {
      "cell_type": "markdown",
      "metadata": {
        "id": "sQGDCS7j-HI7",
        "colab_type": "text"
      },
      "source": [
        "# 2. Obtener todos los intervalos disjuntos entre dos listas (1 ptos)\n",
        "\n",
        "\n",
        "Obtener todos los intervalos disjuntos entre dos listas, piense en el caso que tenga las fechas de comienzo y de término de cada formación de una persona y desea calcular sus años de estudio superior, por ejemplo una persona pudo empezar su pregrado en 2012 y terminarlo en 2017, comenzar su magíster en 2015 y terminarlo en 2018, finalmente comenzar su doctorado en 2022 y terminarlo en 2026, esto genera las siguientes variables, tiempo_inicio = [2012, 2015, 2022], tiempo_final = [2017, 2018, 2026] y le gustaría obtener la siguiente lista para calcular los años de estudio, merge(ti, tf) = [[2012, 2018], [2022, 2026]].\n",
        "\n",
        "Realice una prueba con:<br>\n",
        "ti = [2012, 2015, 2017, 2022, 2026, 2028]<br>\n",
        "tf = [2017, 2018, 2019, 2026, 2028, 2030]<br>\n",
        "\n",
        "merge(ti, tf) = [[2012, 2019], [2022 2030]]\n",
        "\n",
        "\n",
        "\n",
        "\n",
        "\n",
        "def merge(t1, t2): \n",
        "\n",
        "    ..."
      ]
    },
    {
      "cell_type": "code",
      "metadata": {
        "id": "ouXI2QZ--HI9",
        "colab_type": "code",
        "colab": {}
      },
      "source": [
        "def merge(t1, t2):\n",
        "    \n",
        "    intervals = [[t1[i], t2[i]] for i in range(len(t1))] #lista de todos los intervalos\n",
        "    #setear ptos de partida\n",
        "    ti = [intervals[0][0]] \n",
        "    tf = [intervals[0][1]]\n",
        "    \n",
        "    for i in range(1, len(intervals)):\n",
        "        \n",
        "        if intervals[i][0]> intervals[i-1][1]:\n",
        "            ti.append(intervals[i][0])\n",
        "            tf.append(intervals[i][1])\n",
        "        \n",
        "        else:# (intervals[i][0] <= intervals[i-1][1]):\n",
        "            \n",
        "            tf[-1] = intervals[i][1]\n",
        "            \n",
        "    data = [[ti[i], tf[i]] for i in range(len(ti))]\n",
        "    \n",
        "    return data"
      ],
      "execution_count": 0,
      "outputs": []
    },
    {
      "cell_type": "code",
      "metadata": {
        "id": "yR0FWh-x-HJj",
        "colab_type": "code",
        "outputId": "070e4778-c9dd-4361-9eb4-4f28aed11e0a",
        "colab": {
          "base_uri": "https://localhost:8080/",
          "height": 34
        }
      },
      "source": [
        "ti = [2012, 2015, 2017, 2022, 2026, 2028]\n",
        "tf = [2017, 2018, 2019, 2026, 2028, 2030]\n",
        "merge(ti, tf)"
      ],
      "execution_count": 0,
      "outputs": [
        {
          "output_type": "execute_result",
          "data": {
            "text/plain": [
              "[[2012, 2019], [2022, 2030]]"
            ]
          },
          "metadata": {
            "tags": []
          },
          "execution_count": 5
        }
      ]
    },
    {
      "cell_type": "code",
      "metadata": {
        "id": "JW4JXGTf-HJm",
        "colab_type": "code",
        "outputId": "76cb73f2-ace8-48bf-facf-2b8e9256a40f",
        "colab": {
          "base_uri": "https://localhost:8080/",
          "height": 34
        }
      },
      "source": [
        "ti = [2012, 2015, 2022]\n",
        "tf = [2017, 2018, 2026]\n",
        "merge(ti, tf)"
      ],
      "execution_count": 0,
      "outputs": [
        {
          "output_type": "execute_result",
          "data": {
            "text/plain": [
              "[[2012, 2018], [2022, 2026]]"
            ]
          },
          "metadata": {
            "tags": []
          },
          "execution_count": 6
        }
      ]
    },
    {
      "cell_type": "markdown",
      "metadata": {
        "id": "fx9x9FOk-HJr",
        "colab_type": "text"
      },
      "source": [
        "# 3. Implemente función de correlación (1 pto)\n",
        "\n",
        "Cree una función para calcular la correlación entre dos vectores de tipo numpy array, considerando que la correlación muestral viene dada por la siguiente formula:\n",
        "\n",
        "$$ corr(X, Y) = \\frac{\\sum_{i=1}^{N} (X_{i}-\\bar{X})(Y_{i}-\\bar{Y})}{\\sqrt{\\sum_{i=1}^{N}(X_{i}-\\bar{X})^{2}}\\sqrt{\\sum_{i=1}^{N}(Y_{i}-\\bar{Y})^{2}}}$$\n",
        "\n",
        "No deben usar el método mean, std, cov o similares de numpy. <br>\n",
        "Considere que X e Y son vectores de igual dimensión.\n",
        "\n",
        "def corr(x, y):\n",
        "\n",
        "    ...."
      ]
    },
    {
      "cell_type": "code",
      "metadata": {
        "id": "-7QRSTpR-HJs",
        "colab_type": "code",
        "colab": {}
      },
      "source": [
        "import numpy as np"
      ],
      "execution_count": 0,
      "outputs": []
    },
    {
      "cell_type": "code",
      "metadata": {
        "id": "9vGvFDrY-HJv",
        "colab_type": "code",
        "colab": {}
      },
      "source": [
        "def mean(x):\n",
        "    s = 0\n",
        "    N = len(x)\n",
        "    for i in range(N):\n",
        "        s=s+x[i]\n",
        "    return s/N\n",
        "\n",
        "def corr(x,y):\n",
        "\n",
        "    x_mean = mean(x)\n",
        "    y_mean = mean(y)\n",
        "    N = len(x)\n",
        "    n = 0\n",
        "    d1 = 0\n",
        "    d2 = 0\n",
        "    for i in range(N):\n",
        "        n += (x[i]-x_mean)*(y[i]-y_mean)\n",
        "        d1 += (x[i]-x_mean)**2\n",
        "        d2 += (y[i]-y_mean)**2\n",
        "        \n",
        "    \n",
        "        \n",
        "    return n/(d1**(1/2)*d2**(1/2))\n",
        "    "
      ],
      "execution_count": 0,
      "outputs": []
    },
    {
      "cell_type": "code",
      "metadata": {
        "id": "HMhl2imz-HJy",
        "colab_type": "code",
        "outputId": "1fbd7b56-ae4e-4ba9-b164-9077ef7c01f3",
        "colab": {
          "base_uri": "https://localhost:8080/",
          "height": 34
        }
      },
      "source": [
        "x = np.array([1, 2, 1, 6])\n",
        "y = np.array([2, 4, 2, 4])\n",
        "corr(x,y)"
      ],
      "execution_count": 0,
      "outputs": [
        {
          "output_type": "execute_result",
          "data": {
            "text/plain": [
              "0.7276068751089989"
            ]
          },
          "metadata": {
            "tags": []
          },
          "execution_count": 10
        }
      ]
    },
    {
      "cell_type": "code",
      "metadata": {
        "id": "ssI6Ht_b-HJ4",
        "colab_type": "code",
        "outputId": "cc1636ca-b0bd-4bba-c725-b5770ee55968",
        "colab": {
          "base_uri": "https://localhost:8080/",
          "height": 34
        }
      },
      "source": [
        "#verificación con función de numpy\n",
        "np.corrcoef(x,y)[0,1]"
      ],
      "execution_count": 0,
      "outputs": [
        {
          "output_type": "execute_result",
          "data": {
            "text/plain": [
              "0.7276068751089989"
            ]
          },
          "metadata": {
            "tags": []
          },
          "execution_count": 11
        }
      ]
    },
    {
      "cell_type": "markdown",
      "metadata": {
        "id": "QCz8oa1b-HJ-",
        "colab_type": "text"
      },
      "source": [
        "# 4. Implemente función que generé una matriz aleatoria simétrica (1 pto)\n",
        "\n",
        "def matriz_simetrica(n):\n",
        "\n",
        "    ...\n",
        "\n",
        "n = dimensión de la matriz cuadrada"
      ]
    },
    {
      "cell_type": "code",
      "metadata": {
        "id": "-8vRK22i-HJ_",
        "colab_type": "code",
        "colab": {}
      },
      "source": [
        "import random"
      ],
      "execution_count": 0,
      "outputs": []
    },
    {
      "cell_type": "code",
      "metadata": {
        "id": "xNC4ZL-E-HKD",
        "colab_type": "code",
        "colab": {}
      },
      "source": [
        "def matriz_simetrica(n):    \n",
        "    \n",
        "    #Matriz aleatoria\n",
        "    L=np.array([[random.randint(1,10) for i in range(n)] for i in range(n)])\n",
        "    L=L+L.T\n",
        "    return L"
      ],
      "execution_count": 0,
      "outputs": []
    },
    {
      "cell_type": "code",
      "metadata": {
        "id": "BHpkKq5r-HKG",
        "colab_type": "code",
        "outputId": "5b7f9295-a92c-4869-ac49-ee2c92b69011",
        "colab": {
          "base_uri": "https://localhost:8080/",
          "height": 84
        }
      },
      "source": [
        "matriz_simetrica(4)"
      ],
      "execution_count": 0,
      "outputs": [
        {
          "output_type": "execute_result",
          "data": {
            "text/plain": [
              "array([[ 6,  4, 10, 10],\n",
              "       [ 4, 10, 14,  9],\n",
              "       [10, 14, 14,  4],\n",
              "       [10,  9,  4, 14]])"
            ]
          },
          "metadata": {
            "tags": []
          },
          "execution_count": 14
        }
      ]
    },
    {
      "cell_type": "markdown",
      "metadata": {
        "id": "tU7rmymj-HKM",
        "colab_type": "text"
      },
      "source": [
        "## Bonus matplotlib (1pto) \n",
        "### 1. En una misma visualización dibujar (x, f) y (x, g), donde:\n",
        "1. X es un vector que toma valores de -2 a 2 con saltos de 0.1, el largo de X es 41\n",
        "2. $f(x) = \\sqrt{1- (|x|-1)^{2}}, \\forall x \\in X $  \n",
        "3. $g(x) = -3\\sqrt{1- \\sqrt{\\frac{|x|}{2}}}, \\forall x \\in X $  \n",
        "    \n",
        "### 2. En una misma visualización dibujar (x1, y1) y (x2, y1), donde:\n",
        "1. X1 es un vector de 50 muestras equi-espaciadas en el intervalo [0, 5]\n",
        "2. X2 es un vector de 50 muestras equi-espaciadas en el intervalo [0, 2] \n",
        "3. $y1 =  cos(2\\pi x1)\\exp(-x1),  \\forall x1 \\in X1$\n",
        "4. $y2 =  cos(2\\pi x2), \\forall x2 \\in X2$\n",
        "   \n",
        "\n",
        "Además diseñe un estilo por defecto para los gráficos que al menos cambie colores, tamaño imagen\n",
        "y tamaño de textos.\n",
        "\n",
        "Para la parte 2 se recomienda usar el método linspace para generar X1 y X2."
      ]
    },
    {
      "cell_type": "code",
      "metadata": {
        "id": "NgK0iBKe-HKN",
        "colab_type": "code",
        "colab": {}
      },
      "source": [
        "import matplotlib.pyplot as plt\n",
        "%matplotlib inline"
      ],
      "execution_count": 0,
      "outputs": []
    },
    {
      "cell_type": "code",
      "metadata": {
        "id": "73NPXOfN-HKS",
        "colab_type": "code",
        "colab": {}
      },
      "source": [
        "#new style\n",
        "plt.rcParams['figure.figsize'] = (5, 5)                     #tamaño de las figuras\n",
        "plt.rcParams['text.color']='k'                              #color del texto(labels y titulo)\n",
        "plt.rcParams['axes.labelsize']=20                           #tamaño de los labels\n",
        "plt.rcParams['axes.titlesize']=25                           #tamaño del titulo\n",
        "plt.rcParams['xtick.labelsize']=15                          #tamaño del xvalue\n",
        "plt.rcParams['ytick.labelsize']=15                          #tamaño del yvalue\n",
        "plt.rcParams['figure.facecolor']='white'                    #color del marco que rodea la figura\n",
        "plt.rcParams['axes.grid']=True                              #grilla\n",
        "plt.rcParams['axes.linewidth']= 2.0                         #ancho del margen de la figura\n",
        "plt.rcParams['axes.xmargin']= 0.05                          #margen eje x\n",
        "plt.rcParams['axes.ymargin']= 0.05                          #margen eje y\n",
        "plt.rcParams['axes.labelcolor']='k'                         #color de los label\n",
        "plt.rcParams['axes.edgecolor']= 'grey'                      #color del margen de la figura\n",
        "plt.rcParams['axes.facecolor']='whitesmoke'                 #color del fondo"
      ],
      "execution_count": 0,
      "outputs": []
    },
    {
      "cell_type": "code",
      "metadata": {
        "id": "NK-Wm9rD-HKY",
        "colab_type": "code",
        "outputId": "61e072ff-c62d-4710-8ea4-9c9d0ab95ae9",
        "colab": {
          "base_uri": "https://localhost:8080/",
          "height": 389
        }
      },
      "source": [
        "x=np.linspace(-2, 2, num=41)\n",
        "f=np.array([np.sqrt((1-(np.abs(x_i)-1)**2)) for x_i in x])\n",
        "g=np.array([-3*np.sqrt(1-np.sqrt(np.abs(x_i)/2)) for x_i in x])\n",
        "\n",
        "plt.ylabel('Y')\n",
        "plt.xlabel('X')\n",
        "plt.title('Corazón')\n",
        "plt.plot(x,f)\n",
        "plt.plot(x,g)\n"
      ],
      "execution_count": 0,
      "outputs": [
        {
          "output_type": "execute_result",
          "data": {
            "text/plain": [
              "[<matplotlib.lines.Line2D at 0x7f3b00510c88>]"
            ]
          },
          "metadata": {
            "tags": []
          },
          "execution_count": 18
        },
        {
          "output_type": "display_data",
          "data": {
            "image/png": "[encoded data removed]",
            "text/plain": [
              "<matplotlib.figure.Figure at 0x7f3b005f0748>"
            ]
          },
          "metadata": {
            "tags": []
          }
        }
      ]
    },
    {
      "cell_type": "code",
      "metadata": {
        "id": "EVWF1RaJ-HKh",
        "colab_type": "code",
        "outputId": "8c6b4b89-74d6-4cfe-953c-b2fa885fc401",
        "colab": {
          "base_uri": "https://localhost:8080/",
          "height": 389
        }
      },
      "source": [
        "x1 = np.linspace(0.0, 5.0)\n",
        "x2 = np.linspace(0.0, 2.0)\n",
        "\n",
        "y1 = np.cos(2 * np.pi * x1) * np.exp(-x1)\n",
        "y2 = np.cos(2 * np.pi * x2)\n",
        "\n",
        "plt.figure(1, (15, 5))\n",
        "plt.plot(x1, y1, 'o-', label='y1')\n",
        "plt.plot(x2, y2, '.-', label='y2')\n",
        "plt.legend(loc=0)\n",
        "plt.ylabel('Y')\n",
        "plt.xlabel('X')\n",
        "plt.title('Serie')"
      ],
      "execution_count": 0,
      "outputs": [
        {
          "output_type": "execute_result",
          "data": {
            "text/plain": [
              "Text(0.5,1,'Serie')"
            ]
          },
          "metadata": {
            "tags": []
          },
          "execution_count": 19
        },
        {
          "output_type": "display_data",
          "data": {
            "image/png": "[encoded data removed]",
            "text/plain": [
              "<matplotlib.figure.Figure at 0x7f3b00560eb8>"
            ]
          },
          "metadata": {
            "tags": []
          }
        }
      ]
    }
  ]
}